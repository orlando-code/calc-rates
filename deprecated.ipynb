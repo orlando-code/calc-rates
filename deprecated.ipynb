{
 "cells": [
  {
   "cell_type": "code",
   "execution_count": null,
   "metadata": {},
   "outputs": [],
   "source": [
    "### extracting locations (non-Google) from initial.ipynb\n",
    "### superceded by calls to google maps API \n",
    "import pandas as pd\n",
    "from geopy.geocoders import Nominatim\n",
    "from time import sleep\n",
    "\n",
    "# Load locations from a CSV file\n",
    "locs = pd.DataFrame(df.Location.unique(), columns=[\"location\"])\n",
    "\n",
    "geolocator = Nominatim(user_agent=\"geo_lookup\")\n",
    "\n",
    "# Function to get latitude and longitude\n",
    "def get_coordinates(location):\n",
    "    try:\n",
    "        loc = geolocator.geocode(location, timeout=10)\n",
    "        if loc:\n",
    "            return pd.Series([loc.latitude, loc.longitude])\n",
    "        else:\n",
    "            return pd.Series([None, None])\n",
    "    except Exception as e:\n",
    "        print(f\"Error for {location}: {e}\")\n",
    "        return pd.Series([None, None])\n",
    "\n",
    "# Apply function with a delay to avoid API rate limits\n",
    "locs[[\"latitude\", \"longitude\"]] = locs[\"location\"].apply(lambda x: get_coordinates(x))\n"
   ]
  },
  {
   "cell_type": "code",
   "execution_count": null,
   "metadata": {},
   "outputs": [],
   "source": [
    "### automatic clustering from analysis.ipynb\n",
    "### superceded by tolerance-based clustering\n",
    "\n",
    "\n",
    "# test_doi = \"10.3354/meps11591\"\n",
    "test_doi = carb_df.doi.unique()[1]\n",
    "test_df = carb_df[carb_df.doi == test_doi].copy()\n",
    "\n",
    "# assign species_types values to unique ints. This is handled later by grouping, but this is useful for a quick demo\n",
    "# species_types = test_df[\"species_types\"].unique()\n",
    "# species_types_dict = {species_type: i for i, species_type in enumerate(species_types)}\n",
    "# test_df.loc[:,\"species_types\"] = test_df[\"species_types\"].map(species_types_dict)\n",
    "# select control variables\n",
    "# treatment_data = test_df[['t_in', 'phtot', 'irr', 'species_types']].dropna()\n",
    "treatment_data = test_df[['t_in', 'phtot', 'irr']].dropna()\n",
    "# determine optimal number of clusters in the data\n",
    "optimal_k, score_list = utils.optimal_kmeans(treatment_data)\n",
    "# fit KMeans with the optimal number of clusters\n",
    "kmeans = KMeans(n_clusters=optimal_k, random_state=42, n_init=10)\n",
    "test_df.loc[:,'treatment_group'] = kmeans.fit_predict(treatment_data)\n",
    "\n",
    "# # visualise clustering score wrt number of clusters\n",
    "# plt.figure(figsize=(4,4))\n",
    "# plt.scatter(*zip(*score_list), marker='o', linestyle='-')\n",
    "# plt.xlabel('Number of Clusters')\n",
    "# plt.ylabel('Silhouette Score (higher is better)')\n",
    "# # mark a vertical line at the optimal number of clusters\n",
    "# plt.axvline(optimal_k, color='r', linestyle='--', label='Optimal # of clusters')\n",
    "# plt.legend()\n",
    "# plt.show()"
   ]
  }
 ],
 "metadata": {
  "kernelspec": {
   "display_name": "general",
   "language": "python",
   "name": "python3"
  },
  "language_info": {
   "name": "python",
   "version": "3.12.4"
  }
 },
 "nbformat": 4,
 "nbformat_minor": 2
}
