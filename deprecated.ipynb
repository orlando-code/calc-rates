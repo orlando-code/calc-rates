{
 "cells": [
  {
   "cell_type": "code",
   "execution_count": null,
   "metadata": {},
   "outputs": [],
   "source": [
    "### extracting locations (non-Google) from initial.ipynb\n",
    "### superceded by calls to google maps API \n",
    "import pandas as pd\n",
    "from geopy.geocoders import Nominatim\n",
    "from time import sleep\n",
    "\n",
    "# Load locations from a CSV file\n",
    "locs = pd.DataFrame(df.Location.unique(), columns=[\"location\"])\n",
    "\n",
    "geolocator = Nominatim(user_agent=\"geo_lookup\")\n",
    "\n",
    "# Function to get latitude and longitude\n",
    "def get_coordinates(location):\n",
    "    try:\n",
    "        loc = geolocator.geocode(location, timeout=10)\n",
    "        if loc:\n",
    "            return pd.Series([loc.latitude, loc.longitude])\n",
    "        else:\n",
    "            return pd.Series([None, None])\n",
    "    except Exception as e:\n",
    "        print(f\"Error for {location}: {e}\")\n",
    "        return pd.Series([None, None])\n",
    "\n",
    "# Apply function with a delay to avoid API rate limits\n",
    "locs[[\"latitude\", \"longitude\"]] = locs[\"location\"].apply(lambda x: get_coordinates(x))\n"
   ]
  }
 ],
 "metadata": {
  "kernelspec": {
   "display_name": "general",
   "language": "python",
   "name": "python3"
  },
  "language_info": {
   "name": "python",
   "version": "3.12.4"
  }
 },
 "nbformat": 4,
 "nbformat_minor": 2
}
