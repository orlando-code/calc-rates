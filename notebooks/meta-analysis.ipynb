{
 "cells": [
  {
   "cell_type": "markdown",
   "id": "405feb4b",
   "metadata": {},
   "source": [
    "# Meta-analysis (and other tools)\n",
    "Throwing everything I can think of at this dataset...\n",
    "\n",
    "### Shopping list\n",
    "- "
   ]
  }
 ],
 "metadata": {
  "language_info": {
   "name": "python"
  }
 },
 "nbformat": 4,
 "nbformat_minor": 5
}
