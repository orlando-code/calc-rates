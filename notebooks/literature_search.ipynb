{
 "cells": [
  {
   "cell_type": "code",
   "execution_count": 2,
   "id": "c8356125",
   "metadata": {},
   "outputs": [],
   "source": [
    "import yaml\n",
    "from pathlib import Path\n",
    "\n",
    "# custom\n",
    "from calcification import file_ops, config"
   ]
  },
  {
   "cell_type": "code",
   "execution_count": null,
   "id": "daabcafb",
   "metadata": {},
   "outputs": [
    {
     "name": "stdout",
     "output_type": "stream",
     "text": [
      "\n",
      "🔍 Search string for SCOPUS:\n",
      "\n",
      "TITLE-ABS-KEY((temperature OR thermal OR warming OR \"marine heatwave\" OR \"heat stress\" OR acidification OR \"ocean acidification\" OR pH OR deoxygenation OR hypoxia OR anoxia OR \"low oxygen\" OR \"climate change\" OR \"global warming\" OR \"environmental change\")) AND TITLE-ABS-KEY((coral OR scleractinian OR \"reef-building coral\" OR algae OR macroalgae OR microalgae OR CCA OR \"crustose coralline algae\" OR Halimeda OR mollusc OR mollusk OR bivalve OR gastropod OR foraminifera OR foram)) AND TITLE-ABS-KEY((calcification OR \"skeletal formation\" OR \"carbonate deposition\" OR growth OR \"growth rate\" OR biomass OR productivity OR survival OR mortality OR fitness))\n",
      "\n",
      "🔍 Search string for WOS:\n",
      "\n",
      "TS=((temperature OR thermal OR warming OR \"marine heatwave\" OR \"heat stress\" OR acidification OR \"ocean acidification\" OR pH OR deoxygenation OR hypoxia OR anoxia OR \"low oxygen\" OR \"climate change\" OR \"global warming\" OR \"environmental change\")) AND TS=((coral OR scleractinian OR \"reef-building coral\" OR algae OR macroalgae OR microalgae OR CCA OR \"crustose coralline algae\" OR Halimeda OR mollusc OR mollusk OR bivalve OR gastropod OR foraminifera OR foram)) AND TS=((calcification OR \"skeletal formation\" OR \"carbonate deposition\" OR growth OR \"growth rate\" OR biomass OR productivity OR survival OR mortality OR fitness))\n",
      "\n",
      "🔍 Search string for PUBMED:\n",
      "\n",
      "(temperature OR thermal OR warming OR \"marine heatwave\" OR \"heat stress\" OR acidification OR \"ocean acidification\" OR pH OR deoxygenation OR hypoxia OR anoxia OR \"low oxygen\" OR \"climate change\" OR \"global warming\" OR \"environmental change\") AND (coral OR scleractinian OR \"reef-building coral\" OR algae OR macroalgae OR microalgae OR CCA OR \"crustose coralline algae\" OR Halimeda OR mollusc OR mollusk OR bivalve OR gastropod OR foraminifera OR foram) AND (calcification OR \"skeletal formation\" OR \"carbonate deposition\" OR growth OR \"growth rate\" OR biomass OR productivity OR survival OR mortality OR fitness)\n"
     ]
    }
   ],
   "source": [
    "# Format terms with optional phrase wrapping and wildcards\n",
    "def format_terms(term_list):\n",
    "    formatted = []\n",
    "    for term in term_list:\n",
    "        if \" \" in term or \"*\" in term:\n",
    "            formatted.append(f'\"{term}\"')\n",
    "        else:\n",
    "            formatted.append(term)\n",
    "    return formatted\n",
    "\n",
    "# Combine terms with OR\n",
    "def or_group(terms):\n",
    "    return \"(\" + \" OR \".join(terms) + \")\"\n",
    "\n",
    "# Build the full search string for a given database\n",
    "def build_query(terms_dict, database):\n",
    "    formatted_terms = {k: format_terms(v) for k, v in terms_dict.items()}\n",
    "    or_blocks = {k: or_group(v) for k, v in formatted_terms.items()}\n",
    "\n",
    "    if database == \"scopus\":\n",
    "        tag = \"TITLE-ABS-KEY\"\n",
    "        return f\"{tag}({or_blocks['stressors']}) AND {tag}({or_blocks['organisms']}) AND {tag}({or_blocks['responses']})\"\n",
    "\n",
    "    elif database == \"wos\":\n",
    "        tag = \"TS\"\n",
    "        return f\"{tag}=({or_blocks['stressors']}) AND {tag}=({or_blocks['organisms']}) AND {tag}=({or_blocks['responses']})\"\n",
    "\n",
    "    elif database == \"pubmed\":\n",
    "        return f\"{or_blocks['stressors']} AND {or_blocks['organisms']} AND {or_blocks['responses']}\"\n",
    "\n",
    "    else:\n",
    "        raise ValueError(\"Unsupported database. Choose from: scopus, wos, pubmed.\")\n",
    "\n",
    "search_terms = file_ops.read_yaml(config.resources_dir / \"search_terms.yaml\")['search_terms']\n",
    "for db in [\"scopus\", \"wos\", \"pubmed\"]:\n",
    "    print(f\"\\n🔍 Search string for {db.upper()}:\\n\")\n",
    "    print(build_query(search_terms, db))"
   ]
  }
 ],
 "metadata": {
  "kernelspec": {
   "display_name": "calcer",
   "language": "python",
   "name": "python3"
  },
  "language_info": {
   "codemirror_mode": {
    "name": "ipython",
    "version": 3
   },
   "file_extension": ".py",
   "mimetype": "text/x-python",
   "name": "python",
   "nbconvert_exporter": "python",
   "pygments_lexer": "ipython3",
   "version": "3.13.2"
  }
 },
 "nbformat": 4,
 "nbformat_minor": 5
}
