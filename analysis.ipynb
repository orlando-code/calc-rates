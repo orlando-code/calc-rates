{
 "cells": [
  {
   "cell_type": "code",
   "execution_count": 1,
   "metadata": {},
   "outputs": [],
   "source": [
    "%reload_ext autoreload\n",
    "%autoreload 2"
   ]
  },
  {
   "cell_type": "markdown",
   "metadata": {},
   "source": [
    "# Analysis 101\n",
    "\n",
    "To do:\n",
    "- colour-code points by the distance from the mean pH to contextualise the magnitude of experimental change in pH\n",
    "- amalgamate any studies with n=1 since need sd for hedges\n",
    "- deal with temperature-only studies (not all studies have carbonate chemistry)\n",
    "- plot 3d plot of temperature, ph,\n"
   ]
  },
  {
   "cell_type": "code",
   "execution_count": 2,
   "metadata": {},
   "outputs": [
    {
     "name": "stderr",
     "output_type": "stream",
     "text": [
      "/Users/rt582/miniforge3/envs/calcer/lib/python3.13/site-packages/tqdm/auto.py:21: TqdmWarning: IProgress not found. Please update jupyter and ipywidgets. See https://ipywidgets.readthedocs.io/en/stable/user_install.html\n",
      "  from .autonotebook import tqdm as notebook_tqdm\n"
     ]
    }
   ],
   "source": [
    "### import\n",
    "# general\n",
    "import numpy as np\n",
    "import pandas as pd\n",
    "\n",
    "# plotting\n",
    "import matplotlib.pyplot as plt\n",
    "import seaborn as sns \n",
    "\n",
    "# clustering\n",
    "from sklearn.cluster import KMeans\n",
    "\n",
    "# custom\n",
    "import analysis, utils, plotting"
   ]
  },
  {
   "cell_type": "code",
   "execution_count": 3,
   "metadata": {},
   "outputs": [
    {
     "data": {
      "text/html": [
       "<div>\n",
       "<style scoped>\n",
       "    .dataframe tbody tr th:only-of-type {\n",
       "        vertical-align: middle;\n",
       "    }\n",
       "\n",
       "    .dataframe tbody tr th {\n",
       "        vertical-align: top;\n",
       "    }\n",
       "\n",
       "    .dataframe thead th {\n",
       "        text-align: right;\n",
       "    }\n",
       "</style>\n",
       "<table border=\"1\" class=\"dataframe\">\n",
       "  <thead>\n",
       "    <tr style=\"text-align: right;\">\n",
       "      <th></th>\n",
       "      <th>location</th>\n",
       "      <th>mean_pH_30y_ensemble</th>\n",
       "      <th>models_with_data_n</th>\n",
       "      <th>mean_pH_30y_ensemble_se</th>\n",
       "      <th>MMM_30y_mean</th>\n",
       "      <th>geometry</th>\n",
       "      <th>Unnamed: 9</th>\n",
       "    </tr>\n",
       "    <tr>\n",
       "      <th>doi</th>\n",
       "      <th></th>\n",
       "      <th></th>\n",
       "      <th></th>\n",
       "      <th></th>\n",
       "      <th></th>\n",
       "      <th></th>\n",
       "      <th></th>\n",
       "    </tr>\n",
       "  </thead>\n",
       "  <tbody>\n",
       "    <tr>\n",
       "      <th>10.1111/jpy.13290</th>\n",
       "      <td>Lizard Island, GBR, Australia</td>\n",
       "      <td>8.086768</td>\n",
       "      <td>10</td>\n",
       "      <td>0.004111</td>\n",
       "      <td>29.046213</td>\n",
       "      <td>c(145.459236111111</td>\n",
       "      <td>-14.6922777777778)</td>\n",
       "    </tr>\n",
       "    <tr>\n",
       "      <th>10.1038/s41598-019-40620-8</th>\n",
       "      <td>Mo'orea, French Polynesia</td>\n",
       "      <td>8.080032</td>\n",
       "      <td>10</td>\n",
       "      <td>0.004959</td>\n",
       "      <td>28.833624</td>\n",
       "      <td>c(-149.839666666667</td>\n",
       "      <td>-17.4779194444444)</td>\n",
       "    </tr>\n",
       "    <tr>\n",
       "      <th>10.3354/meps10981</th>\n",
       "      <td>Key Largo, Florida, US</td>\n",
       "      <td>8.088336</td>\n",
       "      <td>10</td>\n",
       "      <td>0.005121</td>\n",
       "      <td>29.659124</td>\n",
       "      <td>c(-80.49</td>\n",
       "      <td>25.02)</td>\n",
       "    </tr>\n",
       "    <tr>\n",
       "      <th>10.3354/meps11591</th>\n",
       "      <td>Boca Raton, Florida, US</td>\n",
       "      <td>8.085914</td>\n",
       "      <td>10</td>\n",
       "      <td>0.004713</td>\n",
       "      <td>29.430117</td>\n",
       "      <td>c(-80.0721666666667</td>\n",
       "      <td>26.327)</td>\n",
       "    </tr>\n",
       "    <tr>\n",
       "      <th>10.3354/meps09309</th>\n",
       "      <td>Palmyra Atoll</td>\n",
       "      <td>8.037819</td>\n",
       "      <td>10</td>\n",
       "      <td>0.005469</td>\n",
       "      <td>28.956142</td>\n",
       "      <td>c(-162.0786656</td>\n",
       "      <td>5.8885026)</td>\n",
       "    </tr>\n",
       "  </tbody>\n",
       "</table>\n",
       "</div>"
      ],
      "text/plain": [
       "                                                 location  \\\n",
       "doi                                                         \n",
       "10.1111/jpy.13290           Lizard Island, GBR, Australia   \n",
       "10.1038/s41598-019-40620-8      Mo'orea, French Polynesia   \n",
       "10.3354/meps10981                  Key Largo, Florida, US   \n",
       "10.3354/meps11591                 Boca Raton, Florida, US   \n",
       "10.3354/meps09309                           Palmyra Atoll   \n",
       "\n",
       "                            mean_pH_30y_ensemble  models_with_data_n  \\\n",
       "doi                                                                    \n",
       "10.1111/jpy.13290                       8.086768                  10   \n",
       "10.1038/s41598-019-40620-8              8.080032                  10   \n",
       "10.3354/meps10981                       8.088336                  10   \n",
       "10.3354/meps11591                       8.085914                  10   \n",
       "10.3354/meps09309                       8.037819                  10   \n",
       "\n",
       "                            mean_pH_30y_ensemble_se  MMM_30y_mean  \\\n",
       "doi                                                                 \n",
       "10.1111/jpy.13290                          0.004111     29.046213   \n",
       "10.1038/s41598-019-40620-8                 0.004959     28.833624   \n",
       "10.3354/meps10981                          0.005121     29.659124   \n",
       "10.3354/meps11591                          0.004713     29.430117   \n",
       "10.3354/meps09309                          0.005469     28.956142   \n",
       "\n",
       "                                       geometry          Unnamed: 9  \n",
       "doi                                                                  \n",
       "10.1111/jpy.13290            c(145.459236111111  -14.6922777777778)  \n",
       "10.1038/s41598-019-40620-8  c(-149.839666666667  -17.4779194444444)  \n",
       "10.3354/meps10981                      c(-80.49              25.02)  \n",
       "10.3354/meps11591           c(-80.0721666666667             26.327)  \n",
       "10.3354/meps09309                c(-162.0786656          5.8885026)  "
      ]
     },
     "execution_count": 3,
     "metadata": {},
     "output_type": "execute_result"
    }
   ],
   "source": [
    "climatology_data_fp = \"data/climatology/site_locations_with_MMM_and_pH.csv\"\n",
    "\n",
    "climatology_df = pd.read_csv(climatology_data_fp)\n",
    "# drop unnecessary columns\n",
    "climatology_df = climatology_df.drop(columns=['data_ID', 'Unnamed: 0']).set_index('doi')\n",
    "# TODO: format geometry column(s) into lat and lon\n",
    "climatology_df.head()"
   ]
  },
  {
   "cell_type": "markdown",
   "metadata": {},
   "source": [
    "## Multi-variable study"
   ]
  },
  {
   "cell_type": "code",
   "execution_count": 207,
   "metadata": {},
   "outputs": [
    {
     "name": "stdout",
     "output_type": "stream",
     "text": [
      "Loading measured values...\n",
      "Converting pH values to total scale...\n",
      "Calculating carbonate chemistry parameters...\n"
     ]
    },
    {
     "name": "stderr",
     "output_type": "stream",
     "text": [
      "Calculating carbonate chemistry: 100%|██████████| 3437/3437 [00:02<00:00, 1588.21it/s]\n"
     ]
    },
    {
     "name": "stdout",
     "output_type": "stream",
     "text": [
      "\n",
      "Shape of df with all rows marked for inclusion: (3437, 65)\n"
     ]
    }
   ],
   "source": [
    "# generate carbonate chemistry data\n",
    "meta_fp = \"data/Orlando_data.xlsx\"\n",
    "carb_df = utils.populate_carbonate_chemistry(meta_fp, 'all_data')\n",
    "\n",
    "# # carb_df = carb_df[carb_df['extractor'] == 'Orlando']      # no longer necessary, since have corrected all other student's data!\n",
    "\n",
    "# prepare for future alignment with climatology (first uniquify dois in the same way)\n",
    "unique_pairs = carb_df.drop_duplicates(subset=['doi', 'location'])[['doi', 'location']]\n",
    "unique_pairs.doi = utils.uniquify_repeated_values(carb_df.drop_duplicates(subset=['doi', 'location']).doi)\n",
    "\n",
    "# create a dictionary mapping from original (doi, location) pairs to uniquified dois\n",
    "doi_location_map = dict(zip(zip(carb_df.drop_duplicates(subset=['doi', 'location'])['doi'], \n",
    "                               carb_df.drop_duplicates(subset=['doi', 'location'])['location']), \n",
    "                         unique_pairs['doi']))\n",
    "\n",
    "# create a copy of the original DOIs\n",
    "carb_df['original_doi'] = carb_df['doi']\n",
    "# apply the mapping to update DOIs\n",
    "carb_df['doi'] = [doi_location_map.get((doi, loc), doi) for doi, loc in zip(carb_df['doi'], carb_df['location'])]\n",
    "\n",
    "print(\"\\nShape of df with all rows marked for inclusion:\", carb_df.shape)\n",
    "\n",
    "test = carb_df[carb_df['doi'] == '10.1098/rspb.2019.0614']\n"
   ]
  },
  {
   "cell_type": "code",
   "execution_count": 175,
   "metadata": {},
   "outputs": [
    {
     "data": {
      "text/html": [
       "<div>\n",
       "<style scoped>\n",
       "    .dataframe tbody tr th:only-of-type {\n",
       "        vertical-align: middle;\n",
       "    }\n",
       "\n",
       "    .dataframe tbody tr th {\n",
       "        vertical-align: top;\n",
       "    }\n",
       "\n",
       "    .dataframe thead th {\n",
       "        text-align: right;\n",
       "    }\n",
       "</style>\n",
       "<table border=\"1\" class=\"dataframe\">\n",
       "  <thead>\n",
       "    <tr style=\"text-align: right;\">\n",
       "      <th></th>\n",
       "      <th>t_in</th>\n",
       "      <th>calcification</th>\n",
       "    </tr>\n",
       "  </thead>\n",
       "  <tbody>\n",
       "    <tr>\n",
       "      <th>1008</th>\n",
       "      <td>27.699646</td>\n",
       "      <td>539.861599</td>\n",
       "    </tr>\n",
       "    <tr>\n",
       "      <th>1009</th>\n",
       "      <td>27.699646</td>\n",
       "      <td>59.497023</td>\n",
       "    </tr>\n",
       "    <tr>\n",
       "      <th>1010</th>\n",
       "      <td>27.699646</td>\n",
       "      <td>89.984458</td>\n",
       "    </tr>\n",
       "    <tr>\n",
       "      <th>1011</th>\n",
       "      <td>27.699646</td>\n",
       "      <td>84.442969</td>\n",
       "    </tr>\n",
       "    <tr>\n",
       "      <th>1012</th>\n",
       "      <td>27.699646</td>\n",
       "      <td>200.939958</td>\n",
       "    </tr>\n",
       "    <tr>\n",
       "      <th>...</th>\n",
       "      <td>...</td>\n",
       "      <td>...</td>\n",
       "    </tr>\n",
       "    <tr>\n",
       "      <th>1431</th>\n",
       "      <td>26.064003</td>\n",
       "      <td>31.485581</td>\n",
       "    </tr>\n",
       "    <tr>\n",
       "      <th>1432</th>\n",
       "      <td>26.064003</td>\n",
       "      <td>159.634054</td>\n",
       "    </tr>\n",
       "    <tr>\n",
       "      <th>1433</th>\n",
       "      <td>26.064003</td>\n",
       "      <td>248.356143</td>\n",
       "    </tr>\n",
       "    <tr>\n",
       "      <th>1434</th>\n",
       "      <td>26.064003</td>\n",
       "      <td>195.555101</td>\n",
       "    </tr>\n",
       "    <tr>\n",
       "      <th>1435</th>\n",
       "      <td>26.064003</td>\n",
       "      <td>264.722983</td>\n",
       "    </tr>\n",
       "  </tbody>\n",
       "</table>\n",
       "<p>428 rows × 2 columns</p>\n",
       "</div>"
      ],
      "text/plain": [
       "           t_in calcification\n",
       "1008  27.699646    539.861599\n",
       "1009  27.699646     59.497023\n",
       "1010  27.699646     89.984458\n",
       "1011  27.699646     84.442969\n",
       "1012  27.699646    200.939958\n",
       "...         ...           ...\n",
       "1431  26.064003     31.485581\n",
       "1432  26.064003    159.634054\n",
       "1433  26.064003    248.356143\n",
       "1434  26.064003    195.555101\n",
       "1435  26.064003    264.722983\n",
       "\n",
       "[428 rows x 2 columns]"
      ]
     },
     "execution_count": 175,
     "metadata": {},
     "output_type": "execute_result"
    }
   ],
   "source": [
    "test[['t_in', 'calcification']]"
   ]
  },
  {
   "cell_type": "code",
   "execution_count": 151,
   "metadata": {},
   "outputs": [
    {
     "data": {
      "text/plain": [
       "Series([], Name: Temperature (ºC), dtype: object)"
      ]
     },
     "execution_count": 151,
     "metadata": {},
     "output_type": "execute_result"
    }
   ],
   "source": [
    "test['Temperature (ºC)']"
   ]
  },
  {
   "cell_type": "markdown",
   "metadata": {},
   "source": [
    "### Demonstration of automatic treatment recognition"
   ]
  },
  {
   "cell_type": "code",
   "execution_count": null,
   "metadata": {},
   "outputs": [
    {
     "data": {
      "text/html": [
       "<div>\n",
       "<style scoped>\n",
       "    .dataframe tbody tr th:only-of-type {\n",
       "        vertical-align: middle;\n",
       "    }\n",
       "\n",
       "    .dataframe tbody tr th {\n",
       "        vertical-align: top;\n",
       "    }\n",
       "\n",
       "    .dataframe thead th {\n",
       "        text-align: right;\n",
       "    }\n",
       "</style>\n",
       "<table border=\"1\" class=\"dataframe\">\n",
       "  <thead>\n",
       "    <tr style=\"text-align: right;\">\n",
       "      <th></th>\n",
       "      <th>species_types</th>\n",
       "      <th>treatment_group</th>\n",
       "      <th>calcification</th>\n",
       "      <th>t_in</th>\n",
       "      <th>phtot</th>\n",
       "      <th>calcification_sd</th>\n",
       "      <th>irr</th>\n",
       "      <th>irr_group</th>\n",
       "      <th>treatment_group</th>\n",
       "      <th>treatment_level_t</th>\n",
       "      <th>treatment_level_ph</th>\n",
       "      <th>doi</th>\n",
       "      <th>treatment</th>\n",
       "      <th>n</th>\n",
       "    </tr>\n",
       "  </thead>\n",
       "  <tbody>\n",
       "    <tr>\n",
       "      <th>0</th>\n",
       "      <td>Porollithon cf onkodes</td>\n",
       "      <td>cTcP</td>\n",
       "      <td>1.970803</td>\n",
       "      <td>27.1</td>\n",
       "      <td>8.003</td>\n",
       "      <td>0.571428</td>\n",
       "      <td>250.00</td>\n",
       "      <td>1.0</td>\n",
       "      <td>cTcP</td>\n",
       "      <td>0.0</td>\n",
       "      <td>0.0</td>\n",
       "      <td>10.1111/jpy.13290</td>\n",
       "      <td>control</td>\n",
       "      <td>5.0</td>\n",
       "    </tr>\n",
       "    <tr>\n",
       "      <th>1</th>\n",
       "      <td>Porollithon cf onkodes</td>\n",
       "      <td>tTcP</td>\n",
       "      <td>2.408759</td>\n",
       "      <td>29.4</td>\n",
       "      <td>7.98</td>\n",
       "      <td>0.424316</td>\n",
       "      <td>250.00</td>\n",
       "      <td>1.0</td>\n",
       "      <td>tTcP</td>\n",
       "      <td>1.0</td>\n",
       "      <td>0.0</td>\n",
       "      <td>10.1111/jpy.13290</td>\n",
       "      <td>t_in</td>\n",
       "      <td>5.0</td>\n",
       "    </tr>\n",
       "    <tr>\n",
       "      <th>2</th>\n",
       "      <td>Porollithon cf onkodes</td>\n",
       "      <td>cTtP</td>\n",
       "      <td>1.664234</td>\n",
       "      <td>27.2</td>\n",
       "      <td>7.698</td>\n",
       "      <td>0.375356</td>\n",
       "      <td>250.00</td>\n",
       "      <td>1.0</td>\n",
       "      <td>cTtP</td>\n",
       "      <td>0.0</td>\n",
       "      <td>1.0</td>\n",
       "      <td>10.1111/jpy.13290</td>\n",
       "      <td>phtot</td>\n",
       "      <td>5.0</td>\n",
       "    </tr>\n",
       "    <tr>\n",
       "      <th>3</th>\n",
       "      <td>Porollithon cf onkodes</td>\n",
       "      <td>tTtP</td>\n",
       "      <td>1.839416</td>\n",
       "      <td>29.5</td>\n",
       "      <td>7.694</td>\n",
       "      <td>0.277437</td>\n",
       "      <td>250.00</td>\n",
       "      <td>1.0</td>\n",
       "      <td>tTtP</td>\n",
       "      <td>1.0</td>\n",
       "      <td>1.0</td>\n",
       "      <td>10.1111/jpy.13290</td>\n",
       "      <td>t_in-phtot</td>\n",
       "      <td>5.0</td>\n",
       "    </tr>\n",
       "    <tr>\n",
       "      <th>4</th>\n",
       "      <td>Lithophyllum cf insipidum</td>\n",
       "      <td>cTcP</td>\n",
       "      <td>1.467626</td>\n",
       "      <td>27.1</td>\n",
       "      <td>8.003</td>\n",
       "      <td>0.293757</td>\n",
       "      <td>250.00</td>\n",
       "      <td>1.0</td>\n",
       "      <td>cTcP</td>\n",
       "      <td>0.0</td>\n",
       "      <td>0.0</td>\n",
       "      <td>10.1111/jpy.13290</td>\n",
       "      <td>control</td>\n",
       "      <td>5.0</td>\n",
       "    </tr>\n",
       "    <tr>\n",
       "      <th>...</th>\n",
       "      <td>...</td>\n",
       "      <td>...</td>\n",
       "      <td>...</td>\n",
       "      <td>...</td>\n",
       "      <td>...</td>\n",
       "      <td>...</td>\n",
       "      <td>...</td>\n",
       "      <td>...</td>\n",
       "      <td>...</td>\n",
       "      <td>...</td>\n",
       "      <td>...</td>\n",
       "      <td>...</td>\n",
       "      <td>...</td>\n",
       "      <td>...</td>\n",
       "    </tr>\n",
       "    <tr>\n",
       "      <th>5965</th>\n",
       "      <td>Amphistegina gibbosa</td>\n",
       "      <td>cTtP</td>\n",
       "      <td>0.037645</td>\n",
       "      <td>25.648</td>\n",
       "      <td>7.662466</td>\n",
       "      <td>0.010385</td>\n",
       "      <td>27.32</td>\n",
       "      <td>0.0</td>\n",
       "      <td>cTtP</td>\n",
       "      <td>0.0</td>\n",
       "      <td>1.0</td>\n",
       "      <td>10.1007/s00338-017-1547-z</td>\n",
       "      <td>phtot</td>\n",
       "      <td>48.0</td>\n",
       "    </tr>\n",
       "    <tr>\n",
       "      <th>5966</th>\n",
       "      <td>Amphistegina gibbosa</td>\n",
       "      <td>cTtP</td>\n",
       "      <td>0.03618</td>\n",
       "      <td>25.648</td>\n",
       "      <td>7.362466</td>\n",
       "      <td>0.005825</td>\n",
       "      <td>27.32</td>\n",
       "      <td>0.0</td>\n",
       "      <td>cTtP</td>\n",
       "      <td>0.0</td>\n",
       "      <td>2.0</td>\n",
       "      <td>10.1007/s00338-017-1547-z</td>\n",
       "      <td>phtot</td>\n",
       "      <td>48.0</td>\n",
       "    </tr>\n",
       "    <tr>\n",
       "      <th>5967</th>\n",
       "      <td>Amphistegina gibbosa</td>\n",
       "      <td>cTtP</td>\n",
       "      <td>0.035047</td>\n",
       "      <td>25.648</td>\n",
       "      <td>7.062466</td>\n",
       "      <td>0.005723</td>\n",
       "      <td>27.32</td>\n",
       "      <td>0.0</td>\n",
       "      <td>cTtP</td>\n",
       "      <td>0.0</td>\n",
       "      <td>3.0</td>\n",
       "      <td>10.1007/s00338-017-1547-z</td>\n",
       "      <td>phtot</td>\n",
       "      <td>48.0</td>\n",
       "    </tr>\n",
       "    <tr>\n",
       "      <th>5968</th>\n",
       "      <td>Pocillopora damicornis</td>\n",
       "      <td>cTcP</td>\n",
       "      <td>0.612454</td>\n",
       "      <td>26.53</td>\n",
       "      <td>8.011</td>\n",
       "      <td>0.389556</td>\n",
       "      <td>396.00</td>\n",
       "      <td>0.0</td>\n",
       "      <td>cTcP</td>\n",
       "      <td>0.0</td>\n",
       "      <td>0.0</td>\n",
       "      <td>10.1242/jeb.123018</td>\n",
       "      <td>control</td>\n",
       "      <td>8.0</td>\n",
       "    </tr>\n",
       "    <tr>\n",
       "      <th>5969</th>\n",
       "      <td>Pocillopora damicornis</td>\n",
       "      <td>tTtP</td>\n",
       "      <td>0.650549</td>\n",
       "      <td>28.93</td>\n",
       "      <td>7.779</td>\n",
       "      <td>0.361404</td>\n",
       "      <td>396.00</td>\n",
       "      <td>0.0</td>\n",
       "      <td>tTtP</td>\n",
       "      <td>1.0</td>\n",
       "      <td>1.0</td>\n",
       "      <td>10.1242/jeb.123018</td>\n",
       "      <td>t_in-phtot</td>\n",
       "      <td>10.0</td>\n",
       "    </tr>\n",
       "  </tbody>\n",
       "</table>\n",
       "<p>3437 rows × 14 columns</p>\n",
       "</div>"
      ],
      "text/plain": [
       "                  species_types treatment_group calcification    t_in  \\\n",
       "0        Porollithon cf onkodes            cTcP      1.970803    27.1   \n",
       "1        Porollithon cf onkodes            tTcP      2.408759    29.4   \n",
       "2        Porollithon cf onkodes            cTtP      1.664234    27.2   \n",
       "3        Porollithon cf onkodes            tTtP      1.839416    29.5   \n",
       "4     Lithophyllum cf insipidum            cTcP      1.467626    27.1   \n",
       "...                         ...             ...           ...     ...   \n",
       "5965       Amphistegina gibbosa            cTtP      0.037645  25.648   \n",
       "5966       Amphistegina gibbosa            cTtP       0.03618  25.648   \n",
       "5967       Amphistegina gibbosa            cTtP      0.035047  25.648   \n",
       "5968     Pocillopora damicornis            cTcP      0.612454   26.53   \n",
       "5969     Pocillopora damicornis            tTtP      0.650549   28.93   \n",
       "\n",
       "         phtot  calcification_sd     irr irr_group treatment_group  \\\n",
       "0        8.003          0.571428  250.00       1.0            cTcP   \n",
       "1         7.98          0.424316  250.00       1.0            tTcP   \n",
       "2        7.698          0.375356  250.00       1.0            cTtP   \n",
       "3        7.694          0.277437  250.00       1.0            tTtP   \n",
       "4        8.003          0.293757  250.00       1.0            cTcP   \n",
       "...        ...               ...     ...       ...             ...   \n",
       "5965  7.662466          0.010385   27.32       0.0            cTtP   \n",
       "5966  7.362466          0.005825   27.32       0.0            cTtP   \n",
       "5967  7.062466          0.005723   27.32       0.0            cTtP   \n",
       "5968     8.011          0.389556  396.00       0.0            cTcP   \n",
       "5969     7.779          0.361404  396.00       0.0            tTtP   \n",
       "\n",
       "     treatment_level_t treatment_level_ph                        doi  \\\n",
       "0                  0.0                0.0          10.1111/jpy.13290   \n",
       "1                  1.0                0.0          10.1111/jpy.13290   \n",
       "2                  0.0                1.0          10.1111/jpy.13290   \n",
       "3                  1.0                1.0          10.1111/jpy.13290   \n",
       "4                  0.0                0.0          10.1111/jpy.13290   \n",
       "...                ...                ...                        ...   \n",
       "5965               0.0                1.0  10.1007/s00338-017-1547-z   \n",
       "5966               0.0                2.0  10.1007/s00338-017-1547-z   \n",
       "5967               0.0                3.0  10.1007/s00338-017-1547-z   \n",
       "5968               0.0                0.0         10.1242/jeb.123018   \n",
       "5969               1.0                1.0         10.1242/jeb.123018   \n",
       "\n",
       "       treatment     n  \n",
       "0        control   5.0  \n",
       "1           t_in   5.0  \n",
       "2          phtot   5.0  \n",
       "3     t_in-phtot   5.0  \n",
       "4        control   5.0  \n",
       "...          ...   ...  \n",
       "5965       phtot  48.0  \n",
       "5966       phtot  48.0  \n",
       "5967       phtot  48.0  \n",
       "5968     control   8.0  \n",
       "5969  t_in-phtot  10.0  \n",
       "\n",
       "[3437 rows x 14 columns]"
      ]
     },
     "execution_count": 208,
     "metadata": {},
     "output_type": "execute_result"
    }
   ],
   "source": [
    "# carb_df_tgs = assign_treatment_groups(carb_df, t_atol=0.4)\n",
    "test_doi = \"10.1016/j.jembe.2016.10.002\"\n",
    "current_carb_df = carb_df[carb_df['doi'] == test_doi]\n",
    "\n",
    "carb_df_tgs = analysis.assign_treatment_groups_multilevel(carb_df)\n",
    "# carb_df_tgs = analysis.assign_treatment_groups_multilevel(current_carb_df)\n",
    "some_cols = cols + ['calcification_sd', 'irr', 'irr_group', 'treatment_group', 'treatment_level_t', 'treatment_level_ph', 'doi', 'treatment', 'n']\n",
    "carb_df_tgs[some_cols]"
   ]
  },
  {
   "cell_type": "code",
   "execution_count": 209,
   "metadata": {},
   "outputs": [
    {
     "name": "stderr",
     "output_type": "stream",
     "text": [
      "Processing 10.1016/j.jembe.2020.151489:  13%|█▎        | 12/90 [00:00<00:00, 117.17it/s]    /Users/rt582/Library/CloudStorage/OneDrive-UniversityofCambridge/cambridge/phd/Paper_Conferences/calc-rates/analysis.py:27: RuntimeWarning:\n",
      "\n",
      "divide by zero encountered in scalar divide\n",
      "\n",
      "/Users/rt582/Library/CloudStorage/OneDrive-UniversityofCambridge/cambridge/phd/Paper_Conferences/calc-rates/analysis.py:95: RuntimeWarning:\n",
      "\n",
      "invalid value encountered in scalar add\n",
      "\n",
      "Processing 10.1098/rspb.2019.0614:  27%|██▋       | 24/90 [00:00<00:00, 115.88it/s]         "
     ]
    },
    {
     "name": "stdout",
     "output_type": "stream",
     "text": [
      "Missing data for Hedges' g calculation. mu_t: 15.907, mu_c: 17.020, sd_t: nan, sd_c: nan, n_t: 2.000, n_c: 2.000\n",
      "Missing data for Hedges' g calculation. mu_t: 14.676, mu_c: 17.020, sd_t: nan, sd_c: nan, n_t: 2.000, n_c: 2.000\n",
      "Missing data for Hedges' g calculation. mu_t: 11.656, mu_c: 17.020, sd_t: nan, sd_c: nan, n_t: 2.000, n_c: 2.000\n",
      "Missing data for Hedges' g calculation. mu_t: 7.994, mu_c: 17.020, sd_t: nan, sd_c: nan, n_t: 2.000, n_c: 2.000\n",
      "Missing data for Hedges' g calculation. mu_t: 1.290, mu_c: 2.742, sd_t: nan, sd_c: 1.870, n_t: nan, n_c: 0.000\n",
      "Missing data for Hedges' g calculation. mu_t: 100.543, mu_c: 123.641, sd_t: nan, sd_c: 1.921, n_t: nan, n_c: 0.000\n"
     ]
    },
    {
     "name": "stderr",
     "output_type": "stream",
     "text": [
      "Processing 10.1007/s10126-018-9864-y:  40%|████      | 36/90 [00:00<00:00, 102.19it/s]      "
     ]
    },
    {
     "name": "stdout",
     "output_type": "stream",
     "text": [
      "Control group not found for 10.1016/j.jembe.2016.10.002\n"
     ]
    },
    {
     "name": "stderr",
     "output_type": "stream",
     "text": [
      "Processing 10.1242/jeb.123018: 100%|██████████| 90/90 [00:00<00:00, 101.06it/s]             \n",
      "/Users/rt582/Library/CloudStorage/OneDrive-UniversityofCambridge/cambridge/phd/Paper_Conferences/calc-rates/analysis.py:440: FutureWarning:\n",
      "\n",
      "The behavior of DataFrame concatenation with empty or all-NA entries is deprecated. In a future version, this will no longer exclude empty or all-NA columns when determining the result dtypes. To retain the old behavior, exclude the relevant entries before the concat operation.\n",
      "\n"
     ]
    }
   ],
   "source": [
    "results_df = analysis.hedges_g_for_df(carb_df_tgs)"
   ]
  },
  {
   "cell_type": "code",
   "execution_count": 211,
   "metadata": {},
   "outputs": [],
   "source": [
    "save_cols = utils.read_yaml(\"data/mapping.yaml\")[\"save_cols\"]\n",
    "results_df['year'] = pd.to_datetime(results_df['year']).dt.strftime('%Y')   # cast year from pd.timestamp to integer\n",
    "# save results\n",
    "results_df[save_cols].to_csv(\"data/tmp/practice_out.csv\")"
   ]
  },
  {
   "cell_type": "markdown",
   "metadata": {},
   "source": [
    "## Additional"
   ]
  },
  {
   "cell_type": "code",
   "execution_count": 20,
   "metadata": {},
   "outputs": [],
   "source": [
    "### merge results with climatology data\n",
    "matched_df = results_df.set_index('doi').merge(climatology_df, left_index=True, right_index=True)   # TODO: drops ~100 rows for some reason\n",
    "\n",
    "# define mapping of climatology variables to treatment variables\n",
    "clim_var_map = {'t_in': 'MMM_30y_mean', 'phtot': 'mean_pH_30y_ensemble'}\n",
    "\n",
    "# calculate difference between treatment and historic conditions dynamically\n",
    "matched_df['clim_delta'] = matched_df.apply(\n",
    "    lambda row: row['treatment_val'] - row[clim_var_map[row['treatment']]]\n",
    "    if row['treatment'] in clim_var_map else np.nan,\n",
    "    axis=1\n",
    ")\n",
    "# assign which variable to use for delta calculation\n",
    "matched_df['delta_var'] = matched_df.apply(\n",
    "    lambda row: row['delta_t'] if row['treatment'] == 't_in' else row['delta_pH'],\n",
    "    axis=1)"
   ]
  },
  {
   "cell_type": "code",
   "execution_count": 31,
   "metadata": {},
   "outputs": [
    {
     "data": {
      "image/png": "[encoded data removed]",
      "text/plain": [
       "<Figure size 1800x900 with 4 Axes>"
      ]
     },
     "metadata": {},
     "output_type": "display_data"
    }
   ],
   "source": [
    "import numpy as np\n",
    "\n",
    "import matplotlib.colors as mcolors\n",
    "import matplotlib.cm as cm\n",
    "\n",
    "fig, (ax_ph, ax_t) = plt.subplots(1, 2, figsize=(12, 6), dpi=150, sharey=True)\n",
    "\n",
    "plot_results = matched_df\n",
    "plot_results = plot_results.dropna(subset=['delta_t', 'delta_pH', 'hedges_g'])\n",
    "\n",
    "for var, var_name in zip(['phtot', 't_in'], ['pH (Total)', 'Temperature (°C)']):\n",
    "    ax = ax_ph if var == 'phtot' else ax_t\n",
    "    \n",
    "    subset_df = plot_results[plot_results['treatment'] == var]\n",
    "    \n",
    "    subset_df = subset_df.infer_objects(copy=False).replace([np.inf, -np.inf], np.nan).dropna(subset=['hedges_g', 'delta_t', 'delta_pH'])   # remove NaNs and infinities\n",
    "    delta_var = subset_df['delta_t'] if var == 't_in' else subset_df['delta_pH']\n",
    "    \n",
    "    # plot regression line\n",
    "    summary_stats = plotting.simple_regplot(delta_var, subset_df['hedges_g'], ax=ax, line_kws={\"color\": \"r\"}, ci_kws={\"color\": \"red\"})\n",
    "    \n",
    "    # create colormap based on climatology delta\n",
    "    if var == 'phtot':\n",
    "        # for pH, larger negative changes worse\n",
    "        norm = mcolors.Normalize(vmin=subset_df['clim_delta'].min(), vmax=subset_df['clim_delta'].max())\n",
    "        cmap = cm.Oranges_r  # reverse colormap for pH\n",
    "    else:  # t_in\n",
    "        # for temperature, larger positive changes worse\n",
    "        norm=mcolors.TwoSlopeNorm(vmin=subset_df['clim_delta'].min(), vcenter=0, vmax=subset_df['clim_delta'].max())\n",
    "        cmap = cm.coolwarm\n",
    "    \n",
    "    colors = [cmap(norm(val)) for val in subset_df['clim_delta']]\n",
    "\n",
    "    # plot error bars with delta climatology colours\n",
    "    for i, (x, y, yerr, color) in enumerate(zip(delta_var, subset_df['hedges_g'], \n",
    "                                            (subset_df['hedges_g'] - subset_df['hedges_g_l']).values, \n",
    "                                            colors)):\n",
    "        ax.errorbar(x, y, yerr=[[yerr], [yerr]], fmt='none', ecolor=color, alpha=0.7, lw=1)\n",
    "    \n",
    "    scatter = ax.scatter(delta_var, subset_df['hedges_g'],\n",
    "                         c=subset_df['clim_delta'], cmap=cmap, norm=norm,\n",
    "                         alpha=0.8, lw=0.1, edgecolor='black')\n",
    "                         \n",
    "    cbar = plt.colorbar(scatter, ax=ax, fraction=0.05, pad=0.11, orientation = 'horizontal')\n",
    "    cbar.set_label(f\"Δ{var_name} from local climatology\")\n",
    "\n",
    "    # formatting\n",
    "    ax.grid(c='lightgrey', linestyle='--', alpha=0.8)\n",
    "    ax.set_ylabel(\"\")\n",
    "    ax.set_xlabel(f\"$\\\\Delta${var_name}\")\n",
    "    ax.set_title(f\"Effect of {var_name} on calcification rate\")\n",
    "    ax.axhline(0, color='black', linestyle='--', lw=0.5, label='Hedges\\' g = 0')\n",
    "    # legend\n",
    "    c, m = summary_stats.params\n",
    "    ax.plot([],[], c='red', label=f\"y = {m:.2f}$x$ + {c:.2f}\")\n",
    "    alpha_patch = plt.Rectangle((0,0), 1, 1, fc=\"red\", edgecolor='none', alpha=0.5)\n",
    "    ax.plot([], [], alpha=0, label=f\"R$^2$: {summary_stats.rsquared:.4f} | R$^2_{{adj}}$: {summary_stats.rsquared_adj:.4f}\")\n",
    "    handles, labels = ax.get_legend_handles_labels()\n",
    "    handles.append(alpha_patch)\n",
    "    labels.append(\"95% CI\")\n",
    "    ax.legend(handles, labels)\n",
    "    \n",
    "ax_ph.set_ylabel(\"Hedge's g\")\n",
    "plt.tight_layout()"
   ]
  },
  {
   "cell_type": "code",
   "execution_count": 22,
   "metadata": {},
   "outputs": [
    {
     "data": {
      "application/vnd.plotly.v1+json": {
       "config": {
        "plotlyServerURL": "https://plot.ly"
       },
       "data": [
        {
         "line": {
          "color": "red"
         },
         "mode": "lines",
         "name": "y = 3.49x + -0.19",
         "type": "scatter",
         "x": {
          "bdata": "EMAP6iXE5L//ZaZGjZfkv+4LPaP0auS/3rHT/1s+5L/NV2pcwxHkv7z9ALkq5eO/q6OXFZK447+aSS5y+Yvjv4rvxM5gX+O/eZVbK8gy479oO/KHLwbjv1fhiOSW2eK/RocfQf6s4r82LbadZYDivyXTTPrMU+K/FHnjVjQn4r8DH3qzm/rhv/LEEBADzuG/4mqnbGqh4b/RED7J0XThv8C21CU5SOG/r1xrgqAb4b+eAgLfB+/gv46omDtvwuC/fU4vmNaV4L9s9MX0PWngv1uaXFGlPOC/SkDzrQwQ4L9zzBMV6Mbfv1IYQc62bd+/MGRuh4UU378OsJtAVLvev+z7yPkiYt6/y0f2svEI3r+qkyNswK/dv4jfUCWPVt2/Zit+3l393L9Ed6uXLKTcvyPD2FD7Sty/AQ8GCsrx27/gWjPDmJjbv76mYHxnP9u/nPKNNTbm2r97PrvuBI3av1mK6KfTM9q/ONYVYaLa2b8WIkMacYHZv/RtcNM/KNm/07mdjA7P2L+xBctF3XXYv5BR+P6rHNi/bp0luHrD179M6VJxSWrXvys1gCoYEde/CYGt4+a31r/nzNqctV7Wv8YYCFaEBda/pGQ1D1Os1b+DsGLIIVPVv2H8j4Hw+dS/P0i9Or+g1L8elOrzjUfUv/zfF61c7tO/2ytFZiuV07+5d3If+jvTv5fDn9jI4tK/dg/NkZeJ0r9UW/pKZjDSvzOnJwQ119G/EfNUvQN+0b/vPoJ20iTRv86Kry+hy9C/rNbc6G9y0L+LIgqiPhnQv9LcbrYagM+/jnTJKLjNzr9MDCSbVRvOvwikfg3zaM2/xDvZf5C2zL+C0zPyLQTMvz5rjmTLUcu//ALp1mifyr+4mkNJBu3Jv3QynrujOsm/Msr4LUGIyL/uYVOg3tXHv6z5rRJ8I8e/aJEIhRlxxr8kKWP3tr7Fv+LAvWlUDMW/nlgY3PFZxL9c8HJOj6fDvxiIzcAs9cK/1B8oM8pCwr+Qt4KlZ5DBv1BP3RcF3sC/DOc3iqIrwL+Q/ST5f/K+vwgt2t26jb2/gFyPwvUovL8=",
          "dtype": "f8"
         },
         "xaxis": "x",
         "y": {
          "bdata": "Dr3hatahA8BskaXQ6HoDwMtlaTb7UwPAKjotnA0tA8CJDvEBIAYDwOfitGcy3wLARrd4zUS4AsCkizwzV5ECwARgAJlpagLAYjTE/ntDAsDBCIhkjhwCwB/dS8qg9QHAfrEPMLPOAcDdhdOVxacBwDxal/vXgAHAmi5bYepZAcD5Ah/H/DIBwFjX4iwPDAHAtqumkiHlAMAVgGr4M74AwHRULl5GlwDA0ijyw1hwAMAx/bUpa0kAwJDReY99IgDA3Ut76h/3/7+a9AK2RKn/v1edioFpW/+/FEYSTY4N/7/S7pkYs7/+v5CXIeTXcf6/TUCpr/wj/r8K6TB7Idb9v8eRuEZGiP2/hTpAEms6/b9D48fdj+z8vwCMT6m0nvy/vTTXdNlQ/L963V5A/gL8vziG5gsjtfu/9S5u10dn+7+z1/WibBn7v3CAfW6Ry/q/LSkFOrZ9+r/r0YwF2y/6v6h6FNH/4fm/ZiOcnCSU+b8jzCNoSUb5v+B0qzNu+Pi/nh0z/5Kq+L9bxrrKt1z4vxlvQpbcDvi/1hfKYQHB97+TwFEtJnP3v1Fp2fhKJfe/DhJhxG/X9r/LuuiPlIn2v4ljcFu5O/a/Rgz4Jt7t9b8EtX/yAqD1v8FdB74nUvW/fgaPiUwE9b88rxZVcbb0v/lXniCWaPS/twAm7Loa9L90qa2338zzvzFSNYMEf/O/7/q8Tikx87+so0QaTuPyv2pMzOVylfK/J/VTsZdH8r/kndt8vPnxv6JGY0jhq/G/Xu/qEwZe8b8cmHLfKhDxv9pA+qpPwvC/lumBdnR08L9UkglCmSbwvyN2Iht8se+/nccxssUV778ZGUFJD3ruv5NqUOBY3u2/D7xfd6JC7b+JDW8O7KbsvwNffqU1C+y/f7CNPH9v67/5AZ3TyNPqv3VTrGoSOOq/76S7AVyc6b9p9sqYpQDpv+VH2i/vZOi/X5npxjjJ57/b6vhdgi3nv1U8CPXLkea/z40XjBX25b9J3yYjX1rlv8YwNrqovuS/QIJFUfIi5L+601ToO4fjvzQlZH+F6+K/r3ZzFs9P4r8=",
          "dtype": "f8"
         },
         "yaxis": "y"
        },
        {
         "line": {
          "width": 0
         },
         "mode": "lines",
         "showlegend": false,
         "type": "scatter",
         "x": {
          "bdata": "EMAP6iXE5L//ZaZGjZfkv+4LPaP0auS/3rHT/1s+5L/NV2pcwxHkv7z9ALkq5eO/q6OXFZK447+aSS5y+Yvjv4rvxM5gX+O/eZVbK8gy479oO/KHLwbjv1fhiOSW2eK/RocfQf6s4r82LbadZYDivyXTTPrMU+K/FHnjVjQn4r8DH3qzm/rhv/LEEBADzuG/4mqnbGqh4b/RED7J0XThv8C21CU5SOG/r1xrgqAb4b+eAgLfB+/gv46omDtvwuC/fU4vmNaV4L9s9MX0PWngv1uaXFGlPOC/SkDzrQwQ4L9zzBMV6Mbfv1IYQc62bd+/MGRuh4UU378OsJtAVLvev+z7yPkiYt6/y0f2svEI3r+qkyNswK/dv4jfUCWPVt2/Zit+3l393L9Ed6uXLKTcvyPD2FD7Sty/AQ8GCsrx27/gWjPDmJjbv76mYHxnP9u/nPKNNTbm2r97PrvuBI3av1mK6KfTM9q/ONYVYaLa2b8WIkMacYHZv/RtcNM/KNm/07mdjA7P2L+xBctF3XXYv5BR+P6rHNi/bp0luHrD179M6VJxSWrXvys1gCoYEde/CYGt4+a31r/nzNqctV7Wv8YYCFaEBda/pGQ1D1Os1b+DsGLIIVPVv2H8j4Hw+dS/P0i9Or+g1L8elOrzjUfUv/zfF61c7tO/2ytFZiuV07+5d3If+jvTv5fDn9jI4tK/dg/NkZeJ0r9UW/pKZjDSvzOnJwQ119G/EfNUvQN+0b/vPoJ20iTRv86Kry+hy9C/rNbc6G9y0L+LIgqiPhnQv9LcbrYagM+/jnTJKLjNzr9MDCSbVRvOvwikfg3zaM2/xDvZf5C2zL+C0zPyLQTMvz5rjmTLUcu//ALp1mifyr+4mkNJBu3Jv3QynrujOsm/Msr4LUGIyL/uYVOg3tXHv6z5rRJ8I8e/aJEIhRlxxr8kKWP3tr7Fv+LAvWlUDMW/nlgY3PFZxL9c8HJOj6fDvxiIzcAs9cK/1B8oM8pCwr+Qt4KlZ5DBv1BP3RcF3sC/DOc3iqIrwL+Q/ST5f/K+vwgt2t26jb2/gFyPwvUovL8=",
          "dtype": "f8"
         },
         "xaxis": "x",
         "y": {
          "bdata": "fLFXp13m8j/ACNDbODTzPwJgSBAUgvM/RLfARO/P8z+GDjl5yh30P8plsa2la/Q/DL0p4oC59D9QFKIWXAf1P5BrGks3VfU/1MKSfxKj9T8WGgu07fD1P1pxg+jIPvY/nMj7HKSM9j/eH3RRf9r2PyB37IVaKPc/ZM5kujV29z+mJd3uEMT3P+h8VSPsEfg/LNTNV8df+D9uK0aMoq34P7CCvsB9+/g/9Nk29VhJ+T82Ma8pNJf5P3iIJ14P5fk/u9+fkuoy+j/+NhjHxYD6P0GOkPugzvo/hOUIMHwc+z/GPIFkV2r7PwiU+ZgyuPs/S+txzQ0G/D+OQuoB6VP8P9GZYjbEofw/E/Haap/v/D9VSFOfej39P5ify9NVi/0/2/ZDCDHZ/T8eTrw8DCf+P2ClNHHndP4/o/yspcLC/j/lUyXanRD/PyirnQ55Xv8/awIWQ1Ss/z+tWY53L/r/P3hYA1YFJABAGYQ/8PJKAEC6r3uK4HEAQFzbtyTOmABA/Qb0vru/AECeMjBZqeYAQEBebPOWDQFA4YmojYQ0AUCCteQnclsBQCThIMJfggFAxQxdXE2pAUBmOJn2OtABQAhk1ZAo9wFAqY8RKxYeAkBKu03FA0UCQOzmiV/xawJAjRLG+d6SAkAuPgKUzLkCQNBpPi664AJAcJV6yKcHA0ASwbZilS4DQLTs8vyCVQNAVBgvl3B8A0D2Q2sxXqMDQJdvp8tLygNAOJvjZTnxA0Daxh8AJxgEQHvyW5oUPwRAHR6YNAJmBEC+SdTO74wEQF91EGndswRAAaFMA8vaBECizIiduAEFQEP4xDemKAVA5SMB0pNPBUCGTz1sgXYFQCd7eQZvnQVAyKa1oFzEBUBq0vE6SusFQAv+LdU3EgZArClqbyU5BkBOVaYJE2AGQO+A4qMAhwZAkKwePu6tBkAy2FrY29QGQNMDl3LJ+wZAdC/TDLciB0AVWw+npEkHQLeGS0GScAdAWLKH23+XB0D63cN1bb4HQJoJABBb5QdAPDU8qkgMCEDeYHhENjMIQH+MtN4jWghAILjweBGBCEA=",
          "dtype": "f8"
         },
         "yaxis": "y"
        },
        {
         "fill": "tonexty",
         "fillcolor": "rgba(255, 0, 0, 0.2)",
         "line": {
          "width": 0
         },
         "mode": "lines",
         "name": "95% CI",
         "type": "scatter",
         "x": {
          "bdata": "EMAP6iXE5L//ZaZGjZfkv+4LPaP0auS/3rHT/1s+5L/NV2pcwxHkv7z9ALkq5eO/q6OXFZK447+aSS5y+Yvjv4rvxM5gX+O/eZVbK8gy479oO/KHLwbjv1fhiOSW2eK/RocfQf6s4r82LbadZYDivyXTTPrMU+K/FHnjVjQn4r8DH3qzm/rhv/LEEBADzuG/4mqnbGqh4b/RED7J0XThv8C21CU5SOG/r1xrgqAb4b+eAgLfB+/gv46omDtvwuC/fU4vmNaV4L9s9MX0PWngv1uaXFGlPOC/SkDzrQwQ4L9zzBMV6Mbfv1IYQc62bd+/MGRuh4UU378OsJtAVLvev+z7yPkiYt6/y0f2svEI3r+qkyNswK/dv4jfUCWPVt2/Zit+3l393L9Ed6uXLKTcvyPD2FD7Sty/AQ8GCsrx27/gWjPDmJjbv76mYHxnP9u/nPKNNTbm2r97PrvuBI3av1mK6KfTM9q/ONYVYaLa2b8WIkMacYHZv/RtcNM/KNm/07mdjA7P2L+xBctF3XXYv5BR+P6rHNi/bp0luHrD179M6VJxSWrXvys1gCoYEde/CYGt4+a31r/nzNqctV7Wv8YYCFaEBda/pGQ1D1Os1b+DsGLIIVPVv2H8j4Hw+dS/P0i9Or+g1L8elOrzjUfUv/zfF61c7tO/2ytFZiuV07+5d3If+jvTv5fDn9jI4tK/dg/NkZeJ0r9UW/pKZjDSvzOnJwQ119G/EfNUvQN+0b/vPoJ20iTRv86Kry+hy9C/rNbc6G9y0L+LIgqiPhnQv9LcbrYagM+/jnTJKLjNzr9MDCSbVRvOvwikfg3zaM2/xDvZf5C2zL+C0zPyLQTMvz5rjmTLUcu//ALp1mifyr+4mkNJBu3Jv3QynrujOsm/Msr4LUGIyL/uYVOg3tXHv6z5rRJ8I8e/aJEIhRlxxr8kKWP3tr7Fv+LAvWlUDMW/nlgY3PFZxL9c8HJOj6fDvxiIzcAs9cK/1B8oM8pCwr+Qt4KlZ5DBv1BP3RcF3sC/DOc3iqIrwL+Q/ST5f/K+vwgt2t26jb2/gFyPwvUovL8=",
          "dtype": "f8"
         },
         "xaxis": "x",
         "y": {
          "bdata": "bam31G1bGMCck5kH90cYwMx9ezqANBjA+2ddbQkhGMAqUj+gkg0YwFo8IdMb+hfAiSYDBqXmF8C4EOU4LtMXwOj6xmu3vxfAF+WonkCsF8BGz4rRyZgXwHa5bARThRfApaNON9xxF8DUjTBqZV4XwAR4Ep3uShfAM2L0z3c3F8BiTNYCASQXwJI2uDWKEBfAwSCaaBP9FsDwCnybnOkWwCD1Xc4l1hbAT98/Aa/CFsB+ySE0OK8WwK6zA2fBmxbA3Z3lmUqIFsAMiMfM03QWwDxyqf9cYRbAa1yLMuZNFsCaRm1lbzoWwMowT5j4JhbA+Roxy4ETFsAoBRP+CgAWwFjv9DCU7BXAh9nWYx3ZFcC3w7iWpsUVwOatmskvshXAFZh8/LieFcBEgl4vQosVwHRsQGLLdxXAo1YilVRkFcDTQATI3VAVwAIr5vpmPRXAMRXILfApFcBh/6lgeRYVwJDpi5MCAxXAwNNtxovvFMDvvU/5FNwUwB6oMSyeyBTATpITXye1FMB9fPWRsKEUwKxm18Q5jhTA3FC598J6FMALO5sqTGcUwDolfV3VUxTAag9fkF5AFMCZ+UDD5ywUwMjjIvZwGRTA+M0EKfoFFMAnuOZbg/ITwFaiyI4M3xPAhoyqwZXLE8C1doz0HrgTwORgbieopBPAFEtQWjGRE8BDNTKNun0TwHIfFMBDahPAogn28sxWE8DR89clVkMTwADeuVjfLxPAMMibi2gcE8Bfsn2+8QgTwI6cX/F69RLAvoZBJATiEsDtcCNXjc4SwBxbBYoWuxLATEXnvJ+nEsB7L8nvKJQSwKoZqyKygBLA2gONVTttEsAJ7m6IxFkSwDjYULtNRhLAaMIy7tYyEsCXrBQhYB8SwMaW9lPpCxLA9oDYhnL4EcAla7q5++QRwFVVnOyE0RHAhD9+Hw6+EcCzKWBSl6oRwOMTQoUglxHAEv4juKmDEcBB6AXrMnARwHHS5x28XBHAoLzJUEVJEcDPpquDzjURwP+QjbZXIhHALntv6eAOEcBdZVEcavsQwIxPM0/z5xDAvDkVgnzUEMA=",
          "dtype": "f8"
         },
         "yaxis": "y"
        },
        {
         "customdata": {
          "bdata": "j8L1KFyP0j9SuB6F61HYP1K4HoXrUeA/zczMzMzM3D/tSGLJjE3LP39BvLCyDeQ/AI7sAyHf4T+yDhmHBvjqPyRaNp41f+4/Rep3weI28z9mZmZmZuYyQM3MzMzMDDVAuB6F61G4I0DNzMzMzAw1QM3MzMzMzDFAzczMzMwMNUDhehSuR+EQQM3MzMzMDDVAMzMzMzOzMEDNzMzMzMw2QAAAAAAAAC5AzczMzMzMNkCamZmZmZkiQM3MzMzMzDZAAAAAAAAAJkDNzMzMzMw2QN2KO6QkoOE/q3q6/CN04j9XIoY8ZpviP6t6uvwjdOI/MzJxvIAR2T+rerr8I3TiPxtRUFn2NuA/q3q6/CN04j+ETd6lEmbgP6t6uvwjdOI/jYghj9mm1D+rerr8I3TiP2wKwPLEvNY/q3q6/CN04j/8i8guyhzQP6t6uvwjdOI/Pf4ROoFyxD+rerr8I3TiP7qPBfagSNQ/q3q6/CN04j/7ETqBchTfP6t6uvwjdOI/zoTkxwJ70D+rerr8I3TiP8GVH4lN3No/HGwUuxVs5j9idAKURofZPxxsFLsVbOY/egoOxH72zz8cbBS7FWzmP4sidIRUseA/2FDPGysu5T9VVVVVVVUjwDVIgzRIw0VAlrLxM44I4T86iuA06HbdP7icMs1avNc/OorgNOh23T/xtQ3bibTdP/eyD6G3rN8/sjqz3xdYNEC2K14Nm0w3QFf2ojlxFytA56jskdJwLUDM3mEi7e4jQG8+YTw2NSpADIVSI2AI0T/NHCFfgm3NPzRdcML4ptk/c3OxHZQN1D+EHJFFqW7EPz6PFu22gM4/tGz8TkmX0T8IrBxaZDvXP2szMdPhUZg/WZXBu1+hrT+N89fWlat/P1mVwbtfoa0/6p8EjyVKMD8+owY3mqp8PxmxTCDtgWe/PqMGN5qqfD/Fg0o9/jaGPzgQ+P3YgoM/BtiBvzoxfj84EPj92IKDP/7HyQPAxNQ/+ys4b3VA0z9IGcTjmLXUP/srOG91QNM/trCBh3yqXT9Fl/ZLhw1kP2bV52or9s8/jGzn+6nx0j8iIiIiIiLyP/7UeOkmMfg/sHJoke386D/Xo3A9CtflP1K4HoXrUdg/2/l+arx0wz+UjBPJOJHsP+8A5Q5Q7vI/jR2RMI7Ouj9t5/up8dLBP1wuWX8sj7E/+qBns+pzxT9FPBYc4IbVPyX/yDOtEGW/+3IlgF53wD9VoJQMvxnYP8ICMTqIn8U/JN4nNDZh0D8OwKS8B4btP/YoXI/CNfA/HZiRTua12T8oDwu1pnnXP2jV52or9tM/1udqK/aX2T+APCXIU4KsP93lCwZCm8g/L4QGQ2gw7D9LDAIrhxbpPxgEVg4tsre/0NVW7C+7x79yGw3gLZDSP6sXuIuSzNE/KHIaFQku3T8rhxbZzvfaP0NNMN7KPuc/TDDeyj6H7D8v3so+h9QIQNjKPofUBBNAKgd1UAd1/D8qB3VQB3X8P//48ePHj98/PYwYMWLE8D/+IIq/yBmmPyDDgktle/c/uVcJY7Og+j+8HXCkaIj/P8jBaJ3CS+c/pehjtmWE4z9cLb/heAHlP6XoY7ZlhOM//JQsiEGS5T+l6GO2ZYTjPwLhLhbqtuE/pehjtmWE4z/uWp3VljvhP6XoY7ZlhOM/vbpiwxeZ4j+l6GO2ZYTjP1BSfcFFnuI/pehjtmWE4z+lAJ7xEQjdP6XoY7ZlhOM/YWcN2QD64T+l6GO2ZYTjP7m1SQmnzeM/pehjtmWE4z+aIVgO17/jP6XoY7ZlhOM/L4BUMQBz2D+l6GO2ZYTjP08HMPaI9eQ/qVEvIGRF4T/C42TqCpXgP6lRLyBkReE/yCaA9+mL4T+pUS8gZEXhP2lgnKC5reE/qVEvIGRF4T+f1xqHfq7cP6lRLyBkReE/HH2aRQdo3j+pUS8gZEXhP/nrfdA0HuA/qVEvIGRF4T9vf22eaMrdP6lRLyBkReE/MKt0YQCp4T+pUS8gZEXhP0lvP73vOuI/qVEvIGRF4T9QRfXC1iPdP6lRLyBkReE/+G5XRm7i4T+pUS8gZEXhP3PmLJtgJSDAv3QMbF9SGkAdV7UGkzbqPw4PCRH1AyBAs4KQzR8rEECHNceFasYXQM9SLaPUe/4/hzXHhWrGF0CMfm6Qi5o2QH8NywvlW0lAyBb6UEcgJ0B/DcsL5VtJQAAAAAAAADpAAAAAAAAABEAAAAAAAAAiQAAAAAAAAARAAAAAAAAAPUAAAAAAAAAcQAAAAAAAAAAAAAAAAAAAHEAGrHpoHgOkPx8GUo5mJ7I/mpmZmZmZmT97FK5H4XqUP6RwPQrXo7A/exSuR+F6lD/8qfHSTWKgP0oMAiuHFqk//Knx0k1iwD9KDAIrhxapP4ts5/up8aI/ObTIdr6fij9YObTIdr6/Pzm0yHa+n4o/6xMYfWzYmr8TGBgYGBiYv9YUrkfheoQ/mpmZmZmZeb/GGKyRwRqpPwBsKg0596k/",
          "dtype": "f8",
          "shape": "117, 2"
         },
         "error_y": {
          "array": {
           "bdata": "scfeog148z/2G4PgZlrzP6ijGRNy4hNASqG3SPq0DEA8QRC9JJUIQJAyBfuH+Ps/dHvmHCRCCkAio5W2rhj4P2Il1KZvwx5AlHdFuqNmDUDkIf41EhoPQLizuZyb1QJAWLm/wO9+EkCaModqbUDwP/vFBab6M/A/xkAUeymF8j/RFffvg2PwPyKHWHdmj/A/XGGxw+Fa9D/QQ+Wd90r7P1xG7qfyyQBAxHKXAf+IBECcfRaW0Xv5P4S/IeUHmvA/CDtlrNiR/T/6xXyk1A/yP0pUqO0ZCfM/zluceele9z8ePTbe2vbgP7pzIxAMheE/MsrswezG3z8suY5du5ffP9L+TON7Fd8/uKqwU1PS4j80B+cvIZ7iPwPYULQ6feU/xhbujvp48z+qwpkLyBn4P/q3MK0Gq/M/OzyA+6DA9T8qf3Mjj+fhP0RUcHBDAuI/fBpYm35d5j8RTtIK8VzmP6NXS4sMduE/vEStjQp44T+wbAvPKEz2PwvvRZztVvY/6XPdv0Z81z8daYUfaXPxP1eJ2M/Rkuk/ZNi1JaXQ8T99I4qhDFnyP8a2XcOHWuA/D39SfRkQ8j+Bn042U5rkPyR8DtL7DOw/LPsQFxs67D8NdasNjMDjP8FrNp3qleI/uofTFiD+7z/a5IE1+ijhP6gACWlsxOA/+6Y2zklO7j9DcXD7QuruP2+/CNKceOg/IAn5/plC3z/4PbEJFwryPxSNBxCWaO0/vXwL4QDq8T8IYjgG0dYAQPqNrPVhagFAYOSFoNpb8j/ShWggNAv1PwOCbTl+NPQ/8cONE+Th9D+STHR5+cT0PyQRRBNWjfQ/V3svg8dk9D/pjcHmGRj0P84CU+J0p/g/GDXu0OVQ9D/cTo+G8PHzP1GeVtjh6/M/VqhyIj27/j/u5WqMGyT1P7deippq8fM/ry7uGZjs8z9miEH1QfbzPwaWmgiL0PQ/fJTHBwGZ9D+WGnFFif/zP3WmLFezSvU/tGcTRzzv8z9WdEi/UCj0P5AZUpyL+vQ/J2pqV6QE9D+CDaIP9VwKQMTAccIrOgZA8KLT8bBd8z89mnkMWrHzP9kCguu5BPc/ZsvPCL8A+j/9QeKp8ar2P4bO7IdqbPY/088p1lSy9j/u1lu0eIf2PzQ6ggo5kOc//iQM/csr7T/ZJdyr8NXyP4SEQI3E8O8/gSZwdhUm8T9Q6dTLCRnwP38z16PDDfc/IrJmI49I8z/Nk8Y1YFDzP60ijHg6SPM/",
           "dtype": "f8"
          },
          "color": "blue",
          "thickness": 1,
          "type": "data",
          "visible": true,
          "width": 5
         },
         "hovertemplate": "ΔpH (Total): %{x}<br>Hedges' g: %{y}<br>Treatment Calcification: %{customdata[0]:.4f}<br>Control Calcification: %{customdata[1]:.4f}<br>DOI: %{text}<extra></extra>",
         "marker": {
          "line": {
           "color": "black",
           "width": 1
          },
          "opacity": 0.5,
          "size": 10
         },
         "mode": "markers",
         "name": "Data points",
         "text": [
          "10.1007/s00338-012-0952-6",
          "10.1007/s00338-012-0952-6",
          "10.1007/s13131-022-2037-x",
          "10.1007/s13131-022-2037-x",
          "10.1007/s13131-022-2037-x",
          "10.1016/j.chemgeo.2018.09.004",
          "10.1016/j.chemgeo.2018.09.004",
          "10.1016/j.chemgeo.2018.09.004",
          "10.1016/j.chemgeo.2018.09.004",
          "10.1016/j.chemgeo.2018.09.004",
          "10.1016/j.chemgeo.2018.09.004",
          "10.1016/j.chemgeo.2018.09.004",
          "10.1016/j.chemgeo.2018.09.004",
          "10.1016/j.ecochg.2021.100016",
          "10.1016/j.ecochg.2021.100016",
          "10.1016/j.ecochg.2021.100016",
          "10.1016/j.ecochg.2021.100016",
          "10.1016/j.ecochg.2021.100016",
          "10.1016/j.ecochg.2021.100016",
          "10.1016/j.ecochg.2021.100016",
          "10.1016/j.ecochg.2021.100016",
          "10.1016/j.ecochg.2021.100016",
          "10.1016/j.ecochg.2021.100016",
          "10.1016/j.ecochg.2021.100016",
          "10.1016/j.ecochg.2021.100016",
          "10.1016/j.jembe.2019.151225",
          "10.1016/j.jembe.2019.151225",
          "10.1016/j.jembe.2019.151225",
          "10.1016/j.marenvres.2023.106150",
          "10.1029/2020JG005726",
          "10.1038/s41598-019-40620-8",
          "10.1038/s41598-019-40620-8",
          "10.1038/s41598-019-40620-8",
          "10.1038/s41598-022-06896-z",
          "10.1038/s41598-022-06896-z",
          "10.1038/s41598-022-06896-z",
          "10.1038/s42003-022-04353-1",
          "10.1038/s42003-022-04353-1",
          "10.1038/s42003-022-04353-1",
          "10.1038/s42003-022-04353-1",
          "10.1093/icesjms/fsaa015",
          "10.1093/icesjms/fsaa015",
          "10.1093/icesjms/fsaa015",
          "10.1093/icesjms/fsaa015",
          "10.1093/icesjms/fsaa015",
          "10.1093/icesjms/fsaa015",
          "10.1098/rsos.170683",
          "10.1098/rsos.170683",
          "10.1098/rspb.2021.0923",
          "10.1111/gcb.13481-LOC-A",
          "10.1111/gcb.13481-LOC-B",
          "10.1111/gcb.13481-LOC-B",
          "10.1111/gcb.13481-LOC-B",
          "10.1111/gcb.13481-LOC-B",
          "10.1111/gcb.13481-LOC-B",
          "10.1111/gcb.13481-LOC-B",
          "10.1111/gcb.13481-LOC-B",
          "10.1111/gcb.13481-LOC-B",
          "10.1111/gcb.13481-LOC-B",
          "10.1111/gcb.13481-LOC-B",
          "10.1111/gcb.13481-LOC-C",
          "10.1111/gcb.13481-LOC-C",
          "10.1111/gcb.13481-LOC-C",
          "10.1111/gcb.13481-LOC-C",
          "10.1111/gcb.13481-LOC-D",
          "10.1111/gcb.13481-LOC-D",
          "10.1111/gcb.13481-LOC-D",
          "10.1111/gcb.14998",
          "10.1111/gcb.14998",
          "10.1111/jpy.13290",
          "10.1111/jpy.13290",
          "10.1111/jpy.13290",
          "10.1111/jpy.13290",
          "10.1111/maec.12444",
          "10.1111/maec.12444",
          "10.1111/maec.12444",
          "10.1111/maec.12444",
          "10.1111/maec.12444",
          "10.1111/maec.12444",
          "10.1111/maec.12444",
          "10.1111/maec.12444",
          "10.1111/maec.12444",
          "10.1111/maec.12444",
          "10.1111/maec.12444",
          "10.1111/maec.12444",
          "10.1111/maec.12444",
          "10.1111/maec.12444",
          "10.1111/maec.12444",
          "10.1111/maec.12444",
          "10.1111/maec.12444",
          "10.1111/maec.12444",
          "10.1111/maec.12444",
          "10.1111/maec.12444",
          "10.1111/maec.12444",
          "10.1111/maec.12444",
          "10.1111/maec.12444",
          "10.1111/maec.12444",
          "10.3354/meps09309",
          "10.3354/meps09309",
          "10.3354/meps10981",
          "10.3354/meps10981",
          "10.3354/meps10981",
          "10.3354/meps10981",
          "10.3354/meps11591",
          "10.3354/meps11591",
          "10.3354/meps11591",
          "10.3354/meps11591",
          "10.3389/fmars.2021.704487",
          "10.3390/jmse10081106",
          "10.3390/jmse10081106",
          "10.3390/jmse10081106",
          "10.3390/jmse10081106",
          "10.3390/jmse10081106",
          "10.3390/jmse10081106",
          "10.3390/jmse9070739",
          "10.3390/jmse9070739",
          "10.3390/jmse9070739"
         ],
         "type": "scatter",
         "x": {
          "bdata": "kJmZmZmZ2b+QmZmZmZnZv5D2iWP7INy/0I2/q2yF278Qw4+u/SrcvwAAAAAAANC/AAAAAAAA0L8QrkfhehTevxCuR+F6FN6/AAAAAAAA0L8AAAAAAADQvxCuR+F6FN6/EK5H4XoU3r/gUbgehevRv7D1KFyPwtW/YD0K16Nw3b/gUbgehevRv7D1KFyPwtW/YD0K16Nw3b/gUbgehevRv7D1KFyPwtW/YD0K16Nw3b/gUbgehevRv7D1KFyPwtW/YD0K16Nw3b/gUbgehevBv6AehetRuM6/oEfhehSu179g/cAmclnYv7BJDAIrh+K/ILByaJHt1L8gsHJoke3UvyCwcmiR7dS/gBSuR+F6xL+AFK5H4XrEv4AUrkfhesS/wBqPP66Vyb/AGo8/rpXJv8Aajz+ulcm/wBqPP66Vyb+gNtBpA53Ov7Alv1jyi92/oDbQaQOdzr+wJb9Y8ovdv6A20GkDnc6/sCW/WPKL3b/wUbgehevRv/BRuB6F69G/oG0KjVTm078wMzMzMzPTvwAAAAAAAOC/AAAAAAAA4L8AAAAAAADgvzAzMzMzM9O/AAAAAAAA4L8AAAAAAADgvzAzMzMzM9O/AAAAAAAA4L8wMzMzMzPTvwAAAAAAAOC/MDMzMzMz078AAAAAAADgvzAzMzMzM9O/MDMzMzMz078wMzMzMzPTvwAAAAAAAOC/MDMzMzMz078A06YO7GjNvwDTpg7saM2/gOtRuB6F07+A61G4HoXTv4DrUbgehdO/gOtRuB6F07+AXI/C9Si8v2C4HoXrUci/AFK4HoXr0b9wZmZmZmbWv4Bcj8L1KLy/YLgehetRyL8AUrgehevRv3BmZmZmZta/gFyPwvUovL9guB6F61HIvwBSuB6F69G/cGZmZmZm1r+AXI/C9Si8v2C4HoXrUci/AFK4HoXr0b9wZmZmZmbWv4Bcj8L1KLy/YLgehetRyL8AUrgehevRv3BmZmZmZta/gFyPwvUovL9guB6F61HIvwBSuB6F69G/cGZmZmZm1r/QfMpXg5fZv2Bmp/Kbq9e/gBSuR+F61L8oXI/C9Sjkv4AUrkfhetS/KFyPwvUo5L/giSjYKoPJv2DhYp35bdS/4Iko2CqDyb9g4WKd+W3Uv+BRuB6F69G/gHrxTEtAzb8QwA/qJcTkv4B68UxLQM2/EMAP6iXE5L+AevFMS0DNvxDAD+olxOS/gD0K16Nwzb+APQrXo3DNv4A9CtejcM2/",
          "dtype": "f8"
         },
         "xaxis": "x",
         "y": {
          "bdata": "wTi58O721b/wMfDgGwrLP/0T5E3E+iDAQ69NcwKzF8AwIlj6rb8TwBDy/rWkIv+/RIwPU0TPEcCmXZLzJGvyvwcEswOqdSjAMLrooosuFsBScBqPwfMZwITSgVi77wvA7DpKjoRpH8DdMl/8kgTUv/obB4clvrg/ZyJ9z0B7BMA+YIGVpIflv7BVXRFFX++/WlVIEkkfDMA/qfgGjLsYwA5YdCcExyDA7Bp6002HJcAtjPRi3iUWwNyo79gzk/C/7hRVSeo4HMDKWqtYzMf9v+UGl3dqOwHAIcEaNq0SCsDd8XB8DPjzv6Mn55eh+va/WnDQJ2Fu5D82BUsMUuThv/MmVoxIhs2/zB4pwDURx7+OLS19lHPDvztPlWFuGeO/8Sw/ulct1j9B2IWE4IH9P17jOFaKpt+/dYNsJzaM9L9ji0Y+XYLSv8ke1Nw7x9q/yOAfYKxWzr9g4MtUIPDNvxUfRR1FuYo/wbJ/LKCKtb/p192t7hnAP8k6FPNk4cE/g7xl2FeV3r/XsWL0tU7Sv1+1p/3P9+a/3ClHU1m90T9qLOqvLqvnP7+wfb/Xhdu/M3rqEwtw0b8NkoCiO2nKv/GucTI56tQ/7GAx8U+E3b9QbPoZhkTYv6/HofbeEcS/Eov5AhVLsj+TS3Ck9LHdv8zpveH4SuO/3egByrNHzD/VTO0hvtLKP8UZWty8n6U/dyaL9Y+OvT88F6b+war9vylg44gWLQnAAAAAAAAAAACVjv8PnkQQwJWFBRomChHAHO8XdjBU4r+QxtWSYsLrP+opcDQC39s/Nw5AWRKm6T+1UQOPfxLov70jGNidu+S/JojcHS7w4b9rZqRjjeLVv17udBlvqf2/0DMQF4ln4L+TrP64lAXCPzlVv0OFILE/ickwqkfiB8Cpje1t8vbsP5FbrDOWaMG/D+/1/QFJtD/LpnD1b3TGPwjBUBrItui/dZfYDiR55b8g/yBHetbNvy6lVtPXv+6/zJfk0Y4nvT9TAeuu9XjZP51VjGMe7eq/5QqJNiSb0D9feiVcxwkZwC7GsvXCbxTApHD0ZL5jzb8cd2/5RlTgvw1rVak2qPm/2uDgd1DNAcDCmIDUCjTgP6Rk/0ifnLk/0UXjCYka4T9VKPheKtPVv4QCyqBbSO6/UYFeN6Vw1j8pFU/x/PIBQCbRThLtJPG/NRAyuhPG5T+ESdKidFLlPxad6Kwu9wZA6MFPhQwtnb9frZDNghjCP/QkA5fuyFG/",
          "dtype": "f8"
         },
         "yaxis": "y"
        },
        {
         "line": {
          "color": "black",
          "dash": "dash",
          "width": 1
         },
         "mode": "lines",
         "name": "Hedges' g = 0",
         "type": "scatter",
         "x": [
          -0.6489438601984165,
          -0.11000000000000121
         ],
         "xaxis": "x",
         "y": [
          0,
          0
         ],
         "yaxis": "y"
        },
        {
         "line": {
          "color": "red"
         },
         "mode": "lines",
         "name": "y = 0.26x + -1.44",
         "type": "scatter",
         "x": {
          "bdata": "AAAAAAAA8D8OXJJr0GPxPx24JNegx/I/KxS3QnEr9D86cEmuQY/1P0jM2xkS8/Y/VihuheJW+D9khADxsrr5P3PgklyDHvs/gjwlyFOC/D+QmLczJOb9P570SZ/0Sf8/VihuheJWAEBeVje7yggBQGSEAPGyugFAbLLJJptsAkBz4JJcgx4DQHoOXJJr0ANAgjwlyFOCBECIau79OzQFQJCYtzMk5gVAl8aAaQyYBkCe9Emf9EkHQKYiE9Xc+wdArFDcCsWtCEC0fqVArV8JQLusbnaVEQpAwto3rH3DCkDJCAHiZXULQNA2yhdOJwxA2GSTTTbZDEDfklyDHosNQObAJbkGPQ5A7e7u7u7uDkD0HLgk16APQH6lQK1fKRBAgjwlyFOCEECF0wnjR9sQQIhq7v07NBFAjAHTGDCNEUCQmLczJOYRQJQvnE4YPxJAl8aAaQyYEkCaXWWEAPESQJ70SZ/0SRNAoosuuuiiE0CmIhPV3PsTQKm59+/QVBRArFDcCsWtFECw58AluQYVQLR+pUCtXxVAtxWKW6G4FUC7rG52lREWQL5DU5GJahZAwto3rH3DFkDGcRzHcRwXQMkIAeJldRdAzZ/l/FnOF0DQNsoXTicYQNTNrjJCgBhA2GSTTTbZGEDb+3doKjIZQN+SXIMeixlA4ilBnhLkGUDmwCW5Bj0aQOpXCtT6lRpA7e7u7u7uGkDxhdMJ40cbQPQcuCTXoBtA+LOcP8v5G0D8SoFav1IcQP/hZXWzqxxAA3lKkKcEHUAGEC+rm10dQAqnE8aPth1ADj744IMPHkAR1dz7d2geQBVswRZswR5AGAOmMWAaH0AcmopMVHMfQCAxb2dIzB9AEuQpQZ4SIECUL5xOGD8gQBV7DlySayBAl8aAaQyYIEAYEvN2hsQgQJpdZYQA8SBAHKnXkXodIUCe9Emf9EkhQCBAvKxudiFAoosuuuiiIUAk16DHYs8hQKYiE9Xc+yFAJ26F4lYoIkCpuffv0FQiQCsFav1KgSJArFDcCsWtIkAunE4YP9oiQLDnwCW5BiNAMjMzMzMzI0A=",
          "dtype": "f8"
         },
         "xaxis": "x2",
         "y": {
          "bdata": "aBwpGqDf8r+Phb37O4Pyv7buUd3XJvK/3VfmvnPK8b8EwXqgD27xvywqD4KrEfG/U5OjY0e18L96/DdF41jwv0PLmE3++O+/kZ3BEDZA77/gb+rTbYfuvy9CE5elzu2/fRQ8Wt0V7b/L5mQdFV3svxu5jeBMpOu/aIu2o4Tr6r+3Xd9mvDLqvwYwCCr0eem/UwIx7SvB6L+j1FmwYwjov/GmgnObT+e/QHmrNtOW5r+OS9T5Ct7lv9wd/bxCJeW/LPAlgHps5L95wk5DsrPjv8iUdwbq+uK/F2egySFC4r9lOcmMWYnhv7QL8k+R0OC/At4aE8kX4L+gYIesAb7evz4F2TJxTN2/3KkqueDa2794Tnw/UGnavxTzzcW/99i/sJcfTC+G179QPHHSnhTWv/DgwlgOo9S/jIUU330x078kKmZl7b/Rv8DOt+tcTtC/wOYS5Ji5zb8AMLbwd9bKvzh5Wf1W88e/cML8CTYQxb+gC6AWFS3Cv8Cphkbok76/QDzNX6bNuL+wzhN5ZAezv0DCtCRFgqq/gM6DroLrnb8AYXhO7El7vwCeR4eMRpA/IKoWEcqvoz9AhYneTTyvPyAw/tVoZLU/sJ23vKoquz+YhbhRdnjAP2g8FUWXW8M/MPNxOLg+xj/wqc4r2SHJP7hgKx/6BMw/eBeIEhvozj8gZ/ICnuXQP4TCoHwuV9I/6B1P9r7I0z9Mef1vTzrVP6zUq+nfq9Y/EDBaY3Ad2D90iwjdAI/ZP9TmtlaRANs/PEJl0CFy3D+cnRNKsuPdPwD5wcNCVd8/Miq4nmlj4D/iV4/bMRzhP5SFZhj61OE/RLM9VcKN4j/44BSSikbjP6gO7M5S/+M/XDzDCxu45D8QappI43DlP7yXcYWrKeY/cMVIwnPi5j8c8x//O5vnP9Ag9zsEVOg/gE7OeMwM6T80fKW1lMXpP+ipfPJcfuo/mNdTLyU36z9MBSts7e/rP/wyAqm1qOw/rGDZ5X1h7T9cjrAiRhruPxC8h18O0+4/wOlenNaL7z+4C5tsTyLwP5KiBouzfvA/ajlyqRfb8D8=",
          "dtype": "f8"
         },
         "yaxis": "y2"
        },
        {
         "line": {
          "width": 0
         },
         "mode": "lines",
         "showlegend": false,
         "type": "scatter",
         "x": {
          "bdata": "AAAAAAAA8D8OXJJr0GPxPx24JNegx/I/KxS3QnEr9D86cEmuQY/1P0jM2xkS8/Y/VihuheJW+D9khADxsrr5P3PgklyDHvs/gjwlyFOC/D+QmLczJOb9P570SZ/0Sf8/VihuheJWAEBeVje7yggBQGSEAPGyugFAbLLJJptsAkBz4JJcgx4DQHoOXJJr0ANAgjwlyFOCBECIau79OzQFQJCYtzMk5gVAl8aAaQyYBkCe9Emf9EkHQKYiE9Xc+wdArFDcCsWtCEC0fqVArV8JQLusbnaVEQpAwto3rH3DCkDJCAHiZXULQNA2yhdOJwxA2GSTTTbZDEDfklyDHosNQObAJbkGPQ5A7e7u7u7uDkD0HLgk16APQH6lQK1fKRBAgjwlyFOCEECF0wnjR9sQQIhq7v07NBFAjAHTGDCNEUCQmLczJOYRQJQvnE4YPxJAl8aAaQyYEkCaXWWEAPESQJ70SZ/0SRNAoosuuuiiE0CmIhPV3PsTQKm59+/QVBRArFDcCsWtFECw58AluQYVQLR+pUCtXxVAtxWKW6G4FUC7rG52lREWQL5DU5GJahZAwto3rH3DFkDGcRzHcRwXQMkIAeJldRdAzZ/l/FnOF0DQNsoXTicYQNTNrjJCgBhA2GSTTTbZGEDb+3doKjIZQN+SXIMeixlA4ilBnhLkGUDmwCW5Bj0aQOpXCtT6lRpA7e7u7u7uGkDxhdMJ40cbQPQcuCTXoBtA+LOcP8v5G0D8SoFav1IcQP/hZXWzqxxAA3lKkKcEHUAGEC+rm10dQAqnE8aPth1ADj744IMPHkAR1dz7d2geQBVswRZswR5AGAOmMWAaH0AcmopMVHMfQCAxb2dIzB9AEuQpQZ4SIECUL5xOGD8gQBV7DlySayBAl8aAaQyYIEAYEvN2hsQgQJpdZYQA8SBAHKnXkXodIUCe9Emf9EkhQCBAvKxudiFAoosuuuiiIUAk16DHYs8hQKYiE9Xc+yFAJ26F4lYoIkCpuffv0FQiQCsFav1KgSJArFDcCsWtIkAunE4YP9oiQLDnwCW5BiNAMjMzMzMzI0A=",
          "dtype": "f8"
         },
         "xaxis": "x2",
         "y": {
          "bdata": "/bBm0sJb7r9Lg4+V+qLtv5lVuFgy6uy/5yfhG2ox7L81+gnfoXjrv4XMMqLZv+q/055bZREH6r8hcYQoSU7pv3BDreuAlei/vhXWrrjc578N6P5x8CPnv1y6JzUoa+a/qoxQ+F+y5b/4Xnm7l/nkv0gxon7PQOS/lQPLQQeI47/k1fMEP8/ivzOoHMh2FuK/gHpFi65d4b/QTG5O5qTgvzw+LiM82N+/2uJ/qatm3r92h9EvG/XcvxIsI7aKg9u/stB0PPoR2r9MdcbCaaDYv+oZGEnZLte/iL5pz0i91b8kY7tVuEvUv8IHDdwn2tK/XqxeYpdo0b/1oWDRDe7PvzHrA97sCs2/bTSn6ssnyr+lfUr3qkTHv93G7QOKYcS/FRCREGl+wb+qsmg6kDa9vypFr1NOcLe/mtf1bAyqsb/003gMlcenv6jxC34idpi/gLpjMq7RVb9Yer+37LuVP0yYUil6aqY/trli+377sD9WJxziwMG2P9aU1cgCiLw/K4HHVyInwT/zNyRLQwrEP7vugD5k7cY/e6XdMYXQyT9DXDolprPMPwsTlxjHls8/6uT5BfQ80T9OQKh/hK7SP66bVvkUINQ/EvcEc6WR1T9yUrPsNQPXP9qtYWbGdNg/PgkQ4Fbm2T+eZL5Z51fbPwLAbNN3ydw/YhsbTQg73j/GdsnGmKzfPxXpO6AUj+A/xxYT3dxH4T95ROoZpQDiPylywVZtueI/25+YkzVy4z+NzW/Q/SrkPz37Rg3G4+Q/8SgeSo6c5T+hVvWGVlXmP1OEzMMeDuc/BbKjAOfG5z+133o9r3/oP2cNUnp3OOk/Fzsptz/x6T/LaAD0B6rqP3uW1zDQYus/L8SubZgb7D/j8YWqYNTsP48fXecoje0/Q000JPFF7j/vegthuf7uP6Oo4p2Bt+8/Ketc7SQ48D8DgsgLiZTwP90YNCrt8PA/ta+fSFFN8T+PRgtntanxP2fddoUZBvI/P3Tio31i8j8XC07C4b7yP/GhueBFG/M/yTgl/6l38z+hz5AdDtTzP3tm/DtyMPQ/U/1nWtaM9D8=",
          "dtype": "f8"
         },
         "yaxis": "y2"
        },
        {
         "fill": "tonexty",
         "fillcolor": "rgba(255, 0, 0, 0.2)",
         "line": {
          "width": 0
         },
         "mode": "lines",
         "name": "95% CI",
         "type": "scatter",
         "x": {
          "bdata": "AAAAAAAA8D8OXJJr0GPxPx24JNegx/I/KxS3QnEr9D86cEmuQY/1P0jM2xkS8/Y/VihuheJW+D9khADxsrr5P3PgklyDHvs/gjwlyFOC/D+QmLczJOb9P570SZ/0Sf8/VihuheJWAEBeVje7yggBQGSEAPGyugFAbLLJJptsAkBz4JJcgx4DQHoOXJJr0ANAgjwlyFOCBECIau79OzQFQJCYtzMk5gVAl8aAaQyYBkCe9Emf9EkHQKYiE9Xc+wdArFDcCsWtCEC0fqVArV8JQLusbnaVEQpAwto3rH3DCkDJCAHiZXULQNA2yhdOJwxA2GSTTTbZDEDfklyDHosNQObAJbkGPQ5A7e7u7u7uDkD0HLgk16APQH6lQK1fKRBAgjwlyFOCEECF0wnjR9sQQIhq7v07NBFAjAHTGDCNEUCQmLczJOYRQJQvnE4YPxJAl8aAaQyYEkCaXWWEAPESQJ70SZ/0SRNAoosuuuiiE0CmIhPV3PsTQKm59+/QVBRArFDcCsWtFECw58AluQYVQLR+pUCtXxVAtxWKW6G4FUC7rG52lREWQL5DU5GJahZAwto3rH3DFkDGcRzHcRwXQMkIAeJldRdAzZ/l/FnOF0DQNsoXTicYQNTNrjJCgBhA2GSTTTbZGEDb+3doKjIZQN+SXIMeixlA4ilBnhLkGUDmwCW5Bj0aQOpXCtT6lRpA7e7u7u7uGkDxhdMJ40cbQPQcuCTXoBtA+LOcP8v5G0D8SoFav1IcQP/hZXWzqxxAA3lKkKcEHUAGEC+rm10dQAqnE8aPth1ADj744IMPHkAR1dz7d2geQBVswRZswR5AGAOmMWAaH0AcmopMVHMfQCAxb2dIzB9AEuQpQZ4SIECUL5xOGD8gQBV7DlySayBAl8aAaQyYIEAYEvN2hsQgQJpdZYQA8SBAHKnXkXodIUCe9Emf9EkhQCBAvKxudiFAoosuuuiiIUAk16DHYs8hQKYiE9Xc+yFAJ26F4lYoIkCpuffv0FQiQCsFav1KgSJArFDcCsWtIkAunE4YP9oiQLDnwCW5BiNAMjMzMzMzI0A=",
          "dtype": "f8"
         },
         "xaxis": "x2",
         "y": {
          "bdata": "UeAey16R9r94SbOs+jT2v5+yR46W2PW/xhvcbzJ89b/thHBRzh/1vxXuBDNqw/S/PFeZFAZn9L9jwC32oQr0v4spwtc9rvO/spJWudlR87/Z++qadfXyvwFlf3wRmfK/KM4TXq088r9PN6g/SeDxv3egPCHlg/G/nQnRAoEn8b/FcmXkHMvwv+zb+cW4bvC/E0WOp1QS8L92XEUS4Wvvv8QubtUYs+6/EwGXmFD67b9h079biEHtv6+l6B7AiOy//3cR4vfP679MSjqlLxfrv5scY2hnXuq/6u6LK5+l6b84wbTu1uzov4eT3bEONOi/1WUGdUZ7578jOC84fsLmv3IKWPu1Cea/wdyAvu1Q5b8Pr6mBJZjkv12B0kRd3+O/q1P7B5Um47/7JSTLzG3iv0v4TI4EteG/mcp1UTz84L/lnJ4UdEPgv2bejq9XFd+/BoPgNcej3b+mJzK8NjLcv0LMg0KmwNq/3nDVyBVP2b92FSdPhd3Xvxa6eNX0a9a/tl7KW2T61L9SAxzi04jTv+6nbWhDF9K/jky/7rKl0L9T4iHqRGjOv4srxfYjhcu/w3RoAwOiyL/7vQsQ4r7FvzsHrxzB28K/5qCkUkDxv79mM+tr/iq6v8bFMYW8ZLS/bLDwPPU8rb9s1X1vcbChvzDpK4i2j4i/0IKfrViihT/Uu9r4GfWgP/SWTcadgaw/CjngyRAHtD+appmwUs25PxoUU5eUk78/1UAGP+uswj+d92IyDJDFP12uvyUtc8g/LWUcGU5Wyz/tG3kMbznOP1rp6v9HjtA/vkSZedj/0T8eoEfzaHHTP4L79Wz54tQ/4lak5olU1j9KslJgGsbXP6oNAdqqN9k/EmmvUzup2j96xF3NyxrcP9IfDEdcjN0/Onu6wOz93j9JazSdvjfgP/2YC9qG8OA/rcbiFk+p4T9h9LlTF2LiPxUikZDfGuM/xU9ozafT4z95fT8KcIzkPymrFkc4ReU/2djtgwD+5T+JBsXAyLbmPz00nP2Qb+c/7WFzOlko6D+dj0p3IeHoP1G9IbTpmek/Aev48LFS6j8=",
          "dtype": "f8"
         },
         "yaxis": "y2"
        },
        {
         "customdata": {
          "bdata": "3dMtRlezdT/wWqso2i16P9AVUMbB134/8FqrKNotej9KUHG25zyFP9CLRDAJzIA/sqjVGA1XhD/Qi0QwCcyAPxQd7rU8E3c/IIFHw2cHcj/r3Irzc9V0PyCBR8NnB3I/pHA9Ctej0D9SuB6F61HYP6RwPQrXo9A/zczMzMzM3D8yVTAqqRPQP35o6q952L4/UnEbDeAtwL9+aOqvedi+P6Fns+pztbU/fmjqr3nYvj9LAauBWlDOP35o6q952L4/a9Cn33LIwj9+aOqvedi+P3UCQ0oAJtI/fmjqr3nYvj9CCTNt/7owQLYrXg2bTDdAgnuVjk6MJEDnqOyR0nAtQFnHfYikoiFAbz5hPDY1KkCsW6dWOibIv80cIV+Cbc0/z+B2XMF6uz9zc7EdlA3UP4CIIVNteZI/Po8W7baAzj/OjFWKl1uJvwisHFpkO9c/trjGZ7J/Xj9Fl/ZLhw1kP2PJL5b8Ytk/jGzn+6nx0j9L677F/2z9P/7UeOkmMfg/MQisHFpk6D/Xo3A9CtflP2B2Tx4WatU/2/l+arx0wz9bISpQSobvP+8A5Q5Q7vI/SOF6FK5HoT9t5/up8dLBP5i1OiZ4MOg/+qBns+pzxT/PzMzMzMywvyX/yDOtEGW/9qI5cbfnyD9VoJQMvxnYP2U730+Nl84/JN4nNDZh0D/iVC9wFyXtP/YoXI/CNfA/lPYGX5hMxb8oDwu1pnnXP3qDL0ymCtQ/1udqK/aX2T9CqySIjJ+cP93lCwZCm8g/kxgEVg4t6j9LDAIrhxbpP0WLbOf7qbG/0NVW7C+7x7/jgl9hK0nhP6sXuIuSzNE/x4xJ8i006j8rhxbZzvfaP+SQmmC8ld0/TDDeyj6H7D/kOaQmGG8PQNjKPofUBBNA53RQB3VQ9z8qB3VQB3X8P5YmTZo0aeI/PYwYMWLE8D+U7V0HdGPuPyDDgktle/c/tC7vgCNFA0C8HXCkaIj/P4CGehzQkbU/7h/eL8oKvz83m/kWvgOoPx8GUo5mJ7I/O99PjZdukj9KDAIrhxapP/yp8dJNYmA/ObTIdr6fij8=",
          "dtype": "f8",
          "shape": "50, 2"
         },
         "error_y": {
          "array": {
           "bdata": "qMsD/f8C9j9CGjxYaQn2P+U6YBm8uvY/MYIilmnx9j/91fSKG1T2P056vc4wLfY/spsgFMNy8z/0H7EahCb0P77fXIlcNfY/Dzi3j2o29j9+lAd5DjX2PyGNV6If0/Y/u4fka3d29j9SPk05CRv3P66MeBrchOc/hxg61il84z8EowcYLoDnP7qV9nkDTvw/lj1dU0va9j90oDTvIen2P9pSQrXGrgZAa+lXpl5r1z8+tpmLFjz0P/paBUpbp+w/yxzm2Lya8z/xwh4bLB/zPwNvJx685eI/fSs0tzYd9D/dqLowbUHoP1C9h5UHj+4/lKK76oCi7z9lNJBD6qjmP4f4digSFOU/SCwKVqOZ9T/wzygq2p7jP1SEx7ZmheM/Tfk2Wua38D/M140A8w7xPzqU3ADA1+s/HBtFtRKL4z+ocdD6WSf6Px7HDuD0h+U/pkZ4evFV+z/youVphKH/P4IP8xiByPI/VutD/iW+8j+ALIdqC77lP2kOd+shouc/8vTqp0WL9D9ZqYROqvXyPw==",
           "dtype": "f8"
          },
          "color": "blue",
          "thickness": 1,
          "type": "data",
          "visible": true,
          "width": 5
         },
         "hovertemplate": "ΔTemperature (°C): %{x}<br>Hedges' g: %{y}<br>Treatment Calcification: %{customdata[0]:.4f}<br>Control Calcification: %{customdata[1]:.4f}<br>DOI: %{text}<extra></extra>",
         "marker": {
          "line": {
           "color": "black",
           "width": 1
          },
          "opacity": 0.5,
          "size": 10
         },
         "mode": "markers",
         "name": "Data points",
         "text": [
          "10.1007/s00227-022-04071-6",
          "10.1007/s00227-022-04071-6",
          "10.1007/s00227-022-04071-6",
          "10.1007/s00227-022-04071-6",
          "10.1007/s00227-022-04071-6",
          "10.1007/s00227-022-04071-6",
          "10.1007/s00338-012-0952-6",
          "10.1007/s00338-012-0952-6",
          "10.1007/s00338-019-01775-y",
          "10.1007/s00338-019-01775-y",
          "10.1007/s00338-019-01775-y",
          "10.1007/s00338-019-01775-y",
          "10.1007/s00338-019-01775-y",
          "10.1007/s00338-019-01775-y",
          "10.1038/s41598-022-06896-z",
          "10.1038/s41598-022-06896-z",
          "10.1038/s41598-022-06896-z",
          "10.1038/s42003-022-04353-1",
          "10.1038/s42003-022-04353-1",
          "10.1038/s42003-022-04353-1",
          "10.1038/s42003-022-04353-1",
          "10.1098/rspb.2021.0923",
          "10.1111/gcb.13481-LOC-A",
          "10.1111/gcb.13481-LOC-B",
          "10.1111/gcb.13481-LOC-B",
          "10.1111/gcb.13481-LOC-B",
          "10.1111/gcb.13481-LOC-B",
          "10.1111/gcb.13481-LOC-B",
          "10.1111/gcb.13481-LOC-B",
          "10.1111/gcb.13481-LOC-B",
          "10.1111/gcb.13481-LOC-B",
          "10.1111/gcb.13481-LOC-B",
          "10.1111/gcb.13481-LOC-B",
          "10.1111/gcb.13481-LOC-C",
          "10.1111/gcb.13481-LOC-C",
          "10.1111/gcb.13481-LOC-C",
          "10.1111/gcb.13481-LOC-C",
          "10.1111/gcb.13481-LOC-D",
          "10.1111/gcb.13481-LOC-D",
          "10.1111/gcb.13481-LOC-D",
          "10.1111/gcb.14998",
          "10.1111/gcb.14998",
          "10.1111/jpy.13290",
          "10.1111/jpy.13290",
          "10.1111/jpy.13290",
          "10.1111/jpy.13290",
          "10.1371/journal.pone.0139223",
          "10.3389/fmars.2021.704487",
          "10.3390/jmse10081106",
          "10.3390/jmse10081106"
         ],
         "type": "scatter",
         "x": {
          "bdata": "GPzeTKzBDEAY/N5MrMEMQBj83kyswQxAGPzeTKzBDEAY/N5MrMEMQBj83kyswQxAAAAAAAAAEEAAAAAAAAAQQAAAAAAAABhAMjMzMzMzI0AAAAAAAAAMQAAAAAAAABhAMjMzMzMzI0AAAAAAAAAMQPB6FK5H4f4/8HoUrkfh/j/wehSuR+H+P7BH4XoUrv8/sEfhehSu/z+wR+F6FK7/P7BH4XoUrv8/mL12+ZHuD0BoZmZmZmYKQGhmZmZmZgpAaGZmZmZmCkBoZmZmZmYKQGhmZmZmZgpAaGZmZmZmCkBoZmZmZmYKQGhmZmZmZgpAaGZmZmZmCkBoZmZmZmYKQGhmZmZmZgpAaGZmZmZmCkBoZmZmZmYKQGhmZmZmZgpAaGZmZmZmCkBoZmZmZmYKQGhmZmZmZgpAaGZmZmZmCkAwMzMzMzMHQDAzMzMzMwdAYGZmZmZmAkBgZmZmZmYCQGBmZmZmZgJAYGZmZmZmAkAAAAAAAADwP2RmZmZmZhBAcD0K16NwC0BwPQrXo3ALQA==",
          "dtype": "f8"
         },
         "xaxis": "x2",
         "y": {
          "bdata": "JXtI9ff42L84+aEAmw3aP8laAFmMXuQ/NbDJ2HCa5z9g25Evzp/YP43OhCALHM0/guC2N1q11L9dPh8eUOLnvx78+46nlcM/5OLoKMO40r/XYJbTdOKyv5wa7WnbCec/PrrBIMMVzT/fES/bkR3uP1SDaM2xG9m/yXl7M5GM4r+YEzCanQfrv3dT7KzqJAXAopVwpUcI+b+gtz2thkD5v7lgmheD8xTAjRN4b7la279s1tBbz8/IPxQ5+tbLPuA/QGzxU4Pm3D+fjx76907hP0z9oyfaudO/hlzRdkBe578POnNCoLPlPziSWcKtVq+/eJcS9dVu1b9y0NS5noawv9CC42hbOMW/Sk2RC56J+78KMC45lkbYv5LDK0SeJOW/NksD2jR4sT9Cqo9FhTjTP/5BQg2+8+U/X3fv0fzb8j9wKkUuBBgPwP1iKIxrH/W/991Hkm6OB8D1WaU32L0NwIVHoCjPxem/g7R3BOMm6T/FhmpXbSbTv3MYuQ1dH++//1pNhXKGBMDDjJ1aojvyvw==",
          "dtype": "f8"
         },
         "yaxis": "y2"
        },
        {
         "line": {
          "color": "black",
          "dash": "dash",
          "width": 1
         },
         "mode": "lines",
         "name": "Hedges' g = 0",
         "type": "scatter",
         "x": [
          1,
          9.599999999999998
         ],
         "xaxis": "x2",
         "y": [
          0,
          0
         ],
         "yaxis": "y2"
        }
       ],
       "layout": {
        "annotations": [
         {
          "font": {
           "size": 16
          },
          "showarrow": false,
          "text": "Effect of pH (Total) on calcification rate",
          "x": 0.225,
          "xanchor": "center",
          "xref": "paper",
          "y": 1,
          "yanchor": "bottom",
          "yref": "paper"
         },
         {
          "font": {
           "size": 16
          },
          "showarrow": false,
          "text": "Effect of Temperature (°C) on calcification rate",
          "x": 0.775,
          "xanchor": "center",
          "xref": "paper",
          "y": 1,
          "yanchor": "bottom",
          "yref": "paper"
         }
        ],
        "height": 600,
        "legend": {
         "orientation": "h",
         "x": 1,
         "xanchor": "right",
         "y": -0.2,
         "yanchor": "bottom"
        },
        "template": {
         "data": {
          "bar": [
           {
            "error_x": {
             "color": "#2a3f5f"
            },
            "error_y": {
             "color": "#2a3f5f"
            },
            "marker": {
             "line": {
              "color": "white",
              "width": 0.5
             },
             "pattern": {
              "fillmode": "overlay",
              "size": 10,
              "solidity": 0.2
             }
            },
            "type": "bar"
           }
          ],
          "barpolar": [
           {
            "marker": {
             "line": {
              "color": "white",
              "width": 0.5
             },
             "pattern": {
              "fillmode": "overlay",
              "size": 10,
              "solidity": 0.2
             }
            },
            "type": "barpolar"
           }
          ],
          "carpet": [
           {
            "aaxis": {
             "endlinecolor": "#2a3f5f",
             "gridcolor": "#C8D4E3",
             "linecolor": "#C8D4E3",
             "minorgridcolor": "#C8D4E3",
             "startlinecolor": "#2a3f5f"
            },
            "baxis": {
             "endlinecolor": "#2a3f5f",
             "gridcolor": "#C8D4E3",
             "linecolor": "#C8D4E3",
             "minorgridcolor": "#C8D4E3",
             "startlinecolor": "#2a3f5f"
            },
            "type": "carpet"
           }
          ],
          "choropleth": [
           {
            "colorbar": {
             "outlinewidth": 0,
             "ticks": ""
            },
            "type": "choropleth"
           }
          ],
          "contour": [
           {
            "colorbar": {
             "outlinewidth": 0,
             "ticks": ""
            },
            "colorscale": [
             [
              0,
              "#0d0887"
             ],
             [
              0.1111111111111111,
              "#46039f"
             ],
             [
              0.2222222222222222,
              "#7201a8"
             ],
             [
              0.3333333333333333,
              "#9c179e"
             ],
             [
              0.4444444444444444,
              "#bd3786"
             ],
             [
              0.5555555555555556,
              "#d8576b"
             ],
             [
              0.6666666666666666,
              "#ed7953"
             ],
             [
              0.7777777777777778,
              "#fb9f3a"
             ],
             [
              0.8888888888888888,
              "#fdca26"
             ],
             [
              1,
              "#f0f921"
             ]
            ],
            "type": "contour"
           }
          ],
          "contourcarpet": [
           {
            "colorbar": {
             "outlinewidth": 0,
             "ticks": ""
            },
            "type": "contourcarpet"
           }
          ],
          "heatmap": [
           {
            "colorbar": {
             "outlinewidth": 0,
             "ticks": ""
            },
            "colorscale": [
             [
              0,
              "#0d0887"
             ],
             [
              0.1111111111111111,
              "#46039f"
             ],
             [
              0.2222222222222222,
              "#7201a8"
             ],
             [
              0.3333333333333333,
              "#9c179e"
             ],
             [
              0.4444444444444444,
              "#bd3786"
             ],
             [
              0.5555555555555556,
              "#d8576b"
             ],
             [
              0.6666666666666666,
              "#ed7953"
             ],
             [
              0.7777777777777778,
              "#fb9f3a"
             ],
             [
              0.8888888888888888,
              "#fdca26"
             ],
             [
              1,
              "#f0f921"
             ]
            ],
            "type": "heatmap"
           }
          ],
          "histogram": [
           {
            "marker": {
             "pattern": {
              "fillmode": "overlay",
              "size": 10,
              "solidity": 0.2
             }
            },
            "type": "histogram"
           }
          ],
          "histogram2d": [
           {
            "colorbar": {
             "outlinewidth": 0,
             "ticks": ""
            },
            "colorscale": [
             [
              0,
              "#0d0887"
             ],
             [
              0.1111111111111111,
              "#46039f"
             ],
             [
              0.2222222222222222,
              "#7201a8"
             ],
             [
              0.3333333333333333,
              "#9c179e"
             ],
             [
              0.4444444444444444,
              "#bd3786"
             ],
             [
              0.5555555555555556,
              "#d8576b"
             ],
             [
              0.6666666666666666,
              "#ed7953"
             ],
             [
              0.7777777777777778,
              "#fb9f3a"
             ],
             [
              0.8888888888888888,
              "#fdca26"
             ],
             [
              1,
              "#f0f921"
             ]
            ],
            "type": "histogram2d"
           }
          ],
          "histogram2dcontour": [
           {
            "colorbar": {
             "outlinewidth": 0,
             "ticks": ""
            },
            "colorscale": [
             [
              0,
              "#0d0887"
             ],
             [
              0.1111111111111111,
              "#46039f"
             ],
             [
              0.2222222222222222,
              "#7201a8"
             ],
             [
              0.3333333333333333,
              "#9c179e"
             ],
             [
              0.4444444444444444,
              "#bd3786"
             ],
             [
              0.5555555555555556,
              "#d8576b"
             ],
             [
              0.6666666666666666,
              "#ed7953"
             ],
             [
              0.7777777777777778,
              "#fb9f3a"
             ],
             [
              0.8888888888888888,
              "#fdca26"
             ],
             [
              1,
              "#f0f921"
             ]
            ],
            "type": "histogram2dcontour"
           }
          ],
          "mesh3d": [
           {
            "colorbar": {
             "outlinewidth": 0,
             "ticks": ""
            },
            "type": "mesh3d"
           }
          ],
          "parcoords": [
           {
            "line": {
             "colorbar": {
              "outlinewidth": 0,
              "ticks": ""
             }
            },
            "type": "parcoords"
           }
          ],
          "pie": [
           {
            "automargin": true,
            "type": "pie"
           }
          ],
          "scatter": [
           {
            "fillpattern": {
             "fillmode": "overlay",
             "size": 10,
             "solidity": 0.2
            },
            "type": "scatter"
           }
          ],
          "scatter3d": [
           {
            "line": {
             "colorbar": {
              "outlinewidth": 0,
              "ticks": ""
             }
            },
            "marker": {
             "colorbar": {
              "outlinewidth": 0,
              "ticks": ""
             }
            },
            "type": "scatter3d"
           }
          ],
          "scattercarpet": [
           {
            "marker": {
             "colorbar": {
              "outlinewidth": 0,
              "ticks": ""
             }
            },
            "type": "scattercarpet"
           }
          ],
          "scattergeo": [
           {
            "marker": {
             "colorbar": {
              "outlinewidth": 0,
              "ticks": ""
             }
            },
            "type": "scattergeo"
           }
          ],
          "scattergl": [
           {
            "marker": {
             "colorbar": {
              "outlinewidth": 0,
              "ticks": ""
             }
            },
            "type": "scattergl"
           }
          ],
          "scattermap": [
           {
            "marker": {
             "colorbar": {
              "outlinewidth": 0,
              "ticks": ""
             }
            },
            "type": "scattermap"
           }
          ],
          "scattermapbox": [
           {
            "marker": {
             "colorbar": {
              "outlinewidth": 0,
              "ticks": ""
             }
            },
            "type": "scattermapbox"
           }
          ],
          "scatterpolar": [
           {
            "marker": {
             "colorbar": {
              "outlinewidth": 0,
              "ticks": ""
             }
            },
            "type": "scatterpolar"
           }
          ],
          "scatterpolargl": [
           {
            "marker": {
             "colorbar": {
              "outlinewidth": 0,
              "ticks": ""
             }
            },
            "type": "scatterpolargl"
           }
          ],
          "scatterternary": [
           {
            "marker": {
             "colorbar": {
              "outlinewidth": 0,
              "ticks": ""
             }
            },
            "type": "scatterternary"
           }
          ],
          "surface": [
           {
            "colorbar": {
             "outlinewidth": 0,
             "ticks": ""
            },
            "colorscale": [
             [
              0,
              "#0d0887"
             ],
             [
              0.1111111111111111,
              "#46039f"
             ],
             [
              0.2222222222222222,
              "#7201a8"
             ],
             [
              0.3333333333333333,
              "#9c179e"
             ],
             [
              0.4444444444444444,
              "#bd3786"
             ],
             [
              0.5555555555555556,
              "#d8576b"
             ],
             [
              0.6666666666666666,
              "#ed7953"
             ],
             [
              0.7777777777777778,
              "#fb9f3a"
             ],
             [
              0.8888888888888888,
              "#fdca26"
             ],
             [
              1,
              "#f0f921"
             ]
            ],
            "type": "surface"
           }
          ],
          "table": [
           {
            "cells": {
             "fill": {
              "color": "#EBF0F8"
             },
             "line": {
              "color": "white"
             }
            },
            "header": {
             "fill": {
              "color": "#C8D4E3"
             },
             "line": {
              "color": "white"
             }
            },
            "type": "table"
           }
          ]
         },
         "layout": {
          "annotationdefaults": {
           "arrowcolor": "#2a3f5f",
           "arrowhead": 0,
           "arrowwidth": 1
          },
          "autotypenumbers": "strict",
          "coloraxis": {
           "colorbar": {
            "outlinewidth": 0,
            "ticks": ""
           }
          },
          "colorscale": {
           "diverging": [
            [
             0,
             "#8e0152"
            ],
            [
             0.1,
             "#c51b7d"
            ],
            [
             0.2,
             "#de77ae"
            ],
            [
             0.3,
             "#f1b6da"
            ],
            [
             0.4,
             "#fde0ef"
            ],
            [
             0.5,
             "#f7f7f7"
            ],
            [
             0.6,
             "#e6f5d0"
            ],
            [
             0.7,
             "#b8e186"
            ],
            [
             0.8,
             "#7fbc41"
            ],
            [
             0.9,
             "#4d9221"
            ],
            [
             1,
             "#276419"
            ]
           ],
           "sequential": [
            [
             0,
             "#0d0887"
            ],
            [
             0.1111111111111111,
             "#46039f"
            ],
            [
             0.2222222222222222,
             "#7201a8"
            ],
            [
             0.3333333333333333,
             "#9c179e"
            ],
            [
             0.4444444444444444,
             "#bd3786"
            ],
            [
             0.5555555555555556,
             "#d8576b"
            ],
            [
             0.6666666666666666,
             "#ed7953"
            ],
            [
             0.7777777777777778,
             "#fb9f3a"
            ],
            [
             0.8888888888888888,
             "#fdca26"
            ],
            [
             1,
             "#f0f921"
            ]
           ],
           "sequentialminus": [
            [
             0,
             "#0d0887"
            ],
            [
             0.1111111111111111,
             "#46039f"
            ],
            [
             0.2222222222222222,
             "#7201a8"
            ],
            [
             0.3333333333333333,
             "#9c179e"
            ],
            [
             0.4444444444444444,
             "#bd3786"
            ],
            [
             0.5555555555555556,
             "#d8576b"
            ],
            [
             0.6666666666666666,
             "#ed7953"
            ],
            [
             0.7777777777777778,
             "#fb9f3a"
            ],
            [
             0.8888888888888888,
             "#fdca26"
            ],
            [
             1,
             "#f0f921"
            ]
           ]
          },
          "colorway": [
           "#636efa",
           "#EF553B",
           "#00cc96",
           "#ab63fa",
           "#FFA15A",
           "#19d3f3",
           "#FF6692",
           "#B6E880",
           "#FF97FF",
           "#FECB52"
          ],
          "font": {
           "color": "#2a3f5f"
          },
          "geo": {
           "bgcolor": "white",
           "lakecolor": "white",
           "landcolor": "white",
           "showlakes": true,
           "showland": true,
           "subunitcolor": "#C8D4E3"
          },
          "hoverlabel": {
           "align": "left"
          },
          "hovermode": "closest",
          "mapbox": {
           "style": "light"
          },
          "paper_bgcolor": "white",
          "plot_bgcolor": "white",
          "polar": {
           "angularaxis": {
            "gridcolor": "#EBF0F8",
            "linecolor": "#EBF0F8",
            "ticks": ""
           },
           "bgcolor": "white",
           "radialaxis": {
            "gridcolor": "#EBF0F8",
            "linecolor": "#EBF0F8",
            "ticks": ""
           }
          },
          "scene": {
           "xaxis": {
            "backgroundcolor": "white",
            "gridcolor": "#DFE8F3",
            "gridwidth": 2,
            "linecolor": "#EBF0F8",
            "showbackground": true,
            "ticks": "",
            "zerolinecolor": "#EBF0F8"
           },
           "yaxis": {
            "backgroundcolor": "white",
            "gridcolor": "#DFE8F3",
            "gridwidth": 2,
            "linecolor": "#EBF0F8",
            "showbackground": true,
            "ticks": "",
            "zerolinecolor": "#EBF0F8"
           },
           "zaxis": {
            "backgroundcolor": "white",
            "gridcolor": "#DFE8F3",
            "gridwidth": 2,
            "linecolor": "#EBF0F8",
            "showbackground": true,
            "ticks": "",
            "zerolinecolor": "#EBF0F8"
           }
          },
          "shapedefaults": {
           "line": {
            "color": "#2a3f5f"
           }
          },
          "ternary": {
           "aaxis": {
            "gridcolor": "#DFE8F3",
            "linecolor": "#A2B1C6",
            "ticks": ""
           },
           "baxis": {
            "gridcolor": "#DFE8F3",
            "linecolor": "#A2B1C6",
            "ticks": ""
           },
           "bgcolor": "white",
           "caxis": {
            "gridcolor": "#DFE8F3",
            "linecolor": "#A2B1C6",
            "ticks": ""
           }
          },
          "title": {
           "x": 0.05
          },
          "xaxis": {
           "automargin": true,
           "gridcolor": "#EBF0F8",
           "linecolor": "#EBF0F8",
           "ticks": "",
           "title": {
            "standoff": 15
           },
           "zerolinecolor": "#EBF0F8",
           "zerolinewidth": 2
          },
          "yaxis": {
           "automargin": true,
           "gridcolor": "#EBF0F8",
           "linecolor": "#EBF0F8",
           "ticks": "",
           "title": {
            "standoff": 15
           },
           "zerolinecolor": "#EBF0F8",
           "zerolinewidth": 2
          }
         }
        },
        "width": 1200,
        "xaxis": {
         "anchor": "y",
         "domain": [
          0,
          0.45
         ],
         "gridcolor": "lightgrey",
         "title": {
          "text": "ΔpH (Total)"
         }
        },
        "xaxis2": {
         "anchor": "y2",
         "domain": [
          0.55,
          1
         ],
         "gridcolor": "lightgrey",
         "title": {
          "text": "ΔTemperature (°C)"
         }
        },
        "yaxis": {
         "anchor": "x",
         "domain": [
          0,
          1
         ],
         "gridcolor": "lightgrey",
         "title": {
          "text": "Hedges' g"
         }
        },
        "yaxis2": {
         "anchor": "x2",
         "domain": [
          0,
          1
         ],
         "matches": "y",
         "showticklabels": false
        }
       }
      }
     },
     "metadata": {},
     "output_type": "display_data"
    }
   ],
   "source": [
    "import plotly.graph_objects as go\n",
    "from plotly.subplots import make_subplots\n",
    "import numpy as np\n",
    "import pandas as pd\n",
    "from scipy import stats\n",
    "import plotly.express as px\n",
    "plot_results = matched_df\n",
    "fig = make_subplots(rows=1, cols=2, shared_yaxes=True, \n",
    "                    subplot_titles=(\"Effect of pH (Total) on calcification rate\", \n",
    "                                   \"Effect of Temperature (°C) on calcification rate\"))\n",
    "\n",
    "variables = ['phtot', 't_in']\n",
    "var_names = ['pH (Total)', 'Temperature (°C)']\n",
    "delta_vars = ['delta_pH', 'delta_t']\n",
    "\n",
    "# process each subplot\n",
    "for i, (var, var_name, delta_var) in enumerate(zip(variables, var_names, delta_vars)):\n",
    "    col = i+1  # plotly uses 1-indexed columns for some reason\n",
    "    \n",
    "    subset_df = plot_results[plot_results['treatment'] == var]\n",
    "    \n",
    "    # data cleaning (NaNs and infinities)\n",
    "    subset_df = subset_df.infer_objects(copy=False).replace([np.inf, -np.inf], np.nan).dropna(subset=['hedges_g', 'delta_t', 'delta_pH'])\n",
    "    # relevant variable    \n",
    "    x_values = subset_df[delta_var]\n",
    "    y_values = subset_df['hedges_g']\n",
    "    y_error = subset_df['hedges_g'] - subset_df['hedges_g_l']\n",
    "    \n",
    "    # create colormap based on climatology delta\n",
    "    if var == 'phtot':\n",
    "        # for pH, larger negative changes worse\n",
    "        norm = mcolors.Normalize(vmin=subset_df['clim_delta'].min(), vmax=subset_df['clim_delta'].max())\n",
    "        cmap = cm.coolwarm_r  # reverse colormap for pH\n",
    "    else:  # t_in\n",
    "        # for temperature, larger positive changes worse\n",
    "        norm = mcolors.Normalize(vmin=subset_df['clim_delta'].min(), vmax=subset_df['clim_delta'].max())\n",
    "        cmap = cm.coolwarm\n",
    "    \n",
    "    colors = [cmap(norm(val)) for val in subset_df['clim_delta']]\n",
    "    \n",
    "    # regression\n",
    "    slope, intercept, r_value, p_value, std_err = stats.linregress(x_values, y_values)\n",
    "    r_squared = r_value**2\n",
    "    adjusted_r_squared = 1 - ((1 - r_squared) * (len(x_values) - 1) / (len(x_values) - 2))\n",
    "    x_reg = np.linspace(min(x_values), max(x_values), 100)\n",
    "    y_reg = slope * x_reg + intercept\n",
    "\n",
    "    fig.add_trace(\n",
    "        go.Scatter(\n",
    "            x=x_reg,\n",
    "            y=y_reg,\n",
    "            mode='lines',\n",
    "            line=dict(color='red'),\n",
    "            name=f'y = {slope:.2f}x + {intercept:.2f}'\n",
    "        ),\n",
    "        row=1, col=col\n",
    "    )\n",
    "    # add approximated confidence interval\n",
    "    ci = 1.96 * std_err  # 95% CI\n",
    "    fig.add_trace(\n",
    "        go.Scatter(\n",
    "            x=x_reg,\n",
    "            y=y_reg + ci,\n",
    "            mode='lines',\n",
    "            line=dict(width=0),\n",
    "            showlegend=False\n",
    "        ),\n",
    "        row=1, col=col\n",
    "    )    \n",
    "    fig.add_trace(\n",
    "        go.Scatter(\n",
    "            x=x_reg,\n",
    "            y=y_reg - ci,\n",
    "            mode='lines',\n",
    "            line=dict(width=0),\n",
    "            fill='tonexty',\n",
    "            fillcolor='rgba(255, 0, 0, 0.2)',\n",
    "            name='95% CI'\n",
    "        ),\n",
    "        row=1, col=col\n",
    "    )\n",
    "    import matplotlib.colors as mcolors\n",
    "    import matplotlib.cm as cm\n",
    "\n",
    "    # add scatter points with error bars and hover text\n",
    "    fig.add_trace(\n",
    "        go.Scatter(\n",
    "            x=x_values,\n",
    "            y=y_values,\n",
    "            mode='markers',\n",
    "            marker=dict(\n",
    "                # color=colors[0:10],  # Use the colors list generated from climatology delta\n",
    "                # colors= cmap,\n",
    "                size=10, \n",
    "                line=dict(width=1, color='black'), \n",
    "                opacity=0.5\n",
    "            ),\n",
    "            # color_continuous_scale='coolwarm',\n",
    "            error_y=dict(\n",
    "                type='data',\n",
    "                array=y_error,\n",
    "                visible=True,\n",
    "                color='blue',\n",
    "                thickness=1,\n",
    "                width=5\n",
    "            ),\n",
    "            name='Data points',\n",
    "            hovertemplate=\n",
    "            f'Δ{var_name}: %{{x}}<br>' +\n",
    "            'Hedges\\' g: %{y}<br>' +\n",
    "            'Treatment Calcification: %{customdata[0]:.4f}<br>' +\n",
    "            'Control Calcification: %{customdata[1]:.4f}<br>' +\n",
    "            'DOI: %{text}<extra></extra>',\n",
    "            text=subset_df.index,\n",
    "            customdata=subset_df[['treatment_calcification', 'control_calcification']]\n",
    "        ),\n",
    "        row=1, col=col\n",
    "    )\n",
    "    # add horizontal line at y=0 (Hedges g = 0)\n",
    "    fig.add_trace(\n",
    "        go.Scatter(\n",
    "            x=[min(x_values), max(x_values)],\n",
    "            y=[0, 0],\n",
    "            mode='lines',\n",
    "            line=dict(color='black', width=1, dash='dash'),\n",
    "            name=\"Hedges' g = 0\"\n",
    "        ),\n",
    "        row=1, col=col\n",
    "    )\n",
    "\n",
    "\n",
    "fig.update_layout(\n",
    "    width=1200,\n",
    "    height=600,\n",
    "    template=\"plotly_white\",\n",
    "    legend=dict(\n",
    "        orientation=\"h\",\n",
    "        yanchor=\"bottom\",\n",
    "        y=-.2,\n",
    "        xanchor=\"right\",\n",
    "        x=1\n",
    "    )\n",
    ")\n",
    "\n",
    "# Update x and y axis labels\n",
    "for i in range(2):\n",
    "    fig.update_xaxes(title_text=f\"Δ{var_names[i]}\", row=1, col=i+1, gridcolor='lightgrey')\n",
    "\n",
    "fig.update_yaxes(title_text=\"Hedges' g\", row=1, col=1, gridcolor='lightgrey')\n",
    "\n",
    "# Show the figure\n",
    "fig.show()"
   ]
  },
  {
   "cell_type": "markdown",
   "metadata": {},
   "source": [
    "# Main analysis\n"
   ]
  },
  {
   "cell_type": "markdown",
   "metadata": {},
   "source": [
    "### Basic plotting of result"
   ]
  },
  {
   "cell_type": "code",
   "execution_count": null,
   "metadata": {},
   "outputs": [],
   "source": [
    "import matplotlib.colors as mcolors\n",
    "import matplotlib.cm as cm\n",
    "\n",
    "fig, (ax_ph, ax_t) = plt.subplots(1, 2, figsize=(12, 6), dpi=150, sharey=True)\n",
    "\n",
    "# plot_results = results_df[results_df.multi_var==1]\n",
    "plot_results = results_df\n",
    "\n",
    "for var, var_name in zip(['phtot', 't_in'], ['pH (Total)', 'Temperature (°C)']):\n",
    "    ax = ax_ph if var == 'phtot' else ax_t\n",
    "    # subset = results_df[results_df.multi_var==1][results_df[results_df.multi_var==1]['variable'] == var].dropna(subset=['delta_var', 'hedges_g'])  # remove any rows containing nans\n",
    "    \n",
    "    # plot regression line\n",
    "    summary_stats = plotting.simple_regplot(subset['delta_var'], subset['hedges_g'], ax=ax, ci_kws={\"color\": \"red\"})\n",
    "    # # Plot error bars **matching scatter point colors**\n",
    "    # for i, (x, y, yerr, color) in enumerate(zip(subset['delta_var'], subset['hedges_g'], \n",
    "    #                                             (subset['hedges_g'] - subset['hg_ci_l']).values, \n",
    "    #                                             colors)):\n",
    "    #     ax.errorbar(x, y, yerr=[[yerr], [yerr]], fmt='o', color=color, alpha=1, lw=1)\n",
    "\n",
    "    scatter = ax.scatter(subset['delta_var'], subset['hedges_g'], \n",
    "                         c=\"blue\",\n",
    "                         alpha=0.8, lw=0.1, edgecolor='black')\n",
    "\n",
    "    \n",
    "    # formatting\n",
    "    ax.grid(c='lightgrey', linestyle='--', alpha=0.8)\n",
    "    ax.set_ylabel(\"\")\n",
    "    ax.set_xlabel(f\"$\\\\Delta${var_name}\")\n",
    "    ax.set_title(f\"Effect of {var_name} on calcification rate\")\n",
    "    ax.axhline(0, color='black', linestyle='--', lw=0.5, label='Hedges\\' g = 0')\n",
    "    # setting up legend\n",
    "    c, m = summary_stats.params\n",
    "    ax.plot([],[], c='red', label=f\"y = {m:.2f}$x$ + {c:.2f}\")\n",
    "    alpha_patch = plt.Rectangle((0,0),1,1,fc=\"red\", edgecolor = 'none', alpha=0.5)\n",
    "    ax.plot([],[],alpha=0,label = f\"R$^2$: {summary_stats.rsquared:.4f} | R$^2_{{adj}}$: {summary_stats.rsquared_adj:.4f}\")\n",
    "    handles, labels = ax.get_legend_handles_labels()\n",
    "    handles.append(alpha_patch)\n",
    "    labels.append(\"95% CI\")\n",
    "    ax.legend(handles, labels)\n",
    "    \n",
    "ax_ph.set_ylabel(\"Hedge's g\")\n",
    "plt.tight_layout()"
   ]
  },
  {
   "cell_type": "code",
   "execution_count": null,
   "metadata": {},
   "outputs": [],
   "source": [
    "# Match by DOI the Hedges' g results with the climatology data\n",
    "# matched_df = results_df.join(climatology_df, how=\"left\", rsuffix=\"_clim\")\n",
    "matched_df = results_df.merge(climatology_df, left_index=True, right_index=True)\n",
    "\n",
    "# Define mapping of climatology variables to treatment variables\n",
    "clim_var_map = {'t_in': 'MMM_30y_mean', 'phtot': 'mean_pH_30y_ensemble'}\n",
    "\n",
    "# Calculate difference between treatment and historic conditions dynamically\n",
    "matched_df['clim_delta'] = matched_df.apply(\n",
    "    lambda row: row['treatment_val'] - row[clim_var_map[row['variable']]]\n",
    "    if row['variable'] in clim_var_map else np.nan,\n",
    "    axis=1\n",
    ")"
   ]
  },
  {
   "cell_type": "code",
   "execution_count": null,
   "metadata": {},
   "outputs": [],
   "source": [
    "# set(climatology_df.index) - set(carb_df['doi'].unique())\n",
    "set(climatology_df.index) - set(results_df.index)\n"
   ]
  },
  {
   "cell_type": "code",
   "execution_count": null,
   "metadata": {},
   "outputs": [],
   "source": [
    "print(len(matched_df))\n",
    "print(matched_df.clim_delta.isna().sum())"
   ]
  },
  {
   "cell_type": "code",
   "execution_count": null,
   "metadata": {},
   "outputs": [],
   "source": [
    "import matplotlib.colors as mcolors\n",
    "import matplotlib.cm as cm\n",
    "\n",
    "fig, (ax_ph, ax_t) = plt.subplots(1, 2, figsize=(12, 6), dpi=150, sharey=True)\n",
    "\n",
    "for var, var_name in zip(['phtot', 't_in'], ['pH (Total)', 'Temperature (°C)']):\n",
    "    ax = ax_ph if var == 'phtot' else ax_t\n",
    "    subset = matched_df[matched_df['variable'] == var].dropna(subset=['delta_var', 'hedges_g'])  # remove any rows containing nans\n",
    "    \n",
    "    cmap = cm.coolwarm\n",
    "    norm = mcolors.Normalize(vmin=subset['clim_delta'].min(), vmax=subset['clim_delta'].max())\n",
    "    colors = [cmap(norm(val)) for val in subset['clim_delta']]\n",
    "\n",
    "    # Plot error bars **matching scatter point colors**\n",
    "    for i, (x, y, yerr, color) in enumerate(zip(subset['delta_var'], subset['hedges_g'], \n",
    "                                                (subset['hedges_g'] - subset['hg_ci_l']).values, \n",
    "                                                colors)):\n",
    "        ax.errorbar(x, y, yerr=[[yerr], [yerr]], fmt='o', color=color, alpha=1, lw=1)\n",
    "\n",
    "    scatter = ax.scatter(subset['delta_var'], subset['hedges_g'], \n",
    "                         c=subset['clim_delta'], cmap=cmap, norm=norm, \n",
    "                         alpha=0.8, lw=0.1, edgecolor='black')\n",
    "\n",
    "    summary_stats = plotting.simple_regplot(subset['delta_var'], subset['hedges_g'], ax=ax, ci_kws={\"color\": \"red\"})\n",
    "    # add colourbar for clim_delta\n",
    "    cbar = plt.colorbar(scatter, ax=ax, fraction=0.05, orientation=\"horizontal\")\n",
    "    cbar.set_label(f\"$\\\\Delta$(treatment, climatology)\")\n",
    "    \n",
    "    # formatting\n",
    "    ax.grid(c='lightgrey', linestyle='--', alpha=0.8)\n",
    "    ax.set_ylabel(\"\")\n",
    "    ax.set_xlabel(f\"$\\\\Delta${var_name}\")\n",
    "    ax.set_title(f\"Effect of {var_name} on calcification rate\")\n",
    "    # setting up legend\n",
    "    c, m = summary_stats.params\n",
    "    ax.plot([],[], c='red', label=f\"y = {m:.2f}$x$ + {c:.2f}\")\n",
    "    alpha_patch = plt.Rectangle((0,0),1,1,fc=\"red\", edgecolor = 'none', alpha=0.5)\n",
    "    ax.plot([],[],alpha=0,label = f\"R$^2$: {summary_stats.rsquared:.4f} | R$^2_{{adj}}$: {summary_stats.rsquared_adj:.4f}\")\n",
    "    handles, labels = ax.get_legend_handles_labels()\n",
    "    handles.append(alpha_patch)\n",
    "    labels.append(\"95% CI\")\n",
    "    ax.legend(handles, labels)\n",
    "    \n",
    "ax_ph.set_ylabel(\"Hedge's g\")\n",
    "plt.tight_layout()"
   ]
  },
  {
   "attachments": {
    "image.png": {
     "image/png": "[encoded data removed]"
    }
   },
   "cell_type": "markdown",
   "metadata": {},
   "source": [
    "![image.png](attachment:image.png)"
   ]
  },
  {
   "cell_type": "code",
   "execution_count": null,
   "metadata": {},
   "outputs": [],
   "source": [
    "sel_cols = ['species_types', 'treatment_group', 'phtot', 't_in', 'irr', 'calcification', 'calcification_sd', 'n']\n",
    "study_df[sel_cols]"
   ]
  },
  {
   "cell_type": "code",
   "execution_count": null,
   "metadata": {},
   "outputs": [],
   "source": [
    "import matplotlib.colors as mcolors\n",
    "import matplotlib.cm as cm\n",
    "\n",
    "fig, (ax_ph, ax_t) = plt.subplots(1, 2, figsize=(12, 6), dpi=150, sharey=True)\n",
    "\n",
    "for var, var_name in zip(['phtot', 't_in'], ['pH (Total)', 'Temperature (°C)']):\n",
    "    ax = ax_ph if var == 'phtot' else ax_t\n",
    "    subset = matched_df[matched_df['variable'] == var].dropna(subset=['delta_var', 'hedges_g'])        # remove any rows containing nans\n",
    "    \n",
    "\n",
    "\n",
    "    # Scatter plot with color mapping\n",
    "    scatter = ax.scatter(subset['delta_var'], subset['hedges_g'], \n",
    "                         c='blue',\n",
    "                         alpha=0.8, lw=0.1, edgecolor='black')\n",
    "\n",
    "    summary_stats = plotting.simple_regplot(subset['delta_var'], subset['hedges_g'], ax=ax, ci_kws={\"color\": \"red\"})\n",
    "    # add colourbar for clim_delta\n",
    "    cbar = plt.colorbar(scatter, ax=ax, fraction=0.05, orientation=\"horizontal\")\n",
    "    cbar.set_label(f\"$\\\\Delta$(treatment, climatology)\")\n",
    "    \n",
    "    # formatting\n",
    "    ax.grid(c='lightgrey', linestyle='--', alpha=0.8)\n",
    "    ax.set_ylabel(\"\")\n",
    "    ax.set_xlabel(f\"$\\\\Delta${var_name}\")\n",
    "    ax.set_title(f\"Effect of {var_name} on calcification rate\")\n",
    "    # setting up legend\n",
    "\n",
    "    \n",
    "ax_ph.set_ylabel(\"Hedge's g\")\n",
    "plt.tight_layout()"
   ]
  }
 ],
 "metadata": {
  "kernelspec": {
   "display_name": "calcer",
   "language": "python",
   "name": "python3"
  },
  "language_info": {
   "codemirror_mode": {
    "name": "ipython",
    "version": 3
   },
   "file_extension": ".py",
   "mimetype": "text/x-python",
   "name": "python",
   "nbconvert_exporter": "python",
   "pygments_lexer": "ipython3",
   "version": "3.13.2"
  }
 },
 "nbformat": 4,
 "nbformat_minor": 2
}
