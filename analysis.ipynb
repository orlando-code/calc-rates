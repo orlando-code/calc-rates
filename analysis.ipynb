{
 "cells": [
  {
   "cell_type": "code",
   "execution_count": 250,
   "metadata": {},
   "outputs": [],
   "source": [
    "%reload_ext autoreload\n",
    "%autoreload 2"
   ]
  },
  {
   "cell_type": "markdown",
   "metadata": {},
   "source": [
    "# Analysis 101\n",
    "\n",
    "To do:\n",
    "- colour-code points by the distance from the mean pH to contextualise the magnitude of experimental change in pH\n",
    "- amalgamate any studies with n=1 since need sd for hedges\n",
    "- deal with temperature-only studies (not all studies have carbonate chemistry)\n",
    "- plot 3d plot of temperature, ph,\n"
   ]
  },
  {
   "cell_type": "code",
   "execution_count": 251,
   "metadata": {},
   "outputs": [],
   "source": [
    "### import\n",
    "# general\n",
    "import numpy as np\n",
    "import pandas as pd\n",
    "\n",
    "# plotting\n",
    "import matplotlib.pyplot as plt\n",
    "import seaborn as sns \n",
    "\n",
    "# clustering\n",
    "from sklearn.cluster import KMeans\n",
    "\n",
    "# custom\n",
    "import analysis, utils, plotting"
   ]
  },
  {
   "cell_type": "code",
   "execution_count": 252,
   "metadata": {},
   "outputs": [
    {
     "data": {
      "text/html": [
       "<div>\n",
       "<style scoped>\n",
       "    .dataframe tbody tr th:only-of-type {\n",
       "        vertical-align: middle;\n",
       "    }\n",
       "\n",
       "    .dataframe tbody tr th {\n",
       "        vertical-align: top;\n",
       "    }\n",
       "\n",
       "    .dataframe thead th {\n",
       "        text-align: right;\n",
       "    }\n",
       "</style>\n",
       "<table border=\"1\" class=\"dataframe\">\n",
       "  <thead>\n",
       "    <tr style=\"text-align: right;\">\n",
       "      <th></th>\n",
       "      <th>location</th>\n",
       "      <th>mean_pH_30y_ensemble</th>\n",
       "      <th>models_with_data_n</th>\n",
       "      <th>mean_pH_30y_ensemble_se</th>\n",
       "      <th>MMM_30y_mean</th>\n",
       "      <th>geometry</th>\n",
       "      <th>Unnamed: 9</th>\n",
       "    </tr>\n",
       "    <tr>\n",
       "      <th>doi</th>\n",
       "      <th></th>\n",
       "      <th></th>\n",
       "      <th></th>\n",
       "      <th></th>\n",
       "      <th></th>\n",
       "      <th></th>\n",
       "      <th></th>\n",
       "    </tr>\n",
       "  </thead>\n",
       "  <tbody>\n",
       "    <tr>\n",
       "      <th>10.1111/jpy.13290</th>\n",
       "      <td>Lizard Island, GBR, Australia</td>\n",
       "      <td>8.086768</td>\n",
       "      <td>10</td>\n",
       "      <td>0.004111</td>\n",
       "      <td>29.046213</td>\n",
       "      <td>c(145.459236111111</td>\n",
       "      <td>-14.6922777777778)</td>\n",
       "    </tr>\n",
       "    <tr>\n",
       "      <th>10.1038/s41598-019-40620-8</th>\n",
       "      <td>Mo'orea, French Polynesia</td>\n",
       "      <td>8.080032</td>\n",
       "      <td>10</td>\n",
       "      <td>0.004959</td>\n",
       "      <td>28.833624</td>\n",
       "      <td>c(-149.839666666667</td>\n",
       "      <td>-17.4779194444444)</td>\n",
       "    </tr>\n",
       "    <tr>\n",
       "      <th>10.3354/meps10981</th>\n",
       "      <td>Key Largo, Florida, US</td>\n",
       "      <td>8.088336</td>\n",
       "      <td>10</td>\n",
       "      <td>0.005121</td>\n",
       "      <td>29.659124</td>\n",
       "      <td>c(-80.49</td>\n",
       "      <td>25.02)</td>\n",
       "    </tr>\n",
       "    <tr>\n",
       "      <th>10.3354/meps11591</th>\n",
       "      <td>Boca Raton, Florida, US</td>\n",
       "      <td>8.085914</td>\n",
       "      <td>10</td>\n",
       "      <td>0.004713</td>\n",
       "      <td>29.430117</td>\n",
       "      <td>c(-80.0721666666667</td>\n",
       "      <td>26.327)</td>\n",
       "    </tr>\n",
       "    <tr>\n",
       "      <th>10.3354/meps09309</th>\n",
       "      <td>Palmyra Atoll</td>\n",
       "      <td>8.037819</td>\n",
       "      <td>10</td>\n",
       "      <td>0.005469</td>\n",
       "      <td>28.956142</td>\n",
       "      <td>c(-162.0786656</td>\n",
       "      <td>5.8885026)</td>\n",
       "    </tr>\n",
       "  </tbody>\n",
       "</table>\n",
       "</div>"
      ],
      "text/plain": [
       "                                                 location  \\\n",
       "doi                                                         \n",
       "10.1111/jpy.13290           Lizard Island, GBR, Australia   \n",
       "10.1038/s41598-019-40620-8      Mo'orea, French Polynesia   \n",
       "10.3354/meps10981                  Key Largo, Florida, US   \n",
       "10.3354/meps11591                 Boca Raton, Florida, US   \n",
       "10.3354/meps09309                           Palmyra Atoll   \n",
       "\n",
       "                            mean_pH_30y_ensemble  models_with_data_n  \\\n",
       "doi                                                                    \n",
       "10.1111/jpy.13290                       8.086768                  10   \n",
       "10.1038/s41598-019-40620-8              8.080032                  10   \n",
       "10.3354/meps10981                       8.088336                  10   \n",
       "10.3354/meps11591                       8.085914                  10   \n",
       "10.3354/meps09309                       8.037819                  10   \n",
       "\n",
       "                            mean_pH_30y_ensemble_se  MMM_30y_mean  \\\n",
       "doi                                                                 \n",
       "10.1111/jpy.13290                          0.004111     29.046213   \n",
       "10.1038/s41598-019-40620-8                 0.004959     28.833624   \n",
       "10.3354/meps10981                          0.005121     29.659124   \n",
       "10.3354/meps11591                          0.004713     29.430117   \n",
       "10.3354/meps09309                          0.005469     28.956142   \n",
       "\n",
       "                                       geometry          Unnamed: 9  \n",
       "doi                                                                  \n",
       "10.1111/jpy.13290            c(145.459236111111  -14.6922777777778)  \n",
       "10.1038/s41598-019-40620-8  c(-149.839666666667  -17.4779194444444)  \n",
       "10.3354/meps10981                      c(-80.49              25.02)  \n",
       "10.3354/meps11591           c(-80.0721666666667             26.327)  \n",
       "10.3354/meps09309                c(-162.0786656          5.8885026)  "
      ]
     },
     "execution_count": 252,
     "metadata": {},
     "output_type": "execute_result"
    }
   ],
   "source": [
    "climatology_data_fp = \"data/climatology/site_locations_with_MMM_and_pH.csv\"\n",
    "\n",
    "climatology_df = pd.read_csv(climatology_data_fp)\n",
    "# drop unnecessary columns\n",
    "climatology_df = climatology_df.drop(columns=['data_ID', 'Unnamed: 0']).set_index('doi')\n",
    "# TODO: format geometry column(s) into lat and lon\n",
    "climatology_df.head()"
   ]
  },
  {
   "cell_type": "markdown",
   "metadata": {},
   "source": [
    "## Multi-variable study"
   ]
  },
  {
   "cell_type": "code",
   "execution_count": 253,
   "metadata": {},
   "outputs": [
    {
     "name": "stdout",
     "output_type": "stream",
     "text": [
      "Loading measured values...\n",
      "Converting pH values to total scale...\n",
      "Calculating carbonate chemistry parameters...\n",
      "(3194, 63)\n",
      "(2831, 64)\n"
     ]
    }
   ],
   "source": [
    "# generate carbonate chemistry data\n",
    "meta_fp = \"data/Orlando_data.xlsx\"\n",
    "carb_df = utils.populate_carbonate_chemistry(meta_fp, 'all_data')\n",
    "print(carb_df.shape)\n",
    "\n",
    "# select only my data for now (not yet uniform)\n",
    "carb_df = carb_df[carb_df['extractor'] == 'Orlando']\n",
    "\n",
    "# prepare for future alignment with climatology (first uniquify dois in the same way)\n",
    "unique_pairs = carb_df.drop_duplicates(subset=['doi', 'location'])[['doi', 'location']]\n",
    "unique_pairs.doi = utils.uniquify_repeated_values(carb_df.drop_duplicates(subset=['doi', 'location']).doi)\n",
    "# unique_pairs\n",
    "# assign these unique dois to the correct pairs in carb_df\n",
    "# Create a dictionary mapping from original (doi, location) pairs to uniquified dois\n",
    "doi_location_map = dict(zip(zip(carb_df.drop_duplicates(subset=['doi', 'location'])['doi'], \n",
    "                               carb_df.drop_duplicates(subset=['doi', 'location'])['location']), \n",
    "                         unique_pairs['doi']))\n",
    "\n",
    "# Create a copy of the original DOIs\n",
    "carb_df['original_doi'] = carb_df['doi']\n",
    "\n",
    "# Apply the mapping to update DOIs\n",
    "carb_df['doi'] = [doi_location_map.get((doi, loc), doi) for doi, loc in zip(carb_df['doi'], carb_df['location'])]\n",
    "\n",
    "\n",
    "print(carb_df.shape)"
   ]
  },
  {
   "cell_type": "markdown",
   "metadata": {},
   "source": [
    "### Demonstration of automatic treatment recognition"
   ]
  },
  {
   "cell_type": "code",
   "execution_count": 254,
   "metadata": {},
   "outputs": [
    {
     "name": "stdout",
     "output_type": "stream",
     "text": [
      "10.1111/jpy.13290\n"
     ]
    },
    {
     "name": "stderr",
     "output_type": "stream",
     "text": [
      "/var/folders/tp/x_9dbyf149d6kw_k79l_kk4m0000gq/T/ipykernel_36526/3292201458.py:21: RuntimeWarning:\n",
      "\n",
      "invalid value encountered in scalar divide\n",
      "\n",
      "/var/folders/tp/x_9dbyf149d6kw_k79l_kk4m0000gq/T/ipykernel_36526/3292201458.py:21: RuntimeWarning:\n",
      "\n",
      "divide by zero encountered in scalar divide\n",
      "\n"
     ]
    },
    {
     "data": {
      "text/html": [
       "<div>\n",
       "<style scoped>\n",
       "    .dataframe tbody tr th:only-of-type {\n",
       "        vertical-align: middle;\n",
       "    }\n",
       "\n",
       "    .dataframe tbody tr th {\n",
       "        vertical-align: top;\n",
       "    }\n",
       "\n",
       "    .dataframe thead th {\n",
       "        text-align: right;\n",
       "    }\n",
       "</style>\n",
       "<table border=\"1\" class=\"dataframe\">\n",
       "  <thead>\n",
       "    <tr style=\"text-align: right;\">\n",
       "      <th></th>\n",
       "      <th>authors</th>\n",
       "      <th>calcification</th>\n",
       "      <th>calcification_sd</th>\n",
       "      <th>calcification_se</th>\n",
       "      <th>calcification_units</th>\n",
       "      <th>cleaned_coords</th>\n",
       "      <th>co3</th>\n",
       "      <th>co3_sd</th>\n",
       "      <th>co3_se</th>\n",
       "      <th>coords</th>\n",
       "      <th>...</th>\n",
       "      <th>t_in_sd</th>\n",
       "      <th>t_in_se</th>\n",
       "      <th>ta</th>\n",
       "      <th>ta_sd</th>\n",
       "      <th>ta_se</th>\n",
       "      <th>taxa</th>\n",
       "      <th>year</th>\n",
       "      <th>original_doi</th>\n",
       "      <th>irr_group</th>\n",
       "      <th>treatment_group</th>\n",
       "    </tr>\n",
       "  </thead>\n",
       "  <tbody>\n",
       "    <tr>\n",
       "      <th>0</th>\n",
       "      <td>Shaw E.C.; Carpenter R.C.; Lantz C.A.; Edmunds...</td>\n",
       "      <td>2.870000</td>\n",
       "      <td>0.465403</td>\n",
       "      <td>0.19</td>\n",
       "      <td>mg CaCO3 cm-2 d-1</td>\n",
       "      <td>NaN</td>\n",
       "      <td>NaN</td>\n",
       "      <td>NaN</td>\n",
       "      <td>NaN</td>\n",
       "      <td>NaN</td>\n",
       "      <td>...</td>\n",
       "      <td>0.67082</td>\n",
       "      <td>NaN</td>\n",
       "      <td>2317.0</td>\n",
       "      <td>NaN</td>\n",
       "      <td>20.808652</td>\n",
       "      <td>Coral</td>\n",
       "      <td>2016-01-01</td>\n",
       "      <td>10.1007/s00227-016-2986-8</td>\n",
       "      <td>1.0</td>\n",
       "      <td>tTcP</td>\n",
       "    </tr>\n",
       "    <tr>\n",
       "      <th>1</th>\n",
       "      <td>Shaw E.C.; Carpenter R.C.; Lantz C.A.; Edmunds...</td>\n",
       "      <td>2.180000</td>\n",
       "      <td>0.832827</td>\n",
       "      <td>0.34</td>\n",
       "      <td>mg CaCO3 cm-2 d-1</td>\n",
       "      <td>NaN</td>\n",
       "      <td>NaN</td>\n",
       "      <td>NaN</td>\n",
       "      <td>NaN</td>\n",
       "      <td>NaN</td>\n",
       "      <td>...</td>\n",
       "      <td>0.707107</td>\n",
       "      <td>NaN</td>\n",
       "      <td>2314.0</td>\n",
       "      <td>NaN</td>\n",
       "      <td>25.0</td>\n",
       "      <td>Coral</td>\n",
       "      <td>2016-01-01</td>\n",
       "      <td>10.1007/s00227-016-2986-8</td>\n",
       "      <td>1.0</td>\n",
       "      <td>cTtP</td>\n",
       "    </tr>\n",
       "    <tr>\n",
       "      <th>2</th>\n",
       "      <td>Shaw E.C.; Carpenter R.C.; Lantz C.A.; Edmunds...</td>\n",
       "      <td>1.920000</td>\n",
       "      <td>0.318434</td>\n",
       "      <td>0.13</td>\n",
       "      <td>mg CaCO3 cm-2 d-1</td>\n",
       "      <td>NaN</td>\n",
       "      <td>NaN</td>\n",
       "      <td>NaN</td>\n",
       "      <td>NaN</td>\n",
       "      <td>NaN</td>\n",
       "      <td>...</td>\n",
       "      <td>0.72111</td>\n",
       "      <td>NaN</td>\n",
       "      <td>2318.0</td>\n",
       "      <td>NaN</td>\n",
       "      <td>18.867962</td>\n",
       "      <td>Coral</td>\n",
       "      <td>2016-01-01</td>\n",
       "      <td>10.1007/s00227-016-2986-8</td>\n",
       "      <td>1.0</td>\n",
       "      <td>tTtP</td>\n",
       "    </tr>\n",
       "    <tr>\n",
       "      <th>3</th>\n",
       "      <td>Shaw E.C.; Carpenter R.C.; Lantz C.A.; Edmunds...</td>\n",
       "      <td>1.990000</td>\n",
       "      <td>0.612372</td>\n",
       "      <td>0.25</td>\n",
       "      <td>mg CaCO3 cm-2 d-1</td>\n",
       "      <td>NaN</td>\n",
       "      <td>NaN</td>\n",
       "      <td>NaN</td>\n",
       "      <td>NaN</td>\n",
       "      <td>NaN</td>\n",
       "      <td>...</td>\n",
       "      <td>0.223607</td>\n",
       "      <td>NaN</td>\n",
       "      <td>2315.0</td>\n",
       "      <td>NaN</td>\n",
       "      <td>0.031623</td>\n",
       "      <td>Coral</td>\n",
       "      <td>2016-01-01</td>\n",
       "      <td>10.1007/s00227-016-2986-8</td>\n",
       "      <td>1.0</td>\n",
       "      <td>cTcP</td>\n",
       "    </tr>\n",
       "    <tr>\n",
       "      <th>4</th>\n",
       "      <td>Shaw E.C.; Carpenter R.C.; Lantz C.A.; Edmunds...</td>\n",
       "      <td>1.970000</td>\n",
       "      <td>0.367423</td>\n",
       "      <td>0.15</td>\n",
       "      <td>mg CaCO3 cm-2 d-1</td>\n",
       "      <td>NaN</td>\n",
       "      <td>NaN</td>\n",
       "      <td>NaN</td>\n",
       "      <td>NaN</td>\n",
       "      <td>NaN</td>\n",
       "      <td>...</td>\n",
       "      <td>0.67082</td>\n",
       "      <td>NaN</td>\n",
       "      <td>2317.0</td>\n",
       "      <td>NaN</td>\n",
       "      <td>0.042426</td>\n",
       "      <td>Coral</td>\n",
       "      <td>2016-01-01</td>\n",
       "      <td>10.1007/s00227-016-2986-8</td>\n",
       "      <td>1.0</td>\n",
       "      <td>tTcP</td>\n",
       "    </tr>\n",
       "    <tr>\n",
       "      <th>...</th>\n",
       "      <td>...</td>\n",
       "      <td>...</td>\n",
       "      <td>...</td>\n",
       "      <td>...</td>\n",
       "      <td>...</td>\n",
       "      <td>...</td>\n",
       "      <td>...</td>\n",
       "      <td>...</td>\n",
       "      <td>...</td>\n",
       "      <td>...</td>\n",
       "      <td>...</td>\n",
       "      <td>...</td>\n",
       "      <td>...</td>\n",
       "      <td>...</td>\n",
       "      <td>...</td>\n",
       "      <td>...</td>\n",
       "      <td>...</td>\n",
       "      <td>...</td>\n",
       "      <td>...</td>\n",
       "      <td>...</td>\n",
       "      <td>...</td>\n",
       "    </tr>\n",
       "    <tr>\n",
       "      <th>2826</th>\n",
       "      <td>Gómez Batista M.; Metian M.; Oberhänsli F.; Po...</td>\n",
       "      <td>3.466667</td>\n",
       "      <td>0.058595</td>\n",
       "      <td>NaN</td>\n",
       "      <td>µmol gDW-1h-1</td>\n",
       "      <td>NaN</td>\n",
       "      <td>210.56</td>\n",
       "      <td>6.50</td>\n",
       "      <td>NaN</td>\n",
       "      <td>NaN</td>\n",
       "      <td>...</td>\n",
       "      <td>0.5</td>\n",
       "      <td>NaN</td>\n",
       "      <td>2370.0</td>\n",
       "      <td>1.1</td>\n",
       "      <td>NaN</td>\n",
       "      <td>Coral</td>\n",
       "      <td>2020-01-01</td>\n",
       "      <td>10.5194/bg-17-887-2020</td>\n",
       "      <td>1.0</td>\n",
       "      <td>cTcP</td>\n",
       "    </tr>\n",
       "    <tr>\n",
       "      <th>2827</th>\n",
       "      <td>Gómez Batista M.; Metian M.; Oberhänsli F.; Po...</td>\n",
       "      <td>2.783333</td>\n",
       "      <td>0.035119</td>\n",
       "      <td>NaN</td>\n",
       "      <td>µmol gDW-1h-1</td>\n",
       "      <td>NaN</td>\n",
       "      <td>244.9</td>\n",
       "      <td>7.24</td>\n",
       "      <td>NaN</td>\n",
       "      <td>NaN</td>\n",
       "      <td>...</td>\n",
       "      <td>0.5</td>\n",
       "      <td>NaN</td>\n",
       "      <td>2383.7</td>\n",
       "      <td>1.0</td>\n",
       "      <td>NaN</td>\n",
       "      <td>Coral</td>\n",
       "      <td>2020-01-01</td>\n",
       "      <td>10.5194/bg-17-887-2020</td>\n",
       "      <td>1.0</td>\n",
       "      <td>cTcP</td>\n",
       "    </tr>\n",
       "    <tr>\n",
       "      <th>2828</th>\n",
       "      <td>Gómez Batista M.; Metian M.; Oberhänsli F.; Po...</td>\n",
       "      <td>3.176667</td>\n",
       "      <td>0.052915</td>\n",
       "      <td>NaN</td>\n",
       "      <td>µmol gDW-1h-1</td>\n",
       "      <td>NaN</td>\n",
       "      <td>221.79</td>\n",
       "      <td>6.74</td>\n",
       "      <td>NaN</td>\n",
       "      <td>NaN</td>\n",
       "      <td>...</td>\n",
       "      <td>0.5</td>\n",
       "      <td>NaN</td>\n",
       "      <td>2367.7</td>\n",
       "      <td>1.0</td>\n",
       "      <td>NaN</td>\n",
       "      <td>Coral</td>\n",
       "      <td>2020-01-01</td>\n",
       "      <td>10.5194/bg-17-887-2020</td>\n",
       "      <td>1.0</td>\n",
       "      <td>cTcP</td>\n",
       "    </tr>\n",
       "    <tr>\n",
       "      <th>2829</th>\n",
       "      <td>Gómez Batista M.; Metian M.; Oberhänsli F.; Po...</td>\n",
       "      <td>0.523333</td>\n",
       "      <td>0.026458</td>\n",
       "      <td>NaN</td>\n",
       "      <td>µmol gDW-1h-1</td>\n",
       "      <td>NaN</td>\n",
       "      <td>173.95</td>\n",
       "      <td>5.80</td>\n",
       "      <td>NaN</td>\n",
       "      <td>NaN</td>\n",
       "      <td>...</td>\n",
       "      <td>0.5</td>\n",
       "      <td>NaN</td>\n",
       "      <td>2538.9</td>\n",
       "      <td>0.4</td>\n",
       "      <td>NaN</td>\n",
       "      <td>Coral</td>\n",
       "      <td>2020-01-01</td>\n",
       "      <td>10.5194/bg-17-887-2020</td>\n",
       "      <td>1.0</td>\n",
       "      <td>cTtP</td>\n",
       "    </tr>\n",
       "    <tr>\n",
       "      <th>2830</th>\n",
       "      <td>Gómez Batista M.; Metian M.; Oberhänsli F.; Po...</td>\n",
       "      <td>2.846667</td>\n",
       "      <td>0.690097</td>\n",
       "      <td>NaN</td>\n",
       "      <td>µmol gDW-1h-1</td>\n",
       "      <td>NaN</td>\n",
       "      <td>182.5</td>\n",
       "      <td>5.70</td>\n",
       "      <td>NaN</td>\n",
       "      <td>NaN</td>\n",
       "      <td>...</td>\n",
       "      <td>0.5</td>\n",
       "      <td>NaN</td>\n",
       "      <td>2306.155</td>\n",
       "      <td>2.08</td>\n",
       "      <td>NaN</td>\n",
       "      <td>Coral</td>\n",
       "      <td>2020-01-01</td>\n",
       "      <td>10.5194/bg-17-887-2020</td>\n",
       "      <td>1.0</td>\n",
       "      <td>cTcP</td>\n",
       "    </tr>\n",
       "  </tbody>\n",
       "</table>\n",
       "<p>2831 rows × 66 columns</p>\n",
       "</div>"
      ],
      "text/plain": [
       "                                                authors  calcification  \\\n",
       "0     Shaw E.C.; Carpenter R.C.; Lantz C.A.; Edmunds...       2.870000   \n",
       "1     Shaw E.C.; Carpenter R.C.; Lantz C.A.; Edmunds...       2.180000   \n",
       "2     Shaw E.C.; Carpenter R.C.; Lantz C.A.; Edmunds...       1.920000   \n",
       "3     Shaw E.C.; Carpenter R.C.; Lantz C.A.; Edmunds...       1.990000   \n",
       "4     Shaw E.C.; Carpenter R.C.; Lantz C.A.; Edmunds...       1.970000   \n",
       "...                                                 ...            ...   \n",
       "2826  Gómez Batista M.; Metian M.; Oberhänsli F.; Po...       3.466667   \n",
       "2827  Gómez Batista M.; Metian M.; Oberhänsli F.; Po...       2.783333   \n",
       "2828  Gómez Batista M.; Metian M.; Oberhänsli F.; Po...       3.176667   \n",
       "2829  Gómez Batista M.; Metian M.; Oberhänsli F.; Po...       0.523333   \n",
       "2830  Gómez Batista M.; Metian M.; Oberhänsli F.; Po...       2.846667   \n",
       "\n",
       "      calcification_sd  calcification_se calcification_units cleaned_coords  \\\n",
       "0             0.465403              0.19   mg CaCO3 cm-2 d-1            NaN   \n",
       "1             0.832827              0.34   mg CaCO3 cm-2 d-1            NaN   \n",
       "2             0.318434              0.13   mg CaCO3 cm-2 d-1            NaN   \n",
       "3             0.612372              0.25   mg CaCO3 cm-2 d-1            NaN   \n",
       "4             0.367423              0.15   mg CaCO3 cm-2 d-1            NaN   \n",
       "...                ...               ...                 ...            ...   \n",
       "2826          0.058595               NaN       µmol gDW-1h-1            NaN   \n",
       "2827          0.035119               NaN       µmol gDW-1h-1            NaN   \n",
       "2828          0.052915               NaN       µmol gDW-1h-1            NaN   \n",
       "2829          0.026458               NaN       µmol gDW-1h-1            NaN   \n",
       "2830          0.690097               NaN       µmol gDW-1h-1            NaN   \n",
       "\n",
       "         co3  co3_sd  co3_se coords  ...   t_in_sd t_in_se        ta  ta_sd  \\\n",
       "0        NaN     NaN     NaN    NaN  ...   0.67082     NaN    2317.0    NaN   \n",
       "1        NaN     NaN     NaN    NaN  ...  0.707107     NaN    2314.0    NaN   \n",
       "2        NaN     NaN     NaN    NaN  ...   0.72111     NaN    2318.0    NaN   \n",
       "3        NaN     NaN     NaN    NaN  ...  0.223607     NaN    2315.0    NaN   \n",
       "4        NaN     NaN     NaN    NaN  ...   0.67082     NaN    2317.0    NaN   \n",
       "...      ...     ...     ...    ...  ...       ...     ...       ...    ...   \n",
       "2826  210.56    6.50     NaN    NaN  ...       0.5     NaN    2370.0    1.1   \n",
       "2827   244.9    7.24     NaN    NaN  ...       0.5     NaN    2383.7    1.0   \n",
       "2828  221.79    6.74     NaN    NaN  ...       0.5     NaN    2367.7    1.0   \n",
       "2829  173.95    5.80     NaN    NaN  ...       0.5     NaN    2538.9    0.4   \n",
       "2830   182.5    5.70     NaN    NaN  ...       0.5     NaN  2306.155   2.08   \n",
       "\n",
       "          ta_se   taxa       year               original_doi irr_group  \\\n",
       "0     20.808652  Coral 2016-01-01  10.1007/s00227-016-2986-8       1.0   \n",
       "1          25.0  Coral 2016-01-01  10.1007/s00227-016-2986-8       1.0   \n",
       "2     18.867962  Coral 2016-01-01  10.1007/s00227-016-2986-8       1.0   \n",
       "3      0.031623  Coral 2016-01-01  10.1007/s00227-016-2986-8       1.0   \n",
       "4      0.042426  Coral 2016-01-01  10.1007/s00227-016-2986-8       1.0   \n",
       "...         ...    ...        ...                        ...       ...   \n",
       "2826        NaN  Coral 2020-01-01     10.5194/bg-17-887-2020       1.0   \n",
       "2827        NaN  Coral 2020-01-01     10.5194/bg-17-887-2020       1.0   \n",
       "2828        NaN  Coral 2020-01-01     10.5194/bg-17-887-2020       1.0   \n",
       "2829        NaN  Coral 2020-01-01     10.5194/bg-17-887-2020       1.0   \n",
       "2830        NaN  Coral 2020-01-01     10.5194/bg-17-887-2020       1.0   \n",
       "\n",
       "     treatment_group  \n",
       "0               tTcP  \n",
       "1               cTtP  \n",
       "2               tTtP  \n",
       "3               cTcP  \n",
       "4               tTcP  \n",
       "...              ...  \n",
       "2826            cTcP  \n",
       "2827            cTcP  \n",
       "2828            cTcP  \n",
       "2829            cTtP  \n",
       "2830            cTcP  \n",
       "\n",
       "[2831 rows x 66 columns]"
      ]
     },
     "execution_count": 254,
     "metadata": {},
     "output_type": "execute_result"
    }
   ],
   "source": [
    "def group_irradiance(df, irr_col='irr', rtol=0.10):\n",
    "    \"\"\"\n",
    "    Assigns an 'irr_group' to values that are within a relative tolerance.\n",
    "    \n",
    "    Args:\n",
    "        df (pd.DataFrame): Input dataframe with an 'irr' column.\n",
    "        irr_col (str): Column name for irradiance values.\n",
    "        rtol (float): Relative tolerance (e.g., 0.10 for 10%).\n",
    "        \n",
    "    Returns:\n",
    "        pd.DataFrame: Dataframe with new 'irr_group' column.\n",
    "    \"\"\"\n",
    "    df = df.copy().sort_values(by=irr_col)  # copy to prevent modification of og, sort for efficiency\n",
    "    irr_groups = np.zeros(len(df))  # initialize array for group assignments\n",
    "    group_id = 0\n",
    "    prev_irr = None\n",
    "\n",
    "    for i, irr in enumerate(df[irr_col]):\n",
    "        if np.isnan(irr):   # handling grouping where irr is NaN\n",
    "            irr_groups[i] = np.nan\n",
    "        elif prev_irr is None or np.abs(irr - prev_irr) / prev_irr > rtol:   # if first value or outside tolerance\n",
    "            group_id += 1\n",
    "        irr_groups[i] = group_id\n",
    "        prev_irr = irr\n",
    "\n",
    "    df['irr_group'] = irr_groups\n",
    "    return df\n",
    "\n",
    "\n",
    "# test_doi = carb_df.doi.unique()[7]\n",
    "test_doi = \"10.1111/jpy.13290\"\n",
    "print(test_doi)\n",
    "test_df = carb_df[carb_df.doi == test_doi].copy()\n",
    "\n",
    "treatment_vars = ['t_in', 'phtot']\n",
    "# columns of interest\n",
    "cols = ['species_types', 'treatment_group', 'calcification'] + treatment_vars\n",
    "\n",
    "\n",
    "def assign_treatment_groups(df: pd.DataFrame, t_atol: float=0.1, pH_atol: float=0.1, irr_rtol: float=0.1) -> pd.DataFrame:\n",
    "    # 1 – group by irradiance\n",
    "    df = df.copy()\n",
    "    \n",
    "    treatment_dfs = []\n",
    "    for study_doi, study_df in df.groupby('doi'):\n",
    "        study_df = group_irradiance(study_df, rtol=irr_rtol)\n",
    "\n",
    "        # 2 – process treatments within species and irradiance groups\n",
    "        for (irr_group, species), species_df in study_df.groupby(['irr_group', 'species_types']):\n",
    "            # handle NaN irradiance separately\n",
    "            irr_label = 'nan' if np.isnan(irr_group) else f\"group_{int(irr_group)}\"\n",
    "            # identify controls (min T, max pH) # TODO: optional replace with closest to climatology\n",
    "            control_T = species_df.loc[species_df['t_in'].idxmin(), 't_in'] if not species_df['t_in'].isna().all() else None\n",
    "            control_pH = species_df.loc[species_df['phtot'].idxmax(), 'phtot'] if not species_df['phtot'].isna().all() else None\n",
    "\n",
    "            def classify_treatment(row):\n",
    "                close_T = np.isclose(row['t_in'], control_T, atol=t_atol) if control_T is not None else False\n",
    "                close_pH = np.isclose(row['phtot'], control_pH, atol=pH_atol) if control_pH is not None else False\n",
    "\n",
    "                if close_T and close_pH:\n",
    "                    return 'cT' + 'cP'\n",
    "                elif close_T:\n",
    "                    return 'cT' + 'tP'\n",
    "                elif close_pH:\n",
    "                    return 'tT' + 'cP'\n",
    "                elif not (close_T or close_pH):\n",
    "                    return 'tT' + 'tP'\n",
    "                else:\n",
    "                    return 'uncertain'\n",
    "\n",
    "            species_df['treatment_group'] = species_df.apply(classify_treatment, axis=1)\n",
    "            \n",
    "            treatment_dfs.append(species_df)\n",
    "\n",
    "    return pd.concat(treatment_dfs, ignore_index=True)\n",
    "\n",
    "carb_df_tgs = assign_treatment_groups(carb_df)\n",
    "carb_df_tgs\n"
   ]
  },
  {
   "cell_type": "code",
   "execution_count": 255,
   "metadata": {},
   "outputs": [
    {
     "data": {
      "text/html": [
       "<div>\n",
       "<style scoped>\n",
       "    .dataframe tbody tr th:only-of-type {\n",
       "        vertical-align: middle;\n",
       "    }\n",
       "\n",
       "    .dataframe tbody tr th {\n",
       "        vertical-align: top;\n",
       "    }\n",
       "\n",
       "    .dataframe thead th {\n",
       "        text-align: right;\n",
       "    }\n",
       "</style>\n",
       "<table border=\"1\" class=\"dataframe\">\n",
       "  <thead>\n",
       "    <tr style=\"text-align: right;\">\n",
       "      <th></th>\n",
       "      <th>species_types</th>\n",
       "      <th>treatment_group</th>\n",
       "      <th>calcification</th>\n",
       "      <th>t_in</th>\n",
       "      <th>phtot</th>\n",
       "      <th>calcification_sd</th>\n",
       "      <th>irr</th>\n",
       "      <th>irr_group</th>\n",
       "      <th>treatment_group</th>\n",
       "      <th>treatment_level_t</th>\n",
       "      <th>treatment_level_ph</th>\n",
       "      <th>doi</th>\n",
       "      <th>treatment</th>\n",
       "    </tr>\n",
       "  </thead>\n",
       "  <tbody>\n",
       "    <tr>\n",
       "      <th>0</th>\n",
       "      <td>Porollithon cf onkodes</td>\n",
       "      <td>cTcP</td>\n",
       "      <td>1.970803</td>\n",
       "      <td>27.1</td>\n",
       "      <td>8.003</td>\n",
       "      <td>0.571428</td>\n",
       "      <td>250.0</td>\n",
       "      <td>1.0</td>\n",
       "      <td>cTcP</td>\n",
       "      <td>0</td>\n",
       "      <td>0</td>\n",
       "      <td>10.1111/jpy.13290</td>\n",
       "      <td>control</td>\n",
       "    </tr>\n",
       "    <tr>\n",
       "      <th>1</th>\n",
       "      <td>Porollithon cf onkodes</td>\n",
       "      <td>tTcP</td>\n",
       "      <td>2.408759</td>\n",
       "      <td>29.4</td>\n",
       "      <td>7.98</td>\n",
       "      <td>0.424316</td>\n",
       "      <td>250.0</td>\n",
       "      <td>1.0</td>\n",
       "      <td>tTcP</td>\n",
       "      <td>1</td>\n",
       "      <td>0</td>\n",
       "      <td>10.1111/jpy.13290</td>\n",
       "      <td>t_in</td>\n",
       "    </tr>\n",
       "    <tr>\n",
       "      <th>2</th>\n",
       "      <td>Porollithon cf onkodes</td>\n",
       "      <td>cTtP</td>\n",
       "      <td>1.664234</td>\n",
       "      <td>27.2</td>\n",
       "      <td>7.698</td>\n",
       "      <td>0.375356</td>\n",
       "      <td>250.0</td>\n",
       "      <td>1.0</td>\n",
       "      <td>cTtP</td>\n",
       "      <td>0</td>\n",
       "      <td>1</td>\n",
       "      <td>10.1111/jpy.13290</td>\n",
       "      <td>phtot</td>\n",
       "    </tr>\n",
       "    <tr>\n",
       "      <th>3</th>\n",
       "      <td>Porollithon cf onkodes</td>\n",
       "      <td>tTtP</td>\n",
       "      <td>1.839416</td>\n",
       "      <td>29.5</td>\n",
       "      <td>7.694</td>\n",
       "      <td>0.277437</td>\n",
       "      <td>250.0</td>\n",
       "      <td>1.0</td>\n",
       "      <td>tTtP</td>\n",
       "      <td>1</td>\n",
       "      <td>1</td>\n",
       "      <td>10.1111/jpy.13290</td>\n",
       "      <td>t_in-phtot</td>\n",
       "    </tr>\n",
       "    <tr>\n",
       "      <th>4</th>\n",
       "      <td>Lithophyllum cf insipidum</td>\n",
       "      <td>cTcP</td>\n",
       "      <td>1.467626</td>\n",
       "      <td>27.1</td>\n",
       "      <td>8.003</td>\n",
       "      <td>0.293757</td>\n",
       "      <td>250.0</td>\n",
       "      <td>1.0</td>\n",
       "      <td>cTcP</td>\n",
       "      <td>0</td>\n",
       "      <td>0</td>\n",
       "      <td>10.1111/jpy.13290</td>\n",
       "      <td>control</td>\n",
       "    </tr>\n",
       "    <tr>\n",
       "      <th>...</th>\n",
       "      <td>...</td>\n",
       "      <td>...</td>\n",
       "      <td>...</td>\n",
       "      <td>...</td>\n",
       "      <td>...</td>\n",
       "      <td>...</td>\n",
       "      <td>...</td>\n",
       "      <td>...</td>\n",
       "      <td>...</td>\n",
       "      <td>...</td>\n",
       "      <td>...</td>\n",
       "      <td>...</td>\n",
       "      <td>...</td>\n",
       "    </tr>\n",
       "    <tr>\n",
       "      <th>5253</th>\n",
       "      <td>Operculina ammonoides</td>\n",
       "      <td>cTcP</td>\n",
       "      <td>10.000000</td>\n",
       "      <td>25.0</td>\n",
       "      <td>7.957628</td>\n",
       "      <td>NaN</td>\n",
       "      <td>NaN</td>\n",
       "      <td>-1.0</td>\n",
       "      <td>cTcP</td>\n",
       "      <td>0</td>\n",
       "      <td>0</td>\n",
       "      <td>10.1029/2020JG005726</td>\n",
       "      <td>control</td>\n",
       "    </tr>\n",
       "    <tr>\n",
       "      <th>5254</th>\n",
       "      <td>Operculina ammonoides</td>\n",
       "      <td>cTcP</td>\n",
       "      <td>27.000000</td>\n",
       "      <td>25.0</td>\n",
       "      <td>7.957628</td>\n",
       "      <td>NaN</td>\n",
       "      <td>NaN</td>\n",
       "      <td>-1.0</td>\n",
       "      <td>cTcP</td>\n",
       "      <td>0</td>\n",
       "      <td>0</td>\n",
       "      <td>10.1029/2020JG005726</td>\n",
       "      <td>control</td>\n",
       "    </tr>\n",
       "    <tr>\n",
       "      <th>5255</th>\n",
       "      <td>Operculina ammonoides</td>\n",
       "      <td>cTcP</td>\n",
       "      <td>5.000000</td>\n",
       "      <td>25.0</td>\n",
       "      <td>7.957628</td>\n",
       "      <td>NaN</td>\n",
       "      <td>NaN</td>\n",
       "      <td>-1.0</td>\n",
       "      <td>cTcP</td>\n",
       "      <td>0</td>\n",
       "      <td>0</td>\n",
       "      <td>10.1029/2020JG005726</td>\n",
       "      <td>control</td>\n",
       "    </tr>\n",
       "    <tr>\n",
       "      <th>5256</th>\n",
       "      <td>Operculina ammonoides</td>\n",
       "      <td>cTcP</td>\n",
       "      <td>30.000000</td>\n",
       "      <td>25.0</td>\n",
       "      <td>7.957628</td>\n",
       "      <td>NaN</td>\n",
       "      <td>NaN</td>\n",
       "      <td>-1.0</td>\n",
       "      <td>cTcP</td>\n",
       "      <td>0</td>\n",
       "      <td>0</td>\n",
       "      <td>10.1029/2020JG005726</td>\n",
       "      <td>control</td>\n",
       "    </tr>\n",
       "    <tr>\n",
       "      <th>5257</th>\n",
       "      <td>Operculina ammonoides</td>\n",
       "      <td>cTcP</td>\n",
       "      <td>27.000000</td>\n",
       "      <td>25.0</td>\n",
       "      <td>7.957628</td>\n",
       "      <td>NaN</td>\n",
       "      <td>NaN</td>\n",
       "      <td>-1.0</td>\n",
       "      <td>cTcP</td>\n",
       "      <td>0</td>\n",
       "      <td>0</td>\n",
       "      <td>10.1029/2020JG005726</td>\n",
       "      <td>control</td>\n",
       "    </tr>\n",
       "  </tbody>\n",
       "</table>\n",
       "<p>2831 rows × 13 columns</p>\n",
       "</div>"
      ],
      "text/plain": [
       "                  species_types treatment_group  calcification  t_in  \\\n",
       "0        Porollithon cf onkodes            cTcP       1.970803  27.1   \n",
       "1        Porollithon cf onkodes            tTcP       2.408759  29.4   \n",
       "2        Porollithon cf onkodes            cTtP       1.664234  27.2   \n",
       "3        Porollithon cf onkodes            tTtP       1.839416  29.5   \n",
       "4     Lithophyllum cf insipidum            cTcP       1.467626  27.1   \n",
       "...                         ...             ...            ...   ...   \n",
       "5253      Operculina ammonoides            cTcP      10.000000  25.0   \n",
       "5254      Operculina ammonoides            cTcP      27.000000  25.0   \n",
       "5255      Operculina ammonoides            cTcP       5.000000  25.0   \n",
       "5256      Operculina ammonoides            cTcP      30.000000  25.0   \n",
       "5257      Operculina ammonoides            cTcP      27.000000  25.0   \n",
       "\n",
       "         phtot  calcification_sd    irr  irr_group treatment_group  \\\n",
       "0        8.003          0.571428  250.0        1.0            cTcP   \n",
       "1         7.98          0.424316  250.0        1.0            tTcP   \n",
       "2        7.698          0.375356  250.0        1.0            cTtP   \n",
       "3        7.694          0.277437  250.0        1.0            tTtP   \n",
       "4        8.003          0.293757  250.0        1.0            cTcP   \n",
       "...        ...               ...    ...        ...             ...   \n",
       "5253  7.957628               NaN    NaN       -1.0            cTcP   \n",
       "5254  7.957628               NaN    NaN       -1.0            cTcP   \n",
       "5255  7.957628               NaN    NaN       -1.0            cTcP   \n",
       "5256  7.957628               NaN    NaN       -1.0            cTcP   \n",
       "5257  7.957628               NaN    NaN       -1.0            cTcP   \n",
       "\n",
       "     treatment_level_t treatment_level_ph                   doi   treatment  \n",
       "0                    0                  0     10.1111/jpy.13290     control  \n",
       "1                    1                  0     10.1111/jpy.13290        t_in  \n",
       "2                    0                  1     10.1111/jpy.13290       phtot  \n",
       "3                    1                  1     10.1111/jpy.13290  t_in-phtot  \n",
       "4                    0                  0     10.1111/jpy.13290     control  \n",
       "...                ...                ...                   ...         ...  \n",
       "5253                 0                  0  10.1029/2020JG005726     control  \n",
       "5254                 0                  0  10.1029/2020JG005726     control  \n",
       "5255                 0                  0  10.1029/2020JG005726     control  \n",
       "5256                 0                  0  10.1029/2020JG005726     control  \n",
       "5257                 0                  0  10.1029/2020JG005726     control  \n",
       "\n",
       "[2831 rows x 13 columns]"
      ]
     },
     "execution_count": 255,
     "metadata": {},
     "output_type": "execute_result"
    }
   ],
   "source": [
    "def group_irradiance(df, irr_col='irr', atol=30):\n",
    "    \"\"\"\n",
    "    Assigns an 'irr_group' to values that are within a relative tolerance.\n",
    "    \n",
    "    Args:\n",
    "        df (pd.DataFrame): Input dataframe with an 'irr' column.\n",
    "        irr_col (str): Column name for irradiance values.\n",
    "        rtol (float): Relative tolerance (e.g., 0.10 for 10%).\n",
    "        \n",
    "    Returns:\n",
    "        pd.DataFrame: Dataframe with new 'irr_group' column.\n",
    "    \"\"\"\n",
    "    df = df.copy().sort_values(by=irr_col)  # copy to prevent modification of original, sort for efficiency\n",
    "    irr_groups = np.zeros(len(df))  # initialize array for group assignments\n",
    "    group_id = 0\n",
    "    prev_irr = None\n",
    "\n",
    "    for i, irr in enumerate(df[irr_col]):\n",
    "        if np.isnan(irr):   # handling grouping where irr is NaN\n",
    "            irr_groups[i] = -1  # Use a distinct value for NaN irradiance\n",
    "        elif prev_irr is None:\n",
    "            # First non-NaN value starts group 1\n",
    "            group_id = 1\n",
    "            irr_groups[i] = group_id\n",
    "        elif np.abs(irr - prev_irr) > atol:\n",
    "            # Outside tolerance, create new group\n",
    "            group_id += 1\n",
    "            irr_groups[i] = group_id\n",
    "        else:\n",
    "            # Within tolerance, use current group\n",
    "            irr_groups[i] = group_id\n",
    "            \n",
    "        # Update prev_irr only for non-NaN values\n",
    "        if not np.isnan(irr):\n",
    "            prev_irr = irr\n",
    "\n",
    "    # Add irr_group column to dataframe\n",
    "    df['irr_group'] = irr_groups\n",
    "    return df\n",
    "\n",
    "\n",
    "def assign_treatment_groups(df: pd.DataFrame, t_atol: float=0.1, pH_atol: float=0.1, irr_rtol: float=0.1) -> pd.DataFrame:\n",
    "    \"\"\"\n",
    "    Assign treatment groups to each row based on temperature and pH values.\n",
    "    \n",
    "    Args:\n",
    "        df (pd.DataFrame): Input dataframe with columns 'doi', 't_in', 'phtot', etc.\n",
    "        t_atol (float): Absolute tolerance for temperature comparison.\n",
    "        pH_atol (float): Absolute tolerance for pH comparison.\n",
    "        irr_rtol (float): Relative tolerance for irradiance grouping.\n",
    "        \n",
    "    Returns:\n",
    "        pd.DataFrame: Original dataframe with added 'treatment_group' column.\n",
    "    \"\"\"\n",
    "    # Create a copy of the original dataframe to preserve all rows\n",
    "    result_df = df.copy()\n",
    "    \n",
    "    # Initialize treatment_group column with NaN\n",
    "    result_df['treatment_group'] = pd.Series(dtype='object')\n",
    "    \n",
    "    # Process each study separately\n",
    "    for study_doi, study_df in df.groupby('doi'):\n",
    "        # Group by irradiance within this study\n",
    "        study_with_irr_groups = group_irradiance(study_df, atol=irr_rtol)\n",
    "        \n",
    "        # Process each (irradiance group, species) combination separately\n",
    "        for (irr_group, species), group_df in study_with_irr_groups.groupby(['irr_group', 'species_types']):\n",
    "            # Find control values (min T, max pH)\n",
    "            control_T = group_df['t_in'].min() if not group_df['t_in'].isna().all() else None\n",
    "            control_pH = group_df['phtot'].max() if not group_df['phtot'].isna().all() else None\n",
    "            \n",
    "            # Apply classification to each row in this group\n",
    "            for idx in group_df.index:\n",
    "                row = group_df.loc[idx]\n",
    "                \n",
    "                # Determine if values are close to control values\n",
    "                close_T = np.isclose(row['t_in'], control_T, atol=t_atol) if control_T is not None and not np.isnan(row['t_in']) else False\n",
    "                close_pH = np.isclose(row['phtot'], control_pH, atol=pH_atol) if control_pH is not None and not np.isnan(row['phtot']) else False\n",
    "                \n",
    "                        # TODO: when treatment_group ns are 1, need to cluster by extremity of treatment group... Should be done earlier\n",
    "\n",
    "                # Classify the treatment\n",
    "                if close_T and close_pH:\n",
    "                    treatment = 'cTcP'\n",
    "                elif close_T:\n",
    "                    treatment = 'cTtP'\n",
    "                elif close_pH:\n",
    "                    treatment = 'tTcP'\n",
    "                elif not (close_T or close_pH):\n",
    "                    treatment = 'tTtP'\n",
    "                else:\n",
    "                    treatment = 'uncertain'\n",
    "                \n",
    "                # Update the treatment_group in the result dataframe\n",
    "                result_df.loc[idx, 'treatment_group'] = treatment\n",
    "                \n",
    "                # Also store irr_group from the grouped dataframe\n",
    "                result_df.loc[idx, 'irr_group'] = irr_group\n",
    "    \n",
    "    return result_df\n",
    "\n",
    "# carb_df_tgs = assign_treatment_groups(carb_df, t_atol=0.4)\n",
    "carb_df_tgs = analysis.assign_treatment_groups_multilevel(carb_df)\n",
    "some_cols = cols + ['calcification_sd', 'irr', 'irr_group', 'treatment_group', 'treatment_level_t', 'treatment_level_ph', 'doi', 'treatment']\n",
    "carb_df_tgs[some_cols]"
   ]
  },
  {
   "cell_type": "code",
   "execution_count": 260,
   "metadata": {},
   "outputs": [
    {
     "name": "stderr",
     "output_type": "stream",
     "text": [
      "  0%|          | 0/46 [00:00<?, ?it/s]/Users/rt582/Library/CloudStorage/OneDrive-UniversityofCambridge/cambridge/phd/Paper_Conferences/calc-rates/analysis.py:29: RuntimeWarning:\n",
      "\n",
      "divide by zero encountered in scalar divide\n",
      "\n",
      "/Users/rt582/Library/CloudStorage/OneDrive-UniversityofCambridge/cambridge/phd/Paper_Conferences/calc-rates/analysis.py:97: RuntimeWarning:\n",
      "\n",
      "invalid value encountered in scalar add\n",
      "\n",
      " 28%|██▊       | 13/46 [00:00<00:00, 121.80it/s]"
     ]
    },
    {
     "name": "stdout",
     "output_type": "stream",
     "text": [
      "10.1007/s00227-016-2986-8\n",
      "10.1007/s00227-022-04071-6\n",
      "10.1007/s00338-012-0952-6\n",
      "10.1007/s00338-017-1634-1\n",
      "10.1007/s00338-019-01775-y\n",
      "10.1007/s00338-020-01995-7\n",
      "10.1007/s10126-018-9864-y\n",
      "10.1007/s13131-022-2037-x\n",
      "10.1016/j.chemgeo.2018.09.004\n",
      "10.1016/j.ecochg.2021.100016\n",
      "10.1016/j.jembe.2016.10.002\n",
      "10.1016/j.jembe.2019.151225\n",
      "10.1016/j.jembe.2020.151489\n",
      "10.1016/j.marenvres.2023.106150\n",
      "10.1016/j.marmicro.2023.102232\n",
      "10.1016/j.marpolbul.2018.11.053\n",
      "10.1016/j.scitotenv.2020.140308\n",
      "10.1029/2020JG005726\n",
      "10.1038/s41598-019-40620-8\n",
      "10.1038/s41598-022-06896-z\n",
      "10.1038/s42003-022-04353-1\n",
      "10.1093/icesjms/fsaa015\n",
      "10.1098/rsos.170683\n",
      "10.1098/rsos.220760\n",
      "10.1098/rspb.2019.0614\n",
      "10.1098/rspb.2021.0923\n",
      "10.1111/gcb.13481-LOC-A\n",
      "10.1111/gcb.13481-LOC-B\n"
     ]
    },
    {
     "name": "stderr",
     "output_type": "stream",
     "text": [
      "100%|██████████| 46/46 [00:00<00:00, 115.01it/s]"
     ]
    },
    {
     "name": "stdout",
     "output_type": "stream",
     "text": [
      "10.1111/gcb.13481-LOC-C\n",
      "10.1111/gcb.13481-LOC-D\n",
      "10.1111/gcb.14998\n",
      "10.1111/jpy.13290\n",
      "10.1111/maec.12444\n",
      "10.1186/s40168-023-01653-4\n",
      "10.1371/journal.pone.0139223\n",
      "Missing data for Hedges' g calculation. mu_t: 0.084, mu_c: 0.121, sd_t: nan, sd_c: nan, n_t: 16.000, n_c: 16.000\n",
      "10.3354/meps09309\n",
      "10.3354/meps10981\n",
      "Missing data for Hedges' g calculation. mu_t: 15.907, mu_c: 17.020, sd_t: nan, sd_c: nan, n_t: 2.000, n_c: 2.000\n",
      "Missing data for Hedges' g calculation. mu_t: 14.676, mu_c: 17.020, sd_t: nan, sd_c: nan, n_t: 2.000, n_c: 2.000\n",
      "Missing data for Hedges' g calculation. mu_t: 11.656, mu_c: 17.020, sd_t: nan, sd_c: nan, n_t: 2.000, n_c: 2.000\n",
      "Missing data for Hedges' g calculation. mu_t: 7.994, mu_c: 17.020, sd_t: nan, sd_c: nan, n_t: 2.000, n_c: 2.000\n",
      "10.3354/meps11088\n",
      "Missing data for Hedges' g calculation. mu_t: 1.290, mu_c: 2.742, sd_t: nan, sd_c: 1.870, n_t: nan, n_c: 0.000\n",
      "Missing data for Hedges' g calculation. mu_t: 100.543, mu_c: 123.641, sd_t: nan, sd_c: 1.921, n_t: nan, n_c: 0.000\n",
      "10.3354/meps11591\n",
      "10.3389/fmars.2020.581160\n",
      "10.3389/fmars.2021.644965\n",
      "10.3389/fmars.2021.704487\n",
      "10.3389/fmars.2022.872631\n",
      "10.3390/jmse10081106\n",
      "10.3390/jmse9070739\n",
      "10.5194/bg-17-887-2020\n"
     ]
    },
    {
     "name": "stderr",
     "output_type": "stream",
     "text": [
      "\n",
      "/Users/rt582/Library/CloudStorage/OneDrive-UniversityofCambridge/cambridge/phd/Paper_Conferences/calc-rates/analysis.py:528: FutureWarning:\n",
      "\n",
      "The behavior of DataFrame concatenation with empty or all-NA entries is deprecated. In a future version, this will no longer exclude empty or all-NA columns when determining the result dtypes. To retain the old behavior, exclude the relevant entries before the concat operation.\n",
      "\n"
     ]
    },
    {
     "data": {
      "text/html": [
       "<div>\n",
       "<style scoped>\n",
       "    .dataframe tbody tr th:only-of-type {\n",
       "        vertical-align: middle;\n",
       "    }\n",
       "\n",
       "    .dataframe tbody tr th {\n",
       "        vertical-align: top;\n",
       "    }\n",
       "\n",
       "    .dataframe thead th {\n",
       "        text-align: right;\n",
       "    }\n",
       "</style>\n",
       "<table border=\"1\" class=\"dataframe\">\n",
       "  <thead>\n",
       "    <tr style=\"text-align: right;\">\n",
       "      <th></th>\n",
       "      <th>species_types</th>\n",
       "      <th>treatment_group</th>\n",
       "      <th>calcification</th>\n",
       "      <th>t_in</th>\n",
       "      <th>phtot</th>\n",
       "      <th>calcification_sd</th>\n",
       "      <th>irr</th>\n",
       "      <th>irr_group</th>\n",
       "      <th>hedges_g</th>\n",
       "      <th>hedges_g_l</th>\n",
       "      <th>hedges_g_u</th>\n",
       "      <th>delta_t</th>\n",
       "      <th>delta_pH</th>\n",
       "      <th>doi</th>\n",
       "      <th>treatment_group</th>\n",
       "      <th>n</th>\n",
       "      <th>control_calcification</th>\n",
       "    </tr>\n",
       "  </thead>\n",
       "  <tbody>\n",
       "    <tr>\n",
       "      <th>5131</th>\n",
       "      <td>Acropora pulchra</td>\n",
       "      <td>cTtP</td>\n",
       "      <td>2.18</td>\n",
       "      <td>27.25</td>\n",
       "      <td>7.7</td>\n",
       "      <td>0.832827</td>\n",
       "      <td>500.0</td>\n",
       "      <td>0.0</td>\n",
       "      <td>-0.432716</td>\n",
       "      <td>-1.680744</td>\n",
       "      <td>0.815312</td>\n",
       "      <td>-0.1</td>\n",
       "      <td>-0.35</td>\n",
       "      <td>10.1007/s00227-016-2986-8</td>\n",
       "      <td>cTtP</td>\n",
       "      <td>6.0</td>\n",
       "      <td>2.57</td>\n",
       "    </tr>\n",
       "    <tr>\n",
       "      <th>5135</th>\n",
       "      <td>Acropora pulchra</td>\n",
       "      <td>cTtP</td>\n",
       "      <td>1.54</td>\n",
       "      <td>27.25</td>\n",
       "      <td>7.7</td>\n",
       "      <td>0.318434</td>\n",
       "      <td>500.0</td>\n",
       "      <td>0.0</td>\n",
       "      <td>-1.957189</td>\n",
       "      <td>-3.485297</td>\n",
       "      <td>-0.42908</td>\n",
       "      <td>-0.1</td>\n",
       "      <td>-0.35</td>\n",
       "      <td>10.1007/s00227-016-2986-8</td>\n",
       "      <td>cTtP</td>\n",
       "      <td>6.0</td>\n",
       "      <td>2.57</td>\n",
       "    </tr>\n",
       "    <tr>\n",
       "      <th>5139</th>\n",
       "      <td>Acropora pulchra</td>\n",
       "      <td>cTtP</td>\n",
       "      <td>1.8</td>\n",
       "      <td>27.25</td>\n",
       "      <td>7.7</td>\n",
       "      <td>0.563383</td>\n",
       "      <td>500.0</td>\n",
       "      <td>0.0</td>\n",
       "      <td>-1.120514</td>\n",
       "      <td>-2.456765</td>\n",
       "      <td>0.215737</td>\n",
       "      <td>-0.1</td>\n",
       "      <td>-0.35</td>\n",
       "      <td>10.1007/s00227-016-2986-8</td>\n",
       "      <td>cTtP</td>\n",
       "      <td>6.0</td>\n",
       "      <td>2.57</td>\n",
       "    </tr>\n",
       "    <tr>\n",
       "      <th>5143</th>\n",
       "      <td>Acropora pulchra</td>\n",
       "      <td>cTtP</td>\n",
       "      <td>2.53</td>\n",
       "      <td>27.25</td>\n",
       "      <td>7.7</td>\n",
       "      <td>0.685857</td>\n",
       "      <td>500.0</td>\n",
       "      <td>0.0</td>\n",
       "      <td>-0.051192</td>\n",
       "      <td>-1.283334</td>\n",
       "      <td>1.180949</td>\n",
       "      <td>-0.1</td>\n",
       "      <td>-0.35</td>\n",
       "      <td>10.1007/s00227-016-2986-8</td>\n",
       "      <td>cTtP</td>\n",
       "      <td>6.0</td>\n",
       "      <td>2.57</td>\n",
       "    </tr>\n",
       "    <tr>\n",
       "      <th>5130</th>\n",
       "      <td>Acropora pulchra</td>\n",
       "      <td>tTcP</td>\n",
       "      <td>2.87</td>\n",
       "      <td>30.1</td>\n",
       "      <td>8.01</td>\n",
       "      <td>0.465403</td>\n",
       "      <td>500.0</td>\n",
       "      <td>0.0</td>\n",
       "      <td>0.485963</td>\n",
       "      <td>-0.766241</td>\n",
       "      <td>1.738166</td>\n",
       "      <td>2.75</td>\n",
       "      <td>-0.04</td>\n",
       "      <td>10.1007/s00227-016-2986-8</td>\n",
       "      <td>tTcP</td>\n",
       "      <td>6.0</td>\n",
       "      <td>2.57</td>\n",
       "    </tr>\n",
       "    <tr>\n",
       "      <th>...</th>\n",
       "      <td>...</td>\n",
       "      <td>...</td>\n",
       "      <td>...</td>\n",
       "      <td>...</td>\n",
       "      <td>...</td>\n",
       "      <td>...</td>\n",
       "      <td>...</td>\n",
       "      <td>...</td>\n",
       "      <td>...</td>\n",
       "      <td>...</td>\n",
       "      <td>...</td>\n",
       "      <td>...</td>\n",
       "      <td>...</td>\n",
       "      <td>...</td>\n",
       "      <td>...</td>\n",
       "      <td>...</td>\n",
       "      <td>...</td>\n",
       "    </tr>\n",
       "    <tr>\n",
       "      <th>5126</th>\n",
       "      <td>Dictyota spp.</td>\n",
       "      <td>cTtP</td>\n",
       "      <td>-0.026216</td>\n",
       "      <td>27.2</td>\n",
       "      <td>7.63</td>\n",
       "      <td>0.012444</td>\n",
       "      <td>NaN</td>\n",
       "      <td>-1.0</td>\n",
       "      <td>-0.028492</td>\n",
       "      <td>-1.233707</td>\n",
       "      <td>1.176722</td>\n",
       "      <td>0.1</td>\n",
       "      <td>-0.23</td>\n",
       "      <td>10.3390/jmse9070739</td>\n",
       "      <td>cTtP</td>\n",
       "      <td>4.0</td>\n",
       "      <td>-0.023529</td>\n",
       "    </tr>\n",
       "    <tr>\n",
       "      <th>5128</th>\n",
       "      <td>Pione lampa</td>\n",
       "      <td>cTtP</td>\n",
       "      <td>0.01</td>\n",
       "      <td>27.2</td>\n",
       "      <td>7.63</td>\n",
       "      <td>0.130588</td>\n",
       "      <td>NaN</td>\n",
       "      <td>-1.0</td>\n",
       "      <td>0.141373</td>\n",
       "      <td>-1.06575</td>\n",
       "      <td>1.348496</td>\n",
       "      <td>0.1</td>\n",
       "      <td>-0.23</td>\n",
       "      <td>10.3390/jmse9070739</td>\n",
       "      <td>cTtP</td>\n",
       "      <td>4.0</td>\n",
       "      <td>-0.00625</td>\n",
       "    </tr>\n",
       "    <tr>\n",
       "      <th>5124</th>\n",
       "      <td>Siderastrea radians</td>\n",
       "      <td>cTtP</td>\n",
       "      <td>0.049032</td>\n",
       "      <td>27.2</td>\n",
       "      <td>7.63</td>\n",
       "      <td>1.018879</td>\n",
       "      <td>NaN</td>\n",
       "      <td>-1.0</td>\n",
       "      <td>-0.001086</td>\n",
       "      <td>-1.206219</td>\n",
       "      <td>1.204048</td>\n",
       "      <td>0.1</td>\n",
       "      <td>-0.23</td>\n",
       "      <td>10.3390/jmse9070739</td>\n",
       "      <td>cTtP</td>\n",
       "      <td>4.0</td>\n",
       "      <td>0.050714</td>\n",
       "    </tr>\n",
       "    <tr>\n",
       "      <th>340</th>\n",
       "      <td>Stylophora pistillata</td>\n",
       "      <td>cTcP</td>\n",
       "      <td>3.095556</td>\n",
       "      <td>25.0</td>\n",
       "      <td>8.045</td>\n",
       "      <td>0.43825</td>\n",
       "      <td>200.0</td>\n",
       "      <td>0.0</td>\n",
       "      <td>0.0</td>\n",
       "      <td>-0.772561</td>\n",
       "      <td>0.772561</td>\n",
       "      <td>0.0</td>\n",
       "      <td>0.0</td>\n",
       "      <td>10.5194/bg-17-887-2020</td>\n",
       "      <td>cTcP</td>\n",
       "      <td>12.0</td>\n",
       "      <td>3.095556</td>\n",
       "    </tr>\n",
       "    <tr>\n",
       "      <th>346</th>\n",
       "      <td>Stylophora pistillata</td>\n",
       "      <td>cTtP</td>\n",
       "      <td>0.734667</td>\n",
       "      <td>25.0</td>\n",
       "      <td>7.525</td>\n",
       "      <td>0.192102</td>\n",
       "      <td>200.0</td>\n",
       "      <td>0.0</td>\n",
       "      <td>-5.772623</td>\n",
       "      <td>-7.951047</td>\n",
       "      <td>-3.5942</td>\n",
       "      <td>0.0</td>\n",
       "      <td>-0.52</td>\n",
       "      <td>10.5194/bg-17-887-2020</td>\n",
       "      <td>cTtP</td>\n",
       "      <td>5.0</td>\n",
       "      <td>3.095556</td>\n",
       "    </tr>\n",
       "  </tbody>\n",
       "</table>\n",
       "<p>775 rows × 17 columns</p>\n",
       "</div>"
      ],
      "text/plain": [
       "              species_types treatment_group calcification   t_in  phtot  \\\n",
       "5131       Acropora pulchra            cTtP          2.18  27.25    7.7   \n",
       "5135       Acropora pulchra            cTtP          1.54  27.25    7.7   \n",
       "5139       Acropora pulchra            cTtP           1.8  27.25    7.7   \n",
       "5143       Acropora pulchra            cTtP          2.53  27.25    7.7   \n",
       "5130       Acropora pulchra            tTcP          2.87   30.1   8.01   \n",
       "...                     ...             ...           ...    ...    ...   \n",
       "5126          Dictyota spp.            cTtP     -0.026216   27.2   7.63   \n",
       "5128            Pione lampa            cTtP          0.01   27.2   7.63   \n",
       "5124    Siderastrea radians            cTtP      0.049032   27.2   7.63   \n",
       "340   Stylophora pistillata            cTcP      3.095556   25.0  8.045   \n",
       "346   Stylophora pistillata            cTtP      0.734667   25.0  7.525   \n",
       "\n",
       "     calcification_sd    irr irr_group  hedges_g hedges_g_l hedges_g_u  \\\n",
       "5131         0.832827  500.0       0.0 -0.432716  -1.680744   0.815312   \n",
       "5135         0.318434  500.0       0.0 -1.957189  -3.485297   -0.42908   \n",
       "5139         0.563383  500.0       0.0 -1.120514  -2.456765   0.215737   \n",
       "5143         0.685857  500.0       0.0 -0.051192  -1.283334   1.180949   \n",
       "5130         0.465403  500.0       0.0  0.485963  -0.766241   1.738166   \n",
       "...               ...    ...       ...       ...        ...        ...   \n",
       "5126         0.012444    NaN      -1.0 -0.028492  -1.233707   1.176722   \n",
       "5128         0.130588    NaN      -1.0  0.141373   -1.06575   1.348496   \n",
       "5124         1.018879    NaN      -1.0 -0.001086  -1.206219   1.204048   \n",
       "340           0.43825  200.0       0.0       0.0  -0.772561   0.772561   \n",
       "346          0.192102  200.0       0.0 -5.772623  -7.951047    -3.5942   \n",
       "\n",
       "     delta_t delta_pH                        doi treatment_group     n  \\\n",
       "5131    -0.1    -0.35  10.1007/s00227-016-2986-8            cTtP   6.0   \n",
       "5135    -0.1    -0.35  10.1007/s00227-016-2986-8            cTtP   6.0   \n",
       "5139    -0.1    -0.35  10.1007/s00227-016-2986-8            cTtP   6.0   \n",
       "5143    -0.1    -0.35  10.1007/s00227-016-2986-8            cTtP   6.0   \n",
       "5130    2.75    -0.04  10.1007/s00227-016-2986-8            tTcP   6.0   \n",
       "...      ...      ...                        ...             ...   ...   \n",
       "5126     0.1    -0.23        10.3390/jmse9070739            cTtP   4.0   \n",
       "5128     0.1    -0.23        10.3390/jmse9070739            cTtP   4.0   \n",
       "5124     0.1    -0.23        10.3390/jmse9070739            cTtP   4.0   \n",
       "340      0.0      0.0     10.5194/bg-17-887-2020            cTcP  12.0   \n",
       "346      0.0    -0.52     10.5194/bg-17-887-2020            cTtP   5.0   \n",
       "\n",
       "     control_calcification  \n",
       "5131                  2.57  \n",
       "5135                  2.57  \n",
       "5139                  2.57  \n",
       "5143                  2.57  \n",
       "5130                  2.57  \n",
       "...                    ...  \n",
       "5126             -0.023529  \n",
       "5128              -0.00625  \n",
       "5124              0.050714  \n",
       "340               3.095556  \n",
       "346               3.095556  \n",
       "\n",
       "[775 rows x 17 columns]"
      ]
     },
     "execution_count": 260,
     "metadata": {},
     "output_type": "execute_result"
    }
   ],
   "source": [
    "# results_df = calc_hedges_g(carb_df_tgs[carb_df_tgs.doi==\"10.1016/j.jembe.2016.10.002\"])   # testing\n",
    "# results_df = analysis.hedges_g_for_df(carb_df_tgs[carb_df_tgs.doi==\"10.1016/j.jembe.2016.10.002\"])   # testing\n",
    "results_df = analysis.hedges_g_for_df(carb_df_tgs)\n",
    "all_cols = cols + ['calcification_sd', 'irr', 'irr_group', 'hedges_g', 'hedges_g_l', 'hedges_g_u', 'delta_t', 'delta_pH', 'doi'] + ['treatment_group', 'n', 'control_calcification']\n",
    "results_df[all_cols]"
   ]
  },
  {
   "cell_type": "code",
   "execution_count": 257,
   "metadata": {},
   "outputs": [
    {
     "data": {
      "text/plain": [
       "Index(['authors', 'calcification', 'calcification_sd', 'calcification_se',\n",
       "       'calcification_units', 'cleaned_coords', 'co3', 'co3_sd', 'co3_se',\n",
       "       'coords', 'dic', 'dic_sd', 'dic_se', 'do', 'do_sd', 'do_se', 'doi',\n",
       "       'duration', 'extractor', 'hco3', 'hco3_sd', 'hco3_se', 'include',\n",
       "       'ipar', 'ipar_se', 'irr', 'irr_sd', 'irr_se', 'life_stages', 'location',\n",
       "       'methods', 'n', 'notes', 'notes+', 'notes++', 'omegaa', 'omegaa_sd',\n",
       "       'omegaa_se', 'omegac', 'omegac_sd', 'omegac_se', 'pco2', 'pco2_sd',\n",
       "       'pco2_se', 'phnbs', 'phnbs_sd', 'phnbs_se', 'phtot', 'phtot_sd',\n",
       "       'phtot_se', 's_in', 's_in_sd', 's_in_se', 'secondary_check',\n",
       "       'species_types', 't_in', 't_in_sd', 't_in_se', 'ta', 'ta_sd', 'ta_se',\n",
       "       'taxa', 'year', 'original_doi', 'treatment_group', 'treatment_level_t',\n",
       "       'treatment_level_ph', 'irr_group', 'treatment', 'delta_t', 'delta_pH',\n",
       "       'hedges_g', 'hedges_g_l', 'hedges_g_u', 'treatment_val',\n",
       "       'control_calcification', 'treatment_calcification'],\n",
       "      dtype='object')"
      ]
     },
     "execution_count": 257,
     "metadata": {},
     "output_type": "execute_result"
    }
   ],
   "source": [
    "results_df.columns"
   ]
  },
  {
   "cell_type": "code",
   "execution_count": 258,
   "metadata": {},
   "outputs": [],
   "source": [
    "results_df[['doi', 'irr', 'species_types', 'phtot', 't_in', 'n', 'calcification', 'calcification_sd', 'calcification_se',\n",
    "       'treatment', 'treatment_val', 'treatment_group', 'treatment_level_t', 'treatment_level_ph', 'irr_group', 'delta_t', 'delta_pH',\n",
    "       'hedges_g', 'control_calcification', 'treatment_calcification', 'co3', 'dic', 'do', 'hco3', 'ipar', 'pco2', 'phnbs', 's_in',  'ta', 'extractor', 'include', ]].to_csv('data/quick_test_results.csv', index=False)"
   ]
  },
  {
   "cell_type": "code",
   "execution_count": 263,
   "metadata": {},
   "outputs": [
    {
     "data": {
      "text/plain": [
       "treatment\n",
       "t_in-phtot    339\n",
       "t_in          226\n",
       "phtot         170\n",
       "control        40\n",
       "Name: count, dtype: int64"
      ]
     },
     "execution_count": 263,
     "metadata": {},
     "output_type": "execute_result"
    }
   ],
   "source": [
    "results_df.treatment.value_counts()"
   ]
  },
  {
   "cell_type": "code",
   "execution_count": null,
   "metadata": {},
   "outputs": [],
   "source": [
    "### merge results with climatology data\n",
    "matched_df = results_df.set_index('doi').merge(climatology_df, left_index=True, right_index=True)   # TODO: drops ~100 rows for some reason\n",
    "\n",
    "# define mapping of climatology variables to treatment variables\n",
    "clim_var_map = {'t_in': 'MMM_30y_mean', 'phtot': 'mean_pH_30y_ensemble'}\n",
    "\n",
    "# calculate difference between treatment and historic conditions dynamically\n",
    "matched_df['clim_delta'] = matched_df.apply(\n",
    "    lambda row: row['treatment_val'] - row[clim_var_map[row['treatment']]]\n",
    "    if row['treatment'] in clim_var_map else np.nan,\n",
    "    axis=1\n",
    ")\n",
    "# assign which variable to use for delta calculation\n",
    "matched_df['delta_var'] = matched_df.apply(\n",
    "    lambda row: row['delta_t'] if row['treatment'] == 't_in' else row['delta_pH'],\n",
    "    axis=1)"
   ]
  },
  {
   "cell_type": "code",
   "execution_count": null,
   "metadata": {},
   "outputs": [
    {
     "data": {
      "image/png": "[encoded data removed]",
      "text/plain": [
       "<Figure size 1800x900 with 4 Axes>"
      ]
     },
     "metadata": {},
     "output_type": "display_data"
    }
   ],
   "source": [
    "import numpy as np\n",
    "\n",
    "import matplotlib.colors as mcolors\n",
    "import matplotlib.cm as cm\n",
    "\n",
    "fig, (ax_ph, ax_t) = plt.subplots(1, 2, figsize=(12, 6), dpi=150, sharey=True)\n",
    "\n",
    "plot_results = matched_df\n",
    "plot_results = plot_results.dropna(subset=['delta_t', 'delta_pH', 'hedges_g'])\n",
    "\n",
    "for var, var_name in zip(['phtot', 't_in'], ['pH (Total)', 'Temperature (°C)']):\n",
    "    ax = ax_ph if var == 'phtot' else ax_t\n",
    "    \n",
    "    subset_df = plot_results[plot_results['treatment'] == var]\n",
    "    \n",
    "    subset_df = subset_df.infer_objects(copy=False).replace([np.inf, -np.inf], np.nan).dropna(subset=['hedges_g', 'delta_t', 'delta_pH'])   # remove NaNs and infinities\n",
    "    delta_var = subset_df['delta_t'] if var == 't_in' else subset_df['delta_pH']\n",
    "    \n",
    "    # plot regression line\n",
    "    summary_stats = plotting.simple_regplot(delta_var, subset_df['hedges_g'], ax=ax, line_kws={\"color\": \"r\"}, ci_kws={\"color\": \"red\"})\n",
    "    \n",
    "    # create colormap based on climatology delta\n",
    "    if var == 'phtot':\n",
    "        # for pH, larger negative changes worse\n",
    "        norm = mcolors.Normalize(vmin=subset_df['clim_delta'].min(), vmax=subset_df['clim_delta'].max())\n",
    "        cmap = cm.coolwarm_r  # reverse colormap for pH\n",
    "    else:  # t_in\n",
    "        # for temperature, larger positive changes worse\n",
    "        norm = mcolors.Normalize(vmin=subset_df['clim_delta'].min(), vmax=subset_df['clim_delta'].max())\n",
    "        cmap = cm.coolwarm\n",
    "    \n",
    "    colors = [cmap(norm(val)) for val in subset_df['clim_delta']]\n",
    "\n",
    "    # plot error bars with delta climatology colours\n",
    "    for i, (x, y, yerr, color) in enumerate(zip(delta_var, subset_df['hedges_g'], \n",
    "                                            (subset_df['hedges_g'] - subset_df['hedges_g_l']).values, \n",
    "                                            colors)):\n",
    "        ax.errorbar(x, y, yerr=[[yerr], [yerr]], fmt='none', ecolor=color, alpha=0.7, lw=1)\n",
    "    \n",
    "    scatter = ax.scatter(delta_var, subset_df['hedges_g'],\n",
    "                         c=subset_df['clim_delta'], cmap=cmap, norm=norm,\n",
    "                         alpha=0.8, lw=0.1, edgecolor='black')\n",
    "                         \n",
    "    cbar = plt.colorbar(scatter, ax=ax, fraction=0.05, pad=0.11, orientation = 'horizontal')\n",
    "    cbar.set_label(f\"Δ{var_name} from local climatology\")\n",
    "\n",
    "    # formatting\n",
    "    ax.grid(c='lightgrey', linestyle='--', alpha=0.8)\n",
    "    ax.set_ylabel(\"\")\n",
    "    ax.set_xlabel(f\"$\\\\Delta${var_name}\")\n",
    "    ax.set_title(f\"Effect of {var_name} on calcification rate\")\n",
    "    ax.axhline(0, color='black', linestyle='--', lw=0.5, label='Hedges\\' g = 0')\n",
    "    # legend\n",
    "    c, m = summary_stats.params\n",
    "    ax.plot([],[], c='red', label=f\"y = {m:.2f}$x$ + {c:.2f}\")\n",
    "    alpha_patch = plt.Rectangle((0,0), 1, 1, fc=\"red\", edgecolor='none', alpha=0.5)\n",
    "    ax.plot([], [], alpha=0, label=f\"R$^2$: {summary_stats.rsquared:.4f} | R$^2_{{adj}}$: {summary_stats.rsquared_adj:.4f}\")\n",
    "    handles, labels = ax.get_legend_handles_labels()\n",
    "    handles.append(alpha_patch)\n",
    "    labels.append(\"95% CI\")\n",
    "    ax.legend(handles, labels)\n",
    "    \n",
    "ax_ph.set_ylabel(\"Hedge's g\")\n",
    "plt.tight_layout()"
   ]
  },
  {
   "cell_type": "code",
   "execution_count": null,
   "metadata": {},
   "outputs": [
    {
     "data": {
      "application/vnd.plotly.v1+json": {
       "config": {
        "plotlyServerURL": "https://plot.ly"
       },
       "data": [
        {
         "line": {
          "color": "red"
         },
         "mode": "lines",
         "name": "y = 3.72x + -0.18",
         "type": "scatter",
         "x": {
          "bdata": "EMAP6iXE5L//ZaZGjZfkv+4LPaP0auS/3rHT/1s+5L/NV2pcwxHkv7z9ALkq5eO/q6OXFZK447+aSS5y+Yvjv4rvxM5gX+O/eZVbK8gy479oO/KHLwbjv1fhiOSW2eK/RocfQf6s4r82LbadZYDivyXTTPrMU+K/FHnjVjQn4r8DH3qzm/rhv/LEEBADzuG/4mqnbGqh4b/RED7J0XThv8C21CU5SOG/r1xrgqAb4b+eAgLfB+/gv46omDtvwuC/fU4vmNaV4L9s9MX0PWngv1uaXFGlPOC/SkDzrQwQ4L9zzBMV6Mbfv1IYQc62bd+/MGRuh4UU378OsJtAVLvev+z7yPkiYt6/y0f2svEI3r+qkyNswK/dv4jfUCWPVt2/Zit+3l393L9Ed6uXLKTcvyPD2FD7Sty/AQ8GCsrx27/gWjPDmJjbv76mYHxnP9u/nPKNNTbm2r97PrvuBI3av1mK6KfTM9q/ONYVYaLa2b8WIkMacYHZv/RtcNM/KNm/07mdjA7P2L+xBctF3XXYv5BR+P6rHNi/bp0luHrD179M6VJxSWrXvys1gCoYEde/CYGt4+a31r/nzNqctV7Wv8YYCFaEBda/pGQ1D1Os1b+DsGLIIVPVv2H8j4Hw+dS/P0i9Or+g1L8elOrzjUfUv/zfF61c7tO/2ytFZiuV07+5d3If+jvTv5fDn9jI4tK/dg/NkZeJ0r9UW/pKZjDSvzOnJwQ119G/EfNUvQN+0b/vPoJ20iTRv86Kry+hy9C/rNbc6G9y0L+LIgqiPhnQv9LcbrYagM+/jnTJKLjNzr9MDCSbVRvOvwikfg3zaM2/xDvZf5C2zL+C0zPyLQTMvz5rjmTLUcu//ALp1mifyr+4mkNJBu3Jv3QynrujOsm/Msr4LUGIyL/uYVOg3tXHv6z5rRJ8I8e/aJEIhRlxxr8kKWP3tr7Fv+LAvWlUDMW/nlgY3PFZxL9c8HJOj6fDvxiIzcAs9cK/1B8oM8pCwr+Qt4KlZ5DBv1BP3RcF3sC/DOc3iqIrwL+Q/ST5f/K+vwgt2t26jb2/gFyPwvUovL8=",
          "dtype": "f8"
         },
         "xaxis": "x",
         "y": {
          "bdata": "eJ508mTGBMDmnj224pwEwFKfBnpgcwTAvp/PPd5JBMAqoJgBXCAEwJagYcXZ9gPAAqEqiVfNA8BuofNM1aMDwNyhvBBTegPASKKF1NBQA8C0ok6YTicDwCCjF1zM/QLAjKPgH0rUAsD4o6njx6oCwGSkcqdFgQLA0KQ7a8NXAsA8pQQvQS4CwKilzfK+BALAFqaWtjzbAcCCpl96urEBwO6mKD44iAHAWqfxAbZeAcDGp7rFMzUBwDOog4mxCwHAn6hMTS/iAMALqRURrbgAwHep3tQqjwDA46mnmKhlAMBQqnBcJjwAwLyqOSCkEgDAUVYFyEPS/78pV5dPP3//vwFYKdc6LP+/2li7XjbZ/r+zWU3mMYb+v4ta320tM/6/Y1tx9Sjg/b87XAN9JI39vxRdlQQgOv2/7V0njBvn/L/GXrkTF5T8v55fS5sSQfy/dmDdIg7u+79PYW+qCZv7vydiATIFSPu/AGOTuQD1+r/YYyVB/KH6v7Bkt8j3Tvq/iWVJUPP7+b9hZtvX7qj5vzpnbV/qVfm/E2j/5uUC+b/raJFu4a/4v8RpI/bcXPi/nGq1fdgJ+L90a0cF1Lb3v01s2YzPY/e/JW1rFMsQ97/+bf2bxr32v9ZujyPCava/rm8hq70X9r+HcLMyucT1v2BxRbq0cfW/OXLXQbAe9b8Rc2nJq8v0v+lz+1CnePS/wnSN2KIl9L+adR9gntLzv3N2seeZf/O/S3dDb5Us878keNX2kNnyv/x4Z36MhvK/1Hn5BYgz8r+ueouNg+Dxv4Z7HRV/jfG/XnyvnHo68b83fUEkdufwvw9+06txlPC/535lM21B8L+A/+510dzvvzEBE4XINu+/4wI3lL+Q7r+TBFujturtv0MGf7KtRO2/9QejwaSe7L+lCcfQm/jrv1gL69+SUuu/CA0P74ms6r+4DjP+gAbqv2oQVw14YOm/GhJ7HG+66L/ME58rZhTov30Vwzpdbue/LRfnSVTI5r/dGAtZSyLmv5EaL2hCfOW/QhxTdznW5L/yHXeGMDDkv6Ifm5UniuO/UiG/pB7k4r8=",
          "dtype": "f8"
         },
         "yaxis": "y"
        },
        {
         "line": {
          "width": 0
         },
         "mode": "lines",
         "showlegend": false,
         "type": "scatter",
         "x": {
          "bdata": "EMAP6iXE5L//ZaZGjZfkv+4LPaP0auS/3rHT/1s+5L/NV2pcwxHkv7z9ALkq5eO/q6OXFZK447+aSS5y+Yvjv4rvxM5gX+O/eZVbK8gy479oO/KHLwbjv1fhiOSW2eK/RocfQf6s4r82LbadZYDivyXTTPrMU+K/FHnjVjQn4r8DH3qzm/rhv/LEEBADzuG/4mqnbGqh4b/RED7J0XThv8C21CU5SOG/r1xrgqAb4b+eAgLfB+/gv46omDtvwuC/fU4vmNaV4L9s9MX0PWngv1uaXFGlPOC/SkDzrQwQ4L9zzBMV6Mbfv1IYQc62bd+/MGRuh4UU378OsJtAVLvev+z7yPkiYt6/y0f2svEI3r+qkyNswK/dv4jfUCWPVt2/Zit+3l393L9Ed6uXLKTcvyPD2FD7Sty/AQ8GCsrx27/gWjPDmJjbv76mYHxnP9u/nPKNNTbm2r97PrvuBI3av1mK6KfTM9q/ONYVYaLa2b8WIkMacYHZv/RtcNM/KNm/07mdjA7P2L+xBctF3XXYv5BR+P6rHNi/bp0luHrD179M6VJxSWrXvys1gCoYEde/CYGt4+a31r/nzNqctV7Wv8YYCFaEBda/pGQ1D1Os1b+DsGLIIVPVv2H8j4Hw+dS/P0i9Or+g1L8elOrzjUfUv/zfF61c7tO/2ytFZiuV07+5d3If+jvTv5fDn9jI4tK/dg/NkZeJ0r9UW/pKZjDSvzOnJwQ119G/EfNUvQN+0b/vPoJ20iTRv86Kry+hy9C/rNbc6G9y0L+LIgqiPhnQv9LcbrYagM+/jnTJKLjNzr9MDCSbVRvOvwikfg3zaM2/xDvZf5C2zL+C0zPyLQTMvz5rjmTLUcu//ALp1mifyr+4mkNJBu3Jv3QynrujOsm/Msr4LUGIyL/uYVOg3tXHv6z5rRJ8I8e/aJEIhRlxxr8kKWP3tr7Fv+LAvWlUDMW/nlgY3PFZxL9c8HJOj6fDvxiIzcAs9cK/1B8oM8pCwr+Qt4KlZ5DBv1BP3RcF3sC/DOc3iqIrwL+Q/ST5f/K+vwgt2t26jb2/gFyPwvUovL8=",
          "dtype": "f8"
         },
         "xaxis": "x",
         "y": {
          "bdata": "ot4kBcpf8z/G3ZJ9zrLzP+7cAPbSBfQ/FtxubtdY9D8+29zm26v0P2baSl/g/vQ/jtm41+RR9T+22CZQ6aT1P9rXlMjt9/U/AtcCQfJK9j8q1nC59p32P1LV3jH78PY/etRMqv9D9z+i07oiBJf3P8rSKJsI6vc/8tGWEw09+D8a0QSMEZD4P0LQcgQW4/g/Zs/gfBo2+T+Ozk71Hon5P7bNvG0j3Pk/3swq5icv+j8GzJheLIL6PyzLBtcw1fo/VMp0TzUo+z98yeLHOXv7P6TIUEA+zvs/zMe+uEIh/D/yxiwxR3T8PxrGmqlLx/w/QcUIIlAa/T9pxHaaVG39P5HD5BJZwP0/uMJSi10T/j/fwcADYmb+PwfBLnxmuf4/L8Cc9GoM/z9Xvwptb1//P36+eOVzsv8/0l7zLrwCAEBmXiprPiwAQPpdYafAVQBAjl2Y40J/AEAiXc8fxagAQLZcBlxH0gBASVw9mMn7AEDdW3TUSyUBQHFbqxDOTgFABFviTFB4AUCYWhmJ0qEBQCxaUMVUywFAwFmHAdf0AUBUWb49WR4CQOdY9XnbRwJAe1gstl1xAkAPWGPy35oCQKJXmi5ixAJANlfRauTtAkDKVginZhcDQF5WP+PoQANA8lV2H2tqA0CGVa1b7ZMDQBlV5JdvvQNArFQb1PHmA0BAVFIQdBAEQNRTiUz2OQRAaFPAiHhjBED8UvfE+owEQJBSLgF9tgRAJFJlPf/fBEC3UZx5gQkFQEtR07UDMwVA31AK8oVcBUByUEEuCIYFQAZQeGqKrwVAmk+vpgzZBUAuT+bijgIGQMJOHR8RLAZAVk5UW5NVBkDpTYuXFX8GQH1NwtOXqAZAEE35DxrSBkCkTDBMnPsGQDhMZ4geJQdAzEuexKBOB0BgS9UAI3gHQPNKDD2loQdAh0pDeSfLB0AbSnq1qfQHQK5JsfErHghAQknoLa5HCEDWSB9qMHEIQGpIVqaymghA/keN4jTECECSR8Qet+0IQCVH+1o5FwlAuEYyl7tACUBMRmnTPWoJQOBFoA/AkwlAdEXXS0K9CUA=",
          "dtype": "f8"
         },
         "yaxis": "y"
        },
        {
         "fill": "tonexty",
         "fillcolor": "rgba(255, 0, 0, 0.2)",
         "line": {
          "width": 0
         },
         "mode": "lines",
         "name": "95% CI",
         "type": "scatter",
         "x": {
          "bdata": "EMAP6iXE5L//ZaZGjZfkv+4LPaP0auS/3rHT/1s+5L/NV2pcwxHkv7z9ALkq5eO/q6OXFZK447+aSS5y+Yvjv4rvxM5gX+O/eZVbK8gy479oO/KHLwbjv1fhiOSW2eK/RocfQf6s4r82LbadZYDivyXTTPrMU+K/FHnjVjQn4r8DH3qzm/rhv/LEEBADzuG/4mqnbGqh4b/RED7J0XThv8C21CU5SOG/r1xrgqAb4b+eAgLfB+/gv46omDtvwuC/fU4vmNaV4L9s9MX0PWngv1uaXFGlPOC/SkDzrQwQ4L9zzBMV6Mbfv1IYQc62bd+/MGRuh4UU378OsJtAVLvev+z7yPkiYt6/y0f2svEI3r+qkyNswK/dv4jfUCWPVt2/Zit+3l393L9Ed6uXLKTcvyPD2FD7Sty/AQ8GCsrx27/gWjPDmJjbv76mYHxnP9u/nPKNNTbm2r97PrvuBI3av1mK6KfTM9q/ONYVYaLa2b8WIkMacYHZv/RtcNM/KNm/07mdjA7P2L+xBctF3XXYv5BR+P6rHNi/bp0luHrD179M6VJxSWrXvys1gCoYEde/CYGt4+a31r/nzNqctV7Wv8YYCFaEBda/pGQ1D1Os1b+DsGLIIVPVv2H8j4Hw+dS/P0i9Or+g1L8elOrzjUfUv/zfF61c7tO/2ytFZiuV07+5d3If+jvTv5fDn9jI4tK/dg/NkZeJ0r9UW/pKZjDSvzOnJwQ119G/EfNUvQN+0b/vPoJ20iTRv86Kry+hy9C/rNbc6G9y0L+LIgqiPhnQv9LcbrYagM+/jnTJKLjNzr9MDCSbVRvOvwikfg3zaM2/xDvZf5C2zL+C0zPyLQTMvz5rjmTLUcu//ALp1mifyr+4mkNJBu3Jv3QynrujOsm/Msr4LUGIyL/uYVOg3tXHv6z5rRJ8I8e/aJEIhRlxxr8kKWP3tr7Fv+LAvWlUDMW/nlgY3PFZxL9c8HJOj6fDvxiIzcAs9cK/1B8oM8pCwr+Qt4KlZ5DBv1BP3RcF3sC/DOc3iqIrwL+Q/ST5f/K+vwgt2t26jb2/gFyPwvUovL8=",
          "dtype": "f8"
         },
         "xaxis": "x",
         "y": {
          "bdata": "INa9c1eeGcBYVqJVlokZwI7WhjfVdBnAxFZrGRRgGcD61k/7UksZwDBXNN2RNhnAZtcYv9AhGcCcV/2gDw0ZwNLX4YJO+BjACFjGZI3jGMA+2KpGzM4YwHRYjygLuhjAqthzCkqlGMDgWFjsiJAYwBbZPM7HexjATFkhsAZnGMCC2QWSRVIYwLhZ6nOEPRjA8NnOVcMoGMAmWrM3AhQYwFzalxlB/xfAklp8+3/qF8DI2mDdvtUXwP5aRb/9wBfANNspoTysF8BqWw6De5cXwKDb8mS6ghfA1lvXRvltF8AM3LsoOFkXwEJcoAp3RBfAedyE7LUvF8CvXGnO9BoXwOXcTbAzBhfAG10yknLxFsBR3RZ0sdwWwIdd+1XwxxbAvd3fNy+zFsDzXcQZbp4WwCreqPusiRbAYF6N3et0FsCW3nG/KmAWwMxeVqFpSxbAAt86g6g2FsA4Xx9l5yEWwG7fA0cmDRbApF/oKGX4FcDa38wKpOMVwBBgsezizhXAR+CVziG6FcB9YHqwYKUVwLPgXpKfkBXA6WBDdN57FcAf4SdWHWcVwFZhDDhcUhXAjOHwGZs9FcDCYdX72SgVwPjhud0YFBXALmKev1f/FMBk4oKhluoUwJpiZ4PV1RTA0OJLZRTBFMAGYzBHU6wUwDzjFCmSlxTAc2P5CtGCFMCp493sD24UwN9jws5OWRTAFeSmsI1EFMBLZIuSzC8UwIHkb3QLGxTAt2RUVkoGFMDu5Dg4ifETwCRlHRrI3BPAWuUB/AbIE8CQZebdRbMTwMblyr+EnhPA/GWvocOJE8Ay5pODAnUTwGhmeGVBYBPAnuZcR4BLE8DUZkEpvzYTwAvnJQv+IRPAQWcK7TwNE8B35+7Oe/gSwK1n07C64xLA4+e3kvnOEsAZaJx0OLoSwFDogFZ3pRLAhmhlOLaQEsC86Eka9XsSwPJoLvwzZxLAKOkS3nJSEsBeafe/sT0SwJTp26HwKBLAymnAgy8UEsAA6qRlbv8RwDdqiUet6hHAbeptKezVEcCjalILK8ERwNnqNu1prBHAD2sbz6iXEcA=",
          "dtype": "f8"
         },
         "yaxis": "y"
        },
        {
         "customdata": {
          "bdata": "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",
          "dtype": "f8",
          "shape": "110, 2"
         },
         "error_y": {
          "array": {
           "bdata": "scfeog148z/2G4PgZlrzP6ijGRNy4hNASqG3SPq0DEA8QRC9JJUIQJAyBfuH+Ps/dHvmHCRCCkAio5W2rhj4P2Il1KZvwx5AlHdFuqNmDUDkIf41EhoPQLizuZyb1QJAWLm/wO9+EkCaModqbUDwP/vFBab6M/A/xkAUeymF8j/RFffvg2PwPyKHWHdmj/A/XGGxw+Fa9D/QQ+Wd90r7P1xG7qfyyQBAxHKXAf+IBECcfRaW0Xv5P4S/IeUHmvA/CDtlrNiR/T/6xXyk1A/yP0pUqO0ZCfM/zluceele9z8ePTbe2vbgP7pzIxAMheE/MsrswezG3z8suY5du5ffP9L+TON7Fd8/uKqwU1PS4j80B+cvIZ7iPwTYULQ6feU/xhbujvp48z+qwpkLyBn4P/q3MK0Gq/M/OzyA+6DA9T+wbAvPKEz2PwvvRZztVvY/6nPdv0Z81z8daYUfaXPxP1eJ2M/Rkuk/ZNi1JaXQ8T99I4qhDFnyP8e2XcOHWuA/D39SfRkQ8j+Bn042U5rkPyR8DtL7DOw/LPsQFxs67D8NdasNjMDjP8FrNp3qleI/uofTFiD+7z/b5IE1+ijhP6gACWlsxOA/+6Y2zklO7j9DcXD7QuruP2+/CNKceOg/IAn5/plC3z/4PbEJFwryPxSNBxCWaO0/vXwL4QDq8T8IYjgG0dYAQPqNrPVhagFAYOSFoNpb8j/ShWggNAv1PwOCbTl+NPQ/8cONE+Th9D+STHR5+cT0PyQRRBNWjfQ/V3svg8dk9D/pjcHmGRj0P84CU+J0p/g/GDXu0OVQ9D/cTo+G8PHzP1GeVtjh6/M/VqhyIj27/j/u5WqMGyT1P7deippq8fM/ry7uGZjs8z9miEH1QfbzPwaWmgiL0PQ/fJTHBwGZ9D+WGnFFif/zP3WmLFezSvU/tGcTRzzv8z9WdEi/UCj0P5AZUpyL+vQ/J2pqV6QE9D+CDaIP9VwKQMTAccIrOgZA8KLT8bBd8z89mnkMWrHzP9kCguu5BPc/ZsvPCL8A+j/9QeKp8ar2P4bO7IdqbPY/088p1lSy9j/u1lu0eIf2P/4kDP3LK+0/2SXcq/DV8j+EhECNxPDvP4EmcHYVJvE/UOnUywkZ8D9/M9ejww33PyKyZiOPSPM/zZPGNWBQ8z+tIox4OkjzPw==",
           "dtype": "f8"
          },
          "color": "blue",
          "thickness": 1,
          "type": "data",
          "visible": true,
          "width": 5
         },
         "hovertemplate": "ΔpH (Total): %{x}<br>Hedges' g: %{y}<br>Treatment Calcification: %{customdata[0]:.4f}<br>Control Calcification: %{customdata[1]:.4f}<br>DOI: %{text}<extra></extra>",
         "marker": {
          "line": {
           "color": "black",
           "width": 1
          },
          "opacity": 0.5,
          "size": 10
         },
         "mode": "markers",
         "name": "Data points",
         "text": [
          "10.1007/s00338-012-0952-6",
          "10.1007/s00338-012-0952-6",
          "10.1007/s13131-022-2037-x",
          "10.1007/s13131-022-2037-x",
          "10.1007/s13131-022-2037-x",
          "10.1016/j.chemgeo.2018.09.004",
          "10.1016/j.chemgeo.2018.09.004",
          "10.1016/j.chemgeo.2018.09.004",
          "10.1016/j.chemgeo.2018.09.004",
          "10.1016/j.chemgeo.2018.09.004",
          "10.1016/j.chemgeo.2018.09.004",
          "10.1016/j.chemgeo.2018.09.004",
          "10.1016/j.chemgeo.2018.09.004",
          "10.1016/j.ecochg.2021.100016",
          "10.1016/j.ecochg.2021.100016",
          "10.1016/j.ecochg.2021.100016",
          "10.1016/j.ecochg.2021.100016",
          "10.1016/j.ecochg.2021.100016",
          "10.1016/j.ecochg.2021.100016",
          "10.1016/j.ecochg.2021.100016",
          "10.1016/j.ecochg.2021.100016",
          "10.1016/j.ecochg.2021.100016",
          "10.1016/j.ecochg.2021.100016",
          "10.1016/j.ecochg.2021.100016",
          "10.1016/j.ecochg.2021.100016",
          "10.1016/j.jembe.2019.151225",
          "10.1016/j.jembe.2019.151225",
          "10.1016/j.jembe.2019.151225",
          "10.1016/j.marenvres.2023.106150",
          "10.1029/2020JG005726",
          "10.1038/s41598-019-40620-8",
          "10.1038/s41598-019-40620-8",
          "10.1038/s41598-019-40620-8",
          "10.1038/s41598-022-06896-z",
          "10.1038/s41598-022-06896-z",
          "10.1038/s41598-022-06896-z",
          "10.1038/s42003-022-04353-1",
          "10.1038/s42003-022-04353-1",
          "10.1038/s42003-022-04353-1",
          "10.1038/s42003-022-04353-1",
          "10.1098/rsos.170683",
          "10.1098/rsos.170683",
          "10.1098/rspb.2021.0923",
          "10.1111/gcb.13481-LOC-A",
          "10.1111/gcb.13481-LOC-B",
          "10.1111/gcb.13481-LOC-B",
          "10.1111/gcb.13481-LOC-B",
          "10.1111/gcb.13481-LOC-B",
          "10.1111/gcb.13481-LOC-B",
          "10.1111/gcb.13481-LOC-B",
          "10.1111/gcb.13481-LOC-B",
          "10.1111/gcb.13481-LOC-B",
          "10.1111/gcb.13481-LOC-B",
          "10.1111/gcb.13481-LOC-B",
          "10.1111/gcb.13481-LOC-C",
          "10.1111/gcb.13481-LOC-C",
          "10.1111/gcb.13481-LOC-C",
          "10.1111/gcb.13481-LOC-C",
          "10.1111/gcb.13481-LOC-D",
          "10.1111/gcb.13481-LOC-D",
          "10.1111/gcb.13481-LOC-D",
          "10.1111/gcb.14998",
          "10.1111/gcb.14998",
          "10.1111/jpy.13290",
          "10.1111/jpy.13290",
          "10.1111/jpy.13290",
          "10.1111/jpy.13290",
          "10.1111/maec.12444",
          "10.1111/maec.12444",
          "10.1111/maec.12444",
          "10.1111/maec.12444",
          "10.1111/maec.12444",
          "10.1111/maec.12444",
          "10.1111/maec.12444",
          "10.1111/maec.12444",
          "10.1111/maec.12444",
          "10.1111/maec.12444",
          "10.1111/maec.12444",
          "10.1111/maec.12444",
          "10.1111/maec.12444",
          "10.1111/maec.12444",
          "10.1111/maec.12444",
          "10.1111/maec.12444",
          "10.1111/maec.12444",
          "10.1111/maec.12444",
          "10.1111/maec.12444",
          "10.1111/maec.12444",
          "10.1111/maec.12444",
          "10.1111/maec.12444",
          "10.1111/maec.12444",
          "10.1111/maec.12444",
          "10.3354/meps09309",
          "10.3354/meps09309",
          "10.3354/meps10981",
          "10.3354/meps10981",
          "10.3354/meps10981",
          "10.3354/meps10981",
          "10.3354/meps11591",
          "10.3354/meps11591",
          "10.3354/meps11591",
          "10.3354/meps11591",
          "10.3390/jmse10081106",
          "10.3390/jmse10081106",
          "10.3390/jmse10081106",
          "10.3390/jmse10081106",
          "10.3390/jmse10081106",
          "10.3390/jmse10081106",
          "10.3390/jmse9070739",
          "10.3390/jmse9070739",
          "10.3390/jmse9070739"
         ],
         "type": "scatter",
         "x": {
          "bdata": "kJmZmZmZ2b+QmZmZmZnZv5D2iWP7INy/0I2/q2yF278Qw4+u/SrcvwAAAAAAANC/AAAAAAAA0L8QrkfhehTevxCuR+F6FN6/AAAAAAAA0L8AAAAAAADQvxCuR+F6FN6/EK5H4XoU3r/gUbgehevRv7D1KFyPwtW/YD0K16Nw3b/gUbgehevRv7D1KFyPwtW/YD0K16Nw3b/gUbgehevRv7D1KFyPwtW/YD0K16Nw3b/gUbgehevRv7D1KFyPwtW/YD0K16Nw3b/gUbgehevBv6AehetRuM6/oEfhehSu179g/cAmclnYv7BJDAIrh+K/ILByaJHt1L8gsHJoke3UvyCwcmiR7dS/gBSuR+F6xL+AFK5H4XrEv4AUrkfhesS/wBqPP66Vyb/AGo8/rpXJv8Aajz+ulcm/wBqPP66Vyb/wUbgehevRv/BRuB6F69G/oG0KjVTm078wMzMzMzPTvwAAAAAAAOC/AAAAAAAA4L8AAAAAAADgvzAzMzMzM9O/AAAAAAAA4L8AAAAAAADgvzAzMzMzM9O/AAAAAAAA4L8wMzMzMzPTvwAAAAAAAOC/MDMzMzMz078AAAAAAADgvzAzMzMzM9O/MDMzMzMz078wMzMzMzPTvwAAAAAAAOC/MDMzMzMz078A06YO7GjNvwDTpg7saM2/gOtRuB6F07+A61G4HoXTv4DrUbgehdO/gOtRuB6F07+AXI/C9Si8v2C4HoXrUci/AFK4HoXr0b9wZmZmZmbWv4Bcj8L1KLy/YLgehetRyL8AUrgehevRv3BmZmZmZta/gFyPwvUovL9guB6F61HIvwBSuB6F69G/cGZmZmZm1r+AXI/C9Si8v2C4HoXrUci/AFK4HoXr0b9wZmZmZmbWv4Bcj8L1KLy/YLgehetRyL8AUrgehevRv3BmZmZmZta/gFyPwvUovL9guB6F61HIvwBSuB6F69G/cGZmZmZm1r/QfMpXg5fZv2Bmp/Kbq9e/gBSuR+F61L8oXI/C9Sjkv4AUrkfhetS/KFyPwvUo5L/giSjYKoPJv2DhYp35bdS/4Iko2CqDyb9g4WKd+W3Uv4B68UxLQM2/EMAP6iXE5L+AevFMS0DNvxDAD+olxOS/gHrxTEtAzb8QwA/qJcTkv4A9CtejcM2/gD0K16Nwzb+APQrXo3DNvw==",
          "dtype": "f8"
         },
         "xaxis": "x",
         "y": {
          "bdata": "wTi58O721b/wMfDgGwrLP/0T5E3E+iDAQ69NcwKzF8AwIlj6rb8TwBDy/rWkIv+/RIwPU0TPEcCmXZLzJGvyvwcEswOqdSjAMLrooosuFsBScBqPwfMZwITSgVi77wvA7DpKjoRpH8DdMl/8kgTUv/obB4clvrg/ZyJ9z0B7BMA+YIGVpIflv7BVXRFFX++/WlVIEkkfDMA/qfgGjLsYwA5YdCcExyDA7Bp6002HJcAtjPRi3iUWwNyo79gzk/C/7hRVSeo4HMDKWqtYzMf9v+UGl3dqOwHAIcEaNq0SCsDd8XB8DPjzv6Mn55eh+va/WnDQJ2Fu5D82BUsMUuThv/MmVoxIhs2/zB4pwDURx7+GLS19lHPDvzhPlWFuGeO/8Sw/ulct1j9B2IWE4IH9P17jOFaKpt+/dYNsJzaM9L/p192t7hnAP8k6FPNk4cE/jLxl2FeV3r/RsWL0tU7Sv1+1p/3P9+a/3ClHU1m90T9qLOqvLqvnP8Kwfb/Xhdu/M3rqEwtw0b8NkoCiO2nKv/GucTI56tQ/7GAx8U+E3b9QbPoZhkTYv6/HofbeEcS/CYv5AhVLsj+eS3Ck9LHdv8zpveH4SuO/3egByrNHzD/TTO0hvtLKP8UZWty8n6U/aSaL9Y+OvT88F6b+war9vylg44gWLQnAAAAAAAAAAACVjv8PnkQQwJWFBRomChHAHO8XdjBU4r+QxtWSYsLrP+opcDQC39s/Nw5AWRKm6T+1UQOPfxLov70jGNidu+S/JojcHS7w4b9rZqRjjeLVv17udBlvqf2/0DMQF4ln4L+TrP64lAXCPzlVv0OFILE/ickwqkfiB8Cpje1t8vbsP5FbrDOWaMG/D+/1/QFJtD/LpnD1b3TGPwjBUBrItui/dZfYDiR55b8g/yBHetbNvy6lVtPXv+6/zJfk0Y4nvT9TAeuu9XjZP51VjGMe7eq/5QqJNiSb0D9feiVcxwkZwC7GsvXCbxTApHD0ZL5jzb8cd2/5RlTgvw1rVak2qPm/2uDgd1DNAcDCmIDUCjTgP6Rk/0ifnLk/0UXjCYka4T9VKPheKtPVv1GBXjelcNY/KRVP8fzyAUAm0U4S7STxvzUQMroTxuU/hEnSonRS5T8WneisLvcGQOjBT4UMLZ2/X62QzYIYwj/0JAOX7shRvw==",
          "dtype": "f8"
         },
         "yaxis": "y"
        },
        {
         "line": {
          "color": "black",
          "dash": "dash",
          "width": 1
         },
         "mode": "lines",
         "name": "Hedges' g = 0",
         "type": "scatter",
         "x": [
          -0.6489438601984165,
          -0.11000000000000121
         ],
         "xaxis": "x",
         "y": [
          0,
          0
         ],
         "yaxis": "y"
        },
        {
         "line": {
          "color": "red"
         },
         "mode": "lines",
         "name": "y = 0.28x + -1.52",
         "type": "scatter",
         "x": {
          "bdata": "8HoUrkfh/j9smZ/rTg8AQGD1NAD6rQBAVFHKFKVMAUBIrV8pUOsBQDsJ9T37iQJAL2WKUqYoA0AjwR9nUccDQBcdtXv8ZQRAC3lKkKcEBUD/1N+kUqMFQPIwdbn9QQZA5owKzqjgBkDa6J/iU38HQM5ENff+HQhAwqDKC6q8CEC2/F8gVVsJQKpY9TQA+glAnrSKSauYCkCSECBeVjcLQIZstXIB1gtAeshKh6x0DEBtJOCbVxMNQGGAdbACsg1AVdwKxa1QDkBJOKDZWO8OQD2UNe4Djg9AGHhlgVcWEEASJrALrWUQQAzU+pUCtRBABoJFIFgEEUAAMJCqrVMRQPrd2jQDoxFA9Islv1jyEUDuOXBJrkESQOjnutMDkRJA4pUFXlngEkDcQ1Dori8TQNbxmnIEfxNA0J/l/FnOE0DKTTCHrx0UQMT7ehEFbRRAvqnFm1q8FEC4VxAmsAsVQLEFW7AFWxVAq7OlOluqFUClYfDEsPkVQJ8PO08GSRZAmb2F2VuYFkCTa9BjsecWQI0ZG+4GNxdAh8dleFyGF0CBdbACstUXQHsj+4wHJRhAddFFF110GEBvf5ChssMYQGgt2ysIExlAYtsltl1iGUBciXBAs7EZQFY3u8oIARpAUOUFVV5QGkBKk1Dfs58aQERBm2kJ7xpAPu/l814+G0A4nTB+tI0bQDJLewgK3RtALPnFkl8sHEAmpxAdtXscQCBVW6cKyxxAGgOmMWAaHUAUsfC7tWkdQA5fO0YLuR1ACA2G0GAIHkABu9BatlceQPtoG+ULpx5A9RZmb2H2HkDvxLD5tkUfQOly+4MMlR9A4yBGDmLkH0BuZ0jM2xkgQGy+bZGGQSBAaBWTVjFpIEBmbLgb3JAgQGLD3eCGuCBAYBoDpjHgIEBccShr3AchQFrITTCHLyFAVh9z9TFXIUBTdpi63H4hQFDNvX+HpiFATSTjRDLOIUBKewgK3fUhQEfSLc+HHSJARClTlDJFIkBBgHhZ3WwiQD7XnR6IlCJAOy7D4zK8IkA4heio3eMiQDXcDW6ICyNAMjMzMzMzI0A=",
          "dtype": "f8"
         },
         "xaxis": "x2",
         "y": {
          "bdata": "cuNB6pFW77+qxqr/PqPuv+KpExXs7+2/Go18Kpk87b9ScOU/Ronsv4xTTlXz1eu/xDa3aqAi67/8GSCATW/qvzT9iJX6u+m/bODxqqcI6b+kw1rAVFXov92mw9UBoue/FYos667u5r9NbZUAXDvmv4VQ/hUJiOW/vTNnK7bU5L/2FtBAYyHkvy76OFYQbuO/Zt2ha7264r+ewAqBagfiv9ajc5YXVOG/Dofcq8Sg4L+Q1IqC49rfvwCbXK09dN6/cGEu2JcN3b/gJwAD8qbbv1Du0S1MQNq/wLSjWKbZ2L8we3WDAHPXv6BBR65aDNa/EAgZ2bSl1L+AzuoDDz/Tv/CUvC5p2NG/YFuOWcNx0L+oQ8AIOxbOv4jQY17vSMu/aF0HtKN7yL9I6qoJWK7Fvyh3Tl8M4cK/CATytMATwL/QISsV6oy6v5A7csBS8rS/oKpy13avrr8g3gAuSHqjv4AjHgkzipC/ANYVJ6mAdz+ADqmch0qcP8BTxndyWqk/IBCckNBHsj9g9lTlZ+K3P6DcDTr/fL0/cGFjR8uLwT+Q1L/xFlnEP7BHHJxiJsc/0Lp4Rq7zyT/wLdXw+cDMPwChMZtFjs8/EArHosgt0T+gQ/V3bpTSPzB9I00U+9M/wLZRIrph1T9Q8H/3X8jWP+AprswFL9g/cGPcoauV2T8AnQp3UfzaP5DWOEz3Ytw/IBBnIZ3J3T+0SZX2QjDfP6LB4WV0S+A/Zt54UMf+4D8u+w87GrLhP/YXpyVtZeI/vjQ+EMAY4z+GUdX6EszjP05ubOVlf+Q/FosD0Lgy5T/ep5q6C+blP6bEMaVemeY/buHIj7FM5z8y/l96BADoP/4a92RXs+g/wjeOT6pm6T+OVCU6/RnqP1JxvCRQzeo/Ho5TD6OA6z/iqur59TPsP67HgeRI5+w/cuQYz5ua7T86AbC57k3uPwIeR6RBAe8/yjrejpS07z/Jq7q88zPwPy06BjKdjfA/kchRp0bn8D/1Vp0c8EDxP1nl6JGZmvE/vXM0B0P08T8hAoB87E3yP4WQy/GVp/I/6R4XZz8B8z8=",
          "dtype": "f8"
         },
         "yaxis": "y2"
        },
        {
         "line": {
          "width": 0
         },
         "mode": "lines",
         "showlegend": false,
         "type": "scatter",
         "x": {
          "bdata": "8HoUrkfh/j9smZ/rTg8AQGD1NAD6rQBAVFHKFKVMAUBIrV8pUOsBQDsJ9T37iQJAL2WKUqYoA0AjwR9nUccDQBcdtXv8ZQRAC3lKkKcEBUD/1N+kUqMFQPIwdbn9QQZA5owKzqjgBkDa6J/iU38HQM5ENff+HQhAwqDKC6q8CEC2/F8gVVsJQKpY9TQA+glAnrSKSauYCkCSECBeVjcLQIZstXIB1gtAeshKh6x0DEBtJOCbVxMNQGGAdbACsg1AVdwKxa1QDkBJOKDZWO8OQD2UNe4Djg9AGHhlgVcWEEASJrALrWUQQAzU+pUCtRBABoJFIFgEEUAAMJCqrVMRQPrd2jQDoxFA9Islv1jyEUDuOXBJrkESQOjnutMDkRJA4pUFXlngEkDcQ1Dori8TQNbxmnIEfxNA0J/l/FnOE0DKTTCHrx0UQMT7ehEFbRRAvqnFm1q8FEC4VxAmsAsVQLEFW7AFWxVAq7OlOluqFUClYfDEsPkVQJ8PO08GSRZAmb2F2VuYFkCTa9BjsecWQI0ZG+4GNxdAh8dleFyGF0CBdbACstUXQHsj+4wHJRhAddFFF110GEBvf5ChssMYQGgt2ysIExlAYtsltl1iGUBciXBAs7EZQFY3u8oIARpAUOUFVV5QGkBKk1Dfs58aQERBm2kJ7xpAPu/l814+G0A4nTB+tI0bQDJLewgK3RtALPnFkl8sHEAmpxAdtXscQCBVW6cKyxxAGgOmMWAaHUAUsfC7tWkdQA5fO0YLuR1ACA2G0GAIHkABu9BatlceQPtoG+ULpx5A9RZmb2H2HkDvxLD5tkUfQOly+4MMlR9A4yBGDmLkH0BuZ0jM2xkgQGy+bZGGQSBAaBWTVjFpIEBmbLgb3JAgQGLD3eCGuCBAYBoDpjHgIEBccShr3AchQFrITTCHLyFAVh9z9TFXIUBTdpi63H4hQFDNvX+HpiFATSTjRDLOIUBKewgK3fUhQEfSLc+HHSJARClTlDJFIkBBgHhZ3WwiQD7XnR6IlCJAOy7D4zK8IkA4heio3eMiQDXcDW6ICyNAMjMzMzMzI0A=",
          "dtype": "f8"
         },
         "xaxis": "x2",
         "y": {
          "bdata": "BqPuE4Oi578+hlcpMO/mv3ZpwD7dO+a/rkwpVIqI5b/mL5JpN9XkvyAT+37kIeS/WPZjlJFu47+Q2cypPrviv8i8Nb/rB+K/AKCe1JhU4b84gwfqRaHgv+LM4P7l29+/UpOyKUB13r/CWYRUmg7dvzIgVn/0p9u/ouYnqk5B2r8UrfnUqNrYv4Rzy/8CdNe/9DmdKl0N1r9kAG9Vt6bUv9TGQIARQNO/RI0Sq2vZ0b+4U+TVxXLQv1E0bAFAGM6/McEPV/RKy78RTrOsqH3Iv/HaVgJdsMW/0Wf6VxHjwr+x9J2txRXAvyIDgwb0kLq/4hzKsVz2tL9EbSK6ireuv8SgsBBcgqO/iKh9zlqakL/gwJcRCkB3PziJSddfOpw/HJEWlV5SqT/OLkSfxkOyPw4V/fNd3rc/Tvu1SPV4vT/HcLdOxonBP+fjE/kRV8Q/B1dwo10kxz8nysxNqfHJPz89Kfj0vsw/X7CFokCMzz/AEXEmxizRP1BLn/trk9I/4ITN0BH60z9wvvult2DVPwD4KXtdx9Y/kDFYUAMu2D8ga4YlqZTZP7CktPpO+9o/QN7iz/Rh3D/QFxGlmsjdP1hRP3pAL98/dMW2J/NK4D884k0SRv7gPwT/5PyYseE/zBt85+tk4j+UOBPSPhjjP1xVqryRy+M/JHJBp+R+5D/sjtiRNzLlP7Srb3yK5eU/fMgGZ92Y5j9G5Z1RMEznPw4CNTyD/+c/0h7MJtay6D+aO2MRKWbpP2JY+vt7Geo/KnWR5s7M6j/ykSjRIYDrP7quv7t0M+w/gstWpsfm7D9K6O2QGprtPxIFhXttTe4/2iEcZsAA7z+ePrNQE7TvP7UtpR2zM/A/F7zwklyN8D99SjwIBufwP9/Yh32vQPE/RWfT8lia8T+n9R5oAvTxPw2Eat2rTfI/bxK2UlWn8j/ToAHI/gDzPzcvTT2oWvM/m72YslG08z//S+Qn+w30P2PaL52kZ/Q/x2h7Ek7B9D8r98aH9xr1P4+FEv2gdPU/8xNeckrO9T9Xoqnn8yf2P7sw9VydgfY/H79A0kbb9j8=",
          "dtype": "f8"
         },
         "yaxis": "y2"
        },
        {
         "fill": "tonexty",
         "fillcolor": "rgba(255, 0, 0, 0.2)",
         "line": {
          "width": 0
         },
         "mode": "lines",
         "name": "95% CI",
         "type": "scatter",
         "x": {
          "bdata": "8HoUrkfh/j9smZ/rTg8AQGD1NAD6rQBAVFHKFKVMAUBIrV8pUOsBQDsJ9T37iQJAL2WKUqYoA0AjwR9nUccDQBcdtXv8ZQRAC3lKkKcEBUD/1N+kUqMFQPIwdbn9QQZA5owKzqjgBkDa6J/iU38HQM5ENff+HQhAwqDKC6q8CEC2/F8gVVsJQKpY9TQA+glAnrSKSauYCkCSECBeVjcLQIZstXIB1gtAeshKh6x0DEBtJOCbVxMNQGGAdbACsg1AVdwKxa1QDkBJOKDZWO8OQD2UNe4Djg9AGHhlgVcWEEASJrALrWUQQAzU+pUCtRBABoJFIFgEEUAAMJCqrVMRQPrd2jQDoxFA9Islv1jyEUDuOXBJrkESQOjnutMDkRJA4pUFXlngEkDcQ1Dori8TQNbxmnIEfxNA0J/l/FnOE0DKTTCHrx0UQMT7ehEFbRRAvqnFm1q8FEC4VxAmsAsVQLEFW7AFWxVAq7OlOluqFUClYfDEsPkVQJ8PO08GSRZAmb2F2VuYFkCTa9BjsecWQI0ZG+4GNxdAh8dleFyGF0CBdbACstUXQHsj+4wHJRhAddFFF110GEBvf5ChssMYQGgt2ysIExlAYtsltl1iGUBciXBAs7EZQFY3u8oIARpAUOUFVV5QGkBKk1Dfs58aQERBm2kJ7xpAPu/l814+G0A4nTB+tI0bQDJLewgK3RtALPnFkl8sHEAmpxAdtXscQCBVW6cKyxxAGgOmMWAaHUAUsfC7tWkdQA5fO0YLuR1ACA2G0GAIHkABu9BatlceQPtoG+ULpx5A9RZmb2H2HkDvxLD5tkUfQOly+4MMlR9A4yBGDmLkH0BuZ0jM2xkgQGy+bZGGQSBAaBWTVjFpIEBmbLgb3JAgQGLD3eCGuCBAYBoDpjHgIEBccShr3AchQFrITTCHLyFAVh9z9TFXIUBTdpi63H4hQFDNvX+HpiFATSTjRDLOIUBKewgK3fUhQEfSLc+HHSJARClTlDJFIkBBgHhZ3WwiQD7XnR6IlCJAOy7D4zK8IkA4heio3eMiQDXcDW6ICyNAMjMzMzMzI0A=",
          "dtype": "f8"
         },
         "xaxis": "x2",
         "y": {
          "bdata": "75FKYFCF87+LA//qpivzvyd1s3X90fK/w+ZnAFR48r9fWByLqh7yv/zJ0BUBxfG/mDuFoFdr8b80rTkrrhHxv9Ae7rUEuPC/bJCiQFte8L8IAlfLsQTwv0nnFqwQVu+/gcp/wb2i7r+5rejWau/tv/GQUewXPO2/KXS6AcWI7L9iVyMXctXrv5o6jCwfIuu/0h31Qcxu6r8KAV5Xebvpv0LkxmwmCOm/escvgtNU6L+0qpiXgKHnv+yNAa0t7ua/JHFqwto65r9cVNPXh4flv5Q3PO001OS/zBqlAuIg5L8E/g0Yj23jvzzhdi08uuK/dMTfQukG4r+sp0hYllPhv+SKsW1DoOC/ONw0BuHZ37+sogYxO3Pevxxp2FuVDN2/jC+qhu+l27/89XuxST/av2y8Tdyj2Ni/3IIfB/5x179MSfExWAvWv7wPw1yypNS/LNaUhww+07+cnGayZtfRvxBjON3AcNC//1IUEDYUzr/f37dl6kbLv79sW7ueeci/n/n+EFOsxb9/hqJmB9/Cv18TRry7EcC/fkDTI+CIur8+WhrPSO60v/znwvRip66/fBtRSzRyo7/4nb5DC3qQvyDqkzxIwXc/iJMIYq9anD9EFnZahmKpP2Lx84HaS7I/otes1nHmtz/ivWUrCYG9PxFSD0DQjcE/McVr6htbxD9ROMiUZyjHP3GrJD+z9ck/kR6B6f7CzD+5kd2TSpDPP2wCHR/LLtE/9DtL9HCV0j+EdXnJFvzTPxSvp568YtU/pOjVc2LJ1j80IgRJCDDYP8RbMh6ultk/VJVg81P92j/kzo7I+WPcP3QIvZ2fyt0/BELrckUx3z/GvQyk9UvgP5Lao45I/+A/Vvc6eZuy4T8iFNJj7mXiP+YwaU5BGeM/sk0AOZTM4z92apcj53/kP0KHLg46M+U/BqTF+Izm5T/OwFzj35nmP5bd880yTec/XvqKuIUA6D8mFyKj2LPoP+4zuY0rZ+k/tlBQeH4a6j9+bedi0c3qP0aKfk0kges/DqcVOHc07D/Ww6wiyufsP57gQw0dm+0/Zv3a929O7j8=",
          "dtype": "f8"
         },
         "yaxis": "y2"
        },
        {
         "customdata": {
          "bdata": "3dMtRlezdT/wWqso2i16P9AVUMbB134/8FqrKNotej9KUHG25zyFP9CLRDAJzIA/sqjVGA1XhD/Qi0QwCcyAPxQd7rU8E3c/IIFHw2cHcj/r3Irzc9V0PyCBR8NnB3I/pHA9Ctej0D9SuB6F61HYP6RwPQrXo9A/zczMzMzM3D8yVTAqqRPQP35o6q952L4/UnEbDeAtwL9+aOqvedi+P6Fns+pztbU/fmjqr3nYvj9LAauBWlDOP35o6q952L4/a9Cn33LIwj9+aOqvedi+P3UCQ0oAJtI/fmjqr3nYvj9BCTNt/7owQLYrXg2bTDdAgnuVjk6MJEDmqOyR0nAtQFnHfYikoiFAbj5hPDY1KkCsW6dWOibIv80cIV+Cbc0/z+B2XMF6uz9zc7EdlA3UP4CIIVNteZI/Po8W7baAzj/OjFWKl1uJvwisHFpkO9c/trjGZ7J/Xj9Gl/ZLhw1kP2PJL5b8Ytk/jGzn+6nx0j9L677F/2z9P/7UeOkmMfg/MQisHFpk6D/Xo3A9CtflP2B2Tx4WatU/2/l+arx0wz9aISpQSobvP+8A5Q5Q7vI/SOF6FK5HoT9t5/up8dLBP5i1OiZ4MOg/+qBns+pzxT/OzMzMzMywvyX/yDOtEGW/9qI5cbfnyD9VoJQMvxnYP2U730+Nl84/JN4nNDZh0D/gVC9wFyXtP/YoXI/CNfA/lPYGX5hMxb8oDwu1pnnXP3qDL0ymCtQ/1udqK/aX2T9CqySIjJ+cP93lCwZCm8g/kxgEVg4t6j9LDAIrhxbpP0WLbOf7qbG/0NVW7C+7x7/jgl9hK0nhP6sXuIuSzNE/x4xJ8i006j8rhxbZzvfaP+SQmmC8ld0/TDDeyj6H7D/kOaQmGG8PQNjKPofUBBNA53RQB3VQ9z8qB3VQB3X8P5YmTZo0aeI/PYwYMWLE8D+U7V0HdGPuPyDDgktle/c/tC7vgCNFA0C8HXCkaIj/PzvfT42XbpI/SgwCK4cWqT/8qfHSTWJgPzm0yHa+n4o/",
          "dtype": "f8",
          "shape": "48, 2"
         },
         "error_y": {
          "array": {
           "bdata": "qMsD/f8C9j9CGjxYaQn2P+U6YBm8uvY/MYIilmnx9j/91fSKG1T2P056vc4wLfY/spsgFMNy8z/0H7EahCb0P77fXIlcNfY/Dzi3j2o29j9+lAd5DjX2PyGNV6If0/Y/u4fka3d29j9SPk05CRv3P66MeBrchOc/hxg61il84z8DowcYLoDnP7qV9nkDTvw/lj1dU0va9j90oDTvIen2P9pSQrXGrgZAbelXpl5r1z8+tpmLFjz0P/paBUpbp+w/yxzm2Lya8z/xwh4bLB/zPwJvJx685eI/fSs0tzYd9D/dqLowbUHoP1G9h5UHj+4/lKK76oCi7z9lNJBD6qjmP4b4digSFOU/SCwKVqOZ9T/wzygq2p7jP1SEx7ZmheM/Tfk2Wua38D/M140A8w7xPzqU3ADA1+s/HBtFtRKL4z+ocdD6WSf6Px7HDuD0h+U/pkZ4evFV+z/youVphKH/P4IP8xiByPI/VutD/iW+8j/y9OqnRYv0P1mphE6q9fI/",
           "dtype": "f8"
          },
          "color": "blue",
          "thickness": 1,
          "type": "data",
          "visible": true,
          "width": 5
         },
         "hovertemplate": "ΔTemperature (°C): %{x}<br>Hedges' g: %{y}<br>Treatment Calcification: %{customdata[0]:.4f}<br>Control Calcification: %{customdata[1]:.4f}<br>DOI: %{text}<extra></extra>",
         "marker": {
          "line": {
           "color": "black",
           "width": 1
          },
          "opacity": 0.5,
          "size": 10
         },
         "mode": "markers",
         "name": "Data points",
         "text": [
          "10.1007/s00227-022-04071-6",
          "10.1007/s00227-022-04071-6",
          "10.1007/s00227-022-04071-6",
          "10.1007/s00227-022-04071-6",
          "10.1007/s00227-022-04071-6",
          "10.1007/s00227-022-04071-6",
          "10.1007/s00338-012-0952-6",
          "10.1007/s00338-012-0952-6",
          "10.1007/s00338-019-01775-y",
          "10.1007/s00338-019-01775-y",
          "10.1007/s00338-019-01775-y",
          "10.1007/s00338-019-01775-y",
          "10.1007/s00338-019-01775-y",
          "10.1007/s00338-019-01775-y",
          "10.1038/s41598-022-06896-z",
          "10.1038/s41598-022-06896-z",
          "10.1038/s41598-022-06896-z",
          "10.1038/s42003-022-04353-1",
          "10.1038/s42003-022-04353-1",
          "10.1038/s42003-022-04353-1",
          "10.1038/s42003-022-04353-1",
          "10.1098/rspb.2021.0923",
          "10.1111/gcb.13481-LOC-A",
          "10.1111/gcb.13481-LOC-B",
          "10.1111/gcb.13481-LOC-B",
          "10.1111/gcb.13481-LOC-B",
          "10.1111/gcb.13481-LOC-B",
          "10.1111/gcb.13481-LOC-B",
          "10.1111/gcb.13481-LOC-B",
          "10.1111/gcb.13481-LOC-B",
          "10.1111/gcb.13481-LOC-B",
          "10.1111/gcb.13481-LOC-B",
          "10.1111/gcb.13481-LOC-B",
          "10.1111/gcb.13481-LOC-C",
          "10.1111/gcb.13481-LOC-C",
          "10.1111/gcb.13481-LOC-C",
          "10.1111/gcb.13481-LOC-C",
          "10.1111/gcb.13481-LOC-D",
          "10.1111/gcb.13481-LOC-D",
          "10.1111/gcb.13481-LOC-D",
          "10.1111/gcb.14998",
          "10.1111/gcb.14998",
          "10.1111/jpy.13290",
          "10.1111/jpy.13290",
          "10.1111/jpy.13290",
          "10.1111/jpy.13290",
          "10.3390/jmse10081106",
          "10.3390/jmse10081106"
         ],
         "type": "scatter",
         "x": {
          "bdata": "GPzeTKzBDEAY/N5MrMEMQBj83kyswQxAGPzeTKzBDEAY/N5MrMEMQBj83kyswQxAAAAAAAAAEEAAAAAAAAAQQAAAAAAAABhAMjMzMzMzI0AAAAAAAAAMQAAAAAAAABhAMjMzMzMzI0AAAAAAAAAMQPB6FK5H4f4/8HoUrkfh/j/wehSuR+H+P7BH4XoUrv8/sEfhehSu/z+wR+F6FK7/P7BH4XoUrv8/mL12+ZHuD0BoZmZmZmYKQGhmZmZmZgpAaGZmZmZmCkBoZmZmZmYKQGhmZmZmZgpAaGZmZmZmCkBoZmZmZmYKQGhmZmZmZgpAaGZmZmZmCkBoZmZmZmYKQGhmZmZmZgpAaGZmZmZmCkBoZmZmZmYKQGhmZmZmZgpAaGZmZmZmCkBoZmZmZmYKQGhmZmZmZgpAaGZmZmZmCkAwMzMzMzMHQDAzMzMzMwdAYGZmZmZmAkBgZmZmZmYCQGBmZmZmZgJAYGZmZmZmAkBwPQrXo3ALQHA9CtejcAtA",
          "dtype": "f8"
         },
         "xaxis": "x2",
         "y": {
          "bdata": "JXtI9ff42L84+aEAmw3aP8laAFmMXuQ/NbDJ2HCa5z9g25Evzp/YP43OhCALHM0/guC2N1q11L9dPh8eUOLnvx78+46nlcM/5OLoKMO40r/XYJbTdOKyv5wa7WnbCec/PrrBIMMVzT/fES/bkR3uP1eDaM2xG9m/x3l7M5GM4r+VEzCanQfrv3dT7KzqJAXAopVwpUcI+b+gtz2thkD5v7lgmheD8xTAkxN4b7la279s1tBbz8/IPxQ5+tbLPuA/QGzxU4Pm3D+fjx76907hP0/9oyfaudO/hlzRdkBe578POnNCoLPlPzaSWcKtVq+/eJcS9dVu1b9y0NS5noawv96C42hbOMW/Sk2RC56J+78KMC45lkbYv5LDK0SeJOW/NksD2jR4sT9Cqo9FhTjTP/5BQg2+8+U/X3fv0fzb8j9wKkUuBBgPwP1iKIxrH/W/991Hkm6OB8D1WaU32L0NwIVHoCjPxem/g7R3BOMm6T//Wk2FcoYEwMOMnVqiO/K/",
          "dtype": "f8"
         },
         "yaxis": "y2"
        },
        {
         "line": {
          "color": "black",
          "dash": "dash",
          "width": 1
         },
         "mode": "lines",
         "name": "Hedges' g = 0",
         "type": "scatter",
         "x": [
          1.9300000000000033,
          9.599999999999998
         ],
         "xaxis": "x2",
         "y": [
          0,
          0
         ],
         "yaxis": "y2"
        }
       ],
       "layout": {
        "annotations": [
         {
          "font": {
           "size": 16
          },
          "showarrow": false,
          "text": "Effect of pH (Total) on calcification rate",
          "x": 0.225,
          "xanchor": "center",
          "xref": "paper",
          "y": 1,
          "yanchor": "bottom",
          "yref": "paper"
         },
         {
          "font": {
           "size": 16
          },
          "showarrow": false,
          "text": "Effect of Temperature (°C) on calcification rate",
          "x": 0.775,
          "xanchor": "center",
          "xref": "paper",
          "y": 1,
          "yanchor": "bottom",
          "yref": "paper"
         }
        ],
        "height": 600,
        "legend": {
         "orientation": "h",
         "x": 1,
         "xanchor": "right",
         "y": -0.2,
         "yanchor": "bottom"
        },
        "template": {
         "data": {
          "bar": [
           {
            "error_x": {
             "color": "#2a3f5f"
            },
            "error_y": {
             "color": "#2a3f5f"
            },
            "marker": {
             "line": {
              "color": "white",
              "width": 0.5
             },
             "pattern": {
              "fillmode": "overlay",
              "size": 10,
              "solidity": 0.2
             }
            },
            "type": "bar"
           }
          ],
          "barpolar": [
           {
            "marker": {
             "line": {
              "color": "white",
              "width": 0.5
             },
             "pattern": {
              "fillmode": "overlay",
              "size": 10,
              "solidity": 0.2
             }
            },
            "type": "barpolar"
           }
          ],
          "carpet": [
           {
            "aaxis": {
             "endlinecolor": "#2a3f5f",
             "gridcolor": "#C8D4E3",
             "linecolor": "#C8D4E3",
             "minorgridcolor": "#C8D4E3",
             "startlinecolor": "#2a3f5f"
            },
            "baxis": {
             "endlinecolor": "#2a3f5f",
             "gridcolor": "#C8D4E3",
             "linecolor": "#C8D4E3",
             "minorgridcolor": "#C8D4E3",
             "startlinecolor": "#2a3f5f"
            },
            "type": "carpet"
           }
          ],
          "choropleth": [
           {
            "colorbar": {
             "outlinewidth": 0,
             "ticks": ""
            },
            "type": "choropleth"
           }
          ],
          "contour": [
           {
            "colorbar": {
             "outlinewidth": 0,
             "ticks": ""
            },
            "colorscale": [
             [
              0,
              "#0d0887"
             ],
             [
              0.1111111111111111,
              "#46039f"
             ],
             [
              0.2222222222222222,
              "#7201a8"
             ],
             [
              0.3333333333333333,
              "#9c179e"
             ],
             [
              0.4444444444444444,
              "#bd3786"
             ],
             [
              0.5555555555555556,
              "#d8576b"
             ],
             [
              0.6666666666666666,
              "#ed7953"
             ],
             [
              0.7777777777777778,
              "#fb9f3a"
             ],
             [
              0.8888888888888888,
              "#fdca26"
             ],
             [
              1,
              "#f0f921"
             ]
            ],
            "type": "contour"
           }
          ],
          "contourcarpet": [
           {
            "colorbar": {
             "outlinewidth": 0,
             "ticks": ""
            },
            "type": "contourcarpet"
           }
          ],
          "heatmap": [
           {
            "colorbar": {
             "outlinewidth": 0,
             "ticks": ""
            },
            "colorscale": [
             [
              0,
              "#0d0887"
             ],
             [
              0.1111111111111111,
              "#46039f"
             ],
             [
              0.2222222222222222,
              "#7201a8"
             ],
             [
              0.3333333333333333,
              "#9c179e"
             ],
             [
              0.4444444444444444,
              "#bd3786"
             ],
             [
              0.5555555555555556,
              "#d8576b"
             ],
             [
              0.6666666666666666,
              "#ed7953"
             ],
             [
              0.7777777777777778,
              "#fb9f3a"
             ],
             [
              0.8888888888888888,
              "#fdca26"
             ],
             [
              1,
              "#f0f921"
             ]
            ],
            "type": "heatmap"
           }
          ],
          "histogram": [
           {
            "marker": {
             "pattern": {
              "fillmode": "overlay",
              "size": 10,
              "solidity": 0.2
             }
            },
            "type": "histogram"
           }
          ],
          "histogram2d": [
           {
            "colorbar": {
             "outlinewidth": 0,
             "ticks": ""
            },
            "colorscale": [
             [
              0,
              "#0d0887"
             ],
             [
              0.1111111111111111,
              "#46039f"
             ],
             [
              0.2222222222222222,
              "#7201a8"
             ],
             [
              0.3333333333333333,
              "#9c179e"
             ],
             [
              0.4444444444444444,
              "#bd3786"
             ],
             [
              0.5555555555555556,
              "#d8576b"
             ],
             [
              0.6666666666666666,
              "#ed7953"
             ],
             [
              0.7777777777777778,
              "#fb9f3a"
             ],
             [
              0.8888888888888888,
              "#fdca26"
             ],
             [
              1,
              "#f0f921"
             ]
            ],
            "type": "histogram2d"
           }
          ],
          "histogram2dcontour": [
           {
            "colorbar": {
             "outlinewidth": 0,
             "ticks": ""
            },
            "colorscale": [
             [
              0,
              "#0d0887"
             ],
             [
              0.1111111111111111,
              "#46039f"
             ],
             [
              0.2222222222222222,
              "#7201a8"
             ],
             [
              0.3333333333333333,
              "#9c179e"
             ],
             [
              0.4444444444444444,
              "#bd3786"
             ],
             [
              0.5555555555555556,
              "#d8576b"
             ],
             [
              0.6666666666666666,
              "#ed7953"
             ],
             [
              0.7777777777777778,
              "#fb9f3a"
             ],
             [
              0.8888888888888888,
              "#fdca26"
             ],
             [
              1,
              "#f0f921"
             ]
            ],
            "type": "histogram2dcontour"
           }
          ],
          "mesh3d": [
           {
            "colorbar": {
             "outlinewidth": 0,
             "ticks": ""
            },
            "type": "mesh3d"
           }
          ],
          "parcoords": [
           {
            "line": {
             "colorbar": {
              "outlinewidth": 0,
              "ticks": ""
             }
            },
            "type": "parcoords"
           }
          ],
          "pie": [
           {
            "automargin": true,
            "type": "pie"
           }
          ],
          "scatter": [
           {
            "fillpattern": {
             "fillmode": "overlay",
             "size": 10,
             "solidity": 0.2
            },
            "type": "scatter"
           }
          ],
          "scatter3d": [
           {
            "line": {
             "colorbar": {
              "outlinewidth": 0,
              "ticks": ""
             }
            },
            "marker": {
             "colorbar": {
              "outlinewidth": 0,
              "ticks": ""
             }
            },
            "type": "scatter3d"
           }
          ],
          "scattercarpet": [
           {
            "marker": {
             "colorbar": {
              "outlinewidth": 0,
              "ticks": ""
             }
            },
            "type": "scattercarpet"
           }
          ],
          "scattergeo": [
           {
            "marker": {
             "colorbar": {
              "outlinewidth": 0,
              "ticks": ""
             }
            },
            "type": "scattergeo"
           }
          ],
          "scattergl": [
           {
            "marker": {
             "colorbar": {
              "outlinewidth": 0,
              "ticks": ""
             }
            },
            "type": "scattergl"
           }
          ],
          "scattermap": [
           {
            "marker": {
             "colorbar": {
              "outlinewidth": 0,
              "ticks": ""
             }
            },
            "type": "scattermap"
           }
          ],
          "scattermapbox": [
           {
            "marker": {
             "colorbar": {
              "outlinewidth": 0,
              "ticks": ""
             }
            },
            "type": "scattermapbox"
           }
          ],
          "scatterpolar": [
           {
            "marker": {
             "colorbar": {
              "outlinewidth": 0,
              "ticks": ""
             }
            },
            "type": "scatterpolar"
           }
          ],
          "scatterpolargl": [
           {
            "marker": {
             "colorbar": {
              "outlinewidth": 0,
              "ticks": ""
             }
            },
            "type": "scatterpolargl"
           }
          ],
          "scatterternary": [
           {
            "marker": {
             "colorbar": {
              "outlinewidth": 0,
              "ticks": ""
             }
            },
            "type": "scatterternary"
           }
          ],
          "surface": [
           {
            "colorbar": {
             "outlinewidth": 0,
             "ticks": ""
            },
            "colorscale": [
             [
              0,
              "#0d0887"
             ],
             [
              0.1111111111111111,
              "#46039f"
             ],
             [
              0.2222222222222222,
              "#7201a8"
             ],
             [
              0.3333333333333333,
              "#9c179e"
             ],
             [
              0.4444444444444444,
              "#bd3786"
             ],
             [
              0.5555555555555556,
              "#d8576b"
             ],
             [
              0.6666666666666666,
              "#ed7953"
             ],
             [
              0.7777777777777778,
              "#fb9f3a"
             ],
             [
              0.8888888888888888,
              "#fdca26"
             ],
             [
              1,
              "#f0f921"
             ]
            ],
            "type": "surface"
           }
          ],
          "table": [
           {
            "cells": {
             "fill": {
              "color": "#EBF0F8"
             },
             "line": {
              "color": "white"
             }
            },
            "header": {
             "fill": {
              "color": "#C8D4E3"
             },
             "line": {
              "color": "white"
             }
            },
            "type": "table"
           }
          ]
         },
         "layout": {
          "annotationdefaults": {
           "arrowcolor": "#2a3f5f",
           "arrowhead": 0,
           "arrowwidth": 1
          },
          "autotypenumbers": "strict",
          "coloraxis": {
           "colorbar": {
            "outlinewidth": 0,
            "ticks": ""
           }
          },
          "colorscale": {
           "diverging": [
            [
             0,
             "#8e0152"
            ],
            [
             0.1,
             "#c51b7d"
            ],
            [
             0.2,
             "#de77ae"
            ],
            [
             0.3,
             "#f1b6da"
            ],
            [
             0.4,
             "#fde0ef"
            ],
            [
             0.5,
             "#f7f7f7"
            ],
            [
             0.6,
             "#e6f5d0"
            ],
            [
             0.7,
             "#b8e186"
            ],
            [
             0.8,
             "#7fbc41"
            ],
            [
             0.9,
             "#4d9221"
            ],
            [
             1,
             "#276419"
            ]
           ],
           "sequential": [
            [
             0,
             "#0d0887"
            ],
            [
             0.1111111111111111,
             "#46039f"
            ],
            [
             0.2222222222222222,
             "#7201a8"
            ],
            [
             0.3333333333333333,
             "#9c179e"
            ],
            [
             0.4444444444444444,
             "#bd3786"
            ],
            [
             0.5555555555555556,
             "#d8576b"
            ],
            [
             0.6666666666666666,
             "#ed7953"
            ],
            [
             0.7777777777777778,
             "#fb9f3a"
            ],
            [
             0.8888888888888888,
             "#fdca26"
            ],
            [
             1,
             "#f0f921"
            ]
           ],
           "sequentialminus": [
            [
             0,
             "#0d0887"
            ],
            [
             0.1111111111111111,
             "#46039f"
            ],
            [
             0.2222222222222222,
             "#7201a8"
            ],
            [
             0.3333333333333333,
             "#9c179e"
            ],
            [
             0.4444444444444444,
             "#bd3786"
            ],
            [
             0.5555555555555556,
             "#d8576b"
            ],
            [
             0.6666666666666666,
             "#ed7953"
            ],
            [
             0.7777777777777778,
             "#fb9f3a"
            ],
            [
             0.8888888888888888,
             "#fdca26"
            ],
            [
             1,
             "#f0f921"
            ]
           ]
          },
          "colorway": [
           "#636efa",
           "#EF553B",
           "#00cc96",
           "#ab63fa",
           "#FFA15A",
           "#19d3f3",
           "#FF6692",
           "#B6E880",
           "#FF97FF",
           "#FECB52"
          ],
          "font": {
           "color": "#2a3f5f"
          },
          "geo": {
           "bgcolor": "white",
           "lakecolor": "white",
           "landcolor": "white",
           "showlakes": true,
           "showland": true,
           "subunitcolor": "#C8D4E3"
          },
          "hoverlabel": {
           "align": "left"
          },
          "hovermode": "closest",
          "mapbox": {
           "style": "light"
          },
          "paper_bgcolor": "white",
          "plot_bgcolor": "white",
          "polar": {
           "angularaxis": {
            "gridcolor": "#EBF0F8",
            "linecolor": "#EBF0F8",
            "ticks": ""
           },
           "bgcolor": "white",
           "radialaxis": {
            "gridcolor": "#EBF0F8",
            "linecolor": "#EBF0F8",
            "ticks": ""
           }
          },
          "scene": {
           "xaxis": {
            "backgroundcolor": "white",
            "gridcolor": "#DFE8F3",
            "gridwidth": 2,
            "linecolor": "#EBF0F8",
            "showbackground": true,
            "ticks": "",
            "zerolinecolor": "#EBF0F8"
           },
           "yaxis": {
            "backgroundcolor": "white",
            "gridcolor": "#DFE8F3",
            "gridwidth": 2,
            "linecolor": "#EBF0F8",
            "showbackground": true,
            "ticks": "",
            "zerolinecolor": "#EBF0F8"
           },
           "zaxis": {
            "backgroundcolor": "white",
            "gridcolor": "#DFE8F3",
            "gridwidth": 2,
            "linecolor": "#EBF0F8",
            "showbackground": true,
            "ticks": "",
            "zerolinecolor": "#EBF0F8"
           }
          },
          "shapedefaults": {
           "line": {
            "color": "#2a3f5f"
           }
          },
          "ternary": {
           "aaxis": {
            "gridcolor": "#DFE8F3",
            "linecolor": "#A2B1C6",
            "ticks": ""
           },
           "baxis": {
            "gridcolor": "#DFE8F3",
            "linecolor": "#A2B1C6",
            "ticks": ""
           },
           "bgcolor": "white",
           "caxis": {
            "gridcolor": "#DFE8F3",
            "linecolor": "#A2B1C6",
            "ticks": ""
           }
          },
          "title": {
           "x": 0.05
          },
          "xaxis": {
           "automargin": true,
           "gridcolor": "#EBF0F8",
           "linecolor": "#EBF0F8",
           "ticks": "",
           "title": {
            "standoff": 15
           },
           "zerolinecolor": "#EBF0F8",
           "zerolinewidth": 2
          },
          "yaxis": {
           "automargin": true,
           "gridcolor": "#EBF0F8",
           "linecolor": "#EBF0F8",
           "ticks": "",
           "title": {
            "standoff": 15
           },
           "zerolinecolor": "#EBF0F8",
           "zerolinewidth": 2
          }
         }
        },
        "width": 1200,
        "xaxis": {
         "anchor": "y",
         "domain": [
          0,
          0.45
         ],
         "gridcolor": "lightgrey",
         "title": {
          "text": "ΔpH (Total)"
         }
        },
        "xaxis2": {
         "anchor": "y2",
         "domain": [
          0.55,
          1
         ],
         "gridcolor": "lightgrey",
         "title": {
          "text": "ΔTemperature (°C)"
         }
        },
        "yaxis": {
         "anchor": "x",
         "domain": [
          0,
          1
         ],
         "gridcolor": "lightgrey",
         "title": {
          "text": "Hedges' g"
         }
        },
        "yaxis2": {
         "anchor": "x2",
         "domain": [
          0,
          1
         ],
         "matches": "y",
         "showticklabels": false
        }
       }
      }
     },
     "metadata": {},
     "output_type": "display_data"
    }
   ],
   "source": [
    "import plotly.graph_objects as go\n",
    "from plotly.subplots import make_subplots\n",
    "import numpy as np\n",
    "import pandas as pd\n",
    "from scipy import stats\n",
    "import plotly.express as px\n",
    "plot_results = matched_df\n",
    "fig = make_subplots(rows=1, cols=2, shared_yaxes=True, \n",
    "                    subplot_titles=(\"Effect of pH (Total) on calcification rate\", \n",
    "                                   \"Effect of Temperature (°C) on calcification rate\"))\n",
    "\n",
    "variables = ['phtot', 't_in']\n",
    "var_names = ['pH (Total)', 'Temperature (°C)']\n",
    "delta_vars = ['delta_pH', 'delta_t']\n",
    "\n",
    "# process each subplot\n",
    "for i, (var, var_name, delta_var) in enumerate(zip(variables, var_names, delta_vars)):\n",
    "    col = i+1  # plotly uses 1-indexed columns for some reason\n",
    "    \n",
    "    subset_df = plot_results[plot_results['treatment'] == var]\n",
    "    \n",
    "    # data cleaning (NaNs and infinities)\n",
    "    subset_df = subset_df.infer_objects(copy=False).replace([np.inf, -np.inf], np.nan).dropna(subset=['hedges_g', 'delta_t', 'delta_pH'])\n",
    "    # relevant variable    \n",
    "    x_values = subset_df[delta_var]\n",
    "    y_values = subset_df['hedges_g']\n",
    "    y_error = subset_df['hedges_g'] - subset_df['hedges_g_l']\n",
    "    \n",
    "    # create colormap based on climatology delta\n",
    "    if var == 'phtot':\n",
    "        # for pH, larger negative changes worse\n",
    "        norm = mcolors.Normalize(vmin=subset_df['clim_delta'].min(), vmax=subset_df['clim_delta'].max())\n",
    "        cmap = cm.coolwarm_r  # reverse colormap for pH\n",
    "    else:  # t_in\n",
    "        # for temperature, larger positive changes worse\n",
    "        norm = mcolors.Normalize(vmin=subset_df['clim_delta'].min(), vmax=subset_df['clim_delta'].max())\n",
    "        cmap = cm.coolwarm\n",
    "    \n",
    "    colors = [cmap(norm(val)) for val in subset_df['clim_delta']]\n",
    "    \n",
    "    # regression\n",
    "    slope, intercept, r_value, p_value, std_err = stats.linregress(x_values, y_values)\n",
    "    r_squared = r_value**2\n",
    "    adjusted_r_squared = 1 - ((1 - r_squared) * (len(x_values) - 1) / (len(x_values) - 2))\n",
    "    x_reg = np.linspace(min(x_values), max(x_values), 100)\n",
    "    y_reg = slope * x_reg + intercept\n",
    "\n",
    "    fig.add_trace(\n",
    "        go.Scatter(\n",
    "            x=x_reg,\n",
    "            y=y_reg,\n",
    "            mode='lines',\n",
    "            line=dict(color='red'),\n",
    "            name=f'y = {slope:.2f}x + {intercept:.2f}'\n",
    "        ),\n",
    "        row=1, col=col\n",
    "    )\n",
    "    # add approximated confidence interval\n",
    "    ci = 1.96 * std_err  # 95% CI\n",
    "    fig.add_trace(\n",
    "        go.Scatter(\n",
    "            x=x_reg,\n",
    "            y=y_reg + ci,\n",
    "            mode='lines',\n",
    "            line=dict(width=0),\n",
    "            showlegend=False\n",
    "        ),\n",
    "        row=1, col=col\n",
    "    )    \n",
    "    fig.add_trace(\n",
    "        go.Scatter(\n",
    "            x=x_reg,\n",
    "            y=y_reg - ci,\n",
    "            mode='lines',\n",
    "            line=dict(width=0),\n",
    "            fill='tonexty',\n",
    "            fillcolor='rgba(255, 0, 0, 0.2)',\n",
    "            name='95% CI'\n",
    "        ),\n",
    "        row=1, col=col\n",
    "    )\n",
    "    import matplotlib.colors as mcolors\n",
    "    import matplotlib.cm as cm\n",
    "\n",
    "    # add scatter points with error bars and hover text\n",
    "    fig.add_trace(\n",
    "        go.Scatter(\n",
    "            x=x_values,\n",
    "            y=y_values,\n",
    "            mode='markers',\n",
    "            marker=dict(\n",
    "                # color=colors[0:10],  # Use the colors list generated from climatology delta\n",
    "                # colors= cmap,\n",
    "                size=10, \n",
    "                line=dict(width=1, color='black'), \n",
    "                opacity=0.5\n",
    "            ),\n",
    "            # color_continuous_scale='coolwarm',\n",
    "            error_y=dict(\n",
    "                type='data',\n",
    "                array=y_error,\n",
    "                visible=True,\n",
    "                color='blue',\n",
    "                thickness=1,\n",
    "                width=5\n",
    "            ),\n",
    "            name='Data points',\n",
    "            hovertemplate=\n",
    "            f'Δ{var_name}: %{{x}}<br>' +\n",
    "            'Hedges\\' g: %{y}<br>' +\n",
    "            'Treatment Calcification: %{customdata[0]:.4f}<br>' +\n",
    "            'Control Calcification: %{customdata[1]:.4f}<br>' +\n",
    "            'DOI: %{text}<extra></extra>',\n",
    "            text=subset_df.index,\n",
    "            customdata=subset_df[['treatment_calcification', 'control_calcification']]\n",
    "        ),\n",
    "        row=1, col=col\n",
    "    )\n",
    "    # add horizontal line at y=0 (Hedges g = 0)\n",
    "    fig.add_trace(\n",
    "        go.Scatter(\n",
    "            x=[min(x_values), max(x_values)],\n",
    "            y=[0, 0],\n",
    "            mode='lines',\n",
    "            line=dict(color='black', width=1, dash='dash'),\n",
    "            name=\"Hedges' g = 0\"\n",
    "        ),\n",
    "        row=1, col=col\n",
    "    )\n",
    "\n",
    "\n",
    "fig.update_layout(\n",
    "    width=1200,\n",
    "    height=600,\n",
    "    template=\"plotly_white\",\n",
    "    legend=dict(\n",
    "        orientation=\"h\",\n",
    "        yanchor=\"bottom\",\n",
    "        y=-.2,\n",
    "        xanchor=\"right\",\n",
    "        x=1\n",
    "    )\n",
    ")\n",
    "\n",
    "# Update x and y axis labels\n",
    "for i in range(2):\n",
    "    fig.update_xaxes(title_text=f\"Δ{var_names[i]}\", row=1, col=i+1, gridcolor='lightgrey')\n",
    "\n",
    "fig.update_yaxes(title_text=\"Hedges' g\", row=1, col=1, gridcolor='lightgrey')\n",
    "\n",
    "# Show the figure\n",
    "fig.show()"
   ]
  },
  {
   "cell_type": "code",
   "execution_count": null,
   "metadata": {},
   "outputs": [
    {
     "data": {
      "application/vnd.plotly.v1+json": {
       "config": {
        "plotlyServerURL": "https://plot.ly"
       },
       "data": [
        {
         "line": {
          "color": "red"
         },
         "mode": "lines",
         "name": "y = 2.91x + -0.32",
         "type": "scatter",
         "x": {
          "bdata": "CNejcD0K578r5CaYw9fmv07xqb9Jpea/cf4s589y5r+UC7AOVkDmv7cYMzbcDea/2iW2XWLb5b/9MjmF6KjlvyBAvKxuduW/Q00/1PRD5b9mWsL7ehHlv4lnRSMB3+S/rHTISoes5L/PgUtyDXrkv/KOzpmTR+S/FZxRwRkV5L84qdTon+Ljv1u2VxAmsOO/fsPaN6x947+h0F1fMkvjv8Td4Ia4GOO/5+pjrj7m4r8K+ObVxLPivy0Fav1KgeK/UBLtJNFO4r9zH3BMVxziv5Ys83Pd6eG/uTl2m2O34b/cRvnC6YThv/9TfOpvUuG/ImH/EfYf4b9FboI5fO3gv2h7BWECu+C/i4iIiIiI4L+ulQuwDlbgv9GijteUI+C/6F8j/jXi378ueilNQn3fv3SUL5xOGN+/uq4161qz3r8AyTs6Z07ev0XjQYlz6d2/i/1H2H+E3b/RF04njB/dvxcyVHaYuty/XUxaxaRV3L+jZmAUsfDbv+mAZmO9i9u/L5tssskm2791tXIB1sHav7vPeFDiXNq/Aep+n+732b9HBIXu+pLZv40eiz0HLtm/0ziRjBPJ2L8ZU5fbH2TYv19tnSos/9e/pYejeTia17/roanIRDXXvzG8rxdR0Na/d9a1Zl1r1r+98Lu1aQbWvwMLwgR2odW/SSXIU4I81b+PP86ijtfUv9VZ1PGactS/G3TaQKcN1L9hjuCPs6jTv6eo5t6/Q9O/7cLsLcze0r8z3fJ82HnSv3n3+MvkFNK/vxH/GvGv0b8FLAVq/UrRv0tGC7kJ5tC/kWARCBaB0L/XehdXIhzQvzoqO0xdbs+/xl5H6nWkzr9Sk1OIjtrNv97HXyanEM2/avxrxL9GzL/0MHhi2HzLv4BlhADxssq/DJqQngnpyb+Yzpw8Ih/JvyQDqdo6Vci/sDe1eFOLx788bMEWbMHGv8igzbSE98W/VNXZUp0txb/gCebwtWPEv2w+8o7OmcO/+HL+LOfPwr+EpwrL/wXCvxDcFmkYPMG/nBAjBzFywL9Qil5Kk1C/v2jzdobEvL2/gFyPwvUovL8=",
          "dtype": "f8"
         },
         "xaxis": "x",
         "y": {
          "bdata": "qo0HRFhDA8CYoDnaqx4DwIaza3D/+QLAcsadBlPVAsBg2c+cprACwEzsATP6iwLAOv8zyU1nAsAoEmZfoUICwBUlmPX0HQLAAjjKi0j5AcDwSvwhnNQBwNxdLrjvrwHAynBgTkOLAcC3g5LklmYBwKSWxHrqQQHAkqn2ED4dAcB/vCinkfgAwGzPWj3l0wDAWuKM0zivAMBH9b5pjIoAwDQI8f/fZQDAIhsjljNBAMAPLlUshxwAwPiBDoW17/+/06dysVym/7+tzdbdA13/v4jzOgqrE/+/YhmfNlLK/r89PwNj+YD+vxhlZ4+gN/6/8orLu0fu/b/NsC/o7qT9v6fWkxSWW/2/gvz3QD0S/b9cIlxt5Mj8vzdIwJmLf/y/Em4kxjI2/L/sk4jy2ez7v8e57B6Bo/u/od9QSyha+798BbV3zxD7v1YrGaR2x/q/MFF90B1++r8Ld+H8xDT6v+WcRSls6/m/wMKpVROi+b+a6A2Culj5v3UOcq5hD/m/UDTW2gjG+L8qWjoHsHz4vwWAnjNXM/i/36UCYP7p97+6y2aMpaD3v5TxyrhMV/e/bxcv5fMN979KPZMRm8T2vyRj9z1Ce/a//4hbaukx9r/Zrr+WkOj1v7TUI8M3n/W/jvqH795V9b9pIOwbhgz1v0RGUEgtw/S/Hmy0dNR59L/4kRihezD0v9S3fM0i5/O/rt3g+cmd87+IA0UmcVTzv2MpqVIYC/O/Pk8Nf7/B8r8YdXGrZnjyv/Ka1dcNL/K/zsA5BLXl8b+o5p0wXJzxv4IMAl0DU/G/XTJmiaoJ8b84WMq1UcDwvxJ+LuL4dvC/7KOSDqAt8L+Pk+11jsjvv0Tftc7cNe+/+Sp+Jyuj7r+tdkaAeRDuv2LCDtnHfe2/Fw7XMRbr7L/MWZ+KZFjsv4GlZ+Oyxeu/NvEvPAEz67/rPPiUT6Dqv6CIwO2dDeq/VtSIRux66b8LIFGfOujov8BrGfiIVei/dbfhUNfC578qA6qpJTDnv+BOcgJ0nea/lJo6W8IK5r9K5gK0EHjlv/8xywxf5eS/tH2TZa1S5L8=",
          "dtype": "f8"
         },
         "yaxis": "y"
        },
        {
         "line": {
          "width": 0
         },
         "mode": "lines",
         "showlegend": false,
         "type": "scatter",
         "x": {
          "bdata": "CNejcD0K578r5CaYw9fmv07xqb9Jpea/cf4s589y5r+UC7AOVkDmv7cYMzbcDea/2iW2XWLb5b/9MjmF6KjlvyBAvKxuduW/Q00/1PRD5b9mWsL7ehHlv4lnRSMB3+S/rHTISoes5L/PgUtyDXrkv/KOzpmTR+S/FZxRwRkV5L84qdTon+Ljv1u2VxAmsOO/fsPaN6x947+h0F1fMkvjv8Td4Ia4GOO/5+pjrj7m4r8K+ObVxLPivy0Fav1KgeK/UBLtJNFO4r9zH3BMVxziv5Ys83Pd6eG/uTl2m2O34b/cRvnC6YThv/9TfOpvUuG/ImH/EfYf4b9FboI5fO3gv2h7BWECu+C/i4iIiIiI4L+ulQuwDlbgv9GijteUI+C/6F8j/jXi378ueilNQn3fv3SUL5xOGN+/uq4161qz3r8AyTs6Z07ev0XjQYlz6d2/i/1H2H+E3b/RF04njB/dvxcyVHaYuty/XUxaxaRV3L+jZmAUsfDbv+mAZmO9i9u/L5tssskm2791tXIB1sHav7vPeFDiXNq/Aep+n+732b9HBIXu+pLZv40eiz0HLtm/0ziRjBPJ2L8ZU5fbH2TYv19tnSos/9e/pYejeTia17/roanIRDXXvzG8rxdR0Na/d9a1Zl1r1r+98Lu1aQbWvwMLwgR2odW/SSXIU4I81b+PP86ijtfUv9VZ1PGactS/G3TaQKcN1L9hjuCPs6jTv6eo5t6/Q9O/7cLsLcze0r8z3fJ82HnSv3n3+MvkFNK/vxH/GvGv0b8FLAVq/UrRv0tGC7kJ5tC/kWARCBaB0L/XehdXIhzQvzoqO0xdbs+/xl5H6nWkzr9Sk1OIjtrNv97HXyanEM2/avxrxL9GzL/0MHhi2HzLv4BlhADxssq/DJqQngnpyb+Yzpw8Ih/JvyQDqdo6Vci/sDe1eFOLx788bMEWbMHGv8igzbSE98W/VNXZUp0txb/gCebwtWPEv2w+8o7OmcO/+HL+LOfPwr+EpwrL/wXCvxDcFmkYPMG/nBAjBzFywL9Qil5Kk1C/v2jzdobEvL2/gFyPwvUovL8=",
          "dtype": "f8"
         },
         "xaxis": "x",
         "y": {
          "bdata": "kBeGdxVm3z8QwPpivEXgP1h0Mgpu2OA/qChqsR9r4T/w3KFY0f3hP0CR2f+CkOI/iEURpzQj4z/Q+UhO5rXjPxyugPWXSOQ/aGK4nEnb5D+wFvBD+23lPwDLJ+usAOY/SH9fkl6T5j+UM5c5ECbnP+DnzuDBuOc/KJwGiHNL6D90UD4vJd7oP8AEdtbWcOk/CLmtfYgD6j9UbeUkOpbqP6AhHczrKOs/6NVUc5276z80iowaT07sP4A+xMEA4ew/yvL7aLJz7T8WpzMQZAbuP2Bba7cVme4/rA+jXscr7z/2w9oFeb7vPyA8iVaVKPA/RhYlKu5x8D9r8MD9RrvwP5HKXNGfBPE/tqT4pPhN8T/cfpR4UZfxPwFZMEyq4PE/JjPMHwMq8j9MDWjzW3PyP3HnA8e0vPI/l8Gfmg0G8z+8mztuZk/zP+J110G/mPM/CFBzFRji8z8tKg/pcCv0P1MEq7zJdPQ/eN5GkCK+9D+euOJjewf1P8OSfjfUUPU/6GwaCy2a9T8OR7beheP1PzMhUrLeLPY/WfvthTd29j9+1YlZkL/2P6SvJS3pCPc/yYnBAEJS9z/uY13Umpv3PxQ++afz5Pc/ORiVe0wu+D9f8jBPpXf4P4TMzCL+wPg/qqZo9lYK+T/PgATKr1P5P/RaoJ0Infk/GjU8cWHm+T9AD9hEui/6P2TpcxgTefo/isMP7GvC+j+wnau/xAv7P9V3R5MdVfs/+lHjZnae+z8gLH86z+f7P0YGGw4oMfw/auC24YB6/D+QulK12cP8P7aU7ogyDf0/226KXItW/T8ASSYw5J/9PyYjwgM96f0/TP1d15Uy/j9w1/mq7nv+P5axlX5Hxf4/vIsxUqAO/z/iZc0l+Vf/PwdAaflRof8/LBoFzarq/z8pelDQARoAQDxnHjquPgBATlTso1pjAEBhQboNB4gAQHQuiHezrABAhhtW4V/RAECZCCRLDPYAQKz18bS4GgFAv+K/HmU/AUDSz42IEWQBQOS8W/K9iAFA96kpXGqtAUAKl/fFFtIBQByExS/D9gFAL3GTmW8bAkA=",
          "dtype": "f8"
         },
         "yaxis": "y"
        },
        {
         "fill": "tonexty",
         "fillcolor": "rgba(255, 0, 0, 0.2)",
         "line": {
          "width": 0
         },
         "mode": "lines",
         "name": "95% CI",
         "type": "scatter",
         "x": {
          "bdata": "CNejcD0K578r5CaYw9fmv07xqb9Jpea/cf4s589y5r+UC7AOVkDmv7cYMzbcDea/2iW2XWLb5b/9MjmF6KjlvyBAvKxuduW/Q00/1PRD5b9mWsL7ehHlv4lnRSMB3+S/rHTISoes5L/PgUtyDXrkv/KOzpmTR+S/FZxRwRkV5L84qdTon+Ljv1u2VxAmsOO/fsPaN6x947+h0F1fMkvjv8Td4Ia4GOO/5+pjrj7m4r8K+ObVxLPivy0Fav1KgeK/UBLtJNFO4r9zH3BMVxziv5Ys83Pd6eG/uTl2m2O34b/cRvnC6YThv/9TfOpvUuG/ImH/EfYf4b9FboI5fO3gv2h7BWECu+C/i4iIiIiI4L+ulQuwDlbgv9GijteUI+C/6F8j/jXi378ueilNQn3fv3SUL5xOGN+/uq4161qz3r8AyTs6Z07ev0XjQYlz6d2/i/1H2H+E3b/RF04njB/dvxcyVHaYuty/XUxaxaRV3L+jZmAUsfDbv+mAZmO9i9u/L5tssskm2791tXIB1sHav7vPeFDiXNq/Aep+n+732b9HBIXu+pLZv40eiz0HLtm/0ziRjBPJ2L8ZU5fbH2TYv19tnSos/9e/pYejeTia17/roanIRDXXvzG8rxdR0Na/d9a1Zl1r1r+98Lu1aQbWvwMLwgR2odW/SSXIU4I81b+PP86ijtfUv9VZ1PGactS/G3TaQKcN1L9hjuCPs6jTv6eo5t6/Q9O/7cLsLcze0r8z3fJ82HnSv3n3+MvkFNK/vxH/GvGv0b8FLAVq/UrRv0tGC7kJ5tC/kWARCBaB0L/XehdXIhzQvzoqO0xdbs+/xl5H6nWkzr9Sk1OIjtrNv97HXyanEM2/avxrxL9GzL/0MHhi2HzLv4BlhADxssq/DJqQngnpyb+Yzpw8Ih/JvyQDqdo6Vci/sDe1eFOLx788bMEWbMHGv8igzbSE98W/VNXZUp0txb/gCebwtWPEv2w+8o7OmcO/+HL+LOfPwr+EpwrL/wXCvxDcFmkYPMG/nBAjBzFywL9Qil5Kk1C/v2jzdobEvL2/gFyPwvUovL8=",
          "dtype": "f8"
         },
         "xaxis": "x",
         "y": {
          "bdata": "I+9/m7k5FcCa+JhmYycVwBECsjENFRXAhwvL/LYCFcD+FOTHYPAUwHQe/ZIK3hTA6ycWXrTLFMBiMS8pXrkUwNg6SPQHpxTAT0Rhv7GUFMDGTXqKW4IUwDxXk1UFcBTAs2CsIK9dFMAqasXrWEsUwKBz3rYCORTAF333gawmFMCOhhBNVhQUwASQKRgAAhTAe5lC46nvE8DyoluuU90TwGisdHn9yhPA37WNRKe4E8BWv6YPUaYTwMzIv9r6kxPAQ9LYpaSBE8C52/FwTm8TwDDlCjz4XBPApu4jB6JKE8Ad+DzSSzgTwJQBVp31JRPACgtvaJ8TE8CBFIgzSQETwPgdof7y7hLAbie6yZzcEsDlMNOURsoSwFw67F/wtxLA0kMFK5qlEsBJTR72Q5MSwMBWN8HtgBLANmBQjJduEsCtaWlXQVwSwCRzgiLrSRLAmnyb7ZQ3EsARhrS4PiUSwIePzYPoEhLA/pjmTpIAEsB0ov8ZPO4RwOurGOXl2xHAYrUxsI/JEcDYvkp7ObcRwE/IY0bjpBHAxtF8EY2SEcA825XcNoARwLPkrqfgbRHAKu7HcopbEcCg9+A9NEkRwBcB+gjeNhHAjgoT1IckEcAEFCyfMRIRwHsdRWrb/xDA8iZeNYXtEMBoMHcAL9sQwN85kMvYyBDAVkOploK2EMDMTMJhLKQQwENW2yzWkRDAul/0939/EMAwaQ3DKW0QwKdyJo7TWhDAHnw/WX1IEMCUhVgkJzYQwAqPce/QIxDAgpiKunoREMDwQ0cLSf4PwN1WeaGc2Q/AymmrN/C0D8C4fN3NQ5APwKWPD2SXaw/AkqJB+upGD8CAtXOQPiIPwG3IpSaS/Q7AWtvXvOXYDsBH7glTObQOwDQBPOmMjw7AIhRuf+BqDsAPJ6AVNEYOwPw50quHIQ7A6kwEQtv8DcDXXzbYLtgNwMRyaG6Csw3AsoWaBNaODcCfmMyaKWoNwIyr/jB9RQ3Aeb4wx9AgDcBm0WJdJPwMwFTklPN31wzAQffGicuyDMAuCvkfH44MwBwdK7ZyaQzACTBdTMZEDMA=",
          "dtype": "f8"
         },
         "yaxis": "y"
        },
        {
         "customdata": {
          "bdata": "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",
          "dtype": "f8",
          "shape": "149, 2"
         },
         "error_y": {
          "array": {
           "bdata": "sVwMIOz38z8Utcn7IXP4PzpC2H1IYfU/CwiEANq28z+xx96iDXjzP/Ybg+BmWvM/4tDxMTZW3D/I1HwfxoH2P3YXp4Y92PQ/WuLRb45O/D/tYlAIEWb2P8KSH+92BvY/rbZFLJW+9T9mdca7LGz2PwlBlm+MAPc/AYqhmarl+D/LO2lpQbX0P6ijGRNy4hNASqG3SPq0DEA8QRC9JJUIQJAyBfuH+Ps/dHvmHCRCCkAio5W2rhj4P2Il1KZvwx5AlHdFuqNmDUDkIf41EhoPQLizuZyb1QJAWLm/wO9+EkCaModqbUDwP/vFBab6M/A/xkAUeymF8j/RFffvg2PwPyKHWHdmj/A/XGGxw+Fa9D/QQ+Wd90r7P1xG7qfyyQBAxHKXAf+IBECcfRaW0Xv5P4S/IeUHmvA/CDtlrNiR/T+K7N1a2aTqPyo29F80h+k/NmjNrnNi4j/6xXyk1A/yP0pUqO0ZCfM/zluceele9z8qeaCSzbMCQCbDTcL1Uv4/AAx56SfLAkC9e4reGPP3P/l/Z/ZuDgJApbudey8A9T8OdewxzSP0P5TrXSdXsvM/JtsIPY5m+T8ePTbe2vbgP42lN/t2ufA/VH68zV4L8T8bNKDfBULyP7pzIxAMheE/MsrswezG3z8suY5du5ffP9L+TON7Fd8/uKqwU1PS4j80B+cvIZ7iPwTYULQ6feU/xhbujvp48z+qwpkLyBn4P/q3MK0Gq/M/OzyA+6DA9T+wbAvPKEz2PwvvRZztVvY/6nPdv0Z81z8daYUfaXPxP1eJ2M/Rkuk/ZNi1JaXQ8T99I4qhDFnyP8e2XcOHWuA/D39SfRkQ8j+Bn042U5rkPyR8DtL7DOw/LPsQFxs67D8NdasNjMDjP8FrNp3qleI/uofTFiD+7z/b5IE1+ijhP6gACWlsxOA/+6Y2zklO7j9DcXD7QuruP2+/CNKceOg/IAn5/plC3z/4PbEJFwryPxSNBxCWaO0/vXwL4QDq8T8IYjgG0dYAQPqNrPVhagFAYOSFoNpb8j/ShWggNAv1PwOCbTl+NPQ/8cONE+Th9D+STHR5+cT0PyQRRBNWjfQ/V3svg8dk9D/pjcHmGRj0P84CU+J0p/g/GDXu0OVQ9D/cTo+G8PHzP1GeVtjh6/M/VqhyIj27/j/u5WqMGyT1P7deippq8fM/ry7uGZjs8z9miEH1QfbzPwaWmgiL0PQ/fJTHBwGZ9D+WGnFFif/zP3WmLFezSvU/tGcTRzzv8z9WdEi/UCj0P5AZUpyL+vQ/J2pqV6QE9D+CDaIP9VwKQMTAccIrOgZA8KLT8bBd8z89mnkMWrHzP9kCguu5BPc/ZsvPCL8A+j/9QeKp8ar2P4bO7IdqbPY/088p1lSy9j/u1lu0eIf2P6ipdG290fE/cOe2Ox0A8D/MRo7JW5HrPwvQVS5RXew/7/StGZrk7D9j2dooJxztP7tllc8pWOw//OhkNDDa8D/+JAz9yyvtP9kl3Kvw1fI/hIRAjcTw7z+BJnB2FSbxP1Dp1MsJGfA/fzPXo8MN9z8ismYjj0jzP82TxjVgUPM/rSKMeDpI8z8yKYF5aW0BQA==",
           "dtype": "f8"
          },
          "color": "blue",
          "thickness": 1,
          "type": "data",
          "visible": true,
          "width": 5
         },
         "hovertemplate": "ΔpH (Total): %{x}<br>Hedges' g: %{y}<br>Treatment Calcification: %{customdata[0]:.4f}<br>Control Calcification: %{customdata[1]:.4f}<br>DOI: %{text}<extra></extra>",
         "marker": {
          "color": "blue",
          "line": {
           "color": "black",
           "width": 1
          },
          "opacity": 0.5,
          "size": 10
         },
         "mode": "markers",
         "name": "Data points",
         "text": [
          "10.1007/s00227-016-2986-8",
          "10.1007/s00227-016-2986-8",
          "10.1007/s00227-016-2986-8",
          "10.1007/s00227-016-2986-8",
          "10.1007/s00338-012-0952-6",
          "10.1007/s00338-012-0952-6",
          "10.1007/s00338-017-1634-1",
          "10.1007/s00338-020-01995-7",
          "10.1007/s00338-020-01995-7",
          "10.1007/s00338-020-01995-7",
          "10.1007/s00338-020-01995-7",
          "10.1007/s00338-020-01995-7",
          "10.1007/s00338-020-01995-7",
          "10.1007/s00338-020-01995-7",
          "10.1007/s00338-020-01995-7",
          "10.1007/s10126-018-9864-y",
          "10.1007/s10126-018-9864-y",
          "10.1007/s13131-022-2037-x",
          "10.1007/s13131-022-2037-x",
          "10.1007/s13131-022-2037-x",
          "10.1016/j.chemgeo.2018.09.004",
          "10.1016/j.chemgeo.2018.09.004",
          "10.1016/j.chemgeo.2018.09.004",
          "10.1016/j.chemgeo.2018.09.004",
          "10.1016/j.chemgeo.2018.09.004",
          "10.1016/j.chemgeo.2018.09.004",
          "10.1016/j.chemgeo.2018.09.004",
          "10.1016/j.chemgeo.2018.09.004",
          "10.1016/j.ecochg.2021.100016",
          "10.1016/j.ecochg.2021.100016",
          "10.1016/j.ecochg.2021.100016",
          "10.1016/j.ecochg.2021.100016",
          "10.1016/j.ecochg.2021.100016",
          "10.1016/j.ecochg.2021.100016",
          "10.1016/j.ecochg.2021.100016",
          "10.1016/j.ecochg.2021.100016",
          "10.1016/j.ecochg.2021.100016",
          "10.1016/j.ecochg.2021.100016",
          "10.1016/j.ecochg.2021.100016",
          "10.1016/j.ecochg.2021.100016",
          "10.1016/j.jembe.2016.10.002",
          "10.1016/j.jembe.2016.10.002",
          "10.1016/j.jembe.2016.10.002",
          "10.1016/j.jembe.2019.151225",
          "10.1016/j.jembe.2019.151225",
          "10.1016/j.jembe.2019.151225",
          "10.1016/j.jembe.2020.151489",
          "10.1016/j.jembe.2020.151489",
          "10.1016/j.jembe.2020.151489",
          "10.1016/j.jembe.2020.151489",
          "10.1016/j.jembe.2020.151489",
          "10.1016/j.jembe.2020.151489",
          "10.1016/j.jembe.2020.151489",
          "10.1016/j.jembe.2020.151489",
          "10.1016/j.jembe.2020.151489",
          "10.1016/j.marenvres.2023.106150",
          "10.1016/j.marpolbul.2018.11.053",
          "10.1016/j.marpolbul.2018.11.053",
          "10.1016/j.marpolbul.2018.11.053",
          "10.1029/2020JG005726",
          "10.1038/s41598-019-40620-8",
          "10.1038/s41598-019-40620-8",
          "10.1038/s41598-019-40620-8",
          "10.1038/s41598-022-06896-z",
          "10.1038/s41598-022-06896-z",
          "10.1038/s41598-022-06896-z",
          "10.1038/s42003-022-04353-1",
          "10.1038/s42003-022-04353-1",
          "10.1038/s42003-022-04353-1",
          "10.1038/s42003-022-04353-1",
          "10.1098/rsos.170683",
          "10.1098/rsos.170683",
          "10.1098/rspb.2021.0923",
          "10.1111/gcb.13481-LOC-A",
          "10.1111/gcb.13481-LOC-B",
          "10.1111/gcb.13481-LOC-B",
          "10.1111/gcb.13481-LOC-B",
          "10.1111/gcb.13481-LOC-B",
          "10.1111/gcb.13481-LOC-B",
          "10.1111/gcb.13481-LOC-B",
          "10.1111/gcb.13481-LOC-B",
          "10.1111/gcb.13481-LOC-B",
          "10.1111/gcb.13481-LOC-B",
          "10.1111/gcb.13481-LOC-B",
          "10.1111/gcb.13481-LOC-C",
          "10.1111/gcb.13481-LOC-C",
          "10.1111/gcb.13481-LOC-C",
          "10.1111/gcb.13481-LOC-C",
          "10.1111/gcb.13481-LOC-D",
          "10.1111/gcb.13481-LOC-D",
          "10.1111/gcb.13481-LOC-D",
          "10.1111/gcb.14998",
          "10.1111/gcb.14998",
          "10.1111/jpy.13290",
          "10.1111/jpy.13290",
          "10.1111/jpy.13290",
          "10.1111/jpy.13290",
          "10.1111/maec.12444",
          "10.1111/maec.12444",
          "10.1111/maec.12444",
          "10.1111/maec.12444",
          "10.1111/maec.12444",
          "10.1111/maec.12444",
          "10.1111/maec.12444",
          "10.1111/maec.12444",
          "10.1111/maec.12444",
          "10.1111/maec.12444",
          "10.1111/maec.12444",
          "10.1111/maec.12444",
          "10.1111/maec.12444",
          "10.1111/maec.12444",
          "10.1111/maec.12444",
          "10.1111/maec.12444",
          "10.1111/maec.12444",
          "10.1111/maec.12444",
          "10.1111/maec.12444",
          "10.1111/maec.12444",
          "10.1111/maec.12444",
          "10.1111/maec.12444",
          "10.1111/maec.12444",
          "10.1111/maec.12444",
          "10.3354/meps09309",
          "10.3354/meps09309",
          "10.3354/meps10981",
          "10.3354/meps10981",
          "10.3354/meps10981",
          "10.3354/meps10981",
          "10.3354/meps11591",
          "10.3354/meps11591",
          "10.3354/meps11591",
          "10.3354/meps11591",
          "10.3389/fmars.2021.644965",
          "10.3389/fmars.2021.644965",
          "10.3389/fmars.2022.872631",
          "10.3389/fmars.2022.872631",
          "10.3389/fmars.2022.872631",
          "10.3389/fmars.2022.872631",
          "10.3389/fmars.2022.872631",
          "10.3389/fmars.2022.872631",
          "10.3390/jmse10081106",
          "10.3390/jmse10081106",
          "10.3390/jmse10081106",
          "10.3390/jmse10081106",
          "10.3390/jmse10081106",
          "10.3390/jmse10081106",
          "10.3390/jmse9070739",
          "10.3390/jmse9070739",
          "10.3390/jmse9070739",
          "10.5194/bg-17-887-2020"
         ],
         "type": "scatter",
         "x": {
          "bdata": "cGZmZmZm1r9wZmZmZmbWv3BmZmZmZta/cGZmZmZm1r+QmZmZmZnZv5CZmZmZmdm/0KNwPQrX07/wUbgehevRv/BRuB6F69G/mJmZmZmZ4b+YmZmZmZnhv+CjcD0K19O/kML1KFyP4r/wUbgehevRv5DC9Shcj+K/MDMzMzMz478wMzMzMzPjv5D2iWP7INy/0I2/q2yF278Qw4+u/SrcvwAAAAAAANC/AAAAAAAA0L8QrkfhehTevxCuR+F6FN6/AAAAAAAA0L8AAAAAAADQvxCuR+F6FN6/EK5H4XoU3r/gUbgehevRv7D1KFyPwtW/YD0K16Nw3b/gUbgehevRv7D1KFyPwtW/YD0K16Nw3b/gUbgehevRv7D1KFyPwtW/YD0K16Nw3b/gUbgehevRv7D1KFyPwtW/YD0K16Nw3b8AKVyPwvXYvwApXI/C9di/QFyPwvUozL/gUbgehevBv6AehetRuM6/oEfhehSu178AKVyPwvXYv+AoXI/C9di/ULgehetR2L+gmZmZmZnZv1C4HoXrUdi/8Chcj8L12L9wZmZmZmbWv8BH4XoUrte/sEfhehSu179g/cAmclnYv2CiKBzI7dG/4L0t97NB0b9A/SEX8dXRv7BJDAIrh+K/ILByaJHt1L8gsHJoke3UvyCwcmiR7dS/gBSuR+F6xL+AFK5H4XrEv4AUrkfhesS/wBqPP66Vyb/AGo8/rpXJv8Aajz+ulcm/wBqPP66Vyb/wUbgehevRv/BRuB6F69G/oG0KjVTm078wMzMzMzPTvwAAAAAAAOC/AAAAAAAA4L8AAAAAAADgvzAzMzMzM9O/AAAAAAAA4L8AAAAAAADgvzAzMzMzM9O/AAAAAAAA4L8wMzMzMzPTvwAAAAAAAOC/MDMzMzMz078AAAAAAADgvzAzMzMzM9O/MDMzMzMz078wMzMzMzPTvwAAAAAAAOC/MDMzMzMz078A06YO7GjNvwDTpg7saM2/gOtRuB6F07+A61G4HoXTv4DrUbgehdO/gOtRuB6F07+AXI/C9Si8v2C4HoXrUci/AFK4HoXr0b9wZmZmZmbWv4Bcj8L1KLy/YLgehetRyL8AUrgehevRv3BmZmZmZta/gFyPwvUovL9guB6F61HIvwBSuB6F69G/cGZmZmZm1r+AXI/C9Si8v2C4HoXrUci/AFK4HoXr0b9wZmZmZmbWv4Bcj8L1KLy/YLgehetRyL8AUrgehevRv3BmZmZmZta/gFyPwvUovL9guB6F61HIvwBSuB6F69G/cGZmZmZm1r/QfMpXg5fZv2Bmp/Kbq9e/gBSuR+F61L8oXI/C9Sjkv4AUrkfhetS/KFyPwvUo5L/giSjYKoPJv2DhYp35bdS/4Iko2CqDyb9g4WKd+W3Uv9B6FK5H4dq/CNejcD0K579AOr4rsA3Hv0A6viuwDce/QDq+K7ANx79AOr4rsA3Hv0A6viuwDce/QDq+K7ANx7+AevFMS0DNvxDAD+olxOS/gHrxTEtAzb8QwA/qJcTkv4B68UxLQM2/EMAP6iXE5L+APQrXo3DNv4A9CtejcM2/gD0K16Nwzb+gcD0K16Pgvw==",
          "dtype": "f8"
         },
         "xaxis": "x",
         "y": {
          "bdata": "lNthz5yx279IuRQNpVD/v6qnhQag7fG/i0BeS901qr/BOLnw7vbVv/Ax8OAbCss/IaPDTQkR4r9gKkEd7Zbrv5YbT/hZVbq/HHDCDoTx/r+2JyxXGKjqv1O1qozej9m/9Ap7uucGub+tgufLHlOQP1aTi+7Nteu/qWA5GzkD+T8v0A1VTXvVv/0T5E3E+iDAQ69NcwKzF8AwIlj6rb8TwBDy/rWkIv+/RIwPU0TPEcCmXZLzJGvyvwcEswOqdSjAMLrooosuFsBScBqPwfMZwITSgVi77wvA7DpKjoRpH8DdMl/8kgTUv/obB4clvrg/ZyJ9z0B7BMA+YIGVpIflv7BVXRFFX++/WlVIEkkfDMA/qfgGjLsYwA5YdCcExyDA7Bp6002HJcAtjPRi3iUWwNyo79gzk/C/7hRVSeo4HMDa5i2IsYrNP4xgl2qnvdo/ZpF1VCc1tr/KWqtYzMf9v+UGl3dqOwHAIcEaNq0SCsCRly/ga1oQwItlfU3Q4QfAiJGe8DR2EMDF69qMh/38v5NrgfllKA/AYz9uABT78D/pphRpDLznvwLpYtwYaOC/xdexNEzfAMDd8XB8DPjzv1Qmjk2UJLk/Tmj5/8S64L9h+8Y5y1/yv6Mn55eh+va/WnDQJ2Fu5D82BUsMUuThv/MmVoxIhs2/zB4pwDURx7+GLS19lHPDvzhPlWFuGeO/8Sw/ulct1j9B2IWE4IH9P17jOFaKpt+/dYNsJzaM9L/p192t7hnAP8k6FPNk4cE/jLxl2FeV3r/RsWL0tU7Sv1+1p/3P9+a/3ClHU1m90T9qLOqvLqvnP8Kwfb/Xhdu/M3rqEwtw0b8NkoCiO2nKv/GucTI56tQ/7GAx8U+E3b9QbPoZhkTYv6/HofbeEcS/CYv5AhVLsj+eS3Ck9LHdv8zpveH4SuO/3egByrNHzD/TTO0hvtLKP8UZWty8n6U/aSaL9Y+OvT88F6b+war9vylg44gWLQnAAAAAAAAAAACVjv8PnkQQwJWFBRomChHAHO8XdjBU4r+QxtWSYsLrP+opcDQC39s/Nw5AWRKm6T+1UQOPfxLov70jGNidu+S/JojcHS7w4b9rZqRjjeLVv17udBlvqf2/0DMQF4ln4L+TrP64lAXCPzlVv0OFILE/ickwqkfiB8Cpje1t8vbsP5FbrDOWaMG/D+/1/QFJtD/LpnD1b3TGPwjBUBrItui/dZfYDiR55b8g/yBHetbNvy6lVtPXv+6/zJfk0Y4nvT9TAeuu9XjZP51VjGMe7eq/5QqJNiSb0D9feiVcxwkZwC7GsvXCbxTApHD0ZL5jzb8cd2/5RlTgvw1rVak2qPm/2uDgd1DNAcDCmIDUCjTgP6Rk/0ifnLk/0UXjCYka4T9VKPheKtPVv8hbbLmQify/Cr2ZD5Bg8b8343ZOhI3Sv6Q32r8bPsC/m6y33mxS4b8Lw6JLy8ftv8Ny1cpxxuC/QueZQVyl1b9RgV43pXDWPykVT/H88gFAJtFOEu0k8b81EDK6E8blP4RJ0qJ0UuU/Fp3orC73BkDowU+FDC2dv1+tkM2CGMI/9CQDl+7IUb/Xgq6WKhcXwA==",
          "dtype": "f8"
         },
         "yaxis": "y"
        },
        {
         "line": {
          "color": "black",
          "dash": "dash",
          "width": 1
         },
         "mode": "lines",
         "name": "Hedges' g = 0",
         "type": "scatter",
         "x": [
          -0.7199999999999998,
          -0.11000000000000121
         ],
         "xaxis": "x",
         "y": [
          0,
          0
         ],
         "yaxis": "y"
        },
        {
         "line": {
          "color": "red"
         },
         "mode": "lines",
         "name": "y = 0.24x + -1.31",
         "type": "scatter",
         "x": {
          "bdata": "4HoUrkfh+j8oXI/C9Sj8P289CtejcP0/tx6F61G4/j/+////////P6NwPQrXowBAR+F6FK5HAUDrUbgehesBQI7C9ShcjwJAMjMzMzMzA0DWo3A9CtcDQHoUrkfhegRAHoXrUbgeBUDC9Shcj8IFQGZmZmZmZgZACdejcD0KB0CtR+F6FK4HQFG4HoXrUQhA9Chcj8L1CECYmZmZmZkJQDwK16NwPQpA4HoUrkfhCkCE61G4HoULQChcj8L1KAxAzMzMzMzMDEBwPQrXo3ANQBOuR+F6FA5Atx6F61G4DkBbj8L1KFwPQP///////w9AUbgehetREECjcD0K16MQQPUoXI/C9RBAR+F6FK5HEUCZmZmZmZkRQOpRuB6F6xFAPArXo3A9EkCOwvUoXI8SQOB6FK5H4RJAMjMzMzMzE0CE61G4HoUTQNajcD0K1xNAKFyPwvUoFEB6FK5H4XoUQMzMzMzMzBRAHoXrUbgeFUBwPQrXo3AVQML1KFyPwhVAFK5H4XoUFkBmZmZmZmYWQLgehetRuBZACdejcD0KF0Bbj8L1KFwXQK1H4XoUrhdA////////F0BRuB6F61EYQKNwPQrXoxhA9Shcj8L1GEBH4XoUrkcZQJiZmZmZmRlA6lG4HoXrGUA8CtejcD0aQI7C9ShcjxpA4HoUrkfhGkAyMzMzMzMbQITrUbgehRtA1qNwPQrXG0AoXI/C9SgcQHoUrkfhehxAzMzMzMzMHEAdhetRuB4dQG89CtejcB1AwfUoXI/CHUATrkfhehQeQGVmZmZmZh5Atx6F61G4HkAJ16NwPQofQFuPwvUoXB9ArUfhehSuH0D///////8fQChcj8L1KCBAUbgehetRIEB6FK5H4XogQKNwPQrXoyBAzMzMzMzMIED1KFyPwvUgQB6F61G4HiFAR+F6FK5HIUBwPQrXo3AhQJmZmZmZmSFAwvUoXI/CIUDqUbgeheshQBSuR+F6FCJAPArXo3A9IkBmZmZmZmYiQI7C9ShcjyJAuB6F61G4IkDgehSuR+EiQArXo3A9CiNAMjMzMzMzI0A=",
          "dtype": "f8"
         },
         "xaxis": "x2",
         "y": {
          "bdata": "OrsIFgPz7L+uYqbpSFPsvyMKRL2Os+u/lrHhkNQT678LWX9kGnTqv38AHThg1Om/86e6C6Y06b9nT1jf65Tov9v29bIx9ee/T56ThndV57/DRTFavbXmvzftzi0DFua/q5RsAUl25b8fPArVjtbkv5Ljp6jUNuS/B4tFfBqX4797MuNPYPfiv+/ZgCOmV+K/ZIEe9+u34b/YKLzKMRjhv0vQWZ53eOC/fu/u43qx379mPiqLBnLev06NZTKSMt2/Ntyg2R3z278eK9yAqbPavwZ6Fyg1dNm/7shSz8A02L/WF452TPXWv75myR3YtdW/qLUExWN21L+QBEBs7zbTv3hTexN799G/YKK2uga40L+Q4uPDJPHOv2CAWhI8csy/MB7RYFPzyb8AvEevanTHv9BZvv2B9cS/oPc0TJl2wr/gKlc1Ye+/v4BmRNKP8bq/IKIxb77ztb/A3R4M7fWwv8AyGFI38Ke/AFTlFynpm78ACmkujsd/vwCeYQHECog/wOD7jKf8nz8geaOM9vmpP/CAZKnM+rE/QEV3DJ74tj+gCYpvb/a7PwBnTmkgesA/MMnXGgn5wj9gK2HM8XfFP5CN6n3a9sc/wO9zL8N1yj/wUf3gq/TMPxi0hpKUc88/KAsIoj750D9AvMz6sjjSP1htkVMneNM/cB5WrJu31D+IzxoFEPfVP6CA312ENtc/uDGktvh12D/Q4mgPbbXZP+iTLWjh9No/AEXywFU03D8U9rYZynPdPyyne3I+s94/RFhAy7Ly3z+whAKSE5ngPzzdZL7NOOE/yDXH6ofY4T9UjikXQnjiP+Dmi0P8F+M/bD/ub7a34z/4l1CccFfkP4Lwssgq9+Q/DkkV9eSW5T+aoXchnzbmPyb62U1Z1uY/slI8ehN25z8+q56mzRXoP8oDAdOHteg/Vlxj/0FV6T/itMUr/PTpP24NKFi2lOo/+mWKhHA06z+GvuywKtTrPxYXT93kc+w/nm+xCZ8T7T8uyBM2WbPtP7YgdmITU+4/RnnYjs3y7j/O0Tq7h5LvPy+VzvMgGfA/c8H/Cf5o8D8=",
          "dtype": "f8"
         },
         "yaxis": "y2"
        },
        {
         "line": {
          "width": 0
         },
         "mode": "lines",
         "showlegend": false,
         "type": "scatter",
         "x": {
          "bdata": "4HoUrkfh+j8oXI/C9Sj8P289CtejcP0/tx6F61G4/j/+////////P6NwPQrXowBAR+F6FK5HAUDrUbgehesBQI7C9ShcjwJAMjMzMzMzA0DWo3A9CtcDQHoUrkfhegRAHoXrUbgeBUDC9Shcj8IFQGZmZmZmZgZACdejcD0KB0CtR+F6FK4HQFG4HoXrUQhA9Chcj8L1CECYmZmZmZkJQDwK16NwPQpA4HoUrkfhCkCE61G4HoULQChcj8L1KAxAzMzMzMzMDEBwPQrXo3ANQBOuR+F6FA5Atx6F61G4DkBbj8L1KFwPQP///////w9AUbgehetREECjcD0K16MQQPUoXI/C9RBAR+F6FK5HEUCZmZmZmZkRQOpRuB6F6xFAPArXo3A9EkCOwvUoXI8SQOB6FK5H4RJAMjMzMzMzE0CE61G4HoUTQNajcD0K1xNAKFyPwvUoFEB6FK5H4XoUQMzMzMzMzBRAHoXrUbgeFUBwPQrXo3AVQML1KFyPwhVAFK5H4XoUFkBmZmZmZmYWQLgehetRuBZACdejcD0KF0Bbj8L1KFwXQK1H4XoUrhdA////////F0BRuB6F61EYQKNwPQrXoxhA9Shcj8L1GEBH4XoUrkcZQJiZmZmZmRlA6lG4HoXrGUA8CtejcD0aQI7C9ShcjxpA4HoUrkfhGkAyMzMzMzMbQITrUbgehRtA1qNwPQrXG0AoXI/C9SgcQHoUrkfhehxAzMzMzMzMHEAdhetRuB4dQG89CtejcB1AwfUoXI/CHUATrkfhehQeQGVmZmZmZh5Atx6F61G4HkAJ16NwPQofQFuPwvUoXB9ArUfhehSuH0D///////8fQChcj8L1KCBAUbgehetRIEB6FK5H4XogQKNwPQrXoyBAzMzMzMzMIED1KFyPwvUgQB6F61G4HiFAR+F6FK5HIUBwPQrXo3AhQJmZmZmZmSFAwvUoXI/CIUDqUbgeheshQBSuR+F6FCJAPArXo3A9IkBmZmZmZmYiQI7C9ShcjyJAuB6F61G4IkDgehSuR+EiQArXo3A9CiNAMjMzMzMzI0A=",
          "dtype": "f8"
         },
         "xaxis": "x2",
         "y": {
          "bdata": "e/F5STLA5b/vmBcdeCDlv2RAtfC9gOS/1+dSxAPh479Mj/CXSUHjv8A2jmuPoeK/NN4rP9UB4r+ohckSG2LhvxwtZ+ZgwuC/kNQEuqYi4L8I+EQb2QXfv/BGgMJkxt2/2JW7afCG3L/A5PYQfEfbv6YzMrgHCNq/kIJtX5PI2L940agGH4nXv2Ag5K2qSda/Sm8fVTYK1b8yvlr8wcrTvxgNlqNNi9K/AFzRStlL0b/oqgzyZAzQv6DzjzLhmc2/cJEGgfgay79AL33PD5zIvxDN8x0nHca/4GpqbD6ew7+wCOG6VR/BvwBNrxLaQL2/qIicrwhDuL9IxIlMN0Wzv9D/7dLLjqy/EHfIDCmTor+g3EWNDC+RvwCnKfjHQWY/YEZQi36/lj/wq80LYlulP7A089EEV68/uF4MzFOptD8YIx8vJae5P3jnMZL2pL4/7FWi+mPRwT8cuCusTFDEP0watV01z8Y/fHw+Dx5OyT+s3sfABs3LP9xAUXLvS84/ilHtEWxl0D+iArJq4KTRP7qzdsNU5NI/zmQ7HMkj1D/mFQB1PWPVP/7GxM2xotY/FniJJibi1z8uKU5/miHZP0baEtgOYdo/XovXMIOg2z92PJyJ99/cP4rtYOJrH94/pp4lO+Be3z/fJ/VJKk/gP2uAV3bk7uA/99i5op6O4T+DMRzPWC7iPw+KfvsSzuI/m+LgJ81t4z8nO0NUhw3kP7OTpYBBreQ/P+wHrftM5T/JRGrZtezlP1WdzAVwjOY/4fUuMios5z9vTpFe5MvnP/um84qea+g/h/9Vt1gL6T8TWLjjEqvpP5+wGhDNSuo/Kwl9PIfq6j+3Yd9oQYrrP0G6QZX7Kew/zRKkwbXJ7D9Zawbub2ntP+XDaBoqCe4/cRzLRuSo7j/9dC1znkjvP4nNj59Y6O8/ChP5ZQlE8D9QPyp85pPwP5ZrW5LD4/A/3JeMqKAz8T8ixL2+fYPxP2rw7tRa0/E/rhwg6zcj8j/2SFEBFXPyPzp1ghfywvI/gqGzLc8S8z/GzeRDrGLzPw76FVqJsvM/UiZHcGYC9D8=",
          "dtype": "f8"
         },
         "yaxis": "y2"
        },
        {
         "fill": "tonexty",
         "fillcolor": "rgba(255, 0, 0, 0.2)",
         "line": {
          "width": 0
         },
         "mode": "lines",
         "name": "95% CI",
         "type": "scatter",
         "x": {
          "bdata": "4HoUrkfh+j8oXI/C9Sj8P289CtejcP0/tx6F61G4/j/+////////P6NwPQrXowBAR+F6FK5HAUDrUbgehesBQI7C9ShcjwJAMjMzMzMzA0DWo3A9CtcDQHoUrkfhegRAHoXrUbgeBUDC9Shcj8IFQGZmZmZmZgZACdejcD0KB0CtR+F6FK4HQFG4HoXrUQhA9Chcj8L1CECYmZmZmZkJQDwK16NwPQpA4HoUrkfhCkCE61G4HoULQChcj8L1KAxAzMzMzMzMDEBwPQrXo3ANQBOuR+F6FA5Atx6F61G4DkBbj8L1KFwPQP///////w9AUbgehetREECjcD0K16MQQPUoXI/C9RBAR+F6FK5HEUCZmZmZmZkRQOpRuB6F6xFAPArXo3A9EkCOwvUoXI8SQOB6FK5H4RJAMjMzMzMzE0CE61G4HoUTQNajcD0K1xNAKFyPwvUoFEB6FK5H4XoUQMzMzMzMzBRAHoXrUbgeFUBwPQrXo3AVQML1KFyPwhVAFK5H4XoUFkBmZmZmZmYWQLgehetRuBZACdejcD0KF0Bbj8L1KFwXQK1H4XoUrhdA////////F0BRuB6F61EYQKNwPQrXoxhA9Shcj8L1GEBH4XoUrkcZQJiZmZmZmRlA6lG4HoXrGUA8CtejcD0aQI7C9ShcjxpA4HoUrkfhGkAyMzMzMzMbQITrUbgehRtA1qNwPQrXG0AoXI/C9SgcQHoUrkfhehxAzMzMzMzMHEAdhetRuB4dQG89CtejcB1AwfUoXI/CHUATrkfhehQeQGVmZmZmZh5Atx6F61G4HkAJ16NwPQofQFuPwvUoXB9ArUfhehSuH0D///////8fQChcj8L1KCBAUbgehetRIEB6FK5H4XogQKNwPQrXoyBAzMzMzMzMIED1KFyPwvUgQB6F61G4HiFAR+F6FK5HIUBwPQrXo3AhQJmZmZmZmSFAwvUoXI/CIUDqUbgeheshQBSuR+F6FCJAPArXo3A9IkBmZmZmZmYiQI7C9ShcjyJAuB6F61G4IkDgehSuR+EiQArXo3A9CiNAMjMzMzMzI0A=",
          "dtype": "f8"
         },
         "xaxis": "x2",
         "y": {
          "bdata": "fMJL8ekS8r82lhrbDMPxv/Fp6cQvc/G/qj24rlIj8b9lEYeYddPwvx/lVYKYg/C/2bgkbLsz8L8mGeervMfvv5rAhH8CKO+/DmgiU0iI7r+CD8Amjujtv/a2XfrTSO2/al77zRmp7L/eBZmhXwnsv1GtNnWlaeu/xlTUSOvJ6r86/HEcMSrqv66jD/B2ium/I0utw7zq6L+X8kqXAkvovwqa6GpIq+e/fkGGPo4L57/y6CMS1Gvmv2aQweUZzOW/2jdfuV8s5b9O3/yMpYzkv8KGmmDr7OO/Ni44NDFN47+q1dUHd63ivx59c9u8DeK/kyQRrwJu4b8HzK6CSM7gv3tzTFaOLuC/3jXUU6gd37/GhA/7M97dv67TSqK/nty/liKGSUtf279+ccHw1h/av2bA/Jdi4Ni/Tg84P+6g1782XnPmeWHWvx6tro0FItW/BvzpNJHi07/uSiXcHKPSv9aZYIOoY9G/vuibKjQk0L9Mb66jf8nNvxwNJfKWSsu/5KqbQK7LyL+0SBKPxUzGv4TmiN3czcO/XIT/K/ROwb9YROz0FqC9v/h/2ZFFori/mLvGLnSks79w7meXRU2tv7BlQtGiUaO/4Lk5FgCskr8AehVhV7RUP+BoXAKLQpU/UL1TR+icpD8QRnkNi5iuP2hnz+kWSrQ/yCviTOhHuT8o8PSvuUW+P0Tag4nFocE/dDwNO64gxD+knpbslp/GP9QAIJ5/Hsk/BGOpT2idyz8sxTIBURzOP64TXtmcTdA/xsQiMhGN0T/ideeKhczSP/omrOP5C9Q/EthwPG5L1T8qiTWV4orWP0I6+u1Wytc/Wuu+RssJ2T9ynIOfP0naP4ZNSPiziNs/nv4MUSjI3D+2r9GpnAfeP85glgIRR98/84itrUJD4D9/4Q/a/OLgPws6cga3guE/l5LUMnEi4j8j6zZfK8LiP69DmYvlYeM/O5z7t58B5D/H9F3kWaHkP1dNwBAUQeU/36UiPc7g5T9v/oRpiIDmP/dW55VCIOc/h69Jwvy/5z8PCKzutl/oP59gDhtx/+g/J7lwRyuf6T8=",
          "dtype": "f8"
         },
         "yaxis": "y2"
        },
        {
         "customdata": {
          "bdata": "9ihcj8L1BkCPwvUoXI8EQIXrUbgehf8/j8L1KFyPBECamZmZmZkBQI/C9ShcjwRAj8L1KFyPAkCPwvUoXI8EQN3TLUZXs3U/8FqrKNotej/QFVDGwdd+P/BaqyjaLXo/SlBxtuc8hT/Qi0QwCcyAP7Ko1RgNV4Q/0ItEMAnMgD8UHe61PBN3PyCBR8NnB3I/69yK83PVdD8ggUfDZwdyP6RwPQrXo9A/UrgehetR2D+kcD0K16PQP83MzMzMzNw/7jm3I7c9RkBg95KPh+dBQDJVMCqpE9A/fmjqr3nYvj9ScRsN4C3Av35o6q952L4/oWez6nO1tT9+aOqvedi+P0sBq4FaUM4/fmjqr3nYvj9r0KffcsjCP35o6q952L4/dQJDSgAm0j9+aOqvedi+P8QgsHJokek/Fa5H4XoU8T8FsobRflPuP19Z4JUFXuk/QQkzbf+6MEC2K14Nm0w3QIJ7lY5OjCRA5qjskdJwLUBZx32IpKIhQG4+YTw2NSpArFunVjomyL/NHCFfgm3NP8/gdlzBers/c3OxHZQN1D+AiCFTbXmSPz6PFu22gM4/zoxVipdbib8IrBxaZDvXP7a4xmeyf14/Rpf2S4cNZD9jyS+W/GLZP4xs5/up8dI/S+u+xf9s/T/+1HjpJjH4PzEIrBxaZOg/16NwPQrX5T9gdk8eFmrVP9v5fmq8dMM/WiEqUEqG7z/vAOUOUO7yP0jhehSuR6E/bef7qfHSwT+YtTomeDDoP/qgZ7Pqc8U/zszMzMzMsL8l/8gzrRBlv/aiOXG358g/VaCUDL8Z2D9lO99PjZfOPyTeJzQ2YdA/4FQvcBcl7T/2KFyPwjXwP5T2Bl+YTMW/KA8LtaZ51z96gy9MpgrUP9bnaiv2l9k/QqskiIyfnD/d5QsGQpvIP5MYBFYOLeo/SwwCK4cW6T9Fi2zn+6mxv9DVVuwvu8e/44JfYStJ4T+rF7iLkszRP8eMSfItNOo/K4cW2c732j/kkJpgvJXdP0ww3so+h+w/5DmkJhhvD0DYyj6H1AQTQOd0UAd1UPc/Kgd1UAd1/D+WJk2aNGniPz2MGDFixPA/lO1dB3Rj7j8gw4JLZXv3P7Qu74AjRQNAvB1wpGiI/z8730+Nl26SP0oMAiuHFqk//Knx0k1iYD85tMh2vp+KPw==",
          "dtype": "f8",
          "shape": "55, 2"
         },
         "error_y": {
          "array": {
           "bdata": "A9GdaAYJ9D9vH16RrkX1P7zQkgIVAfQ/+gyTu6nk8z+oywP9/wL2P0IaPFhpCfY/5TpgGby69j8xgiKWafH2P/3V9IobVPY/Tnq9zjAt9j+ymyAUw3LzP/QfsRqEJvQ/E3Trpi0a3D++31yJXDX2Pw84t49qNvY/fpQHeQ419j8hjVeiH9P2P7uH5Gt3dvY/Uj5NOQkb9z9jw9G4S3nqPzWFrNXjAuk/rox4GtyE5z+HGDrWKXzjPwOjBxgugOc/upX2eQNO/D+WPV1TS9r2P3SgNO8h6fY/2lJCtcauBkBt6VemXmvXPz62mYsWPPQ/+loFSlun7D/LHObYvJrzP/HCHhssH/M/Am8nHrzl4j99KzS3Nh30P92oujBtQeg/Ub2HlQeP7j+UorvqgKLvP2U0kEPqqOY/hvh2KBIU5T9ILApWo5n1P/DPKCranuM/VITHtmaF4z9N+TZa5rfwP8zXjQDzDvE/OpTcAMDX6z8cG0W1EovjP6hx0PpZJ/o/HscO4PSH5T+mRnh68VX7P/Ki5WmEof8/gg/zGIHI8j9W60P+Jb7yP/L06qdFi/Q/WamETqr18j8=",
           "dtype": "f8"
          },
          "color": "blue",
          "thickness": 1,
          "type": "data",
          "visible": true,
          "width": 5
         },
         "hovertemplate": "ΔTemperature (°C): %{x}<br>Hedges' g: %{y}<br>Treatment Calcification: %{customdata[0]:.4f}<br>Control Calcification: %{customdata[1]:.4f}<br>DOI: %{text}<extra></extra>",
         "marker": {
          "color": "blue",
          "line": {
           "color": "black",
           "width": 1
          },
          "opacity": 0.5,
          "size": 10
         },
         "mode": "markers",
         "name": "Data points",
         "text": [
          "10.1007/s00227-016-2986-8",
          "10.1007/s00227-016-2986-8",
          "10.1007/s00227-016-2986-8",
          "10.1007/s00227-016-2986-8",
          "10.1007/s00227-022-04071-6",
          "10.1007/s00227-022-04071-6",
          "10.1007/s00227-022-04071-6",
          "10.1007/s00227-022-04071-6",
          "10.1007/s00227-022-04071-6",
          "10.1007/s00227-022-04071-6",
          "10.1007/s00338-012-0952-6",
          "10.1007/s00338-012-0952-6",
          "10.1007/s00338-017-1634-1",
          "10.1007/s00338-019-01775-y",
          "10.1007/s00338-019-01775-y",
          "10.1007/s00338-019-01775-y",
          "10.1007/s00338-019-01775-y",
          "10.1007/s00338-019-01775-y",
          "10.1007/s00338-019-01775-y",
          "10.1016/j.jembe.2016.10.002",
          "10.1016/j.jembe.2016.10.002",
          "10.1038/s41598-022-06896-z",
          "10.1038/s41598-022-06896-z",
          "10.1038/s41598-022-06896-z",
          "10.1038/s42003-022-04353-1",
          "10.1038/s42003-022-04353-1",
          "10.1038/s42003-022-04353-1",
          "10.1038/s42003-022-04353-1",
          "10.1098/rspb.2021.0923",
          "10.1111/gcb.13481-LOC-A",
          "10.1111/gcb.13481-LOC-B",
          "10.1111/gcb.13481-LOC-B",
          "10.1111/gcb.13481-LOC-B",
          "10.1111/gcb.13481-LOC-B",
          "10.1111/gcb.13481-LOC-B",
          "10.1111/gcb.13481-LOC-B",
          "10.1111/gcb.13481-LOC-B",
          "10.1111/gcb.13481-LOC-B",
          "10.1111/gcb.13481-LOC-B",
          "10.1111/gcb.13481-LOC-B",
          "10.1111/gcb.13481-LOC-C",
          "10.1111/gcb.13481-LOC-C",
          "10.1111/gcb.13481-LOC-C",
          "10.1111/gcb.13481-LOC-C",
          "10.1111/gcb.13481-LOC-D",
          "10.1111/gcb.13481-LOC-D",
          "10.1111/gcb.13481-LOC-D",
          "10.1111/gcb.14998",
          "10.1111/gcb.14998",
          "10.1111/jpy.13290",
          "10.1111/jpy.13290",
          "10.1111/jpy.13290",
          "10.1111/jpy.13290",
          "10.3390/jmse10081106",
          "10.3390/jmse10081106"
         ],
         "type": "scatter",
         "x": {
          "bdata": "AAAAAAAABkAAAAAAAAAGQAAAAAAAAAZAAAAAAAAABkAY/N5MrMEMQBj83kyswQxAGPzeTKzBDEAY/N5MrMEMQBj83kyswQxAGPzeTKzBDEAAAAAAAAAQQAAAAAAAABBA4HoUrkfh+j8AAAAAAAAYQDIzMzMzMyNAAAAAAAAADEAAAAAAAAAYQDIzMzMzMyNAAAAAAAAADEAQrkfhehQEQBCuR+F6FARA8HoUrkfh/j/wehSuR+H+P/B6FK5H4f4/sEfhehSu/z+wR+F6FK7/P7BH4XoUrv8/sEfhehSu/z+YvXb5ke4PQGhmZmZmZgpAaGZmZmZmCkBoZmZmZmYKQGhmZmZmZgpAaGZmZmZmCkBoZmZmZmYKQGhmZmZmZgpAaGZmZmZmCkBoZmZmZmYKQGhmZmZmZgpAaGZmZmZmCkBoZmZmZmYKQGhmZmZmZgpAaGZmZmZmCkBoZmZmZmYKQGhmZmZmZgpAaGZmZmZmCkBoZmZmZmYKQDAzMzMzMwdAMDMzMzMzB0BgZmZmZmYCQGBmZmZmZgJAYGZmZmZmAkBgZmZmZmYCQHA9CtejcAtAcD0K16NwC0A=",
          "dtype": "f8"
         },
         "xaxis": "x2",
         "y": {
          "bdata": "ABEa1wMa3z+/Xm7hHFHxv5ho7mcAkd2/RhLwVI1I178le0j19/jYvzj5oQCbDdo/yVoAWYxe5D81sMnYcJrnP2DbkS/On9g/jc6EIAsczT+C4LY3WrXUv10+Hx5Q4ue/CGpeGxx32z8e/PuOp5XDP+Ti6CjDuNK/12CW03Tisr+cGu1p2wnnPz66wSDDFc0/3xEv25Ed7j/5e4sUDZHjvzgNajh9fNY/V4NozbEb2b/HeXszkYziv5UTMJqdB+u/d1PsrOokBcCilXClRwj5v6C3Pa2GQPm/uWCaF4PzFMCTE3hvuVrbv2zW0FvPz8g/FDn61ss+4D9AbPFTg+bcP5+PHvr3TuE/T/2jJ9q507+GXNF2QF7nvw86c0Kgs+U/NpJZwq1Wr794lxL11W7Vv3LQ1LmehrC/3oLjaFs4xb9KTZELnon7vwowLjmWRti/ksMrRJ4k5b82SwPaNHixP0Kqj0WFONM//kFCDb7z5T9fd+/R/NvyP3AqRS4EGA/A/WIojGsf9b/33UeSbo4HwPVZpTfYvQ3AhUegKM/F6b+DtHcE4ybpP/9aTYVyhgTAw4ydWqI78r8=",
          "dtype": "f8"
         },
         "yaxis": "y2"
        },
        {
         "line": {
          "color": "black",
          "dash": "dash",
          "width": 1
         },
         "mode": "lines",
         "name": "Hedges' g = 0",
         "type": "scatter",
         "x": [
          1.6799999999999997,
          9.599999999999998
         ],
         "xaxis": "x2",
         "y": [
          0,
          0
         ],
         "yaxis": "y2"
        }
       ],
       "layout": {
        "annotations": [
         {
          "font": {
           "size": 16
          },
          "showarrow": false,
          "text": "Effect of pH (Total) on calcification rate",
          "x": 0.225,
          "xanchor": "center",
          "xref": "paper",
          "y": 1,
          "yanchor": "bottom",
          "yref": "paper"
         },
         {
          "font": {
           "size": 16
          },
          "showarrow": false,
          "text": "Effect of Temperature (°C) on calcification rate",
          "x": 0.775,
          "xanchor": "center",
          "xref": "paper",
          "y": 1,
          "yanchor": "bottom",
          "yref": "paper"
         }
        ],
        "height": 600,
        "legend": {
         "orientation": "h",
         "x": 1,
         "xanchor": "right",
         "y": -0.2,
         "yanchor": "bottom"
        },
        "template": {
         "data": {
          "bar": [
           {
            "error_x": {
             "color": "#2a3f5f"
            },
            "error_y": {
             "color": "#2a3f5f"
            },
            "marker": {
             "line": {
              "color": "white",
              "width": 0.5
             },
             "pattern": {
              "fillmode": "overlay",
              "size": 10,
              "solidity": 0.2
             }
            },
            "type": "bar"
           }
          ],
          "barpolar": [
           {
            "marker": {
             "line": {
              "color": "white",
              "width": 0.5
             },
             "pattern": {
              "fillmode": "overlay",
              "size": 10,
              "solidity": 0.2
             }
            },
            "type": "barpolar"
           }
          ],
          "carpet": [
           {
            "aaxis": {
             "endlinecolor": "#2a3f5f",
             "gridcolor": "#C8D4E3",
             "linecolor": "#C8D4E3",
             "minorgridcolor": "#C8D4E3",
             "startlinecolor": "#2a3f5f"
            },
            "baxis": {
             "endlinecolor": "#2a3f5f",
             "gridcolor": "#C8D4E3",
             "linecolor": "#C8D4E3",
             "minorgridcolor": "#C8D4E3",
             "startlinecolor": "#2a3f5f"
            },
            "type": "carpet"
           }
          ],
          "choropleth": [
           {
            "colorbar": {
             "outlinewidth": 0,
             "ticks": ""
            },
            "type": "choropleth"
           }
          ],
          "contour": [
           {
            "colorbar": {
             "outlinewidth": 0,
             "ticks": ""
            },
            "colorscale": [
             [
              0,
              "#0d0887"
             ],
             [
              0.1111111111111111,
              "#46039f"
             ],
             [
              0.2222222222222222,
              "#7201a8"
             ],
             [
              0.3333333333333333,
              "#9c179e"
             ],
             [
              0.4444444444444444,
              "#bd3786"
             ],
             [
              0.5555555555555556,
              "#d8576b"
             ],
             [
              0.6666666666666666,
              "#ed7953"
             ],
             [
              0.7777777777777778,
              "#fb9f3a"
             ],
             [
              0.8888888888888888,
              "#fdca26"
             ],
             [
              1,
              "#f0f921"
             ]
            ],
            "type": "contour"
           }
          ],
          "contourcarpet": [
           {
            "colorbar": {
             "outlinewidth": 0,
             "ticks": ""
            },
            "type": "contourcarpet"
           }
          ],
          "heatmap": [
           {
            "colorbar": {
             "outlinewidth": 0,
             "ticks": ""
            },
            "colorscale": [
             [
              0,
              "#0d0887"
             ],
             [
              0.1111111111111111,
              "#46039f"
             ],
             [
              0.2222222222222222,
              "#7201a8"
             ],
             [
              0.3333333333333333,
              "#9c179e"
             ],
             [
              0.4444444444444444,
              "#bd3786"
             ],
             [
              0.5555555555555556,
              "#d8576b"
             ],
             [
              0.6666666666666666,
              "#ed7953"
             ],
             [
              0.7777777777777778,
              "#fb9f3a"
             ],
             [
              0.8888888888888888,
              "#fdca26"
             ],
             [
              1,
              "#f0f921"
             ]
            ],
            "type": "heatmap"
           }
          ],
          "histogram": [
           {
            "marker": {
             "pattern": {
              "fillmode": "overlay",
              "size": 10,
              "solidity": 0.2
             }
            },
            "type": "histogram"
           }
          ],
          "histogram2d": [
           {
            "colorbar": {
             "outlinewidth": 0,
             "ticks": ""
            },
            "colorscale": [
             [
              0,
              "#0d0887"
             ],
             [
              0.1111111111111111,
              "#46039f"
             ],
             [
              0.2222222222222222,
              "#7201a8"
             ],
             [
              0.3333333333333333,
              "#9c179e"
             ],
             [
              0.4444444444444444,
              "#bd3786"
             ],
             [
              0.5555555555555556,
              "#d8576b"
             ],
             [
              0.6666666666666666,
              "#ed7953"
             ],
             [
              0.7777777777777778,
              "#fb9f3a"
             ],
             [
              0.8888888888888888,
              "#fdca26"
             ],
             [
              1,
              "#f0f921"
             ]
            ],
            "type": "histogram2d"
           }
          ],
          "histogram2dcontour": [
           {
            "colorbar": {
             "outlinewidth": 0,
             "ticks": ""
            },
            "colorscale": [
             [
              0,
              "#0d0887"
             ],
             [
              0.1111111111111111,
              "#46039f"
             ],
             [
              0.2222222222222222,
              "#7201a8"
             ],
             [
              0.3333333333333333,
              "#9c179e"
             ],
             [
              0.4444444444444444,
              "#bd3786"
             ],
             [
              0.5555555555555556,
              "#d8576b"
             ],
             [
              0.6666666666666666,
              "#ed7953"
             ],
             [
              0.7777777777777778,
              "#fb9f3a"
             ],
             [
              0.8888888888888888,
              "#fdca26"
             ],
             [
              1,
              "#f0f921"
             ]
            ],
            "type": "histogram2dcontour"
           }
          ],
          "mesh3d": [
           {
            "colorbar": {
             "outlinewidth": 0,
             "ticks": ""
            },
            "type": "mesh3d"
           }
          ],
          "parcoords": [
           {
            "line": {
             "colorbar": {
              "outlinewidth": 0,
              "ticks": ""
             }
            },
            "type": "parcoords"
           }
          ],
          "pie": [
           {
            "automargin": true,
            "type": "pie"
           }
          ],
          "scatter": [
           {
            "fillpattern": {
             "fillmode": "overlay",
             "size": 10,
             "solidity": 0.2
            },
            "type": "scatter"
           }
          ],
          "scatter3d": [
           {
            "line": {
             "colorbar": {
              "outlinewidth": 0,
              "ticks": ""
             }
            },
            "marker": {
             "colorbar": {
              "outlinewidth": 0,
              "ticks": ""
             }
            },
            "type": "scatter3d"
           }
          ],
          "scattercarpet": [
           {
            "marker": {
             "colorbar": {
              "outlinewidth": 0,
              "ticks": ""
             }
            },
            "type": "scattercarpet"
           }
          ],
          "scattergeo": [
           {
            "marker": {
             "colorbar": {
              "outlinewidth": 0,
              "ticks": ""
             }
            },
            "type": "scattergeo"
           }
          ],
          "scattergl": [
           {
            "marker": {
             "colorbar": {
              "outlinewidth": 0,
              "ticks": ""
             }
            },
            "type": "scattergl"
           }
          ],
          "scattermap": [
           {
            "marker": {
             "colorbar": {
              "outlinewidth": 0,
              "ticks": ""
             }
            },
            "type": "scattermap"
           }
          ],
          "scattermapbox": [
           {
            "marker": {
             "colorbar": {
              "outlinewidth": 0,
              "ticks": ""
             }
            },
            "type": "scattermapbox"
           }
          ],
          "scatterpolar": [
           {
            "marker": {
             "colorbar": {
              "outlinewidth": 0,
              "ticks": ""
             }
            },
            "type": "scatterpolar"
           }
          ],
          "scatterpolargl": [
           {
            "marker": {
             "colorbar": {
              "outlinewidth": 0,
              "ticks": ""
             }
            },
            "type": "scatterpolargl"
           }
          ],
          "scatterternary": [
           {
            "marker": {
             "colorbar": {
              "outlinewidth": 0,
              "ticks": ""
             }
            },
            "type": "scatterternary"
           }
          ],
          "surface": [
           {
            "colorbar": {
             "outlinewidth": 0,
             "ticks": ""
            },
            "colorscale": [
             [
              0,
              "#0d0887"
             ],
             [
              0.1111111111111111,
              "#46039f"
             ],
             [
              0.2222222222222222,
              "#7201a8"
             ],
             [
              0.3333333333333333,
              "#9c179e"
             ],
             [
              0.4444444444444444,
              "#bd3786"
             ],
             [
              0.5555555555555556,
              "#d8576b"
             ],
             [
              0.6666666666666666,
              "#ed7953"
             ],
             [
              0.7777777777777778,
              "#fb9f3a"
             ],
             [
              0.8888888888888888,
              "#fdca26"
             ],
             [
              1,
              "#f0f921"
             ]
            ],
            "type": "surface"
           }
          ],
          "table": [
           {
            "cells": {
             "fill": {
              "color": "#EBF0F8"
             },
             "line": {
              "color": "white"
             }
            },
            "header": {
             "fill": {
              "color": "#C8D4E3"
             },
             "line": {
              "color": "white"
             }
            },
            "type": "table"
           }
          ]
         },
         "layout": {
          "annotationdefaults": {
           "arrowcolor": "#2a3f5f",
           "arrowhead": 0,
           "arrowwidth": 1
          },
          "autotypenumbers": "strict",
          "coloraxis": {
           "colorbar": {
            "outlinewidth": 0,
            "ticks": ""
           }
          },
          "colorscale": {
           "diverging": [
            [
             0,
             "#8e0152"
            ],
            [
             0.1,
             "#c51b7d"
            ],
            [
             0.2,
             "#de77ae"
            ],
            [
             0.3,
             "#f1b6da"
            ],
            [
             0.4,
             "#fde0ef"
            ],
            [
             0.5,
             "#f7f7f7"
            ],
            [
             0.6,
             "#e6f5d0"
            ],
            [
             0.7,
             "#b8e186"
            ],
            [
             0.8,
             "#7fbc41"
            ],
            [
             0.9,
             "#4d9221"
            ],
            [
             1,
             "#276419"
            ]
           ],
           "sequential": [
            [
             0,
             "#0d0887"
            ],
            [
             0.1111111111111111,
             "#46039f"
            ],
            [
             0.2222222222222222,
             "#7201a8"
            ],
            [
             0.3333333333333333,
             "#9c179e"
            ],
            [
             0.4444444444444444,
             "#bd3786"
            ],
            [
             0.5555555555555556,
             "#d8576b"
            ],
            [
             0.6666666666666666,
             "#ed7953"
            ],
            [
             0.7777777777777778,
             "#fb9f3a"
            ],
            [
             0.8888888888888888,
             "#fdca26"
            ],
            [
             1,
             "#f0f921"
            ]
           ],
           "sequentialminus": [
            [
             0,
             "#0d0887"
            ],
            [
             0.1111111111111111,
             "#46039f"
            ],
            [
             0.2222222222222222,
             "#7201a8"
            ],
            [
             0.3333333333333333,
             "#9c179e"
            ],
            [
             0.4444444444444444,
             "#bd3786"
            ],
            [
             0.5555555555555556,
             "#d8576b"
            ],
            [
             0.6666666666666666,
             "#ed7953"
            ],
            [
             0.7777777777777778,
             "#fb9f3a"
            ],
            [
             0.8888888888888888,
             "#fdca26"
            ],
            [
             1,
             "#f0f921"
            ]
           ]
          },
          "colorway": [
           "#636efa",
           "#EF553B",
           "#00cc96",
           "#ab63fa",
           "#FFA15A",
           "#19d3f3",
           "#FF6692",
           "#B6E880",
           "#FF97FF",
           "#FECB52"
          ],
          "font": {
           "color": "#2a3f5f"
          },
          "geo": {
           "bgcolor": "white",
           "lakecolor": "white",
           "landcolor": "white",
           "showlakes": true,
           "showland": true,
           "subunitcolor": "#C8D4E3"
          },
          "hoverlabel": {
           "align": "left"
          },
          "hovermode": "closest",
          "mapbox": {
           "style": "light"
          },
          "paper_bgcolor": "white",
          "plot_bgcolor": "white",
          "polar": {
           "angularaxis": {
            "gridcolor": "#EBF0F8",
            "linecolor": "#EBF0F8",
            "ticks": ""
           },
           "bgcolor": "white",
           "radialaxis": {
            "gridcolor": "#EBF0F8",
            "linecolor": "#EBF0F8",
            "ticks": ""
           }
          },
          "scene": {
           "xaxis": {
            "backgroundcolor": "white",
            "gridcolor": "#DFE8F3",
            "gridwidth": 2,
            "linecolor": "#EBF0F8",
            "showbackground": true,
            "ticks": "",
            "zerolinecolor": "#EBF0F8"
           },
           "yaxis": {
            "backgroundcolor": "white",
            "gridcolor": "#DFE8F3",
            "gridwidth": 2,
            "linecolor": "#EBF0F8",
            "showbackground": true,
            "ticks": "",
            "zerolinecolor": "#EBF0F8"
           },
           "zaxis": {
            "backgroundcolor": "white",
            "gridcolor": "#DFE8F3",
            "gridwidth": 2,
            "linecolor": "#EBF0F8",
            "showbackground": true,
            "ticks": "",
            "zerolinecolor": "#EBF0F8"
           }
          },
          "shapedefaults": {
           "line": {
            "color": "#2a3f5f"
           }
          },
          "ternary": {
           "aaxis": {
            "gridcolor": "#DFE8F3",
            "linecolor": "#A2B1C6",
            "ticks": ""
           },
           "baxis": {
            "gridcolor": "#DFE8F3",
            "linecolor": "#A2B1C6",
            "ticks": ""
           },
           "bgcolor": "white",
           "caxis": {
            "gridcolor": "#DFE8F3",
            "linecolor": "#A2B1C6",
            "ticks": ""
           }
          },
          "title": {
           "x": 0.05
          },
          "xaxis": {
           "automargin": true,
           "gridcolor": "#EBF0F8",
           "linecolor": "#EBF0F8",
           "ticks": "",
           "title": {
            "standoff": 15
           },
           "zerolinecolor": "#EBF0F8",
           "zerolinewidth": 2
          },
          "yaxis": {
           "automargin": true,
           "gridcolor": "#EBF0F8",
           "linecolor": "#EBF0F8",
           "ticks": "",
           "title": {
            "standoff": 15
           },
           "zerolinecolor": "#EBF0F8",
           "zerolinewidth": 2
          }
         }
        },
        "width": 1200,
        "xaxis": {
         "anchor": "y",
         "domain": [
          0,
          0.45
         ],
         "gridcolor": "lightgrey",
         "title": {
          "text": "ΔpH (Total)"
         }
        },
        "xaxis2": {
         "anchor": "y2",
         "domain": [
          0.55,
          1
         ],
         "gridcolor": "lightgrey",
         "title": {
          "text": "ΔTemperature (°C)"
         }
        },
        "yaxis": {
         "anchor": "x",
         "domain": [
          0,
          1
         ],
         "gridcolor": "lightgrey",
         "title": {
          "text": "Hedges' g"
         }
        },
        "yaxis2": {
         "anchor": "x2",
         "domain": [
          0,
          1
         ],
         "matches": "y",
         "showticklabels": false
        }
       }
      }
     },
     "metadata": {},
     "output_type": "display_data"
    }
   ],
   "source": [
    "import plotly.graph_objects as go\n",
    "from plotly.subplots import make_subplots\n",
    "import numpy as np\n",
    "import pandas as pd\n",
    "from scipy import stats\n",
    "\n",
    "plot_results = results_df\n",
    "fig = make_subplots(rows=1, cols=2, shared_yaxes=True, \n",
    "                    subplot_titles=(\"Effect of pH (Total) on calcification rate\", \n",
    "                                   \"Effect of Temperature (°C) on calcification rate\"))\n",
    "\n",
    "variables = ['phtot', 't_in']\n",
    "var_names = ['pH (Total)', 'Temperature (°C)']\n",
    "delta_vars = ['delta_pH', 'delta_t']\n",
    "\n",
    "# process each subplot\n",
    "for i, (var, var_name, delta_var) in enumerate(zip(variables, var_names, delta_vars)):\n",
    "    col = i+1  # plotly uses 1-indexed columns for some reason\n",
    "    \n",
    "    subset_df = plot_results[plot_results['treatment'] == var]\n",
    "    \n",
    "    # data cleaning (NaNs and infinities) \n",
    "    subset_df = subset_df.infer_objects(copy=False).replace([np.inf, -np.inf], np.nan).dropna(subset=['hedges_g', 'delta_t', 'delta_pH'])\n",
    "    # relevant variable    \n",
    "    x_values = subset_df[delta_var]\n",
    "    y_values = subset_df['hedges_g']\n",
    "    y_error = subset_df['hedges_g'] - subset_df['hedges_g_l']\n",
    "    \n",
    "    # regression\n",
    "    slope, intercept, r_value, p_value, std_err = stats.linregress(x_values, y_values)\n",
    "    r_squared = r_value**2\n",
    "    adjusted_r_squared = 1 - ((1 - r_squared) * (len(x_values) - 1) / (len(x_values) - 2))\n",
    "    x_reg = np.linspace(min(x_values), max(x_values), 100)\n",
    "    y_reg = slope * x_reg + intercept\n",
    "\n",
    "    fig.add_trace(\n",
    "        go.Scatter(\n",
    "            x=x_reg,\n",
    "            y=y_reg,\n",
    "            mode='lines',\n",
    "            line=dict(color='red'),\n",
    "            name=f'y = {slope:.2f}x + {intercept:.2f}'\n",
    "        ),\n",
    "        row=1, col=col\n",
    "    )\n",
    "    # add approximated confidence interval\n",
    "    ci = 1.96 * std_err  # 95% CI\n",
    "    fig.add_trace(\n",
    "        go.Scatter(\n",
    "            x=x_reg,\n",
    "            y=y_reg + ci,\n",
    "            mode='lines',\n",
    "            line=dict(width=0),\n",
    "            showlegend=False\n",
    "        ),\n",
    "        row=1, col=col\n",
    "    )    \n",
    "    fig.add_trace(\n",
    "        go.Scatter(\n",
    "            x=x_reg,\n",
    "            y=y_reg - ci,\n",
    "            mode='lines',\n",
    "            line=dict(width=0),\n",
    "            fill='tonexty',\n",
    "            fillcolor='rgba(255, 0, 0, 0.2)',\n",
    "            name='95% CI'\n",
    "        ),\n",
    "        row=1, col=col\n",
    "    )\n",
    "    \n",
    "    # add scatter points with error bars and hover text\n",
    "    fig.add_trace(\n",
    "        go.Scatter(\n",
    "            x=x_values,\n",
    "            y=y_values,\n",
    "            mode='markers',\n",
    "            marker=dict(color='blue', size=10, line=dict(width=1, color='black'), opacity=0.5),\n",
    "            error_y=dict(\n",
    "                type='data',\n",
    "                array=y_error,\n",
    "                visible=True,\n",
    "                color='blue',\n",
    "                thickness=1,\n",
    "                width=5\n",
    "            ),\n",
    "            name='Data points',\n",
    "            hovertemplate=\n",
    "            f'Δ{var_name}: %{{x}}<br>' +\n",
    "            'Hedges\\' g: %{y}<br>' +\n",
    "            'Treatment Calcification: %{customdata[0]:.4f}<br>' +\n",
    "            'Control Calcification: %{customdata[1]:.4f}<br>' +\n",
    "            'DOI: %{text}<extra></extra>',\n",
    "            text=subset_df['doi'],\n",
    "            customdata=subset_df[['treatment_calcification', 'control_calcification']]\n",
    "        ),\n",
    "        row=1, col=col\n",
    "    )\n",
    "    \n",
    "    # add horizontal line at y=0 (Hedges g = 0)\n",
    "    fig.add_trace(\n",
    "        go.Scatter(\n",
    "            x=[min(x_values), max(x_values)],\n",
    "            y=[0, 0],\n",
    "            mode='lines',\n",
    "            line=dict(color='black', width=1, dash='dash'),\n",
    "            name=\"Hedges' g = 0\"\n",
    "        ),\n",
    "        row=1, col=col\n",
    "    )\n",
    "\n",
    "\n",
    "fig.update_layout(\n",
    "    width=1200,\n",
    "    height=600,\n",
    "    template=\"plotly_white\",\n",
    "    legend=dict(\n",
    "        orientation=\"h\",\n",
    "        yanchor=\"bottom\",\n",
    "        y=-.2,\n",
    "        xanchor=\"right\",\n",
    "        x=1\n",
    "    )\n",
    ")\n",
    "\n",
    "# Update x and y axis labels\n",
    "for i in range(2):\n",
    "    fig.update_xaxes(title_text=f\"Δ{var_names[i]}\", row=1, col=i+1, gridcolor='lightgrey')\n",
    "\n",
    "fig.update_yaxes(title_text=\"Hedges' g\", row=1, col=1, gridcolor='lightgrey')\n",
    "\n",
    "# Show the figure\n",
    "fig.show()"
   ]
  },
  {
   "cell_type": "code",
   "execution_count": 261,
   "metadata": {},
   "outputs": [
    {
     "ename": "NameError",
     "evalue": "name 'results' is not defined",
     "output_type": "error",
     "traceback": [
      "\u001b[0;31m---------------------------------------------------------------------------\u001b[0m",
      "\u001b[0;31mNameError\u001b[0m                                 Traceback (most recent call last)",
      "Cell \u001b[0;32mIn[261], line 1\u001b[0m\n\u001b[0;32m----> 1\u001b[0m \u001b[43mresults\u001b[49m\n",
      "\u001b[0;31mNameError\u001b[0m: name 'results' is not defined"
     ]
    }
   ],
   "source": [
    "results"
   ]
  },
  {
   "cell_type": "markdown",
   "metadata": {},
   "source": [
    "# Main analysis\n"
   ]
  },
  {
   "cell_type": "markdown",
   "metadata": {},
   "source": [
    "### Basic plotting of result"
   ]
  },
  {
   "cell_type": "code",
   "execution_count": null,
   "metadata": {},
   "outputs": [
    {
     "ename": "NameError",
     "evalue": "name 'subset' is not defined",
     "output_type": "error",
     "traceback": [
      "\u001b[0;31m---------------------------------------------------------------------------\u001b[0m",
      "\u001b[0;31mNameError\u001b[0m                                 Traceback (most recent call last)",
      "Cell \u001b[0;32mIn[231], line 14\u001b[0m\n\u001b[1;32m     10\u001b[0m ax \u001b[38;5;241m=\u001b[39m ax_ph \u001b[38;5;28;01mif\u001b[39;00m var \u001b[38;5;241m==\u001b[39m \u001b[38;5;124m'\u001b[39m\u001b[38;5;124mphtot\u001b[39m\u001b[38;5;124m'\u001b[39m \u001b[38;5;28;01melse\u001b[39;00m ax_t\n\u001b[1;32m     11\u001b[0m \u001b[38;5;66;03m# subset = results_df[results_df.multi_var==1][results_df[results_df.multi_var==1]['variable'] == var].dropna(subset=['delta_var', 'hedges_g'])  # remove any rows containing nans\u001b[39;00m\n\u001b[1;32m     12\u001b[0m \n\u001b[1;32m     13\u001b[0m \u001b[38;5;66;03m# plot regression line\u001b[39;00m\n\u001b[0;32m---> 14\u001b[0m summary_stats \u001b[38;5;241m=\u001b[39m plotting\u001b[38;5;241m.\u001b[39msimple_regplot(\u001b[43msubset\u001b[49m[\u001b[38;5;124m'\u001b[39m\u001b[38;5;124mdelta_var\u001b[39m\u001b[38;5;124m'\u001b[39m], subset[\u001b[38;5;124m'\u001b[39m\u001b[38;5;124mhedges_g\u001b[39m\u001b[38;5;124m'\u001b[39m], ax\u001b[38;5;241m=\u001b[39max, ci_kws\u001b[38;5;241m=\u001b[39m{\u001b[38;5;124m\"\u001b[39m\u001b[38;5;124mcolor\u001b[39m\u001b[38;5;124m\"\u001b[39m: \u001b[38;5;124m\"\u001b[39m\u001b[38;5;124mred\u001b[39m\u001b[38;5;124m\"\u001b[39m})\n\u001b[1;32m     15\u001b[0m \u001b[38;5;66;03m# # Plot error bars **matching scatter point colors**\u001b[39;00m\n\u001b[1;32m     16\u001b[0m \u001b[38;5;66;03m# for i, (x, y, yerr, color) in enumerate(zip(subset['delta_var'], subset['hedges_g'], \u001b[39;00m\n\u001b[1;32m     17\u001b[0m \u001b[38;5;66;03m#                                             (subset['hedges_g'] - subset['hg_ci_l']).values, \u001b[39;00m\n\u001b[1;32m     18\u001b[0m \u001b[38;5;66;03m#                                             colors)):\u001b[39;00m\n\u001b[1;32m     19\u001b[0m \u001b[38;5;66;03m#     ax.errorbar(x, y, yerr=[[yerr], [yerr]], fmt='o', color=color, alpha=1, lw=1)\u001b[39;00m\n\u001b[1;32m     21\u001b[0m scatter \u001b[38;5;241m=\u001b[39m ax\u001b[38;5;241m.\u001b[39mscatter(subset[\u001b[38;5;124m'\u001b[39m\u001b[38;5;124mdelta_var\u001b[39m\u001b[38;5;124m'\u001b[39m], subset[\u001b[38;5;124m'\u001b[39m\u001b[38;5;124mhedges_g\u001b[39m\u001b[38;5;124m'\u001b[39m], \n\u001b[1;32m     22\u001b[0m                      c\u001b[38;5;241m=\u001b[39m\u001b[38;5;124m\"\u001b[39m\u001b[38;5;124mblue\u001b[39m\u001b[38;5;124m\"\u001b[39m,\n\u001b[1;32m     23\u001b[0m                      alpha\u001b[38;5;241m=\u001b[39m\u001b[38;5;241m0.8\u001b[39m, lw\u001b[38;5;241m=\u001b[39m\u001b[38;5;241m0.1\u001b[39m, edgecolor\u001b[38;5;241m=\u001b[39m\u001b[38;5;124m'\u001b[39m\u001b[38;5;124mblack\u001b[39m\u001b[38;5;124m'\u001b[39m)\n",
      "\u001b[0;31mNameError\u001b[0m: name 'subset' is not defined"
     ]
    },
    {
     "data": {
      "image/png": "[encoded data removed]",
      "text/plain": [
       "<Figure size 1800x900 with 2 Axes>"
      ]
     },
     "metadata": {},
     "output_type": "display_data"
    }
   ],
   "source": [
    "import matplotlib.colors as mcolors\n",
    "import matplotlib.cm as cm\n",
    "\n",
    "fig, (ax_ph, ax_t) = plt.subplots(1, 2, figsize=(12, 6), dpi=150, sharey=True)\n",
    "\n",
    "# plot_results = results_df[results_df.multi_var==1]\n",
    "plot_results = results_df\n",
    "\n",
    "for var, var_name in zip(['phtot', 't_in'], ['pH (Total)', 'Temperature (°C)']):\n",
    "    ax = ax_ph if var == 'phtot' else ax_t\n",
    "    # subset = results_df[results_df.multi_var==1][results_df[results_df.multi_var==1]['variable'] == var].dropna(subset=['delta_var', 'hedges_g'])  # remove any rows containing nans\n",
    "    \n",
    "    # plot regression line\n",
    "    summary_stats = plotting.simple_regplot(subset['delta_var'], subset['hedges_g'], ax=ax, ci_kws={\"color\": \"red\"})\n",
    "    # # Plot error bars **matching scatter point colors**\n",
    "    # for i, (x, y, yerr, color) in enumerate(zip(subset['delta_var'], subset['hedges_g'], \n",
    "    #                                             (subset['hedges_g'] - subset['hg_ci_l']).values, \n",
    "    #                                             colors)):\n",
    "    #     ax.errorbar(x, y, yerr=[[yerr], [yerr]], fmt='o', color=color, alpha=1, lw=1)\n",
    "\n",
    "    scatter = ax.scatter(subset['delta_var'], subset['hedges_g'], \n",
    "                         c=\"blue\",\n",
    "                         alpha=0.8, lw=0.1, edgecolor='black')\n",
    "\n",
    "    \n",
    "    # formatting\n",
    "    ax.grid(c='lightgrey', linestyle='--', alpha=0.8)\n",
    "    ax.set_ylabel(\"\")\n",
    "    ax.set_xlabel(f\"$\\\\Delta${var_name}\")\n",
    "    ax.set_title(f\"Effect of {var_name} on calcification rate\")\n",
    "    ax.axhline(0, color='black', linestyle='--', lw=0.5, label='Hedges\\' g = 0')\n",
    "    # setting up legend\n",
    "    c, m = summary_stats.params\n",
    "    ax.plot([],[], c='red', label=f\"y = {m:.2f}$x$ + {c:.2f}\")\n",
    "    alpha_patch = plt.Rectangle((0,0),1,1,fc=\"red\", edgecolor = 'none', alpha=0.5)\n",
    "    ax.plot([],[],alpha=0,label = f\"R$^2$: {summary_stats.rsquared:.4f} | R$^2_{{adj}}$: {summary_stats.rsquared_adj:.4f}\")\n",
    "    handles, labels = ax.get_legend_handles_labels()\n",
    "    handles.append(alpha_patch)\n",
    "    labels.append(\"95% CI\")\n",
    "    ax.legend(handles, labels)\n",
    "    \n",
    "ax_ph.set_ylabel(\"Hedge's g\")\n",
    "plt.tight_layout()"
   ]
  },
  {
   "cell_type": "code",
   "execution_count": null,
   "metadata": {},
   "outputs": [],
   "source": [
    "# Match by DOI the Hedges' g results with the climatology data\n",
    "# matched_df = results_df.join(climatology_df, how=\"left\", rsuffix=\"_clim\")\n",
    "matched_df = results_df.merge(climatology_df, left_index=True, right_index=True)\n",
    "\n",
    "# Define mapping of climatology variables to treatment variables\n",
    "clim_var_map = {'t_in': 'MMM_30y_mean', 'phtot': 'mean_pH_30y_ensemble'}\n",
    "\n",
    "# Calculate difference between treatment and historic conditions dynamically\n",
    "matched_df['clim_delta'] = matched_df.apply(\n",
    "    lambda row: row['treatment_val'] - row[clim_var_map[row['variable']]]\n",
    "    if row['variable'] in clim_var_map else np.nan,\n",
    "    axis=1\n",
    ")"
   ]
  },
  {
   "cell_type": "code",
   "execution_count": null,
   "metadata": {},
   "outputs": [],
   "source": [
    "# set(climatology_df.index) - set(carb_df['doi'].unique())\n",
    "set(climatology_df.index) - set(results_df.index)\n"
   ]
  },
  {
   "cell_type": "code",
   "execution_count": null,
   "metadata": {},
   "outputs": [],
   "source": [
    "print(len(matched_df))\n",
    "print(matched_df.clim_delta.isna().sum())"
   ]
  },
  {
   "cell_type": "code",
   "execution_count": null,
   "metadata": {},
   "outputs": [],
   "source": [
    "import matplotlib.colors as mcolors\n",
    "import matplotlib.cm as cm\n",
    "\n",
    "fig, (ax_ph, ax_t) = plt.subplots(1, 2, figsize=(12, 6), dpi=150, sharey=True)\n",
    "\n",
    "for var, var_name in zip(['phtot', 't_in'], ['pH (Total)', 'Temperature (°C)']):\n",
    "    ax = ax_ph if var == 'phtot' else ax_t\n",
    "    subset = matched_df[matched_df['variable'] == var].dropna(subset=['delta_var', 'hedges_g'])  # remove any rows containing nans\n",
    "    \n",
    "    cmap = cm.coolwarm\n",
    "    norm = mcolors.Normalize(vmin=subset['clim_delta'].min(), vmax=subset['clim_delta'].max())\n",
    "    colors = [cmap(norm(val)) for val in subset['clim_delta']]\n",
    "\n",
    "    # Plot error bars **matching scatter point colors**\n",
    "    for i, (x, y, yerr, color) in enumerate(zip(subset['delta_var'], subset['hedges_g'], \n",
    "                                                (subset['hedges_g'] - subset['hg_ci_l']).values, \n",
    "                                                colors)):\n",
    "        ax.errorbar(x, y, yerr=[[yerr], [yerr]], fmt='o', color=color, alpha=1, lw=1)\n",
    "\n",
    "    scatter = ax.scatter(subset['delta_var'], subset['hedges_g'], \n",
    "                         c=subset['clim_delta'], cmap=cmap, norm=norm, \n",
    "                         alpha=0.8, lw=0.1, edgecolor='black')\n",
    "\n",
    "    summary_stats = plotting.simple_regplot(subset['delta_var'], subset['hedges_g'], ax=ax, ci_kws={\"color\": \"red\"})\n",
    "    # add colourbar for clim_delta\n",
    "    cbar = plt.colorbar(scatter, ax=ax, fraction=0.05, orientation=\"horizontal\")\n",
    "    cbar.set_label(f\"$\\\\Delta$(treatment, climatology)\")\n",
    "    \n",
    "    # formatting\n",
    "    ax.grid(c='lightgrey', linestyle='--', alpha=0.8)\n",
    "    ax.set_ylabel(\"\")\n",
    "    ax.set_xlabel(f\"$\\\\Delta${var_name}\")\n",
    "    ax.set_title(f\"Effect of {var_name} on calcification rate\")\n",
    "    # setting up legend\n",
    "    c, m = summary_stats.params\n",
    "    ax.plot([],[], c='red', label=f\"y = {m:.2f}$x$ + {c:.2f}\")\n",
    "    alpha_patch = plt.Rectangle((0,0),1,1,fc=\"red\", edgecolor = 'none', alpha=0.5)\n",
    "    ax.plot([],[],alpha=0,label = f\"R$^2$: {summary_stats.rsquared:.4f} | R$^2_{{adj}}$: {summary_stats.rsquared_adj:.4f}\")\n",
    "    handles, labels = ax.get_legend_handles_labels()\n",
    "    handles.append(alpha_patch)\n",
    "    labels.append(\"95% CI\")\n",
    "    ax.legend(handles, labels)\n",
    "    \n",
    "ax_ph.set_ylabel(\"Hedge's g\")\n",
    "plt.tight_layout()"
   ]
  },
  {
   "attachments": {
    "image.png": {
     "image/png": "[encoded data removed]"
    }
   },
   "cell_type": "markdown",
   "metadata": {},
   "source": [
    "![image.png](attachment:image.png)"
   ]
  },
  {
   "cell_type": "code",
   "execution_count": null,
   "metadata": {},
   "outputs": [],
   "source": [
    "sel_cols = ['species_types', 'treatment_group', 'phtot', 't_in', 'irr', 'calcification', 'calcification_sd', 'n']\n",
    "study_df[sel_cols]"
   ]
  },
  {
   "cell_type": "code",
   "execution_count": null,
   "metadata": {},
   "outputs": [],
   "source": [
    "import matplotlib.colors as mcolors\n",
    "import matplotlib.cm as cm\n",
    "\n",
    "fig, (ax_ph, ax_t) = plt.subplots(1, 2, figsize=(12, 6), dpi=150, sharey=True)\n",
    "\n",
    "for var, var_name in zip(['phtot', 't_in'], ['pH (Total)', 'Temperature (°C)']):\n",
    "    ax = ax_ph if var == 'phtot' else ax_t\n",
    "    subset = matched_df[matched_df['variable'] == var].dropna(subset=['delta_var', 'hedges_g'])        # remove any rows containing nans\n",
    "    \n",
    "\n",
    "\n",
    "    # Scatter plot with color mapping\n",
    "    scatter = ax.scatter(subset['delta_var'], subset['hedges_g'], \n",
    "                         c='blue',\n",
    "                         alpha=0.8, lw=0.1, edgecolor='black')\n",
    "\n",
    "    summary_stats = plotting.simple_regplot(subset['delta_var'], subset['hedges_g'], ax=ax, ci_kws={\"color\": \"red\"})\n",
    "    # add colourbar for clim_delta\n",
    "    cbar = plt.colorbar(scatter, ax=ax, fraction=0.05, orientation=\"horizontal\")\n",
    "    cbar.set_label(f\"$\\\\Delta$(treatment, climatology)\")\n",
    "    \n",
    "    # formatting\n",
    "    ax.grid(c='lightgrey', linestyle='--', alpha=0.8)\n",
    "    ax.set_ylabel(\"\")\n",
    "    ax.set_xlabel(f\"$\\\\Delta${var_name}\")\n",
    "    ax.set_title(f\"Effect of {var_name} on calcification rate\")\n",
    "    # setting up legend\n",
    "\n",
    "    \n",
    "ax_ph.set_ylabel(\"Hedge's g\")\n",
    "plt.tight_layout()"
   ]
  }
 ],
 "metadata": {
  "kernelspec": {
   "display_name": "calcer",
   "language": "python",
   "name": "python3"
  },
  "language_info": {
   "codemirror_mode": {
    "name": "ipython",
    "version": 3
   },
   "file_extension": ".py",
   "mimetype": "text/x-python",
   "name": "python",
   "nbconvert_exporter": "python",
   "pygments_lexer": "ipython3",
   "version": "3.13.2"
  }
 },
 "nbformat": 4,
 "nbformat_minor": 2
}
