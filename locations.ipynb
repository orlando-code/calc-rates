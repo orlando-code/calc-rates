{
 "cells": [
  {
   "cell_type": "code",
   "execution_count": 1,
   "metadata": {},
   "outputs": [],
   "source": [
    "# autoreload\n",
    "%reload_ext autoreload\n",
    "%autoreload 2"
   ]
  },
  {
   "cell_type": "code",
   "execution_count": 5,
   "metadata": {},
   "outputs": [],
   "source": [
    "### imports\n",
    "# general\n",
    "import pandas as pd\n",
    "import re\n",
    "import googlemaps\n",
    "\n",
    "# custom\n",
    "import utils"
   ]
  },
  {
   "cell_type": "code",
   "execution_count": 36,
   "metadata": {},
   "outputs": [],
   "source": [
    "### load data\n",
    "fp = \"data/Orlando_data.xlsx\"\n",
    "df = pd.read_excel(fp, sheet_name=\"all_data\")\n",
    "df = utils.process_df(df)"
   ]
  },
  {
   "cell_type": "markdown",
   "metadata": {},
   "source": [
    "## Cleaning coordinates"
   ]
  },
  {
   "cell_type": "code",
   "execution_count": 37,
   "metadata": {},
   "outputs": [
    {
     "data": {
      "text/plain": [
       "array(['14°41′17.4″ S 145°28′03.6″ E / 14°41′47.0″ S 145°27′02.9″ E',\n",
       "       '17°28′40.51″S, 149°50′22.80″W', '25.02° N, 80.49° W',\n",
       "       '26°19.62’N, 80°04.33’W', 'Palmyra Atoll', '17.05°N, 111.3°E',\n",
       "       'Fiji, UK aquarium', 'M', '23°26′S 151°52′E', 'Fiji',\n",
       "       'Island Point, Panama', \"Mo'orea, French Polynesia\",\n",
       "       'Almirante Bay, Panama', '23 33’S, 151 54’E', 'Hawaii, various',\n",
       "       '21.955°N, 120.766°E / 21.931°N, 120.745°E',\n",
       "       'Oku Reef, Okinawa, Japan', '16°24′43.2″ N 119°54′12.2″ E',\n",
       "       '23°27′34″S 151°55′45″E',\n",
       "       '18°12′7′′N, 109°28′5′′E / 18°16′40′′N, 109°44′3′′E',\n",
       "       'Spermonde Archipelago, Sulawesi, Indonesia',\n",
       "       '21°26′6″ N, 157°47′12″ W', '20°54′19.80″N, 86°50′6.20″W',\n",
       "       '7°19′13.2″N, 134°30′00.6″E', 'N 26°42.15′, E 127°52.667’',\n",
       "       '17°28′46.60″S 149°49′8.27″W', 'Indo-Pacific', \"151°55'E, 23°27'S\",\n",
       "       '21°26′08.9′′ N, 157°47′12.0′′ W', '24.56257° N, 81.40009° W',\n",
       "       'Biscayne National Park, Florida Keys', 'Key West, Florida Keys',\n",
       "       'Key Biscayne, Florida Keys', 'Florida Bay, Florida Keys',\n",
       "       'Florida Keys National Marine Sanctuary',\n",
       "       'Gulf of Aqaba-Eilat, Israel'], dtype=object)"
      ]
     },
     "execution_count": 37,
     "metadata": {},
     "output_type": "execute_result"
    }
   ],
   "source": [
    "# assign value for each row to coords, or if no coords, location\n",
    "df['loc'] = df['cleaned_coords'].fillna(df['location'])\n",
    "df['loc'].unique()"
   ]
  },
  {
   "cell_type": "code",
   "execution_count": 38,
   "metadata": {},
   "outputs": [
    {
     "data": {
      "text/plain": [
       "array(['14°41′17.4″ S 145°28′03.6″ E / 14°41′47.0″ S 145°27′02.9″ E',\n",
       "       '17°28′40.51″S, 149°50′22.80″W', '25.02° N, 80.49° W',\n",
       "       '26°19.62’N, 80°04.33’W', '17.05°N, 111.3°E', '23°26′S 151°52′E',\n",
       "       '23 33’S, 151 54’E', '21.955°N, 120.766°E / 21.931°N, 120.745°E',\n",
       "       '16°24′43.2″ N 119°54′12.2″ E', '23°27′34″S 151°55′45″E',\n",
       "       '18°12′7′′N, 109°28′5′′E / 18°16′40′′N, 109°44′3′′E',\n",
       "       '21°26′6″ N, 157°47′12″ W', '20°54′19.80″N, 86°50′6.20″W',\n",
       "       '7°19′13.2″N, 134°30′00.6″E', 'N 26°42.15′, E 127°52.667’',\n",
       "       '17°28′46.60″S 149°49′8.27″W', \"151°55'E, 23°27'S\",\n",
       "       '21°26′08.9′′ N, 157°47′12.0′′ W', '24.56257° N, 81.40009° W'],\n",
       "      dtype=object)"
      ]
     },
     "execution_count": 38,
     "metadata": {},
     "output_type": "execute_result"
    }
   ],
   "source": [
    "coords_array = df['cleaned_coords'].dropna().unique()\n",
    "coords_array"
   ]
  },
  {
   "cell_type": "code",
   "execution_count": null,
   "metadata": {},
   "outputs": [
    {
     "name": "stdout",
     "output_type": "stream",
     "text": [
      "Original: 14°41′17.4″ S 145°28′03.6″ E / 14°41′47.0″ S 145°27′02.9″ E → Decimal Degrees: (-14.692277777777779, 145.45923611111112)\n",
      "Original: 17°28′40.51″S, 149°50′22.80″W → Decimal Degrees: (-17.477919444444442, -149.8396666666667)\n",
      "Original: 25.02° N, 80.49° W → Decimal Degrees: (25.02, -80.49)\n",
      "Original: 26°19.62’N, 80°04.33’W → Decimal Degrees: (26.327, -80.07216666666666)\n",
      "Original: 17.05°N, 111.3°E → Decimal Degrees: (17.05, 111.3)\n",
      "Original: 23°26′S 151°52′E → Decimal Degrees: (-23.433333333333334, 151.86666666666667)\n",
      "Original: 23 33’S, 151 54’E → Decimal Degrees: (-23.55, 151.9)\n",
      "Original: 21.955°N, 120.766°E / 21.931°N, 120.745°E → Decimal Degrees: (21.942999999999998, 120.75550000000001)\n",
      "Original: 16°24′43.2″ N 119°54′12.2″ E → Decimal Degrees: (16.412, 119.9033888888889)\n",
      "Original: 23°27′34″S 151°55′45″E → Decimal Degrees: (-23.459444444444443, 151.92916666666665)\n",
      "Original: 18°12′7′′N, 109°28′5′′E / 18°16′40′′N, 109°44′3′′E → Decimal Degrees: (18.23986111111111, 109.60111111111111)\n",
      "Original: 21°26′6″ N, 157°47′12″ W → Decimal Degrees: (21.435, -157.78666666666666)\n",
      "Original: 20°54′19.80″N, 86°50′6.20″W → Decimal Degrees: (20.9055, -86.83505555555556)\n",
      "Original: 7°19′13.2″N, 134°30′00.6″E → Decimal Degrees: (7.320333333333333, 134.50016666666667)\n",
      "Original: N 26°42.15′, E 127°52.667’ → Decimal Degrees: (26.7025, 127.87778333333333)\n",
      "Original: 17°28′46.60″S 149°49′8.27″W → Decimal Degrees: (-17.479611111111108, -149.81896388888887)\n",
      "Original: 151°55'E, 23°27'S → Decimal Degrees: (-23.45, 151.91666666666666)\n",
      "Original: 21°26′08.9′′ N, 157°47′12.0′′ W → Decimal Degrees: (21.435805555555557, -157.78666666666666)\n",
      "Original: 24.56257° N, 81.40009° W → Decimal Degrees: (24.56257, -81.40009)\n"
     ]
    }
   ],
   "source": [
    "# def dms_to_decimal(degrees, minutes=0, seconds=0, direction=''):\n",
    "#     \"\"\"Convert degrees, minutes, and seconds to decimal degrees.\"\"\"\n",
    "#     try:\n",
    "#         degrees, minutes, seconds = float(degrees), float(minutes), float(seconds)\n",
    "#         if not (0 <= minutes < 60) or not (0 <= seconds < 60):\n",
    "#             raise ValueError(\"Invalid minutes or seconds range.\")\n",
    "#         decimal = degrees + minutes / 60 + seconds / 3600\n",
    "#         if direction in ['S', 'W']:\n",
    "#             decimal *= -1\n",
    "#         return decimal\n",
    "#     except Exception as e:\n",
    "#         print(f\"Error converting DMS: {degrees}° {minutes}′ {seconds}″ {direction} → {e}\")\n",
    "#         return None\n",
    "        \n",
    "\n",
    "# def standardize_coordinates(coord_string):\n",
    "#     \"\"\"Convert various coordinate formats into decimal degrees.\"\"\"\n",
    "#     coord_string = coord_string.replace(\"′′\", '″')\n",
    "#     parts = re.split(r'\\s*/\\s*', coord_string)  # Split at '/' if present\n",
    "#     decimal_coords = []\n",
    "\n",
    "#     lat_lng_pattern = re.compile(r'''\n",
    "#         ([NSEW])?\\s*  # optional leading direction\n",
    "#         (\\d+(?:\\.\\d+)?)\\s*[° ]\\s*  # degrees (mandatory)\n",
    "#         (?:(\\d+(?:\\.\\d+)?)\\s*[′'’]\\s*)?  # optional Minutes\n",
    "#         (?:(\\d+(?:\\.\\d+)?)\\s*[″\"]\\s*)?  # optional Seconds\n",
    "#         ([NSEW])?  # optional trailing direction\n",
    "#     ''', re.VERBOSE)\n",
    "#     for part in parts:\n",
    "#         lat_lng = lat_lng_pattern.findall(part)\n",
    "        \n",
    "#         if len(lat_lng) != 2:\n",
    "#             print(f\"Invalid coordinate pair: {part}\")\n",
    "#             continue\n",
    "        \n",
    "#         for coord in lat_lng:\n",
    "#             dir1, deg, mins, secs, dir2 = coord\n",
    "#             if dir1 is None and dir2 is None:\n",
    "#                 print(f\"Could not determine direction in: {part}\")\n",
    "#                 continue\n",
    "#             decimal = dms_to_decimal(deg, mins or 0, secs or 0, dir1 or dir2)\n",
    "#             if \"N\" in coord or \"S\" in coord:\n",
    "#                 lat = decimal\n",
    "#             elif \"E\" in coord or \"W\" in coord:\n",
    "#                 lng = decimal\n",
    "#         decimal_coords.append((lat, lng))\n",
    "\n",
    "#     if len(decimal_coords) == 0:\n",
    "#         print(f\"Failed to parse: {coord_string}\")\n",
    "#         return None\n",
    "#     if len(decimal_coords) == 1:\n",
    "#         return decimal_coords[0]\n",
    "#     else:\n",
    "#         avg_lat = np.mean([c[0] for c in decimal_coords if c[0] is not None])\n",
    "#         avg_lng = np.mean([c[1] for c in decimal_coords if c[1] is not None])\n",
    "#         return (avg_lat, avg_lng)\n",
    "\n",
    "for coord in coords_array:\n",
    "    try:\n",
    "        lat, lon = utils.standardize_coordinates(coord)\n",
    "        print(f\"Original: {coord} → Decimal Degrees: ({lat}, {lon})\")\n",
    "    except ValueError as e:\n",
    "        print(f\"Error processing coordinate {coord}: {e}\")\n",
    "    except Exception as e:\n",
    "        print(f\"Unexpected error processing coordinate {coord}: {e}\\n\")"
   ]
  },
  {
   "cell_type": "code",
   "execution_count": 121,
   "metadata": {},
   "outputs": [
    {
     "data": {
      "text/plain": [
       "3.5"
      ]
     },
     "execution_count": 121,
     "metadata": {},
     "output_type": "execute_result"
    }
   ],
   "source": [
    "float('03.5')"
   ]
  },
  {
   "cell_type": "code",
   "execution_count": 71,
   "metadata": {},
   "outputs": [
    {
     "ename": "TypeError",
     "evalue": "str.replace() takes no keyword arguments",
     "output_type": "error",
     "traceback": [
      "\u001b[0;31m---------------------------------------------------------------------------\u001b[0m",
      "\u001b[0;31mTypeError\u001b[0m                                 Traceback (most recent call last)",
      "Cell \u001b[0;32mIn[71], line 1\u001b[0m\n\u001b[0;32m----> 1\u001b[0m \u001b[43mtest_coords_array\u001b[49m\u001b[43m[\u001b[49m\u001b[38;5;241;43m1\u001b[39;49m\u001b[43m]\u001b[49m\u001b[38;5;241;43m.\u001b[39;49m\u001b[43mreplace\u001b[49m\u001b[43m(\u001b[49m\u001b[38;5;124;43m\"\u001b[39;49m\u001b[38;5;124;43m′′\u001b[39;49m\u001b[38;5;124;43m\"\u001b[39;49m\u001b[43m,\u001b[49m\u001b[43m \u001b[49m\u001b[38;5;124;43m'\u001b[39;49m\u001b[38;5;124;43m\"\u001b[39;49m\u001b[38;5;124;43m'\u001b[39;49m\u001b[43m,\u001b[49m\u001b[43m \u001b[49m\u001b[43minplace\u001b[49m\u001b[38;5;241;43m=\u001b[39;49m\u001b[38;5;28;43;01mTrue\u001b[39;49;00m\u001b[43m)\u001b[49m\n",
      "\u001b[0;31mTypeError\u001b[0m: str.replace() takes no keyword arguments"
     ]
    }
   ],
   "source": [
    "test_coords_array[1].replace(\"′′\", '\"', inplace=True)"
   ]
  },
  {
   "cell_type": "code",
   "execution_count": 66,
   "metadata": {},
   "outputs": [
    {
     "data": {
      "text/plain": [
       "('26', '19.62', 'N')"
      ]
     },
     "execution_count": 66,
     "metadata": {},
     "output_type": "execute_result"
    }
   ],
   "source": [
    "import re\n",
    "\n",
    "pattern = re.compile(r'(\\d+)[° ]\\s*(\\d+\\.\\d+)[′\\'’]?\\s*([NSEW])')\n",
    "pmatch = pattern.match(test_coords_array[0])\n",
    "pmatch.groups()"
   ]
  },
  {
   "cell_type": "code",
   "execution_count": 42,
   "metadata": {},
   "outputs": [
    {
     "data": {
      "text/plain": [
       "str"
      ]
     },
     "execution_count": 42,
     "metadata": {},
     "output_type": "execute_result"
    }
   ],
   "source": [
    "type(coord)"
   ]
  },
  {
   "cell_type": "markdown",
   "metadata": {},
   "source": [
    "## Filling missing coordinates with Google Maps API"
   ]
  },
  {
   "cell_type": "code",
   "execution_count": null,
   "metadata": {},
   "outputs": [],
   "source": [
    "# load in others\n",
    "denisa_df = pd.read_excel(\"data/Data extraction_Denisa.xlsx\", sheet_name=\"Data extraction\")\n",
    "ashtyn_df = pd.read_excel(\"data/DataExtraction_AI.xlsx\", sheet_name=\"Data_Extraction\")\n",
    "\n",
    "# concatenate data\n",
    "GOOGLE_MAPS_API_KEY = utils.read_yaml(\"api_keys.yaml\")['google_maps_api']\n",
    "\n",
    "gmaps_client = googlemaps.Client(key=GOOGLE_MAPS_API_KEY)\n",
    "\n",
    "locs = pd.DataFrame(denisa_df.Location.unique(), columns=[\"Location\"])\n",
    "\n",
    "# comment this out to avoid too many api calls\n",
    "locs[[\"Latitude\", \"Longitude\"]] = locs[\"Location\"].apply(lambda x: utils.get_coordinates_from_gmaps(x, gmaps_client))\n",
    "\n",
    "\n",
    "# denisa_df.Location.unique(), ashtyn_df.Location.unique()"
   ]
  },
  {
   "cell_type": "code",
   "execution_count": null,
   "metadata": {},
   "outputs": [],
   "source": [
    "# read locations.yaml\n",
    "locs = utils.read_yaml(\"data/locations.yaml\")\n",
    "\n",
    "locs_df = pd.DataFrame([\n",
    "    {\n",
    "        \"DOI\": entry[\"DOI\"],\n",
    "        \"Latitude\": entry[\"coordinates\"][\"Latitude\"],\n",
    "        \"Longitude\": entry[\"coordinates\"][\"Longitude\"],\n",
    "        \"Location\": entry[\"location\"]\n",
    "    }\n",
    "    for entry in locs\n",
    "])\n",
    "\n",
    "# drop nans\n",
    "locs_df = locs_df.dropna()\n",
    "# read a list of dictionaries into a single dictionary, with the keys being the location names\n",
    "# locs = {k: v for d in locs for k, v in d.items()}\n",
    "\n",
    "# save dictionary to csv\n",
    "# locs = pd.DataFrame(locs)\n",
    "# locs.to_csv(\"data/locations.csv\")"
   ]
  },
  {
   "cell_type": "markdown",
   "metadata": {},
   "source": [
    "## Visualising"
   ]
  },
  {
   "cell_type": "code",
   "execution_count": null,
   "metadata": {},
   "outputs": [],
   "source": [
    "### write locs to yaml, with nice formatting\n",
    "locs_list = []\n",
    "for _, row in doi_locs.iterrows():\n",
    "    locs_list.append({\n",
    "        'coordinates': {\n",
    "            'Latitude': row['Latitude'],\n",
    "            'Longitude': row['Longitude']\n",
    "        },\n",
    "        'location': row['Location'],\n",
    "        'DOI': row['DOI']\n",
    "    })\n",
    "\n",
    "utils.write_yaml(locs_list, \"data/locations.yaml\")"
   ]
  },
  {
   "cell_type": "code",
   "execution_count": null,
   "metadata": {},
   "outputs": [],
   "source": [
    "### plot spatial disribution of studies\n",
    "locations = read_yaml(\"data/locations.yaml\")\n",
    "\n",
    "# create figure\n",
    "fig, ax = plt.subplots(1, 1, figsize=(10, 20), subplot_kw={'projection': ccrs.PlateCarree()}, dpi=300)\n",
    "ax.set_extent([-180, 180, -40, 40], crs=ccrs.PlateCarree())\n",
    "\n",
    "# add features\n",
    "ax.add_feature(cfeature.LAND)\n",
    "ax.add_feature(cfeature.OCEAN, alpha=0.3)\n",
    "ax.add_feature(cfeature.COASTLINE, edgecolor='lightgray')\n",
    "ax.add_feature(cfeature.BORDERS, linestyle=':', edgecolor='gray', alpha=0.2)\n",
    "\n",
    "# add locations with colors\n",
    "colors = sns.color_palette(\"hsv\", len(locations))\n",
    "for i, data in enumerate(locations):\n",
    "    coords = data[\"coordinates\"]\n",
    "    ax.plot(coords[\"Longitude\"], coords[\"Latitude\"], 'o', markeredgecolor='darkgrey', markersize=5, color=colors[i], transform=ccrs.PlateCarree(), label=data[\"location\"])\n",
    "\n",
    "# add legend\n",
    "ax.legend(loc='lower center', bbox_to_anchor=(0.5, -1.1), ncol=len(locations)//10, fontsize=6);"
   ]
  }
 ],
 "metadata": {
  "kernelspec": {
   "display_name": "general",
   "language": "python",
   "name": "python3"
  },
  "language_info": {
   "codemirror_mode": {
    "name": "ipython",
    "version": 3
   },
   "file_extension": ".py",
   "mimetype": "text/x-python",
   "name": "python",
   "nbconvert_exporter": "python",
   "pygments_lexer": "ipython3",
   "version": "3.12.4"
  }
 },
 "nbformat": 4,
 "nbformat_minor": 2
}
