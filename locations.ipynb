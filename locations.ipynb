{
 "cells": [
  {
   "cell_type": "code",
   "execution_count": 1,
   "metadata": {},
   "outputs": [],
   "source": [
    "# autoreload\n",
    "%reload_ext autoreload\n",
    "%autoreload 2"
   ]
  },
  {
   "cell_type": "markdown",
   "metadata": {},
   "source": [
    "## Cleaning coordinates\n",
    "Create a new column in the df with the 'gold standard' coordinates. These are coordinates in decimal degree format. Save as a csv for export to GEE. Sense-check each point, refine, and transfer final files (as csv and yaml) to Ben H. \n",
    "\n",
    "Where coordinates are explicitly available in papers, use these. Where not available, take 'location' and search for coordinates using Google Maps API. "
   ]
  },
  {
   "cell_type": "code",
   "execution_count": 198,
   "metadata": {},
   "outputs": [],
   "source": [
    "### imports\n",
    "# general\n",
    "import pandas as pd\n",
    "import re\n",
    "import googlemaps\n",
    "\n",
    "# custom\n",
    "import utils"
   ]
  },
  {
   "cell_type": "code",
   "execution_count": 199,
   "metadata": {},
   "outputs": [
    {
     "data": {
      "text/plain": [
       "loc\n",
       "Key West, Florida Keys                                         605\n",
       "21°26′6″ N, 157°47′12″ W                                       428\n",
       "Key Biscayne, Florida Keys                                     317\n",
       "Florida Bay, Florida Keys                                      241\n",
       "24.56257° N, 81.40009° W                                       236\n",
       "Mo'orea, French Polynesia                                      205\n",
       "Hawaii, various                                                201\n",
       "Almirante Bay, Panama                                          143\n",
       "Indo-Pacific                                                   106\n",
       "Gulf of Aqaba-Eilat, Israel                                     96\n",
       "20°54′19.80″N, 86°50′6.20″W                                     64\n",
       "Island Point, Panama                                            36\n",
       "Oku Reef, Okinawa, Japan                                        30\n",
       "Biscayne National Park, Florida Keys                            20\n",
       "Spermonde Archipelago, Sulawesi, Indonesia                      18\n",
       "Fiji                                                            17\n",
       "14°41′17.4″ S 145°28′03.6″ E / 14°41′47.0″ S 145°27′02.9″ E     16\n",
       "M                                                               12\n",
       "21.955°N, 120.766°E / 21.931°N, 120.745°E                       12\n",
       "25.02° N, 80.49° W                                              11\n",
       "Fiji, UK aquarium                                               11\n",
       "151°55'E, 23°27'S                                                8\n",
       "26°19.62’N, 80°04.33’W                                           8\n",
       "23°27′34″S 151°55′45″E                                           8\n",
       "23°26′S 151°52′E                                                 8\n",
       "17°28′40.51″S, 149°50′22.80″W                                    6\n",
       "17.05°N, 111.3°E                                                 6\n",
       "18°12′7′′N, 109°28′5′′E / 18°16′40′′N, 109°44′3′′E               6\n",
       "Florida Keys National Marine Sanctuary                           6\n",
       "17°28′46.60″S 149°49′8.27″W                                      4\n",
       "21°26′08.9′′ N, 157°47′12.0′′ W                                  4\n",
       "Palmyra Atoll                                                    4\n",
       "23 33’S, 151 54’E                                                4\n",
       "16°24′43.2″ N 119°54′12.2″ E                                     4\n",
       "N 26°42.15′, E 127°52.667’                                       2\n",
       "7°19′13.2″N, 134°30′00.6″E                                       1\n",
       "Name: count, dtype: int64"
      ]
     },
     "execution_count": 199,
     "metadata": {},
     "output_type": "execute_result"
    }
   ],
   "source": [
    "### load data\n",
    "fp = \"data/Orlando_data.xlsx\"\n",
    "df = pd.read_excel(fp, sheet_name=\"all_data\")\n",
    "df = utils.process_df(df)\n",
    "\n",
    "# create column and fill with cleaned coordinates, where \n",
    "df['loc'] = df['cleaned_coords'].fillna(df['location'])\n",
    "df['loc'].value_counts()"
   ]
  },
  {
   "cell_type": "code",
   "execution_count": null,
   "metadata": {},
   "outputs": [
    {
     "data": {
      "text/plain": [
       "{'Palmyra Atoll': (5.8885026, -162.0786656),\n",
       " 'Fiji, UK aquarium': (55.378051, -3.435973),\n",
       " 'M': (None, None),\n",
       " 'Fiji': (-17.713371, 178.065032),\n",
       " 'Island Point, Panama': (8.537981, -80.782127),\n",
       " \"Mo'orea, French Polynesia\": (-17.5388435, -149.8295234),\n",
       " 'Almirante Bay, Panama': (9.2993407, -82.2311642),\n",
       " 'Hawaii, various': (19.8986819, -155.6658568),\n",
       " 'Oku Reef, Okinawa, Japan': (26.8271449, 128.2796738),\n",
       " 'Spermonde Archipelago, Sulawesi, Indonesia': (-4.8755556, 119.1144444),\n",
       " 'Indo-Pacific': (None, None),\n",
       " 'Biscayne National Park, Florida Keys': (25.5722, -80.2321),\n",
       " 'Key West, Florida Keys': (24.5550593, -81.7799871),\n",
       " 'Key Biscayne, Florida Keys': (25.693713, -80.1628248),\n",
       " 'Florida Bay, Florida Keys': (24.9586323, -80.67985209999999),\n",
       " 'Florida Keys National Marine Sanctuary': (24.4269857, -83.11127979999999),\n",
       " 'Gulf of Aqaba-Eilat, Israel': (29.557669, 34.951925)}"
      ]
     },
     "execution_count": 156,
     "metadata": {},
     "output_type": "execute_result"
    }
   ],
   "source": [
    "# get locations for which there are no coordinates (from location, where cleaned_coords is NaN)\n",
    "locs = df.loc[df['cleaned_coords'].isna(), 'location'].unique()\n",
    "# get coordinates for these locations using Google Maps API\n",
    "gmaps_coords = {}\n",
    "GMAPS_API_KEY = utils.read_yaml(\"api_keys.yaml\")['google_maps_api']\n",
    "gmaps_client = googlemaps.Client(key=GMAPS_API_KEY)\n",
    "\n",
    "for loc in locs:\n",
    "    gmaps_coords[loc] = tuple(utils.get_coordinates_from_gmaps(loc, gmaps_client).values)   # slightly hacky formatting since originally written for processing dataframe column\n",
    "gmaps_coords"
   ]
  },
  {
   "cell_type": "code",
   "execution_count": null,
   "metadata": {},
   "outputs": [
    {
     "name": "stdout",
     "output_type": "stream",
     "text": [
      "loc\n",
      "(24.5550593, -81.7799871)                     605\n",
      "(21.435, -157.78666666666666)                 428\n",
      "(25.693713, -80.1628248)                      317\n",
      "(24.9586323, -80.67985209999999)              241\n",
      "(24.56257, -81.40009)                         236\n",
      "(-17.5388435, -149.8295234)                   205\n",
      "(19.8986819, -155.6658568)                    201\n",
      "(9.2993407, -82.2311642)                      143\n",
      "(None, None)                                  118\n",
      "(29.557669, 34.951925)                         96\n",
      "(20.9055, -86.83505555555556)                  64\n",
      "(8.537981, -80.782127)                         36\n",
      "(26.8271449, 128.2796738)                      30\n",
      "(25.5722, -80.2321)                            20\n",
      "(-4.8755556, 119.1144444)                      18\n",
      "(-17.713371, 178.065032)                       17\n",
      "(-14.692277777777779, 145.45923611111112)      16\n",
      "(21.942999999999998, 120.75550000000001)       12\n",
      "(25.02, -80.49)                                11\n",
      "(55.378051, -3.435973)                         11\n",
      "(-23.45, 151.91666666666666)                    8\n",
      "(-23.459444444444443, 151.92916666666665)       8\n",
      "(-23.433333333333334, 151.86666666666667)       8\n",
      "(26.327, -80.07216666666666)                    8\n",
      "(24.4269857, -83.11127979999999)                6\n",
      "(17.05, 111.3)                                  6\n",
      "(-17.477919444444442, -149.8396666666667)       6\n",
      "(18.23986111111111, 109.60111111111111)         6\n",
      "(21.435805555555557, -157.78666666666666)       4\n",
      "(-17.479611111111108, -149.81896388888887)      4\n",
      "(5.8885026, -162.0786656)                       4\n",
      "(-23.55, 151.9)                                 4\n",
      "(16.412, 119.9033888888889)                     4\n",
      "(26.7025, 127.87778333333333)                   2\n",
      "(7.320333333333333, 134.50016666666667)         1\n",
      "Name: count, dtype: int64\n"
     ]
    }
   ],
   "source": [
    "# fill loc with standardised cleaned_coords if not NaN, otherwise fill with coordinates extracted from location\n",
    "df['loc'] = df['cleaned_coords'].apply(lambda x: utils.standardize_coordinates(x) if pd.notna(x) else None).fillna(df['location'].map(gmaps_coords))\n",
    "print(df['loc'].value_counts())\n",
    "df['lat'] = df['loc'].apply(lambda x: x[0] if x else None)\n",
    "df['lon'] = df['loc'].apply(lambda x: x[1] if x else None)\n",
    "\n",
    "# save to yaml and csv\n",
    "# create dictionary of doi as keys, latitude and longitude as values\n",
    "# loc_dict = df.set_index('doi')[['lat', 'lon']].to_dict(orient='index')\n",
    "\n",
    "# df.to_yaml(\"data/locations.yaml\", index=False)"
   ]
  },
  {
   "cell_type": "code",
   "execution_count": null,
   "metadata": {},
   "outputs": [],
   "source": [
    "### save to yaml, using (uniquified) doi as key, latitude, longitude as values\n",
    "\n",
    "locs_df = df.set_index('doi').drop_duplicates(['location', 'cleaned_coords', 'lat', 'lon'])[['location', 'lat', 'lon']]\n",
    "locs_df.dropna(subset=['lat', 'lon'], inplace=True) # remove empty rows\n",
    "dois = locs_df.index\n",
    "# make any duplicated index values unique by appending a letter\n",
    "locs_df.index = utils.uniquify_repeated_values(dois)\n",
    "# send to dictionary\n",
    "locs_dict = locs_df.to_dict(orient='index')\n",
    "# save dictionary to yaml\n",
    "utils.write_yaml(locs_dict, \"data/locations.yaml\")\n",
    "print('Saved locations to \"data/locations.yaml\" ')\n",
    "locs_df.to_csv(\"data/locations.csv\", index=True, index_label='doi')\n",
    "locs_df"
   ]
  },
  {
   "cell_type": "markdown",
   "metadata": {},
   "source": [
    "## Filling missing coordinates with Google Maps API"
   ]
  },
  {
   "cell_type": "code",
   "execution_count": null,
   "metadata": {},
   "outputs": [],
   "source": [
    "# # load in others\n",
    "# denisa_df = pd.read_excel(\"data/Data extraction_Denisa.xlsx\", sheet_name=\"Data extraction\")\n",
    "# ashtyn_df = pd.read_excel(\"data/DataExtraction_AI.xlsx\", sheet_name=\"Data_Extraction\")\n",
    "\n",
    "# # concatenate data\n",
    "# GOOGLE_MAPS_API_KEY = utils.read_yaml(\"api_keys.yaml\")['google_maps_api']\n",
    "\n",
    "# gmaps_client = googlemaps.Client(key=GOOGLE_MAPS_API_KEY)\n",
    "\n",
    "# locs = pd.DataFrame(denisa_df.Location.unique(), columns=[\"Location\"])\n",
    "\n",
    "# # comment this out to avoid too many api calls\n",
    "# locs[[\"Latitude\", \"Longitude\"]] = locs[\"Location\"].apply(lambda x: utils.get_coordinates_from_gmaps(x, gmaps_client))\n",
    "\n",
    "\n",
    "# # denisa_df.Location.unique(), ashtyn_df.Location.unique()"
   ]
  },
  {
   "cell_type": "code",
   "execution_count": null,
   "metadata": {},
   "outputs": [],
   "source": [
    "# read locations.yaml\n",
    "locs = utils.read_yaml(\"data/locations.yaml\")\n",
    "\n",
    "locs_df = pd.DataFrame([\n",
    "    {\n",
    "        \"DOI\": entry[\"DOI\"],\n",
    "        \"Latitude\": entry[\"coordinates\"][\"Latitude\"],\n",
    "        \"Longitude\": entry[\"coordinates\"][\"Longitude\"],\n",
    "        \"Location\": entry[\"location\"]\n",
    "    }\n",
    "    for entry in locs\n",
    "])\n",
    "\n",
    "# drop nans\n",
    "locs_df = locs_df.dropna()"
   ]
  },
  {
   "cell_type": "markdown",
   "metadata": {},
   "source": [
    "## Visualising"
   ]
  },
  {
   "cell_type": "code",
   "execution_count": null,
   "metadata": {},
   "outputs": [],
   "source": [
    "### write locs to yaml, with nice formatting\n",
    "locs_list = []\n",
    "for _, row in doi_locs.iterrows():\n",
    "    locs_list.append({\n",
    "        'coordinates': {\n",
    "            'Latitude': row['Latitude'],\n",
    "            'Longitude': row['Longitude']\n",
    "        },\n",
    "        'location': row['Location'],\n",
    "        'DOI': row['DOI']\n",
    "    })\n",
    "\n",
    "utils.write_yaml(locs_list, \"data/locations.yaml\")"
   ]
  },
  {
   "cell_type": "code",
   "execution_count": null,
   "metadata": {},
   "outputs": [],
   "source": [
    "### plot spatial disribution of studies\n",
    "locations = read_yaml(\"data/locations.yaml\")\n",
    "\n",
    "# create figure\n",
    "fig, ax = plt.subplots(1, 1, figsize=(10, 20), subplot_kw={'projection': ccrs.PlateCarree()}, dpi=300)\n",
    "ax.set_extent([-180, 180, -40, 40], crs=ccrs.PlateCarree())\n",
    "\n",
    "# add features\n",
    "ax.add_feature(cfeature.LAND)\n",
    "ax.add_feature(cfeature.OCEAN, alpha=0.3)\n",
    "ax.add_feature(cfeature.COASTLINE, edgecolor='lightgray')\n",
    "ax.add_feature(cfeature.BORDERS, linestyle=':', edgecolor='gray', alpha=0.2)\n",
    "\n",
    "# add locations with colors\n",
    "colors = sns.color_palette(\"hsv\", len(locations))\n",
    "for i, data in enumerate(locations):\n",
    "    coords = data[\"coordinates\"]\n",
    "    ax.plot(coords[\"Longitude\"], coords[\"Latitude\"], 'o', markeredgecolor='darkgrey', markersize=5, color=colors[i], transform=ccrs.PlateCarree(), label=data[\"location\"])\n",
    "\n",
    "# add legend\n",
    "ax.legend(loc='lower center', bbox_to_anchor=(0.5, -1.1), ncol=len(locations)//10, fontsize=6);"
   ]
  }
 ],
 "metadata": {
  "kernelspec": {
   "display_name": "general",
   "language": "python",
   "name": "python3"
  },
  "language_info": {
   "codemirror_mode": {
    "name": "ipython",
    "version": 3
   },
   "file_extension": ".py",
   "mimetype": "text/x-python",
   "name": "python",
   "nbconvert_exporter": "python",
   "pygments_lexer": "ipython3",
   "version": "3.12.4"
  }
 },
 "nbformat": 4,
 "nbformat_minor": 2
}
